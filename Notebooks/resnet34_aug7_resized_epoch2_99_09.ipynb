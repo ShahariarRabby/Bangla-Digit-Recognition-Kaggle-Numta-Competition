{
  "nbformat": 4,
  "nbformat_minor": 0,
  "metadata": {
    "colab": {
      "name": "resnet34_aug7_resized_epoch2_99.09.ipynb",
      "version": "0.3.2",
      "views": {},
      "default_view": {},
      "provenance": [
        {
          "file_id": "1ajl7TnbP7rNjaLK1dhDt-hEFhsQwrXDw",
          "timestamp": 1530422420181
        },
        {
          "file_id": "1AItmGURp_lIUo-Donv22ZDk3BaIFQ8Da",
          "timestamp": 1530192069830
        },
        {
          "file_id": "1qXW1pOHM2pPJTcs2GYo2DUupFx3hyqCd",
          "timestamp": 1529921430145
        },
        {
          "file_id": "1PqUQGu_dsXgrGMu4mRseewarHjpjCLw1",
          "timestamp": 1529643317163
        }
      ],
      "collapsed_sections": []
    },
    "kernelspec": {
      "name": "python3",
      "display_name": "Python 3"
    },
    "accelerator": "GPU"
  },
  "cells": [
    {
      "metadata": {
        "id": "YDnT5JNa2rZX",
        "colab_type": "code",
        "colab": {
          "autoexec": {
            "startup": false,
            "wait_interval": 0
          },
          "base_uri": "https://localhost:8080/",
          "height": 2154
        },
        "outputId": "794ab454-19d1-40e8-8a02-2972d5d9742c",
        "executionInfo": {
          "status": "ok",
          "timestamp": 1530359625570,
          "user_tz": -360,
          "elapsed": 112891,
          "user": {
            "displayName": "Elric Edward",
            "photoUrl": "https://lh3.googleusercontent.com/a/default-user=s128",
            "userId": "109771997992591656024"
          }
        }
      },
      "cell_type": "code",
      "source": [
        "!pip install fastai"
      ],
      "execution_count": 0,
      "outputs": [
        {
          "output_type": "stream",
          "text": [
            "Collecting fastai\n",
            "\u001b[?25l  Downloading https://files.pythonhosted.org/packages/50/6d/9d0d6e17a78b0598d5e8c49a0d03ffc7ff265ae62eca3e2345fab14edb9b/fastai-0.7.0-py3-none-any.whl (112kB)\n",
            "\u001b[K    100% |████████████████████████████████| 122kB 8.9MB/s \n",
            "\u001b[?25hCollecting jupyter (from fastai)\n",
            "  Downloading https://files.pythonhosted.org/packages/83/df/0f5dd132200728a86190397e1ea87cd76244e42d39ec5e88efd25b2abd7e/jupyter-1.0.0-py2.py3-none-any.whl\n",
            "Requirement already satisfied: testpath in /usr/local/lib/python3.6/dist-packages (from fastai) (0.3.1)\n",
            "Requirement already satisfied: pyparsing in /usr/local/lib/python3.6/dist-packages (from fastai) (2.2.0)\n",
            "Requirement already satisfied: cycler in /usr/local/lib/python3.6/dist-packages (from fastai) (0.10.0)\n",
            "Requirement already satisfied: decorator in /usr/local/lib/python3.6/dist-packages (from fastai) (4.3.0)\n",
            "Requirement already satisfied: MarkupSafe in /usr/local/lib/python3.6/dist-packages (from fastai) (1.0)\n",
            "Requirement already satisfied: Pillow in /usr/local/lib/python3.6/dist-packages (from fastai) (4.0.0)\n",
            "Collecting plotnine (from fastai)\n",
            "\u001b[?25l  Downloading https://files.pythonhosted.org/packages/3a/68/cf39dfde4e9fd886703621e3393cd8103cb48d5ecc95b8f048ec148e53a6/plotnine-0.3.0-py2.py3-none-any.whl (3.4MB)\n",
            "\u001b[K    100% |████████████████████████████████| 3.4MB 12.5MB/s \n",
            "\u001b[?25hRequirement already satisfied: python-dateutil in /usr/local/lib/python3.6/dist-packages (from fastai) (2.5.3)\n",
            "Requirement already satisfied: simplegeneric in /usr/local/lib/python3.6/dist-packages (from fastai) (0.8.1)\n",
            "Requirement already satisfied: ptyprocess in /usr/local/lib/python3.6/dist-packages (from fastai) (0.6.0)\n",
            "Collecting torchvision (from fastai)\n",
            "\u001b[?25l  Downloading https://files.pythonhosted.org/packages/ca/0d/f00b2885711e08bd71242ebe7b96561e6f6d01fdb4b9dcf4d37e2e13c5e1/torchvision-0.2.1-py2.py3-none-any.whl (54kB)\n",
            "\u001b[K    100% |████████████████████████████████| 61kB 19.1MB/s \n",
            "\u001b[?25hCollecting ipywidgets (from fastai)\n",
            "\u001b[?25l  Downloading https://files.pythonhosted.org/packages/7d/24/fabc09ad81c6071159a4d12d5bfbddcbea69bd9e3b16c3250ef300c0285f/ipywidgets-7.2.1-py2.py3-none-any.whl (106kB)\n",
            "\u001b[K    100% |████████████████████████████████| 112kB 25.0MB/s \n",
            "\u001b[?25hRequirement already satisfied: pandas in /usr/local/lib/python3.6/dist-packages (from fastai) (0.22.0)\n",
            "Collecting sklearn-pandas (from fastai)\n",
            "  Downloading https://files.pythonhosted.org/packages/c5/9e/42d7bcddb09a3ff52d0c60c810ba5d0fded28abbe320c85bbf7368192956/sklearn_pandas-1.6.0-py2.py3-none-any.whl\n",
            "Requirement already satisfied: bleach in /usr/local/lib/python3.6/dist-packages (from fastai) (2.1.3)\n",
            "Requirement already satisfied: entrypoints in /usr/local/lib/python3.6/dist-packages (from fastai) (0.2.3)\n",
            "Requirement already satisfied: scipy in /usr/local/lib/python3.6/dist-packages (from fastai) (0.19.1)\n",
            "Requirement already satisfied: ipython in /usr/local/lib/python3.6/dist-packages (from fastai) (5.5.0)\n",
            "Collecting graphviz (from fastai)\n",
            "  Downloading https://files.pythonhosted.org/packages/84/44/21a7fdd50841aaaef224b943f7d10df87e476e181bb926ccf859bcb53d48/graphviz-0.8.3-py2.py3-none-any.whl\n",
            "Collecting widgetsnbextension (from fastai)\n",
            "\u001b[?25l  Downloading https://files.pythonhosted.org/packages/ff/fa/64acc09fc845a6b2dc0724d6f3f81e829b778ed5e9a7559567b4f19a3f4b/widgetsnbextension-3.2.1-py2.py3-none-any.whl (2.2MB)\n",
            "\u001b[K    100% |████████████████████████████████| 2.2MB 21.0MB/s \n",
            "\u001b[?25hRequirement already satisfied: matplotlib in /usr/local/lib/python3.6/dist-packages (from fastai) (2.1.2)\n",
            "Requirement already satisfied: tornado in /usr/local/lib/python3.6/dist-packages (from fastai) (4.5.3)\n",
            "Requirement already satisfied: pyzmq in /usr/local/lib/python3.6/dist-packages (from fastai) (16.0.4)\n",
            "Requirement already satisfied: wcwidth in /usr/local/lib/python3.6/dist-packages (from fastai) (0.1.7)\n",
            "Requirement already satisfied: Jinja2 in /usr/local/lib/python3.6/dist-packages (from fastai) (2.10)\n",
            "Collecting torch<0.4 (from fastai)\n",
            "\u001b[?25l  Downloading https://files.pythonhosted.org/packages/5b/a5/e8b50b55b1abac9f1e3346c4242f1e42a82d368a8442cbd50c532922f6c4/torch-0.3.1-cp36-cp36m-manylinux1_x86_64.whl (496.4MB)\n",
            "\u001b[K    5% |█▊                              | 27.5MB 35.1MB/s eta 0:00:14"
          ],
          "name": "stdout"
        },
        {
          "output_type": "stream",
          "text": [
            "\u001b[K    100% |████████████████████████████████| 496.4MB 26kB/s \n",
            "\u001b[?25hRequirement already satisfied: pytz in /usr/local/lib/python3.6/dist-packages (from fastai) (2018.4)\n",
            "Requirement already satisfied: ipykernel in /usr/local/lib/python3.6/dist-packages (from fastai) (4.6.1)\n",
            "Requirement already satisfied: numpy in /usr/local/lib/python3.6/dist-packages (from fastai) (1.14.5)\n",
            "Requirement already satisfied: ipython-genutils in /usr/local/lib/python3.6/dist-packages (from fastai) (0.2.0)\n",
            "Requirement already satisfied: opencv-python in /usr/local/lib/python3.6/dist-packages (from fastai) (3.4.1.15)\n",
            "Collecting jedi (from fastai)\n",
            "\u001b[?25l  Downloading https://files.pythonhosted.org/packages/e7/42/074192a165622e645ed4aeade63e76e56b3496a044569b3c6cae3a918352/jedi-0.12.0-py2.py3-none-any.whl (172kB)\n",
            "\u001b[K    100% |████████████████████████████████| 174kB 22.7MB/s \n",
            "\u001b[?25hCollecting torchtext (from fastai)\n",
            "\u001b[?25l  Downloading https://files.pythonhosted.org/packages/78/90/474d5944d43001a6e72b9aaed5c3e4f77516fbef2317002da2096fd8b5ea/torchtext-0.2.3.tar.gz (42kB)\n",
            "\u001b[K    100% |████████████████████████████████| 51kB 11.0MB/s \n",
            "\u001b[?25hRequirement already satisfied: Pygments in /usr/local/lib/python3.6/dist-packages (from fastai) (2.1.3)\n",
            "Collecting tqdm (from fastai)\n",
            "\u001b[?25l  Downloading https://files.pythonhosted.org/packages/93/24/6ab1df969db228aed36a648a8959d1027099ce45fad67532b9673d533318/tqdm-4.23.4-py2.py3-none-any.whl (42kB)\n",
            "\u001b[K    100% |████████████████████████████████| 51kB 12.6MB/s \n",
            "\u001b[?25hRequirement already satisfied: jsonschema in /usr/local/lib/python3.6/dist-packages (from fastai) (2.6.0)\n",
            "Collecting feather-format (from fastai)\n",
            "  Downloading https://files.pythonhosted.org/packages/08/55/940b97cc6f19a19f5dab9efef2f68a0ce43a7632f858b272391f0b851a7e/feather-format-0.4.0.tar.gz\n",
            "Requirement already satisfied: seaborn in /usr/local/lib/python3.6/dist-packages (from fastai) (0.7.1)\n",
            "Requirement already satisfied: traitlets in /usr/local/lib/python3.6/dist-packages (from fastai) (4.3.2)\n",
            "Collecting bcolz (from fastai)\n",
            "\u001b[?25l  Downloading https://files.pythonhosted.org/packages/5c/4e/23942de9d5c0fb16f10335fa83e52b431bcb8c0d4a8419c9ac206268c279/bcolz-1.2.1.tar.gz (1.5MB)\n",
            "\u001b[K    100% |████████████████████████████████| 1.5MB 15.0MB/s \n",
            "\u001b[?25hRequirement already satisfied: certifi in /usr/local/lib/python3.6/dist-packages (from fastai) (2018.4.16)\n",
            "Requirement already satisfied: pickleshare in /usr/local/lib/python3.6/dist-packages (from fastai) (0.7.4)\n",
            "Collecting pandas-summary (from fastai)\n",
            "  Downloading https://files.pythonhosted.org/packages/3d/a7/0364272be0c6561c45d67edec8a7bf0532d56b830438168f9078f7720f63/pandas-summary-0.0.41.tar.gz\n",
            "Requirement already satisfied: html5lib in /usr/local/lib/python3.6/dist-packages (from fastai) (1.0.1)\n",
            "Collecting isoweek (from fastai)\n",
            "  Downloading https://files.pythonhosted.org/packages/c2/d4/fe7e2637975c476734fcbf53776e650a29680194eb0dd21dbdc020ca92de/isoweek-1.3.3-py2.py3-none-any.whl\n",
            "Requirement already satisfied: webencodings in /usr/local/lib/python3.6/dist-packages (from fastai) (0.5.1)\n",
            "Requirement already satisfied: PyYAML in /usr/local/lib/python3.6/dist-packages (from fastai) (3.12)\n",
            "Requirement already satisfied: notebook in /usr/local/lib/python3.6/dist-packages (from jupyter->fastai) (5.2.2)\n",
            "Requirement already satisfied: nbconvert in /usr/local/lib/python3.6/dist-packages (from jupyter->fastai) (5.3.1)\n",
            "Collecting jupyter-console (from jupyter->fastai)\n",
            "  Downloading https://files.pythonhosted.org/packages/77/82/6469cd7fccf7958cbe5dce2e623f1e3c5e27f1bb1ad36d90519bc2d5d370/jupyter_console-5.2.0-py2.py3-none-any.whl\n",
            "Collecting qtconsole (from jupyter->fastai)\n",
            "\u001b[?25l  Downloading https://files.pythonhosted.org/packages/90/ff/047e0dca2627b162866920e7aa93f04523c0ae81e5c67060eec85701992d/qtconsole-4.3.1-py2.py3-none-any.whl (108kB)\n",
            "\u001b[K    100% |████████████████████████████████| 112kB 22.1MB/s \n",
            "\u001b[?25hRequirement already satisfied: six in /usr/local/lib/python3.6/dist-packages (from cycler->fastai) (1.11.0)\n",
            "Requirement already satisfied: olefile in /usr/local/lib/python3.6/dist-packages (from Pillow->fastai) (0.45.1)\n",
            "Requirement already satisfied: patsy>=0.4.1 in /usr/local/lib/python3.6/dist-packages (from plotnine->fastai) (0.5.0)\n",
            "Requirement already satisfied: statsmodels>=0.8.0 in /usr/local/lib/python3.6/dist-packages (from plotnine->fastai) (0.8.0)\n",
            "Collecting mizani>=0.4.1 (from plotnine->fastai)\n",
            "\u001b[?25l  Downloading https://files.pythonhosted.org/packages/52/01/8a3b4c6e45749674a1e5241174b4b63cd6435125e124bec275f3e02c96ac/mizani-0.4.6-py2.py3-none-any.whl (65kB)\n",
            "\u001b[K    100% |████████████████████████████████| 71kB 13.9MB/s \n",
            "\u001b[?25hRequirement already satisfied: nbformat>=4.2.0 in /usr/local/lib/python3.6/dist-packages (from ipywidgets->fastai) (4.4.0)\n",
            "Requirement already satisfied: scikit-learn>=0.15.0 in /usr/local/lib/python3.6/dist-packages (from sklearn-pandas->fastai) (0.19.1)\n",
            "Requirement already satisfied: setuptools>=18.5 in /usr/local/lib/python3.6/dist-packages (from ipython->fastai) (39.1.0)\n",
            "Requirement already satisfied: prompt-toolkit<2.0.0,>=1.0.4 in /usr/local/lib/python3.6/dist-packages (from ipython->fastai) (1.0.15)\n",
            "Requirement already satisfied: pexpect; sys_platform != \"win32\" in /usr/local/lib/python3.6/dist-packages (from ipython->fastai) (4.6.0)\n",
            "Requirement already satisfied: jupyter-client in /usr/local/lib/python3.6/dist-packages (from ipykernel->fastai) (5.2.3)\n",
            "Collecting parso>=0.2.0 (from jedi->fastai)\n"
          ],
          "name": "stdout"
        },
        {
          "output_type": "stream",
          "text": [
            "\u001b[?25l  Downloading https://files.pythonhosted.org/packages/cd/3e/5908f9577dbd1e5df53e64349bfd11e46b726c1e4d8cd676bbe8aa4de316/parso-0.2.1-py2.py3-none-any.whl (91kB)\r\n",
            "\u001b[K    100% |████████████████████████████████| 92kB 14.5MB/s \n",
            "\u001b[?25hRequirement already satisfied: requests in /usr/local/lib/python3.6/dist-packages (from torchtext->fastai) (2.18.4)\n",
            "Collecting pyarrow>=0.4.0 (from feather-format->fastai)\n",
            "\u001b[?25l  Downloading https://files.pythonhosted.org/packages/fe/27/576e6c979bfa5f63070f809c930aa85d6198b91d17a64866234597ba861f/pyarrow-0.9.0-cp36-cp36m-manylinux1_x86_64.whl (13.7MB)\n",
            "\u001b[K    100% |████████████████████████████████| 13.7MB 3.6MB/s \n",
            "\u001b[?25hRequirement already satisfied: jupyter-core in /usr/local/lib/python3.6/dist-packages (from notebook->jupyter->fastai) (4.4.0)\n",
            "Requirement already satisfied: terminado>=0.3.3; sys_platform != \"win32\" in /usr/local/lib/python3.6/dist-packages (from notebook->jupyter->fastai) (0.8.1)\n",
            "Requirement already satisfied: mistune>=0.7.4 in /usr/local/lib/python3.6/dist-packages (from nbconvert->jupyter->fastai) (0.8.3)\n",
            "Requirement already satisfied: pandocfilters>=1.4.1 in /usr/local/lib/python3.6/dist-packages (from nbconvert->jupyter->fastai) (1.4.2)\n",
            "Collecting palettable (from mizani>=0.4.1->plotnine->fastai)\n",
            "\u001b[?25l  Downloading https://files.pythonhosted.org/packages/56/8a/84537c0354f0d1f03bf644b71bf8e0a50db9c1294181905721a5f3efbf66/palettable-3.1.1-py2.py3-none-any.whl (77kB)\n",
            "\u001b[K    100% |████████████████████████████████| 81kB 21.4MB/s \n",
            "\u001b[?25hRequirement already satisfied: urllib3<1.23,>=1.21.1 in /usr/local/lib/python3.6/dist-packages (from requests->torchtext->fastai) (1.22)\n",
            "Requirement already satisfied: chardet<3.1.0,>=3.0.2 in /usr/local/lib/python3.6/dist-packages (from requests->torchtext->fastai) (3.0.4)\n",
            "Requirement already satisfied: idna<2.7,>=2.5 in /usr/local/lib/python3.6/dist-packages (from requests->torchtext->fastai) (2.6)\n",
            "Building wheels for collected packages: torchtext, feather-format, bcolz, pandas-summary\n",
            "  Running setup.py bdist_wheel for torchtext ... \u001b[?25l-\b \b\\\b \bdone\n",
            "\u001b[?25h  Stored in directory: /content/.cache/pip/wheels/42/a6/f4/b267328bde6bb680094a0c173e8e5627ccc99543abded97204\n",
            "  Running setup.py bdist_wheel for feather-format ... \u001b[?25l-\b \bdone\n",
            "\u001b[?25h  Stored in directory: /content/.cache/pip/wheels/85/7d/12/2dfa5c0195f921ac935f5e8f27deada74972edc0ae9988a9c1\n",
            "  Running setup.py bdist_wheel for bcolz ... \u001b[?25l-\b \b\\\b \b|\b \b/\b \b-\b \b\\\b \b|\b \b/\b \b-\b \b\\\b \b|\b \b/\b \b-\b \b\\\b \b|\b \b/\b \b-\b \b\\\b \b|\b \b/\b \b-\b \b\\\b \b|\b \b/\b \b-\b \b\\\b \b|\b \b/\b \b-\b \b\\\b \b|"
          ],
          "name": "stdout"
        },
        {
          "output_type": "stream",
          "text": [
            "\b \b/\b \b-\b \b\\\b \b|\b \b/\b \b-\b \b\\\b \b|\b \b/\b \b-\b \b\\\b \b|\b \b/\b \b-\b \b\\\b \b|\b \b/\b \b-\b \b\\\b \b|\b \b/\b \b-\b \b\\\b \b|\b \b/\b \b-\b \b\\\b \b|\b \b/\b \b-\b \b\\\b \b|\b \bdone\n",
            "\u001b[?25h  Stored in directory: /content/.cache/pip/wheels/9f/78/26/fb8c0acb91a100dc8914bf236c4eaa4b207cb876893c40b745\n",
            "  Running setup.py bdist_wheel for pandas-summary ... \u001b[?25l-\b \bdone\n",
            "\u001b[?25h  Stored in directory: /content/.cache/pip/wheels/86/a9/6b/36b727a9ec687dac08bd3d0501cddd7b1a223943513eb04a03\n",
            "Successfully built torchtext feather-format bcolz pandas-summary\n",
            "\u001b[31mplotnine 0.3.0 has requirement scipy>=1.0.0, but you'll have scipy 0.19.1 which is incompatible.\u001b[0m\n",
            "\u001b[31mtorchvision 0.2.1 has requirement pillow>=4.1.1, but you'll have pillow 4.0.0 which is incompatible.\u001b[0m\n",
            "Installing collected packages: jupyter-console, widgetsnbextension, ipywidgets, qtconsole, jupyter, palettable, mizani, plotnine, torch, torchvision, sklearn-pandas, graphviz, parso, jedi, tqdm, torchtext, pyarrow, feather-format, bcolz, pandas-summary, isoweek, fastai\n",
            "Successfully installed bcolz-1.2.1 fastai-0.7.0 feather-format-0.4.0 graphviz-0.8.3 ipywidgets-7.2.1 isoweek-1.3.3 jedi-0.12.0 jupyter-1.0.0 jupyter-console-5.2.0 mizani-0.4.6 palettable-3.1.1 pandas-summary-0.0.41 parso-0.2.1 plotnine-0.3.0 pyarrow-0.9.0 qtconsole-4.3.1 sklearn-pandas-1.6.0 torch-0.3.1 torchtext-0.2.3 torchvision-0.2.1 tqdm-4.23.4 widgetsnbextension-3.2.1\n"
          ],
          "name": "stdout"
        }
      ]
    },
    {
      "metadata": {
        "id": "B09L4mY9qyAB",
        "colab_type": "text"
      },
      "cell_type": "markdown",
      "source": [
        "### Data"
      ]
    },
    {
      "metadata": {
        "id": "4o0UExcwqzif",
        "colab_type": "code",
        "colab": {
          "autoexec": {
            "startup": false,
            "wait_interval": 0
          },
          "base_uri": "https://localhost:8080/",
          "height": 440
        },
        "outputId": "d7f37895-d589-4aa8-f11b-846fd97bd424",
        "executionInfo": {
          "status": "ok",
          "timestamp": 1530359667723,
          "user_tz": -360,
          "elapsed": 40923,
          "user": {
            "displayName": "Elric Edward",
            "photoUrl": "https://lh3.googleusercontent.com/a/default-user=s128",
            "userId": "109771997992591656024"
          }
        }
      },
      "cell_type": "code",
      "source": [
        "!wget https://www.dropbox.com/s/w7l6fgvqisx5k19/train.zip"
      ],
      "execution_count": 0,
      "outputs": [
        {
          "output_type": "stream",
          "text": [
            "--2018-06-30 11:53:48--  https://www.dropbox.com/s/w7l6fgvqisx5k19/train.zip\n",
            "Resolving www.dropbox.com (www.dropbox.com)... 162.125.65.1, 2620:100:6021:1::a27d:4101\n",
            "Connecting to www.dropbox.com (www.dropbox.com)|162.125.65.1|:443... connected.\n",
            "HTTP request sent, awaiting response... 302 Found\n",
            "Location: /s/raw/w7l6fgvqisx5k19/train.zip [following]\n",
            "--2018-06-30 11:53:48--  https://www.dropbox.com/s/raw/w7l6fgvqisx5k19/train.zip\n",
            "Reusing existing connection to www.dropbox.com:443.\n",
            "HTTP request sent, awaiting response... 302 Found\n",
            "Location: https://ucbb1da1636beb5f42255ab6dff7.dl.dropboxusercontent.com/cd/0/inline/AKJ3tayFEEKQcEHTSbpaKx-kKGkcuS1K3-nXYX_5qxXMmrMAKIRFDLgYzgQJJStz8QtCyijy_1Gmwg4XXGv2cctNye2O1V04tHiPAVhax6hTxZtcGf7aMBdFOWW_ym1Jc3EVqhHo5QflNgIFxwkcnHYhe9O2RMmc3zzEHjb9hPNNdmJIyGSQ2iJdsrYGUpUXggc/file [following]\n",
            "--2018-06-30 11:53:49--  https://ucbb1da1636beb5f42255ab6dff7.dl.dropboxusercontent.com/cd/0/inline/AKJ3tayFEEKQcEHTSbpaKx-kKGkcuS1K3-nXYX_5qxXMmrMAKIRFDLgYzgQJJStz8QtCyijy_1Gmwg4XXGv2cctNye2O1V04tHiPAVhax6hTxZtcGf7aMBdFOWW_ym1Jc3EVqhHo5QflNgIFxwkcnHYhe9O2RMmc3zzEHjb9hPNNdmJIyGSQ2iJdsrYGUpUXggc/file\n",
            "Resolving ucbb1da1636beb5f42255ab6dff7.dl.dropboxusercontent.com (ucbb1da1636beb5f42255ab6dff7.dl.dropboxusercontent.com)... 162.125.65.6, 2620:100:6021:6::a27d:4106\n",
            "Connecting to ucbb1da1636beb5f42255ab6dff7.dl.dropboxusercontent.com (ucbb1da1636beb5f42255ab6dff7.dl.dropboxusercontent.com)|162.125.65.6|:443... connected.\n",
            "HTTP request sent, awaiting response... 302 FOUND\n",
            "Location: /cd/0/inline2/AKKV9fnD825rzM9xlsmnY77rW4pA-yDYcUR9h2HngzuFaabUpQ0yd8fyRxEvI44OnrfuBuPJiMP2PW6EAZMB_Ej3-0cdXcusLzeD7YAhyCiNvA5SN40RIkG1wuXoyKHGov1JjQGctQvANP6viZGfMybKfihg458WMDHw6sbrZ_opUHgPMlio9jEqJqwF9jqXR-KU_x3nQYFQ4M-Pfbq2i13ZVbrBiXgiz4J-XTisfSJhDrbL-5E-ZZVE797DzKtrS0017jAbFJf4HVL-08H8kmZ4K5gyp9ioQNFDlIcYytGw1UujQJymPrZtWmrw5XG3U_qlw-2koSTUUc5K6ZOWI-OCE00uSSGhe_et9_EU12OdUMuc9WiERrOpT_E10sm4Ay3a5NyTecDWU5KrR2KYxOWBN8QcKlo1qs7XxuoMA1o6z7CYlJ54VvV2LLOzfEeebnM/file [following]\n",
            "--2018-06-30 11:53:50--  https://ucbb1da1636beb5f42255ab6dff7.dl.dropboxusercontent.com/cd/0/inline2/AKKV9fnD825rzM9xlsmnY77rW4pA-yDYcUR9h2HngzuFaabUpQ0yd8fyRxEvI44OnrfuBuPJiMP2PW6EAZMB_Ej3-0cdXcusLzeD7YAhyCiNvA5SN40RIkG1wuXoyKHGov1JjQGctQvANP6viZGfMybKfihg458WMDHw6sbrZ_opUHgPMlio9jEqJqwF9jqXR-KU_x3nQYFQ4M-Pfbq2i13ZVbrBiXgiz4J-XTisfSJhDrbL-5E-ZZVE797DzKtrS0017jAbFJf4HVL-08H8kmZ4K5gyp9ioQNFDlIcYytGw1UujQJymPrZtWmrw5XG3U_qlw-2koSTUUc5K6ZOWI-OCE00uSSGhe_et9_EU12OdUMuc9WiERrOpT_E10sm4Ay3a5NyTecDWU5KrR2KYxOWBN8QcKlo1qs7XxuoMA1o6z7CYlJ54VvV2LLOzfEeebnM/file\n",
            "Reusing existing connection to ucbb1da1636beb5f42255ab6dff7.dl.dropboxusercontent.com:443.\n",
            "HTTP request sent, awaiting response... 200 OK\n",
            "Length: 1368550067 (1.3G) [application/zip]\n",
            "Saving to: ‘train.zip’\n",
            "\n",
            "train.zip            19%[==>                 ] 255.83M  37.8MB/s    eta 36s    "
          ],
          "name": "stdout"
        },
        {
          "output_type": "stream",
          "text": [
            "train.zip           100%[===================>]   1.27G  36.8MB/s    in 37s     \n",
            "\n",
            "2018-06-30 11:54:27 (35.3 MB/s) - ‘train.zip’ saved [1368550067/1368550067]\n",
            "\n"
          ],
          "name": "stdout"
        }
      ]
    },
    {
      "metadata": {
        "id": "AOGhv95vq0C_",
        "colab_type": "code",
        "colab": {
          "autoexec": {
            "startup": false,
            "wait_interval": 0
          }
        }
      },
      "cell_type": "code",
      "source": [
        "!mkdir data"
      ],
      "execution_count": 0,
      "outputs": []
    },
    {
      "metadata": {
        "id": "_5vvCIUFrGa1",
        "colab_type": "code",
        "colab": {
          "autoexec": {
            "startup": false,
            "wait_interval": 0
          }
        }
      },
      "cell_type": "code",
      "source": [
        "%%bash\n",
        "unzip -q train.zip -d data/\n",
        "#echo y"
      ],
      "execution_count": 0,
      "outputs": []
    },
    {
      "metadata": {
        "id": "QaXl93nTq0Hx",
        "colab_type": "code",
        "colab": {
          "autoexec": {
            "startup": false,
            "wait_interval": 0
          },
          "base_uri": "https://localhost:8080/",
          "height": 34
        },
        "outputId": "66e0e749-dfa6-4767-94b8-8f444a56e952",
        "executionInfo": {
          "status": "ok",
          "timestamp": 1530359688654,
          "user_tz": -360,
          "elapsed": 2524,
          "user": {
            "displayName": "Elric Edward",
            "photoUrl": "https://lh3.googleusercontent.com/a/default-user=s128",
            "userId": "109771997992591656024"
          }
        }
      },
      "cell_type": "code",
      "source": [
        "!ls data/train"
      ],
      "execution_count": 0,
      "outputs": [
        {
          "output_type": "stream",
          "text": [
            "0  1  2  3  4  5  6  7\t8  9\r\n"
          ],
          "name": "stdout"
        }
      ]
    },
    {
      "metadata": {
        "id": "3xnvkGeMy5fc",
        "colab_type": "code",
        "colab": {
          "autoexec": {
            "startup": false,
            "wait_interval": 0
          },
          "base_uri": "https://localhost:8080/",
          "height": 440
        },
        "outputId": "4746b81d-33e8-4aab-fb90-c58d8deaf79b",
        "executionInfo": {
          "status": "ok",
          "timestamp": 1530359707161,
          "user_tz": -360,
          "elapsed": 18487,
          "user": {
            "displayName": "Elric Edward",
            "photoUrl": "https://lh3.googleusercontent.com/a/default-user=s128",
            "userId": "109771997992591656024"
          }
        }
      },
      "cell_type": "code",
      "source": [
        "!wget https://www.dropbox.com/s/t2ea8g3cjoqdt4r/test.zip"
      ],
      "execution_count": 0,
      "outputs": [
        {
          "output_type": "stream",
          "text": [
            "--2018-06-30 11:54:50--  https://www.dropbox.com/s/t2ea8g3cjoqdt4r/test.zip\r\n",
            "Resolving www.dropbox.com (www.dropbox.com)... 162.125.65.1, 2620:100:6021:1::a27d:4101\r\n",
            "Connecting to www.dropbox.com (www.dropbox.com)|162.125.65.1|:443... connected.\n",
            "HTTP request sent, awaiting response... 302 Found\n",
            "Location: /s/raw/t2ea8g3cjoqdt4r/test.zip [following]\n",
            "--2018-06-30 11:54:50--  https://www.dropbox.com/s/raw/t2ea8g3cjoqdt4r/test.zip\n",
            "Reusing existing connection to www.dropbox.com:443.\n",
            "HTTP request sent, awaiting response... 302 Found\n",
            "Location: https://uce47b7fdd9a6334c4536c68f297.dl.dropboxusercontent.com/cd/0/inline/AKK11KnHA_5gMHiyXQ_osVm8DFX1t9x-iY1CNePd_BGPUYtnqb8DYkPr33VodMmycP0YN3kvcObmz27hDreNxfbuL-6gH2yTZKtErnNalD6ebeaOsLZlLpFNR8__51cjvXIhiD31EOJp4aYB22_SoOdUwdVeMbMh2dNjY5lZP1RCX1GPDe-RYAtO-j7qaBdBzSg/file [following]\n",
            "--2018-06-30 11:54:51--  https://uce47b7fdd9a6334c4536c68f297.dl.dropboxusercontent.com/cd/0/inline/AKK11KnHA_5gMHiyXQ_osVm8DFX1t9x-iY1CNePd_BGPUYtnqb8DYkPr33VodMmycP0YN3kvcObmz27hDreNxfbuL-6gH2yTZKtErnNalD6ebeaOsLZlLpFNR8__51cjvXIhiD31EOJp4aYB22_SoOdUwdVeMbMh2dNjY5lZP1RCX1GPDe-RYAtO-j7qaBdBzSg/file\n",
            "Resolving uce47b7fdd9a6334c4536c68f297.dl.dropboxusercontent.com (uce47b7fdd9a6334c4536c68f297.dl.dropboxusercontent.com)... 162.125.65.6, 2620:100:6021:6::a27d:4106\n",
            "Connecting to uce47b7fdd9a6334c4536c68f297.dl.dropboxusercontent.com (uce47b7fdd9a6334c4536c68f297.dl.dropboxusercontent.com)|162.125.65.6|:443... connected.\n",
            "HTTP request sent, awaiting response... 302 FOUND\n",
            "Location: /cd/0/inline2/AKKYfFgfaANZjOQ5dRNDQ-5cCT3YgG-ySR6Db-yM3yGtf0Wft42ygSaXbWVrA8pUKtDSSC6Z0227ipGPdKrcR8uRnGQiZqef8aO83FhgwtHa5-tUOlVer4VyH8pGBUoMicqqx2d30Hw1JyJLiviP5WdmrFBfxty_CPPHmH6vGj7atvjLYTgAS9d26MLRB0WBXWBoJ0Om3cP2JChFO-FnM_qmamuHrBFi1_t0Db0gYFAd3-_3J92rYfH5CUV5SZhzxlC-vtXUo7CLbHM5QnP8aOptzfSpyCw4P_jgURYFEAwnST_UW05YB2xKfrAndf7AEm0Wc36NOh_bwufhsFu14wZJTpSq1YzjeEOr3y7mdT3YXkllybjzPJAtF7UaLDb6hM91i7XdoQyOlWGcOtcY0j--9xdcCxeiYXThFr-uMG__9TJPt_Xjg-d87GHlDMcZe7k/file [following]\n",
            "--2018-06-30 11:54:51--  https://uce47b7fdd9a6334c4536c68f297.dl.dropboxusercontent.com/cd/0/inline2/AKKYfFgfaANZjOQ5dRNDQ-5cCT3YgG-ySR6Db-yM3yGtf0Wft42ygSaXbWVrA8pUKtDSSC6Z0227ipGPdKrcR8uRnGQiZqef8aO83FhgwtHa5-tUOlVer4VyH8pGBUoMicqqx2d30Hw1JyJLiviP5WdmrFBfxty_CPPHmH6vGj7atvjLYTgAS9d26MLRB0WBXWBoJ0Om3cP2JChFO-FnM_qmamuHrBFi1_t0Db0gYFAd3-_3J92rYfH5CUV5SZhzxlC-vtXUo7CLbHM5QnP8aOptzfSpyCw4P_jgURYFEAwnST_UW05YB2xKfrAndf7AEm0Wc36NOh_bwufhsFu14wZJTpSq1YzjeEOr3y7mdT3YXkllybjzPJAtF7UaLDb6hM91i7XdoQyOlWGcOtcY0j--9xdcCxeiYXThFr-uMG__9TJPt_Xjg-d87GHlDMcZe7k/file\n",
            "Reusing existing connection to uce47b7fdd9a6334c4536c68f297.dl.dropboxusercontent.com:443.\n",
            "HTTP request sent, awaiting response... 200 OK\n",
            "Length: 338612331 (323M) [application/zip]\n",
            "Saving to: ‘test.zip’\n",
            "\n",
            "test.zip             37%[======>             ] 122.26M  19.4MB/s    eta 11s    "
          ],
          "name": "stdout"
        },
        {
          "output_type": "stream",
          "text": [
            "test.zip            100%[===================>] 322.93M  28.5MB/s    in 15s     \n",
            "\n",
            "2018-06-30 11:55:07 (22.1 MB/s) - ‘test.zip’ saved [338612331/338612331]\n",
            "\n"
          ],
          "name": "stdout"
        }
      ]
    },
    {
      "metadata": {
        "id": "BbVO4AhEzJjb",
        "colab_type": "code",
        "colab": {
          "autoexec": {
            "startup": false,
            "wait_interval": 0
          }
        }
      },
      "cell_type": "code",
      "source": [
        "!unzip -q test.zip -d data/"
      ],
      "execution_count": 0,
      "outputs": []
    },
    {
      "metadata": {
        "id": "ijkp0mZWz_eB",
        "colab_type": "text"
      },
      "cell_type": "markdown",
      "source": [
        "Test Size Analysis\n"
      ]
    },
    {
      "metadata": {
        "id": "6asbqzyJ0DCd",
        "colab_type": "code",
        "colab": {
          "autoexec": {
            "startup": false,
            "wait_interval": 0
          }
        }
      },
      "cell_type": "code",
      "source": [
        "import cv2\n",
        "import numpy as np\n",
        "\n",
        "# it makes an image into a square\n",
        "def resizeToSquere(img):\n",
        "    height, width = img.shape\n",
        "    COLOR = [255,255,255] # TOP, BOTTOM, LEFT, RIGHT\n",
        "    squere = img.copy()\n",
        "    #constant= cv2.copyMakeBorder(img,10,10,10,10,cv2.BORDER_CONSTANT,value=COLOR)\n",
        "    if height>width:\n",
        "        diff = height - width\n",
        "        first = int(diff/2)\n",
        "        second = diff - first\n",
        "        squere= cv2.copyMakeBorder(img,0,0,first,second,cv2.BORDER_CONSTANT,value=COLOR)\n",
        "    elif height<width:\n",
        "        diff = width - height\n",
        "        first = int(diff/2)\n",
        "        second = diff - first\n",
        "        squere= cv2.copyMakeBorder(img,first,second,0,0,cv2.BORDER_CONSTANT,value=COLOR)\n",
        "    median = np.median(img)\n",
        "    squere[squere==255] = median\n",
        "    return squere"
      ],
      "execution_count": 0,
      "outputs": []
    },
    {
      "metadata": {
        "id": "d-usQ_Ct0E3e",
        "colab_type": "code",
        "colab": {
          "autoexec": {
            "startup": false,
            "wait_interval": 0
          }
        }
      },
      "cell_type": "code",
      "source": [
        "def wid_to_height_ratio(img):\n",
        "  h, w = img.shape\n",
        "  return w/h"
      ],
      "execution_count": 0,
      "outputs": []
    },
    {
      "metadata": {
        "id": "n0N-ZlSoS988",
        "colab_type": "code",
        "colab": {
          "autoexec": {
            "startup": false,
            "wait_interval": 0
          }
        }
      },
      "cell_type": "code",
      "source": [
        "import os\n",
        "os.mkdir('data/shape_corrected')\n",
        "image_name_list = os.listdir('data/test')\n",
        "error_names = []\n",
        "for file in image_name_list:\n",
        "  img = cv2.imread('data/test/'+file, 0)\n",
        "  if wid_to_height_ratio(img) < 0.7:\n",
        "    \n",
        "    error_names.append(file)\n",
        "    sq = resizeToSquere(img)\n",
        "    cv2.imwrite('data/shape_corrected/'+file, sq)\n",
        "    \n",
        "error_names.sort()\n",
        "for name in error_names:\n",
        "  print(name)"
      ],
      "execution_count": 0,
      "outputs": []
    },
    {
      "metadata": {
        "id": "eUMWIp8uTgMc",
        "colab_type": "code",
        "colab": {
          "autoexec": {
            "startup": false,
            "wait_interval": 0
          }
        }
      },
      "cell_type": "code",
      "source": [
        "!ls data/shape_corrected/"
      ],
      "execution_count": 0,
      "outputs": []
    },
    {
      "metadata": {
        "id": "BRZpoqJRTm4O",
        "colab_type": "code",
        "colab": {
          "autoexec": {
            "startup": false,
            "wait_interval": 0
          }
        }
      },
      "cell_type": "code",
      "source": [
        "!mv data/shape_corrected/ data/test/"
      ],
      "execution_count": 0,
      "outputs": []
    },
    {
      "metadata": {
        "id": "TacJhXCprW6A",
        "colab_type": "text"
      },
      "cell_type": "markdown",
      "source": [
        "### Augment "
      ]
    },
    {
      "metadata": {
        "id": "R7b9Y22srZs8",
        "colab_type": "code",
        "colab": {
          "autoexec": {
            "startup": false,
            "wait_interval": 0
          },
          "base_uri": "https://localhost:8080/",
          "height": 67
        },
        "outputId": "3989f642-dec9-4865-a41c-58612d69d8d3",
        "executionInfo": {
          "status": "ok",
          "timestamp": 1530359715854,
          "user_tz": -360,
          "elapsed": 2502,
          "user": {
            "displayName": "Elric Edward",
            "photoUrl": "https://lh3.googleusercontent.com/a/default-user=s128",
            "userId": "109771997992591656024"
          }
        }
      },
      "cell_type": "code",
      "source": [
        "!curl -O https://gist.githubusercontent.com/mahmoodtareq/b83e4b305492063e36a1dcc9d1de0b79/raw/245430d848074930dfd97f49427afe366210163e/gen_aug_v5.py"
      ],
      "execution_count": 0,
      "outputs": [
        {
          "output_type": "stream",
          "text": [
            "  % Total    % Received % Xferd  Average Speed   Time    Time     Time  Current\r\n",
            "                                 Dload  Upload   Total   Spent    Left  Speed\n",
            "100  4465  100  4465    0     0   4465      0  0:00:01 --:--:--  0:00:01 11024\n"
          ],
          "name": "stdout"
        }
      ]
    },
    {
      "metadata": {
        "id": "wsMinpVWrQVu",
        "colab_type": "code",
        "colab": {
          "autoexec": {
            "startup": false,
            "wait_interval": 0
          }
        }
      },
      "cell_type": "code",
      "source": [
        "!mv gen_aug_v5.py data"
      ],
      "execution_count": 0,
      "outputs": []
    },
    {
      "metadata": {
        "id": "PNBIppXpylgN",
        "colab_type": "code",
        "colab": {
          "autoexec": {
            "startup": false,
            "wait_interval": 0
          },
          "base_uri": "https://localhost:8080/",
          "height": 34
        },
        "outputId": "d241e07b-8f05-42a9-cf4c-7f554ee234fd",
        "executionInfo": {
          "status": "ok",
          "timestamp": 1530359720201,
          "user_tz": -360,
          "elapsed": 2046,
          "user": {
            "displayName": "Elric Edward",
            "photoUrl": "https://lh3.googleusercontent.com/a/default-user=s128",
            "userId": "109771997992591656024"
          }
        }
      },
      "cell_type": "code",
      "source": [
        "!ls"
      ],
      "execution_count": 0,
      "outputs": [
        {
          "output_type": "stream",
          "text": [
            "data  datalab  test.zip  train.zip\r\n"
          ],
          "name": "stdout"
        }
      ]
    },
    {
      "metadata": {
        "id": "KUi6wZ9UrtQf",
        "colab_type": "code",
        "colab": {
          "autoexec": {
            "startup": false,
            "wait_interval": 0
          }
        }
      },
      "cell_type": "code",
      "source": [
        "import os\n",
        "os.chdir('data')\n"
      ],
      "execution_count": 0,
      "outputs": []
    },
    {
      "metadata": {
        "id": "tXLLWbJfr9KO",
        "colab_type": "code",
        "colab": {
          "autoexec": {
            "startup": false,
            "wait_interval": 0
          },
          "base_uri": "https://localhost:8080/",
          "height": 101
        },
        "outputId": "a68b8269-67ca-4585-f6a1-dfe043aae768"
      },
      "cell_type": "code",
      "source": [
        "!python gen_aug_v5.py --nb_augment=7"
      ],
      "execution_count": 0,
      "outputs": [
        {
          "output_type": "stream",
          "text": [
            "Dir 3 Done\n",
            "Dir 0 Done\n",
            "Dir 2 Done\n",
            "Dir 1 Done\n",
            "Dir 9 Done\n"
          ],
          "name": "stdout"
        }
      ]
    },
    {
      "metadata": {
        "id": "YNRirQr6l4UW",
        "colab_type": "code",
        "colab": {
          "autoexec": {
            "startup": false,
            "wait_interval": 0
          },
          "base_uri": "https://localhost:8080/",
          "height": 34
        },
        "outputId": "185201ac-42c6-4997-f772-690d5c9e6776",
        "executionInfo": {
          "status": "ok",
          "timestamp": 1530361038419,
          "user_tz": -360,
          "elapsed": 566266,
          "user": {
            "displayName": "Elric Edward",
            "photoUrl": "https://lh3.googleusercontent.com/a/default-user=s128",
            "userId": "109771997992591656024"
          }
        }
      },
      "cell_type": "code",
      "source": [
        "!ls"
      ],
      "execution_count": 0,
      "outputs": [
        {
          "output_type": "stream",
          "text": [
            "gen_aug_v5.py  test  train\r\n"
          ],
          "name": "stdout"
        }
      ]
    },
    {
      "metadata": {
        "id": "FnR_KaAtsSY3",
        "colab_type": "code",
        "colab": {
          "autoexec": {
            "startup": false,
            "wait_interval": 0
          }
        }
      },
      "cell_type": "code",
      "source": [
        "# we will go back to parent directory after creating 'valid'"
      ],
      "execution_count": 0,
      "outputs": []
    },
    {
      "metadata": {
        "id": "-3_UlUk7sQaY",
        "colab_type": "text"
      },
      "cell_type": "markdown",
      "source": [
        "### Validation"
      ]
    },
    {
      "metadata": {
        "id": "2pmJSngarlUL",
        "colab_type": "code",
        "colab": {
          "autoexec": {
            "startup": false,
            "wait_interval": 0
          }
        }
      },
      "cell_type": "code",
      "source": [
        "!mkdir valid"
      ],
      "execution_count": 0,
      "outputs": []
    },
    {
      "metadata": {
        "id": "qjnNjWpssI8w",
        "colab_type": "code",
        "colab": {
          "autoexec": {
            "startup": false,
            "wait_interval": 0
          }
        }
      },
      "cell_type": "code",
      "source": [
        "os.chdir('valid')"
      ],
      "execution_count": 0,
      "outputs": []
    },
    {
      "metadata": {
        "id": "J2nYHnLPsI2A",
        "colab_type": "code",
        "colab": {
          "autoexec": {
            "startup": false,
            "wait_interval": 0
          }
        }
      },
      "cell_type": "code",
      "source": [
        "!mkdir 0 1 2 3 4 5 6 7 8 9"
      ],
      "execution_count": 0,
      "outputs": []
    },
    {
      "metadata": {
        "id": "VyXPOvVcsIu-",
        "colab_type": "code",
        "colab": {
          "autoexec": {
            "startup": false,
            "wait_interval": 0
          }
        }
      },
      "cell_type": "code",
      "source": [
        "os.chdir('..')"
      ],
      "execution_count": 0,
      "outputs": []
    },
    {
      "metadata": {
        "id": "TnqAmbossImk",
        "colab_type": "code",
        "colab": {
          "autoexec": {
            "startup": false,
            "wait_interval": 0
          },
          "base_uri": "https://localhost:8080/",
          "height": 34
        },
        "outputId": "d734b14b-3ecf-45f0-8504-22389c423350",
        "executionInfo": {
          "status": "ok",
          "timestamp": 1530119385272,
          "user_tz": -360,
          "elapsed": 1942,
          "user": {
            "displayName": "Elric Edward",
            "photoUrl": "https://lh3.googleusercontent.com/a/default-user=s128",
            "userId": "109771997992591656024"
          }
        }
      },
      "cell_type": "code",
      "source": [
        "!ls valid"
      ],
      "execution_count": 0,
      "outputs": [
        {
          "output_type": "stream",
          "text": [
            "0  1  2  3  4  5  6  7\t8  9\r\n"
          ],
          "name": "stdout"
        }
      ]
    },
    {
      "metadata": {
        "id": "PKuxh1drtB8m",
        "colab_type": "code",
        "colab": {
          "autoexec": {
            "startup": false,
            "wait_interval": 0
          }
        }
      },
      "cell_type": "code",
      "source": [
        "import numpy as np\n",
        "import shutil"
      ],
      "execution_count": 0,
      "outputs": []
    },
    {
      "metadata": {
        "id": "2zJ7JomztDeG",
        "colab_type": "code",
        "colab": {
          "autoexec": {
            "startup": false,
            "wait_interval": 0
          }
        }
      },
      "cell_type": "code",
      "source": [
        "np.random.seed(10)"
      ],
      "execution_count": 0,
      "outputs": []
    },
    {
      "metadata": {
        "id": "qCUysHnxtErM",
        "colab_type": "code",
        "colab": {
          "autoexec": {
            "startup": false,
            "wait_interval": 0
          }
        }
      },
      "cell_type": "code",
      "source": [
        "valid_size = 30000\n",
        "num_classes = 10"
      ],
      "execution_count": 0,
      "outputs": []
    },
    {
      "metadata": {
        "id": "s7VsEiuQtF4k",
        "colab_type": "code",
        "colab": {
          "autoexec": {
            "startup": false,
            "wait_interval": 0
          }
        }
      },
      "cell_type": "code",
      "source": [
        "for i in range(valid_size):\n",
        "    c = np.random.randint(0, num_classes)\n",
        "    file = np.random.choice(os.listdir('train/' + str(c)))\n",
        "    src = 'train/' + str(c) + '/' + file\n",
        "    dst = 'valid/' + str(c) + '/' + file\n",
        "    shutil.move(src, dst)"
      ],
      "execution_count": 0,
      "outputs": []
    },
    {
      "metadata": {
        "id": "aSssiUcvskvL",
        "colab_type": "code",
        "colab": {
          "autoexec": {
            "startup": false,
            "wait_interval": 0
          }
        }
      },
      "cell_type": "code",
      "source": [
        "os.chdir('..')"
      ],
      "execution_count": 0,
      "outputs": []
    },
    {
      "metadata": {
        "id": "OCPtFLgksn8E",
        "colab_type": "code",
        "colab": {
          "autoexec": {
            "startup": false,
            "wait_interval": 0
          },
          "base_uri": "https://localhost:8080/",
          "height": 34
        },
        "outputId": "10237523-0aca-47da-9c6f-08e9af2bf058",
        "executionInfo": {
          "status": "ok",
          "timestamp": 1529399797931,
          "user_tz": -360,
          "elapsed": 1503,
          "user": {
            "displayName": "Rafid ul islam",
            "photoUrl": "//lh3.googleusercontent.com/-SYwqmwbdI3c/AAAAAAAAAAI/AAAAAAAAABg/M_h0kF8cKRU/s50-c-k-no/photo.jpg",
            "userId": "108054376868707542445"
          }
        }
      },
      "cell_type": "code",
      "source": [
        "!ls"
      ],
      "execution_count": 0,
      "outputs": [
        {
          "output_type": "stream",
          "text": [
            "data  datalab  train.zip\r\n"
          ],
          "name": "stdout"
        }
      ]
    },
    {
      "metadata": {
        "id": "uGgSeWVmrlb_",
        "colab_type": "code",
        "colab": {
          "autoexec": {
            "startup": false,
            "wait_interval": 0
          },
          "base_uri": "https://localhost:8080/",
          "height": 13843
        },
        "outputId": "2a4ffc8a-6dc5-421f-fea7-2b595666e66d",
        "executionInfo": {
          "status": "ok",
          "timestamp": 1529316697768,
          "user_tz": -360,
          "elapsed": 2339,
          "user": {
            "displayName": "Rafid ul islam",
            "photoUrl": "//lh3.googleusercontent.com/-SYwqmwbdI3c/AAAAAAAAAAI/AAAAAAAAABg/M_h0kF8cKRU/s50-c-k-no/photo.jpg",
            "userId": "108054376868707542445"
          }
        }
      },
      "cell_type": "code",
      "source": [
        "!ls data/valid/0"
      ],
      "execution_count": 0,
      "outputs": [
        {
          "output_type": "stream",
          "text": [
            "a00004.png   a11398.png   c035373.png  c157882.png  d03602.png\t e046832.png\r\n",
            "a00007.png   a11400.png   c035961.png  c157883.png  d036032.png  e047191.png\r\n",
            "a00038.png   a114140.png  c03608.png   c15788.png   d036531.png  e04748.png\r\n",
            "a000512.png  a114470.png  c036171.png  c157970.png  d036573.png  e047942.png\r\n",
            "a00079.png   a114603.png  c03639.png   c158152.png  d03680.png\t e048151.png\r\n",
            "a000861.png  a11460.png   c036431.png  c158240.png  d03699.png\t e048160.png\r\n",
            "a000893.png  a114610.png  c036542.png  c15829.png   d037492.png  e04831.png\r\n",
            "a001271.png  a114611.png  c03713.png   c158581.png  d037493.png  e04838.png\r\n",
            "a00148.png   a114722.png  c037163.png  c158593.png  d037561.png  e048540.png\r\n",
            "a00153.png   a114943.png  c03726.png   c158620.png  d03767.png\t e048541.png\r\n",
            "a001541.png  a114973.png  c03753.png   c15886.png   d038033.png  e048543.png\r\n",
            "a001542.png  a11539.png   c037620.png  c158950.png  d038083.png  e048772.png\r\n",
            "a001721.png  a115440.png  c037723.png  c15895.png   d038451.png  e04877.png\r\n",
            "a001722.png  a115481.png  c037771.png  c159073.png  d039290.png  e049081.png\r\n",
            "a001862.png  a115483.png  c037773.png  c15929.png   d039453.png  e049360.png\r\n",
            "a002073.png  a115502.png  c03836.png   c159333.png  d039840.png  e049362.png\r\n",
            "a002253.png  a11617.png   c038530.png  c159363.png  d039842.png  e049400.png\r\n",
            "a002453.png  a116242.png  c038710.png  c15936.png   d040032.png  e049401.png\r\n",
            "a002712.png  a116531.png  c038713.png  c15954.png   d040141.png  e049403.png\r\n",
            "a002993.png  a116533.png  c038782.png  c159762.png  d040142.png  e04952.png\r\n",
            "a003270.png  a116620.png  c038891.png  c16001.png   d04022.png\t e049722.png\r\n",
            "a003302.png  a11686.png   c038921.png  c160231.png  d04027.png\t e049741.png\r\n",
            "a00334.png   a11690.png   c03892.png   c160261.png  d040323.png  e049770.png\r\n",
            "a00355.png   a117361.png  c039140.png  c16026.png   d040500.png  e049772.png\r\n",
            "a003722.png  a11736.png   c039141.png  c16033.png   d040503.png  e05018.png\r\n",
            "a00374.png   a117733.png  c039151.png  c160351.png  d040843.png  e050433.png\r\n",
            "a003761.png  a11773.png   c039190.png  c160360.png  d04084.png\t e05063.png\r\n",
            "a00376.png   a11779.png   c039191.png  c160363.png  d04092.png\t e050703.png\r\n",
            "a003950.png  a117803.png  c03920.png   c160641.png  d041123.png  e051262.png\r\n",
            "a004053.png  a117830.png  c039330.png  c160720.png  d041153.png  e051391.png\r\n",
            "a004112.png  a117831.png  c03933.png   c161252.png  d04146.png\t e051523.png\r\n",
            "a00425.png   a11803.png   c039450.png  c161491.png  d041591.png  e052030.png\r\n",
            "a004551.png  a11821.png   c03968.png   c161492.png  d041610.png  e052083.png\r\n",
            "a00455.png   a118333.png  c040011.png  c161642.png  d041792.png  e052211.png\r\n",
            "a004722.png  a118351.png  c04013.png   c161891.png  d041831.png  e052283.png\r\n",
            "a004870.png  a118390.png  c040212.png  c161892.png  d04183.png\t e05228.png\r\n",
            "a004873.png  a118563.png  c04021.png   c161970.png  d042000.png  e052351.png\r\n",
            "a005131.png  a119001.png  c040463.png  c16197.png   d042092.png  e05236.png\r\n",
            "a00527.png   a119090.png  c040581.png  c16223.png   d042142.png  e052372.png\r\n",
            "a005503.png  a119190.png  c040590.png  c162531.png  d04214.png\t e052492.png\r\n",
            "a005800.png  a11919.png   c040592.png  c162642.png  d042310.png  e052521.png\r\n",
            "a00580.png   a119272.png  c040650.png  c16264.png   d04231.png\t e052522.png\r\n",
            "a00594.png   a119452.png  c04077.png   c162942.png  d042381.png  e052560.png\r\n",
            "a006252.png  a119541.png  c040920.png  c163023.png  d042383.png  e052563.png\r\n",
            "a006370.png  a120053.png  c041033.png  c163341.png  d04275.png\t e052581.png\r\n",
            "a00637.png   a12007.png   c041373.png  c163490.png  d042891.png  e052582.png\r\n",
            "a006541.png  a120890.png  c041553.png  c163582.png  d043090.png  e05258.png\r\n",
            "a006542.png  a121142.png  c04188.png   c16358.png   d043161.png  e05265.png\r\n",
            "a006623.png  a12114.png   c041963.png  c163670.png  d043213.png  e052772.png\r\n",
            "a00662.png   a121322.png  c041990.png  c163773.png  d043280.png  e053180.png\r\n",
            "a006661.png  a12132.png   c042063.png  c16396.png   d04337.png\t e053633.png\r\n",
            "a006663.png  a12182.png   c042953.png  c164753.png  d043430.png  e053683.png\r\n",
            "a006871.png  a12187.png   c04313.png   c164860.png  d043431.png  e05378.png\r\n",
            "a007171.png  a12203.png   c04317.png   c164863.png  d044020.png  e053972.png\r\n",
            "a007262.png  a122110.png  c04333.png   c165033.png  d044140.png  e054131.png\r\n",
            "a00726.png   a122111.png  c043550.png  c16507.png   d044143.png  e054272.png\r\n",
            "a00729.png   a122113.png  c043551.png  c165111.png  d044190.png  e05439.png\r\n",
            "a007511.png  a122150.png  c043652.png  c16531.png   d044193.png  e054520.png\r\n",
            "a007512.png  a122151.png  c043653.png  c165322.png  d044290.png  e054522.png\r\n",
            "a00827.png   a122152.png  c044211.png  c16532.png   d044292.png  e05452.png\r\n",
            "a00830.png   a122400.png  c044270.png  c165521.png  d044540.png  e054531.png\r\n",
            "a008352.png  a122401.png  c044272.png  c165730.png  d044541.png  e05462.png\r\n",
            "a008662.png  a12242.png   c04427.png   c165733.png  d044543.png  e054720.png\r\n",
            "a008703.png  a123753.png  c044351.png  c165873.png  d044561.png  e054723.png\r\n",
            "a00870.png   a123903.png  c044461.png  c165912.png  d044563.png  e05497.png\r\n",
            "a008821.png  a12390.png   c045193.png  c16591.png   d044753.png  e054981.png\r\n",
            "a00914.png   a124092.png  c04579.png   c16628.png   d044911.png  e055153.png\r\n",
            "a009543.png  a124093.png  c045873.png  c16649.png   d04491.png\t e055490.png\r\n",
            "a00961.png   a124360.png  c045943.png  c166633.png  d045181.png  e055711.png\r\n",
            "a00980.png   a124362.png  c046041.png  c166712.png  d045280.png  e055713.png\r\n",
            "a009940.png  a12440.png   c046043.png  c166791.png  d045281.png  e055871.png\r\n",
            "a009942.png  a124451.png  c046240.png  c166811.png  d045282.png  e055873.png\r\n",
            "a010111.png  a124463.png  c046271.png  c166850.png  d045341.png  e055982.png\r\n",
            "a01032.png   a12471.png   c046273.png  c166941.png  d045342.png  e055983.png\r\n",
            "a010510.png  a124741.png  c04635.png   c16704.png   d045343.png  e05598.png\r\n",
            "a010513.png  a125272.png  c046902.png  c167222.png  d04542.png\t e056053.png\r\n",
            "a010750.png  a125273.png  c046903.png  c167302.png  d045600.png  e056331.png\r\n",
            "a011132.png  a125483.png  c047030.png  c167522.png  d04560.png\t e056890.png\r\n",
            "a011270.png  a125490.png  c047033.png  c168261.png  d045612.png  e056891.png\r\n",
            "a011370.png  a125491.png  c047090.png  c168262.png  d04569.png\t e057170.png\r\n",
            "a011381.png  a125690.png  c04766.png   c168433.png  d04573.png\t e057171.png\r\n",
            "a011452.png  a125691.png  c047731.png  c168763.png  d046563.png  e05717.png\r\n",
            "a01145.png   a126000.png  c04773.png   c168773.png  d046681.png  e057300.png\r\n",
            "a01195.png   a12600.png   c04800.png   c16921.png   d046682.png  e057380.png\r\n",
            "a011961.png  a126013.png  c048033.png  c16986.png   d046722.png  e057431.png\r\n",
            "a011963.png  a126082.png  c048210.png  c16995.png   d04672.png\t e057472.png\r\n",
            "a01196.png   a126201.png  c048231.png  c170220.png  d046881.png  e057503.png\r\n",
            "a012563.png  a126223.png  c048240.png  c170223.png  d047043.png  e05750.png\r\n",
            "a012592.png  a12622.png   c04824.png   c170322.png  d048620.png  e05755.png\r\n",
            "a01266.png   a126280.png  c048351.png  c170591.png  d048622.png  e05756.png\r\n",
            "a013212.png  a126283.png  c048360.png  c17069.png   d04862.png\t e057653.png\r\n",
            "a013341.png  a12650.png   c048531.png  c170740.png  d048910.png  e05792.png\r\n",
            "a01334.png   a12653.png   c04880.png   c17074.png   d048913.png  e058200.png\r\n",
            "a013540.png  a126720.png  c048911.png  c170912.png  d049922.png  e058201.png\r\n",
            "a013600.png  a126721.png  c049002.png  c170960.png  d050040.png  e058313.png\r\n",
            "a013711.png  a127000.png  c049003.png  c17096.png   d05010.png\t e058511.png\r\n",
            "a013962.png  a127081.png  c049223.png  c171750.png  d050310.png  e058571.png\r\n",
            "a014280.png  a127492.png  c049231.png  c17175.png   d050410.png  e058572.png\r\n",
            "a01435.png   a127580.png  c049493.png  c17177.png   d05042.png\t e058600.png\r\n",
            "a014420.png  a127781.png  c049513.png  c171983.png  d050482.png  e058601.png\r\n",
            "a01444.png   a12807.png   c049542.png  c17198.png   d050530.png  e058912.png\r\n",
            "a014563.png  a12814.png   c049672.png  c17210.png   d050721.png  e059303.png\r\n",
            "a01456.png   a128561.png  c049783.png  c172122.png  d05076.png\t e059403.png\r\n",
            "a014650.png  a128810.png  c050040.png  c172613.png  d050852.png  e05940.png\r\n",
            "a014693.png  a128811.png  c050043.png  c172651.png  d051082.png  e059702.png\r\n",
            "a014771.png  a128960.png  c05008.png   c17270.png   d05108.png\t e059713.png\r\n",
            "a014893.png  a12916.png   c050291.png  c17276.png   d051211.png  e06002.png\r\n",
            "a015480.png  a129261.png  c050683.png  c172770.png  d051250.png  e060270.png\r\n",
            "a015643.png  a129451.png  c05068.png   c172771.png  d051252.png  e060320.png\r\n",
            "a015801.png  a12962.png   c05089.png   c172773.png  d05125.png\t e060323.png\r\n",
            "a01625.png   a129641.png  c05100.png   c17277.png   d05157.png\t e060930.png\r\n",
            "a016602.png  a12971.png   c051292.png  c172893.png  d05178.png\t e060933.png\r\n",
            "a016603.png  a129741.png  c051753.png  c173183.png  d051872.png  e061042.png\r\n",
            "a016733.png  a129880.png  c05214.png   c173490.png  d052042.png  e061353.png\r\n",
            "a01706.png   a129972.png  c05223.png   c173973.png  d052043.png  e061422.png\r\n",
            "a01715.png   a130050.png  c05234.png   c174403.png  d052170.png  e061423.png\r\n",
            "a017392.png  a130051.png  c052422.png  c174570.png  d05217.png\t e061561.png\r\n",
            "a017393.png  a130161.png  c05262.png   c17473.png   d052571.png  e061562.png\r\n",
            "a01739.png   a130172.png  c052642.png  c174850.png  d05257.png\t e061933.png\r\n",
            "a017530.png  a13084.png   c052940.png  c17485.png   d052811.png  e062130.png\r\n",
            "a01753.png   a130970.png  c052981.png  c174892.png  d052831.png  e062271.png\r\n",
            "a01755.png   a131000.png  c05311.png   c174893.png  d053043.png  e06227.png\r\n",
            "a01787.png   a131582.png  c053251.png  c17492.png   d05306.png\t e062353.png\r\n",
            "a017933.png  a131583.png  c053252.png  c176010.png  d053150.png  e06235.png\r\n",
            "a01793.png   a131612.png  c053331.png  c176012.png  d05321.png\t e06253.png\r\n",
            "a018331.png  a13169.png   c05333.png   c176231.png  d053240.png  e06274.png\r\n",
            "a018333.png  a131760.png  c053511.png  c176233.png  d053241.png  e062841.png\r\n",
            "a018442.png  a132062.png  c053940.png  c176882.png  d05324.png\t e062843.png\r\n",
            "a018770.png  a132153.png  c05486.png   c177040.png  d053291.png  e06322.png\r\n",
            "a019071.png  a132230.png  c055161.png  c177041.png  d053310.png  e063241.png\r\n",
            "a019271.png  a132231.png  c055162.png  c177520.png  d05343.png\t e063242.png\r\n",
            "a019610.png  a132232.png  c055163.png  c177800.png  d053503.png  e063342.png\r\n",
            "a019611.png  a132341.png  c055311.png  c177802.png  d053593.png  e06334.png\r\n",
            "a019612.png  a132630.png  c055601.png  c177822.png  d053713.png  e063722.png\r\n",
            "a019700.png  a132902.png  c05560.png   c177881.png  d05371.png\t e06372.png\r\n",
            "a019852.png  a13303.png   c055830.png  c178050.png  d054392.png  e064291.png\r\n",
            "a019853.png  a13328.png   c055831.png  c178260.png  d054560.png  e064401.png\r\n",
            "a020062.png  a133530.png  c055832.png  c178361.png  d05477.png\t e064420.png\r\n",
            "a02024.png   a133953.png  c055833.png  c17845.png   d054843.png  e064440.png\r\n",
            "a020840.png  a134191.png  c05596.png   c17912.png   d054902.png  e064462.png\r\n",
            "a020881.png  a134213.png  c05607.png   c17924.png   d05490.png\t e06456.png\r\n",
            "a020882.png  a13421.png   c056301.png  c179550.png  d055111.png  e064962.png\r\n",
            "a020883.png  a134280.png  c056330.png  c179620.png  d055113.png  e06497.png\r\n",
            "a021423.png  a134382.png  c056392.png  c179820.png  d055331.png  e065160.png\r\n",
            "a02152.png   a134383.png  c056413.png  c179822.png  d055380.png  e065223.png\r\n",
            "a021541.png  a134390.png  c05648.png   c179851.png  d055381.png  e065572.png\r\n",
            "a02178.png   a134462.png  c056610.png  c179853.png  d055383.png  e065980.png\r\n",
            "a022041.png  a134771.png  c05703.png   c179950.png  d055450.png  e066082.png\r\n",
            "a022042.png  a134812.png  c057362.png  c180142.png  d055452.png  e066083.png\r\n",
            "a022400.png  a134821.png  c05765.png   c180150.png  d055490.png  e067400.png\r\n",
            "a02250.png   a13482.png   c057672.png  c180151.png  d055493.png  e067401.png\r\n",
            "a022620.png  a134840.png  c057740.png  c180252.png  d055690.png  e067652.png\r\n",
            "a022622.png  a13485.png   c057762.png  c18038.png   d055691.png  e06772.png\r\n",
            "a02273.png   a135210.png  c057941.png  c180622.png  d055822.png  e06777.png\r\n",
            "a022832.png  a135240.png  c05826.png   c180623.png  d055920.png  e068052.png\r\n",
            "a022861.png  a13524.png   c05829.png   c18062.png   d055981.png  e068413.png\r\n",
            "a022890.png  a135253.png  c058310.png  c180730.png  d056050.png  e068483.png\r\n",
            "a022943.png  a13525.png   c05848.png   c180912.png  d05605.png\t e068923.png\r\n",
            "a02302.png   a135441.png  c05861.png   c18091.png   d056192.png  e068980.png\r\n",
            "a023073.png  a13554.png   c05866.png   c181050.png  d05619.png\t e069070.png\r\n",
            "a02307.png   a13568.png   c058762.png  c181210.png  d056330.png  e069453.png\r\n",
            "a023192.png  a135873.png  c058770.png  c181211.png  d05633.png\t e06969.png\r\n",
            "a02326.png   a135931.png  c058790.png  c181251.png  d056540.png  e06982.png\r\n",
            "a023292.png  a135932.png  c058791.png  c181263.png  d056542.png  e070141.png\r\n",
            "a023361.png  a13593.png   c058792.png  c181450.png  d05752.png\t e07015.png\r\n",
            "a02338.png   a136072.png  c059113.png  c181490.png  d05773.png\t e070213.png\r\n",
            "a02343.png   a13609.png   c05916.png   c18158.png   d057940.png  e07021.png\r\n",
            "a023580.png  a136141.png  c059522.png  c181772.png  d058292.png  e070790.png\r\n",
            "a023882.png  a13651.png   c059531.png  c181773.png  d058312.png  e070791.png\r\n",
            "a023883.png  a136621.png  c05959.png   c181823.png  d058400.png  e070793.png\r\n",
            "a023970.png  a136693.png  c059713.png  c181862.png  d058572.png  e070990.png\r\n",
            "a024061.png  a137260.png  c05977.png   c182181.png  d05857.png\t e071250.png\r\n",
            "a024062.png  a13736.png   c059953.png  c182480.png  d058652.png  e071383.png\r\n",
            "a024071.png  a137442.png  c05995.png   c18272.png   d05865.png\t e071621.png\r\n",
            "a024090.png  a137982.png  c060192.png  c182730.png  d05885.png\t e07162.png\r\n",
            "a024091.png  a138161.png  c060402.png  c182733.png  d05905.png\t e071673.png\r\n",
            "a024092.png  a138223.png  c060482.png  c183262.png  d05924.png\t e071733.png\r\n",
            "a024093.png  a138523.png  c06080.png   c18326.png   d05960.png\t e071791.png\r\n",
            "a024172.png  a138550.png  c060880.png  c183400.png  d059713.png  e071842.png\r\n",
            "a02425.png   a13855.png   c060881.png  c183670.png  d05975.png\t e07228.png\r\n",
            "a02426.png   a138653.png  c061062.png  c18371.png   d060012.png  e072810.png\r\n",
            "a02438.png   a138953.png  c061190.png  c183730.png  d06020.png\t e072870.png\r\n",
            "a02451.png   a13912.png   c061193.png  c183951.png  d060322.png  e072932.png\r\n",
            "a024750.png  a139380.png  c061251.png  c18399.png   d060423.png  e072941.png\r\n",
            "a024751.png  a139951.png  c06156.png   c184122.png  d06053.png\t e073121.png\r\n",
            "a024840.png  a139960.png  c061761.png  c18412.png   d060621.png  e073142.png\r\n",
            "a02500.png   a14007.png   c061872.png  c184423.png  d06062.png\t e073251.png\r\n",
            "a02503.png   a14011.png   c061900.png  c184521.png  d061271.png  e073253.png\r\n",
            "a025042.png  a140420.png  c061901.png  c18531.png   d061301.png  e073332.png\r\n",
            "a025070.png  a140421.png  c06234.png   c185372.png  d06130.png\t e073392.png\r\n",
            "a025222.png  a140423.png  c062481.png  c18543.png   d061420.png  e073400.png\r\n",
            "a02522.png   a140840.png  c062482.png  c185791.png  d06164.png\t e073560.png\r\n",
            "a025242.png  a140901.png  c062512.png  c18602.png   d06234.png\t e073680.png\r\n",
            "a025503.png  a14090.png   c062813.png  c186040.png  d06256.png\t e073711.png\r\n",
            "a025971.png  a141073.png  c063032.png  c186042.png  d062583.png  e073731.png\r\n",
            "a026292.png  a141190.png  c063721.png  c186130.png  d062611.png  e074020.png\r\n",
            "a026481.png  a141191.png  c063830.png  c186143.png  d062832.png  e074021.png\r\n",
            "a026572.png  a141210.png  c064313.png  c18620.png   d062993.png  e074033.png\r\n",
            "a02663.png   a141211.png  c064381.png  c186241.png  d063211.png  e07403.png\r\n",
            "a026820.png  a141311.png  c064563.png  c186460.png  d063273.png  e07476.png\r\n",
            "a027563.png  a141420.png  c064582.png  c186462.png  d06327.png\t e074871.png\r\n",
            "a027833.png  a141421.png  c064700.png  c186511.png  d06365.png\t e07602.png\r\n",
            "a027860.png  a141422.png  c064731.png  c18668.png   d063750.png  e076703.png\r\n",
            "a028150.png  a141542.png  c064962.png  c186790.png  d06386.png\t e07670.png\r\n",
            "a028282.png  a14154.png   c065183.png  c18695.png   d06396.png\t e077032.png\r\n",
            "a028552.png  a141681.png  c06518.png   c187351.png  d064310.png  e077173.png\r\n",
            "a028553.png  a14168.png   c065212.png  c187521.png  d064660.png  e07717.png\r\n",
            "a02855.png   a141912.png  c065452.png  c187583.png  d064661.png  e07728.png\r\n",
            "a02856.png   a142070.png  c06588.png   c187650.png  d064663.png  e07731.png\r\n",
            "a028683.png  a142250.png  c065951.png  c187653.png  d06466.png\t e077381.png\r\n",
            "a02888.png   a142251.png  c06657.png   c18765.png   d064753.png  e077480.png\r\n",
            "a028983.png  a14225.png   c066612.png  c187730.png  d06488.png\t e077900.png\r\n",
            "a029201.png  a14264.png   c066613.png  c187751.png  d065662.png  e078291.png\r\n",
            "a02966.png   a143060.png  c066981.png  c18798.png   d066592.png  e078561.png\r\n",
            "a02972.png   a14306.png   c067011.png  c18806.png   d067290.png  e078612.png\r\n",
            "a02974.png   a14343.png   c06701.png   c18821.png   d067292.png  e078613.png\r\n",
            "a02983.png   a143591.png  c067241.png  c18838.png   d067943.png  e078701.png\r\n",
            "a029911.png  a143692.png  c067682.png  c188491.png  d06794.png\t e07885.png\r\n",
            "a030500.png  a14423.png   c067771.png  c188591.png  d068420.png  e078860.png\r\n",
            "a030583.png  a144380.png  c068352.png  c18859.png   d068822.png  e078863.png\r\n",
            "a030872.png  a14438.png   c068353.png  c188830.png  d069161.png  e078970.png\r\n",
            "a030912.png  a144533.png  c068593.png  c189090.png  d069162.png  e079522.png\r\n",
            "a030940.png  a144850.png  c068762.png  c189180.png  d069242.png  e079523.png\r\n",
            "a031463.png  a14509.png   c069622.png  c189461.png  d06932.png\t e08016.png\r\n",
            "a03146.png   a145111.png  c069643.png  c18946.png   d06936.png\t e08040.png\r\n",
            "a031721.png  a14517.png   c06994.png   c189590.png  d069992.png  e080520.png\r\n",
            "a031973.png  a14519.png   c069950.png  c189591.png  d06999.png\t e080640.png\r\n",
            "a032013.png  a145380.png  c069952.png  c189770.png  d070001.png  e080643.png\r\n",
            "a032240.png  a145383.png  c070052.png  c18977.png   d07000.png\t e08069.png\r\n",
            "a032242.png  a145443.png  c070131.png  c189921.png  d07009.png\t e080720.png\r\n",
            "a03279.png   a14544.png   c070311.png  c19007.png   d070371.png  e080722.png\r\n",
            "a032813.png  a145502.png  c07032.png   c190150.png  d070373.png  e080770.png\r\n",
            "a03317.png   a145623.png  c070483.png  c19028.png   d070463.png  e080771.png\r\n",
            "a033723.png  a145692.png  c071140.png  c190360.png  d071303.png  e080931.png\r\n",
            "a03375.png   a145772.png  c071143.png  c19053.png   d07154.png\t e081042.png\r\n",
            "a034010.png  a145773.png  c071481.png  c190550.png  d071912.png  e08115.png\r\n",
            "a034032.png  a145781.png  c07152.png   c190691.png  d07203.png\t e081342.png\r\n",
            "a034080.png  a145782.png  c07187.png   c190882.png  d072281.png  e082220.png\r\n",
            "a034083.png  a145912.png  c071962.png  c19088.png   d072363.png  e082223.png\r\n",
            "a03413.png   a146143.png  c071963.png  c190893.png  d07236.png\t e082460.png\r\n",
            "a034541.png  a146211.png  c07196.png   c191013.png  d07238.png\t e082461.png\r\n",
            "a034543.png  a146213.png  c07212.png   c191062.png  d072680.png  e082462.png\r\n",
            "a034840.png  a14642.png   c07229.png   c191292.png  d072722.png  e082531.png\r\n",
            "a035021.png  a146600.png  c07263.png   c19129.png   d073023.png  e082532.png\r\n",
            "a035022.png  a14660.png   c072813.png  c191351.png  d07329.png\t e083231.png\r\n",
            "a03502.png   a14687.png   c073200.png  c191490.png  d07335.png\t e083610.png\r\n",
            "a03506.png   a147050.png  c073310.png  c191493.png  d073450.png  e08372.png\r\n",
            "a035400.png  a147701.png  c07342.png   c19172.png   d07345.png\t e083790.png\r\n",
            "a035401.png  a148063.png  c073501.png  c192221.png  d073691.png  e083793.png\r\n",
            "a035580.png  a148301.png  c073553.png  c19222.png   d073910.png  e08379.png\r\n",
            "a035791.png  a148430.png  c07355.png   c192683.png  d074152.png  e084080.png\r\n",
            "a035793.png  a148740.png  c073593.png  c192742.png  d074310.png  e084082.png\r\n",
            "a035893.png  a148741.png  c07359.png   c192993.png  d074312.png  e084210.png\r\n",
            "a03619.png   a148742.png  c073730.png  c19301.png   d074631.png  e084211.png\r\n",
            "a036310.png  a148890.png  c073840.png  c193052.png  d074633.png  e084281.png\r\n",
            "a036833.png  a148900.png  c073930.png  c193053.png  d074670.png  e084820.png\r\n",
            "a037173.png  a148901.png  c073931.png  c193450.png  d074671.png  e085270.png\r\n",
            "a03730.png   a149220.png  c074202.png  c19345.png   d074753.png  e085480.png\r\n",
            "a03758.png   a149223.png  c07438.png   c193533.png  d074843.png  e08592.png\r\n",
            "a037650.png  a14923.png   c07444.png   c195333.png  d075182.png  e086101.png\r\n",
            "a037682.png  a149281.png  c074510.png  c19535.png   d075673.png  e086102.png\r\n",
            "a03768.png   a149771.png  c074520.png  c19543.png   d075820.png  e086280.png\r\n",
            "a037720.png  a149772.png  c074542.png  c196222.png  d076101.png  e086391.png\r\n",
            "a037721.png  a14977.png   c074880.png  c196300.png  d076180.png  e086392.png\r\n",
            "a038090.png  a149980.png  c07501.png   c19630.png   d076280.png  e08639.png\r\n",
            "a038093.png  a149982.png  c07554.png   c196552.png  d076343.png  e08658.png\r\n",
            "a03809.png   a15033.png   c076282.png  c196572.png  d07637.png\t e086991.png\r\n",
            "a038361.png  a150491.png  c076372.png  c19657.png   d07641.png\t e08700.png\r\n",
            "a03836.png   a150492.png  c076471.png  c196602.png  d076631.png  e087092.png\r\n",
            "a038532.png  a150493.png  c076541.png  c196761.png  d076752.png  e08709.png\r\n",
            "a038691.png  a15057.png   c076691.png  c197083.png  d07699.png\t e087141.png\r\n",
            "a03890.png   a150621.png  c076810.png  c19718.png   d077021.png  e087161.png\r\n",
            "a039061.png  a150623.png  c076863.png  c197360.png  d077270.png  e087162.png\r\n",
            "a039522.png  a15067.png   c077092.png  c19736.png   d07749.png\t e087210.png\r\n",
            "a039700.png  a151520.png  c077320.png  c197562.png  d07758.png\t e087213.png\r\n",
            "a039811.png  a15174.png   c077321.png  c197570.png  d078040.png  e087250.png\r\n",
            "a03981.png   a152851.png  c077382.png  c197572.png  d078042.png  e087661.png\r\n",
            "a03983.png   a152861.png  c077532.png  c197593.png  d078043.png  e08766.png\r\n",
            "a039950.png  a152863.png  c07793.png   c198253.png  d078272.png  e08774.png\r\n",
            "a04003.png   a153031.png  c077961.png  c198790.png  d078273.png  e08840.png\r\n",
            "a040081.png  a154000.png  c07807.png   c198851.png  d078293.png  e088832.png\r\n",
            "a040133.png  a154213.png  c078082.png  c19916.png   d078450.png  e08907.png\r\n",
            "a040420.png  a15425.png   c078201.png  c199190.png  d07865.png\t e089082.png\r\n",
            "a040422.png  a15431.png   c078203.png  c199191.png  d078761.png  e089141.png\r\n",
            "a04050.png   a154740.png  c078430.png  c19919.png   d078982.png  e08916.png\r\n",
            "a04062.png   a154991.png  c078493.png  c199210.png  d079110.png  e089191.png\r\n",
            "a040970.png  a15499.png   c078533.png  c199212.png  d079130.png  e089192.png\r\n",
            "a041173.png  a155051.png  c078641.png  c199490.png  d079131.png  e089730.png\r\n",
            "a041332.png  a155160.png  c078660.png  c199491.png  d07941.png\t e08977.png\r\n",
            "a041470.png  a15535.png   c078661.png  c199533.png  d079501.png  e090250.png\r\n",
            "a04165.png   a155413.png  c07884.png   c199961.png  d07966.png\t e09025.png\r\n",
            "a041662.png  a155420.png  c078850.png  c200333.png  d079860.png  e090521.png\r\n",
            "a041682.png  a15577.png   c079023.png  c200373.png  d079862.png  e090551.png\r\n",
            "a04201.png   a15583.png   c07958.png   c200381.png  d079883.png  e09061.png\r\n",
            "a042033.png  a155982.png  c079651.png  c200720.png  d080180.png  e090680.png\r\n",
            "a042722.png  a15602.png   c07975.png   c200780.png  d080721.png  e09083.png\r\n",
            "a04272.png   a156271.png  c079832.png  c200952.png  d080761.png  e09085.png\r\n",
            "a04292.png   a156332.png  c079833.png  c201223.png  d080823.png  e09088.png\r\n",
            "a042962.png  a15647.png   c079902.png  c201281.png  d080833.png  e091312.png\r\n",
            "a043121.png  a156743.png  c080071.png  c201282.png  d080962.png  e091412.png\r\n",
            "a04336.png   a15714.png   c080080.png  c201982.png  d08115.png\t e091413.png\r\n",
            "a04339.png   a15723.png   c080081.png  c202201.png  d081310.png  e09142.png\r\n",
            "a04345.png   a157241.png  c080172.png  c20224.png   d081420.png  e09168.png\r\n",
            "a043812.png  a157483.png  c080191.png  c20240.png   d081421.png  e091780.png\r\n",
            "a043820.png  a157530.png  c080490.png  c20272.png   d081423.png  e092111.png\r\n",
            "a043860.png  a157533.png  c080492.png  c202901.png  d08144.png\t e09211.png\r\n",
            "a043863.png  a15753.png   c080610.png  c203000.png  d081590.png  e092210.png\r\n",
            "a043940.png  a158021.png  c080970.png  c203003.png  d081592.png  e092213.png\r\n",
            "a043943.png  a158023.png  c08102.png   c203330.png  d081792.png  e09221.png\r\n",
            "a04399.png   a158282.png  c081102.png  c203360.png  d081890.png  e092322.png\r\n",
            "a044080.png  a158290.png  c081252.png  c20352.png   d081962.png  e092412.png\r\n",
            "a044081.png  a158333.png  c081423.png  c203571.png  d08207.png\t e092441.png\r\n",
            "a044272.png  a158592.png  c081521.png  c203591.png  d082133.png  e092870.png\r\n",
            "a044823.png  a158621.png  c081593.png  c204021.png  d08315.png\t e09287.png\r\n",
            "a045120.png  a158771.png  c081772.png  c204023.png  d083340.png  e09301.png\r\n",
            "a045293.png  a158801.png  c082210.png  c204182.png  d083342.png  e093300.png\r\n",
            "a045310.png  a159000.png  c082451.png  c204312.png  d083580.png  e093373.png\r\n",
            "a046152.png  a159003.png  c083000.png  c204392.png  d08358.png\t e093383.png\r\n",
            "a046310.png  a159151.png  c08300.png   c20439.png   d08362.png\t e093781.png\r\n",
            "a046312.png  a159222.png  c08309.png   c20469.png   d083851.png  e09395.png\r\n",
            "a046313.png  a15930.png   c083220.png  c204860.png  d08385.png\t e09405.png\r\n",
            "a046470.png  a15935.png   c083221.png  c20491.png   d084173.png  e094093.png\r\n",
            "a04647.png   a160712.png  c083270.png  c20495.png   d084192.png  e09425.png\r\n",
            "a04665.png   a160713.png  c083272.png  c205292.png  d08421.png\t e09439.png\r\n",
            "a047073.png  a16075.png   c083280.png  c206191.png  d084792.png  e094433.png\r\n",
            "a04716.png   a161403.png  c083661.png  c206250.png  d084803.png  e094802.png\r\n",
            "a047513.png  a161652.png  c08370.png   c20625.png   d084823.png  e095473.png\r\n",
            "a047560.png  a16175.png   c08390.png   c20626.png   d08494.png\t e09547.png\r\n",
            "a04757.png   a162073.png  c08414.png   c206370.png  d08495.png\t e095823.png\r\n",
            "a047882.png  a16256.png   c084290.png  c206540.png  d085603.png  e095883.png\r\n",
            "a04788.png   a162603.png  c084291.png  c206543.png  d086040.png  e096143.png\r\n",
            "a048073.png  a162692.png  c08442.png   c20657.png   d08604.png\t e096160.png\r\n",
            "a048091.png  a162950.png  c084501.png  c206750.png  d086311.png  e096200.png\r\n",
            "a048092.png  a162951.png  c084503.png  c206753.png  d08636.png\t e097022.png\r\n",
            "a048301.png  a162953.png  c08450.png   c20683.png   d086383.png  e097040.png\r\n",
            "a04833.png   a163013.png  c084620.png  c206950.png  d086591.png  e097463.png\r\n",
            "a048431.png  a16306.png   c084910.png  c20695.png   d086593.png  e097743.png\r\n",
            "a048433.png  a163260.png  c08514.png   c207260.png  d08676.png\t e09786.png\r\n",
            "a04864.png   a163261.png  c085742.png  c207261.png  d08683.png\t e098011.png\r\n",
            "a04871.png   a163433.png  c086521.png  c207262.png  d087110.png  e09801.png\r\n",
            "a04880.png   a163591.png  c086523.png  c207281.png  d087182.png  e098051.png\r\n",
            "a04909.png   a163773.png  c08652.png   c207540.png  d087360.png  e098070.png\r\n",
            "a049212.png  a163962.png  c086563.png  c207543.png  d087362.png  e098073.png\r\n",
            "a04943.png   a16470.png   c08740.png   c20754.png   d08750.png\t e098312.png\r\n",
            "a049620.png  a164862.png  c087493.png  c207723.png  d087671.png  e098573.png\r\n",
            "a049701.png  a165273.png  c087910.png  c207803.png  d087700.png  e098691.png\r\n",
            "a049703.png  a165772.png  c087912.png  c20785.png   d08772.png\t e098891.png\r\n",
            "a049932.png  a166001.png  c087921.png  c208213.png  d087810.png  e09892.png\r\n",
            "a050050.png  a16604.png   c087922.png  c208260.png  d087811.png  e098943.png\r\n",
            "a05005.png   a166103.png  c087962.png  c208293.png  d08781.png\t e099070.png\r\n",
            "a05013.png   a16610.png   c088022.png  c20829.png   d088093.png  e099072.png\r\n",
            "a050171.png  a166303.png  c088252.png  c208302.png  d088101.png  e099351.png\r\n",
            "a050241.png  a166463.png  c088261.png  c208472.png  d08811.png\t e099353.png\r\n",
            "a050270.png  a16650.png   c08829.png   c208512.png  d088760.png  e099542.png\r\n",
            "a05070.png   a166800.png  c088343.png  c20876.png   d089020.png  e099543.png\r\n",
            "a05123.png   a166801.png  c08835.png   c20892.png   d089132.png  e099693.png\r\n",
            "a051362.png  a166803.png  c088542.png  c209072.png  d089133.png  e099731.png\r\n",
            "a05136.png   a167042.png  c088621.png  c209081.png  d089253.png  e099732.png\r\n",
            "a05184.png   a16783.png   c088662.png  c209083.png  d089281.png  e099733.png\r\n",
            "a052051.png  a16810.png   c088663.png  c209291.png  d089283.png  e099832.png\r\n",
            "a052140.png  a16845.png   c088693.png  c20961.png   d089720.png  e099833.png\r\n",
            "a05214.png   a168512.png  c08869.png   c20968.png   d089721.png  e100510.png\r\n",
            "a05216.png   a168513.png  c089171.png  c209703.png  d089722.png  e100512.png\r\n",
            "a052412.png  a168691.png  c08917.png   c209961.png  d08999.png\t e100520.png\r\n",
            "a052422.png  a16869.png   c089360.png  c21002.png   d090490.png  e100762.png\r\n",
            "a05242.png   a169043.png  c08955.png   c210092.png  d090492.png  e10077.png\r\n",
            "a05250.png   a16920.png   c090021.png  c210163.png  d090801.png  e100870.png\r\n",
            "a052531.png  a169331.png  c09020.png   c210830.png  d090833.png  e10107.png\r\n",
            "a052533.png  a169491.png  c090370.png  c210863.png  d091331.png  e101183.png\r\n",
            "a05253.png   a169533.png  c09037.png   c211513.png  d091332.png  e10123.png\r\n",
            "a052580.png  a16975.png   c090451.png  c211553.png  d09143.png\t e101291.png\r\n",
            "a052791.png  a169830.png  c090730.png  c211563.png  d09152.png\t e101293.png\r\n",
            "a052831.png  a170061.png  c090852.png  c21178.png   d091751.png  e10150.png\r\n",
            "a05283.png   a170140.png  c090853.png  c211793.png  d09175.png\t e101903.png\r\n",
            "a05294.png   a170220.png  c090882.png  c212020.png  d09208.png\t e10195.png\r\n",
            "a052980.png  a170222.png  c09110.png   c212022.png  d092270.png  e10216.png\r\n",
            "a053501.png  a170223.png  c091162.png  c212241.png  d092301.png  e102282.png\r\n",
            "a053503.png  a17022.png   c091250.png  c212271.png  d092302.png  e102530.png\r\n",
            "a05356.png   a170241.png  c091490.png  c212280.png  d09230.png\t e102531.png\r\n",
            "a053860.png  a170361.png  c09149.png   c212532.png  d09248.png\t e102620.png\r\n",
            "a053863.png  a171353.png  c091570.png  c21296.png   d092531.png  e102621.png\r\n",
            "a053973.png  a17152.png   c091573.png  c212990.png  d092752.png  e102641.png\r\n",
            "a054032.png  a171862.png  c091693.png  c213201.png  d09275.png\t e10264.png\r\n",
            "a054071.png  a171873.png  c091790.png  c213623.png  d092843.png  e10283.png\r\n",
            "a054421.png  a171891.png  c091922.png  c214513.png  d092991.png  e102893.png\r\n",
            "a054423.png  a172212.png  c092341.png  c214522.png  d092993.png  e102971.png\r\n",
            "a05442.png   a17254.png   c09263.png   c214743.png  d093171.png  e102973.png\r\n",
            "a054492.png  a172632.png  c093143.png  c214761.png  d09317.png\t e103060.png\r\n",
            "a054652.png  a17273.png   c093302.png  c215031.png  d093230.png  e103400.png\r\n",
            "a05465.png   a17286.png   c093521.png  c21503.png   d093470.png  e10351.png\r\n",
            "a05478.png   a172900.png  c093651.png  c215272.png  d093473.png  e10353.png\r\n",
            "a054792.png  a17290.png   c09366.png   c21543.png   d09349.png\t e103673.png\r\n",
            "a054793.png  a173103.png  c093692.png  c21559.png   d093653.png  e103783.png\r\n",
            "a054823.png  a173633.png  c09369.png   c215702.png  d094040.png  e10378.png\r\n",
            "a05486.png   a173672.png  c093910.png  c21579.png   d094260.png  e104001.png\r\n",
            "a055011.png  a17367.png   c093911.png  c215813.png  d094401.png  e10441.png\r\n",
            "a055341.png  a17386.png   c093980.png  c215831.png  d094402.png  e104713.png\r\n",
            "a055350.png  a173930.png  c094163.png  c21583.png   d094601.png  e104910.png\r\n",
            "a05542.png   a174480.png  c09420.png   c216411.png  d094621.png  e105102.png\r\n",
            "a055660.png  a174513.png  c09431.png   c216422.png  d094733.png  e105612.png\r\n",
            "a05566.png   a174683.png  c094520.png  c216601.png  d09477.png\t e105633.png\r\n",
            "a05571.png   a174910.png  c094522.png  c216603.png  d094923.png  e10570.png\r\n",
            "a055870.png  a17491.png   c09459.png   c216871.png  d095130.png  e10594.png\r\n",
            "a056042.png  a175152.png  c094683.png  c216872.png  d095133.png  e106020.png\r\n",
            "a056263.png  a175153.png  c09468.png   c21745.png   d095223.png  e106021.png\r\n",
            "a05638.png   a17515.png   c094712.png  c217691.png  d09544.png\t e106023.png\r\n",
            "a05639.png   a175160.png  c094713.png  c21790.png   d095612.png  e10605.png\r\n",
            "a056491.png  a176022.png  c09503.png   c21809.png   d095650.png  e106113.png\r\n",
            "a056560.png  a17605.png   c09504.png   c21821.png   d095731.png  e106130.png\r\n",
            "a056580.png  a176190.png  c095610.png  c218902.png  d09583.png\t e106132.png\r\n",
            "a05658.png   a176232.png  c095850.png  c21890.png   d09591.png\t e10624.png\r\n",
            "a056851.png  a17623.png   c095853.png  c219012.png  d09605.png\t e106710.png\r\n",
            "a05696.png   a176390.png  c095863.png  c219122.png  d096111.png  e106711.png\r\n",
            "a057210.png  a17639.png   c09595.png   c21934.png   d096112.png  e107101.png\r\n",
            "a057302.png  a17691.png   c09606.png   c219440.png  d096113.png  e107471.png\r\n",
            "a057340.png  a177312.png  c096133.png  c21957.png   d096531.png  e107770.png\r\n",
            "a057710.png  a177381.png  c09625.png   c219580.png  d096532.png  e107963.png\r\n",
            "a05773.png   a177601.png  c096312.png  c219581.png  d096533.png  e108303.png\r\n",
            "a057781.png  a177602.png  c09644.png   c219600.png  d096772.png  e10830.png\r\n",
            "a057860.png  a17803.png   c096963.png  c219621.png  d09677.png\t e108330.png\r\n",
            "a05786.png   a178390.png  c097080.png  c219733.png  d09709.png\t e108331.png\r\n",
            "a05809.png   a178392.png  c097082.png  c219772.png  d097321.png  e108340.png\r\n",
            "a05824.png   a178462.png  c097181.png  c219811.png  d097331.png  e108350.png\r\n",
            "a05838.png   a178850.png  c09724.png   c219931.png  d097663.png  e108393.png\r\n",
            "a058540.png  a17885.png   c097361.png  c220032.png  d097922.png  e108410.png\r\n",
            "a058813.png  a17899.png   c097363.png  c220100.png  d098033.png  e109101.png\r\n",
            "a058891.png  a179243.png  c097652.png  c220272.png  d098320.png  e109431.png\r\n",
            "a059202.png  a17924.png   c097700.png  c220610.png  d098330.png  e109510.png\r\n",
            "a05941.png   a179331.png  c097831.png  c22065.png   d098332.png  e109841.png\r\n",
            "a059581.png  a17933.png   c097833.png  c221020.png  d09833.png\t e11006.png\r\n",
            "a059831.png  a17970.png   c09783.png   c221022.png  d098511.png  e11016.png\r\n",
            "a059833.png  a179763.png  c097862.png  c22121.png   d09851.png\t e11019.png\r\n",
            "a059982.png  a180370.png  c098081.png  c22132.png   d099000.png  e110201.png\r\n",
            "a060050.png  a180373.png  c09837.png   c221431.png  d099192.png  e110202.png\r\n",
            "a060350.png  a18037.png   c098703.png  c22186.png   d099491.png  e110203.png\r\n",
            "a060351.png  a18048.png   c09870.png   c221890.png  d099492.png  e110303.png\r\n",
            "a060353.png  a180753.png  c098902.png  c221990.png  d099621.png  e110921.png\r\n",
            "a06035.png   a18085.png   c09890.png   c221991.png  d09962.png\t e110983.png\r\n",
            "a06042.png   a180900.png  c098943.png  c222242.png  d09970.png\t e111130.png\r\n",
            "a060513.png  a18099.png   c09920.png   c222340.png  d099790.png  e111511.png\r\n",
            "a060530.png  a181072.png  c099251.png  c222343.png  d09980.png\t e11161.png\r\n",
            "a06054.png   a181611.png  c099321.png  c22234.png   d099811.png  e111963.png\r\n",
            "a060612.png  a181691.png  c099401.png  c22267.png   d099823.png  e112151.png\r\n",
            "a060613.png  a181710.png  c099403.png  c222790.png  d100211.png  e112152.png\r\n",
            "a060951.png  a181891.png  c09947.png   c222793.png  d100593.png  e11232.png\r\n",
            "a06095.png   a181991.png  c09975.png   c22279.png   d100740.png  e112501.png\r\n",
            "a061011.png  a182080.png  c099821.png  c222941.png  d100842.png  e112681.png\r\n",
            "a061163.png  a182701.png  c099833.png  c223043.png  d10092.png\t e112790.png\r\n",
            "a06138.png   a182702.png  c099932.png  c22304.png   d100941.png  e112833.png\r\n",
            "a061483.png  a18270.png   c10003.png   c223262.png  d101211.png  e112883.png\r\n",
            "a061660.png  a182782.png  c100043.png  c223263.png  d10122.png\t e113263.png\r\n",
            "a062311.png  a182801.png  c100072.png  c223303.png  d101291.png  e11342.png\r\n",
            "a062393.png  a182882.png  c100311.png  c22349.png   d10137.png\t e11358.png\r\n",
            "a062661.png  a183370.png  c100420.png  c22350.png   d101380.png  e113633.png\r\n",
            "a063111.png  a183511.png  c10053.png   c223593.png  d101513.png  e113680.png\r\n",
            "a063292.png  a183882.png  c100862.png  c224171.png  d10182.png\t e113683.png\r\n",
            "a063342.png  a184070.png  c100960.png  c22417.png   d10200.png\t e114572.png\r\n",
            "a063360.png  a184121.png  c101150.png  c224202.png  d102130.png  e11484.png\r\n",
            "a063362.png  a184122.png  c101171.png  c224261.png  d10213.png\t e11504.png\r\n",
            "a063363.png  a18415.png   c101210.png  c22428.png   d102313.png  e11515.png\r\n",
            "a06339.png   a184241.png  c101240.png  c224462.png  d102360.png  e11526.png\r\n",
            "a06346.png   a184470.png  c101241.png  c224592.png  d102370.png  e115342.png\r\n",
            "a063773.png  a184473.png  c101280.png  c224603.png  d102643.png  e115513.png\r\n",
            "a06377.png   a184750.png  c101281.png  c224693.png  d102980.png  e115552.png\r\n",
            "a063911.png  a18475.png   c10128.png   c22469.png   d103510.png  e115620.png\r\n",
            "a064270.png  a184832.png  c101413.png  c225510.png  d103800.png  e115723.png\r\n",
            "a064331.png  a184833.png  c101780.png  c225512.png  d103802.png  e11583.png\r\n",
            "a064343.png  a184922.png  c101781.png  c225571.png  d104170.png  e116310.png\r\n",
            "a064601.png  a18496.png   c101871.png  c225572.png  d10419.png\t e116722.png\r\n",
            "a064602.png  a184972.png  c102080.png  c22557.png   d104362.png  e116760.png\r\n",
            "a06485.png   a185812.png  c102121.png  c225861.png  d104410.png  e116762.png\r\n",
            "a065140.png  a18610.png   c10212.png   c226261.png  d104633.png  e116862.png\r\n",
            "a065210.png  a186570.png  c102202.png  c226373.png  d105000.png  e117371.png\r\n",
            "a065211.png  a186763.png  c10271.png   c22637.png   d10500.png\t e11743.png\r\n",
            "a06534.png   a187032.png  c10280.png   c226443.png  d105121.png  e117492.png\r\n",
            "a065452.png  a18715.png   c10314.png   c226573.png  d105213.png  e11749.png\r\n",
            "a06562.png   a187182.png  c103521.png  c226823.png  d105453.png  e11797.png\r\n",
            "a065741.png  a187261.png  c10352.png   c226830.png  d10545.png\t e118150.png\r\n",
            "a065742.png  a187570.png  c10372.png   c226832.png  d105803.png  e118540.png\r\n",
            "a065900.png  a187573.png  c103761.png  c227541.png  d106080.png  e118542.png\r\n",
            "a066012.png  a188010.png  c103830.png  c227542.png  d106090.png  e118543.png\r\n",
            "a06601.png   a188243.png  c103831.png  c22773.png   d106092.png  e118611.png\r\n",
            "a066962.png  a188300.png  c103862.png  c22784.png   d10609.png\t e118723.png\r\n",
            "a066973.png  a188701.png  c103910.png  c227951.png  d106152.png  e11900.png\r\n",
            "a067051.png  a188980.png  c103981.png  c227953.png  d106201.png  e119062.png\r\n",
            "a067090.png  a188981.png  c103983.png  c22806.png   d106460.png  e119422.png\r\n",
            "a06716.png   a188982.png  c10398.png   c228113.png  d10646.png\t e11991.png\r\n",
            "a06721.png   a189091.png  c10409.png   c228622.png  d106682.png  e119961.png\r\n",
            "a067450.png  a189772.png  c104142.png  c229190.png  d106772.png  e11996.png\r\n",
            "a067501.png  a18982.png   c104143.png  c229192.png  d107173.png  e120312.png\r\n",
            "a06750.png   a18991.png   c104312.png  c229312.png  d107433.png  e120343.png\r\n",
            "a06763.png   a190630.png  c10431.png   c229502.png  d107691.png  e12076.png\r\n",
            "a06775.png   a190740.png  c104430.png  c229642.png  d107693.png  e121073.png\r\n",
            "a067810.png  a19074.png   c105380.png  c230862.png  d107811.png  e121082.png\r\n",
            "a068071.png  a191003.png  c10539.png   c230863.png  d107860.png  e121083.png\r\n",
            "a068193.png  a191192.png  c105493.png  c230892.png  d10817.png\t e121223.png\r\n",
            "a068370.png  a191211.png  c105620.png  c230920.png  d108222.png  e121502.png\r\n",
            "a068373.png  a19121.png   c105622.png  c23106.png   d10830.png\t e121503.png\r\n",
            "a068471.png  a191581.png  c10608.png   c23114.png   d108540.png  e121601.png\r\n",
            "a068551.png  a19158.png   c10623.png   c231373.png  d108642.png  e121612.png\r\n",
            "a068680.png  a191691.png  c106540.png  c231431.png  d108861.png  e122020.png\r\n",
            "a06868.png   a191760.png  c106541.png  c23143.png   d108862.png  e12203.png\r\n",
            "a069031.png  a191761.png  c106543.png  c231903.png  d10886.png\t e122080.png\r\n",
            "a069053.png  a19176.png   c10659.png   c23225.png   d108910.png  e12208.png\r\n",
            "a06905.png   a191891.png  c10679.png   c232531.png  e000021.png  e122110.png\r\n",
            "a069202.png  a19197.png   c106892.png  c23281.png   e00007.png\t e122113.png\r\n",
            "a069911.png  a19213.png   c10689.png   c232973.png  e000103.png  e122400.png\r\n",
            "a070021.png  a19225.png   c10690.png   c23297.png   e000213.png  e122520.png\r\n",
            "a070142.png  a192321.png  c107031.png  c233142.png  e000292.png  e122521.png\r\n",
            "a07014.png   a192520.png  c107033.png  c23314.png   e000453.png  e12252.png\r\n",
            "a070311.png  a192560.png  c107143.png  c233260.png  e000613.png  e122570.png\r\n",
            "a070313.png  a192561.png  c107362.png  c233373.png  e000640.png  e122630.png\r\n",
            "a070373.png  a192680.png  c107493.png  c23355.png   e00068.png\t e122680.png\r\n",
            "a070632.png  a19268.png   c107552.png  c233963.png  e000721.png  e123000.png\r\n",
            "a07072.png   a192760.png  c10776.png   c23402.png   e000740.png  e123241.png\r\n",
            "a070793.png  a19298.png   c108171.png  c234080.png  e00082.png\t e12361.png\r\n",
            "a07079.png   a19300.png   c10840.png   c234082.png  e000872.png  e12362.png\r\n",
            "a071172.png  a19302.png   c108873.png  c234160.png  e000873.png  e12364.png\r\n",
            "a07117.png   a19324.png   c108973.png  c234630.png  e000910.png  e12373.png\r\n",
            "a07129.png   a194161.png  c109192.png  c23464.png   e000912.png  e123831.png\r\n",
            "a071341.png  a194311.png  c10922.png   c234941.png  e00099.png\t e123852.png\r\n",
            "a071362.png  a19459.png   c109301.png  c234943.png  e00136.png\t e124120.png\r\n",
            "a071363.png  a194851.png  c109522.png  c235351.png  e001420.png  e124121.png\r\n",
            "a071440.png  a194950.png  c109671.png  c235581.png  e001903.png  e124190.png\r\n",
            "a07144.png   a195160.png  c109782.png  c235582.png  e00204.png\t e124302.png\r\n",
            "a071612.png  a195210.png  c109783.png  c235820.png  e00210.png\t e12460.png\r\n",
            "a071613.png  a195312.png  c10998.png   c23626.png   e002370.png  e124630.png\r\n",
            "a071723.png  a195870.png  c110051.png  c236450.png  e00287.png\t e124631.png\r\n",
            "a071782.png  a196080.png  c110701.png  c236451.png  e00289.png\t e124683.png\r\n",
            "a07185.png   a196113.png  c110972.png  c23645.png   e004110.png  e124720.png\r\n",
            "a072193.png  a19625.png   c111212.png  c236733.png  e004270.png  e12472.png\r\n",
            "a072213.png  a196502.png  c11121.png   c236761.png  e004272.png  e124732.png\r\n",
            "a072260.png  a196681.png  c111480.png  c23676.png   e004291.png  e12476.png\r\n",
            "a072380.png  b000001.png  c111481.png  c23678.png   e00429.png\t e124793.png\r\n",
            "a07257.png   b00023.png   c111543.png  c236830.png  e004311.png  e125113.png\r\n",
            "a072640.png  b000393.png  c11154.png   c236971.png  e004320.png  e12511.png\r\n",
            "a072651.png  b000540.png  c11158.png   c236972.png  e004322.png  e125343.png\r\n",
            "a07271.png   b000542.png  c111600.png  c237101.png  e004380.png  e125391.png\r\n",
            "a07277.png   b000590.png  c111653.png  c23718.png   e00476.png\t e125642.png\r\n",
            "a07301.png   b000593.png  c11166.png   c237220.png  e00479.png\t e12573.png\r\n",
            "a073050.png  b000660.png  c111921.png  c237441.png  e005132.png  e125923.png\r\n",
            "a07309.png   b000663.png  c111933.png  c237443.png  e005290.png  e12603.png\r\n",
            "a073233.png  b000821.png  c112402.png  c237620.png  e005452.png  e126040.png\r\n",
            "a073293.png  b000951.png  c11240.png   c237621.png  e00545.png\t e126081.png\r\n",
            "a073381.png  b001173.png  c11272.png   c237622.png  e00550.png\t e12626.png\r\n",
            "a073480.png  b001342.png  c112900.png  c238010.png  e005543.png  e126572.png\r\n",
            "a073570.png  b001420.png  c113112.png  c238013.png  e005562.png  e126631.png\r\n",
            "a073652.png  b001423.png  c11313.png   c238070.png  e00556.png\t e126632.png\r\n",
            "a073712.png  b001921.png  c113220.png  c23807.png   e005640.png  e126640.png\r\n",
            "a073740.png  b00219.png   c113621.png  c23868.png   e005653.png  e126653.png\r\n",
            "a073852.png  b002380.png  c11362.png   c238940.png  e00600.png\t e12681.png\r\n",
            "a07385.png   b002382.png  c113871.png  c238943.png  e006342.png  e127072.png\r\n",
            "a07390.png   b002432.png  c114010.png  c23918.png   e006343.png  e12733.png\r\n",
            "a07394.png   b00247.png   c114251.png  c23951.png   e006671.png  e127341.png\r\n",
            "a074010.png  b002481.png  c11441.png   c23967.png   e006672.png  e127372.png\r\n",
            "a074190.png  b00250.png   c114443.png  c240002.png  e00729.png\t e127663.png\r\n",
            "a074312.png  b002583.png  c115051.png  c24042.png   e007310.png  e127700.png\r\n",
            "a07448.png   b002603.png  c115183.png  c240450.png  e007442.png  e127701.png\r\n",
            "a074520.png  b002701.png  c11518.png   c240761.png  e00817.png\t e127931.png\r\n",
            "a074521.png  b002710.png  c115233.png  c240763.png  e008432.png  e12793.png\r\n",
            "a07452.png   b003353.png  c115243.png  c24120.png   e008542.png  e12799.png\r\n",
            "a074853.png  c000101.png  c115250.png  c241401.png  e008550.png  e128141.png\r\n",
            "a074962.png  c000102.png  c115713.png  c241422.png  e00865.png\t e12814.png\r\n",
            "a075111.png  c000201.png  c11576.png   c242131.png  e00875.png\t e128181.png\r\n",
            "a075290.png  c000203.png  c116162.png  c242132.png  e008950.png  e128260.png\r\n",
            "a075353.png  c000392.png  c116440.png  c242191.png  e008951.png  e12836.png\r\n",
            "a075622.png  c00039.png   c117260.png  c242402.png  e009023.png  e12856.png\r\n",
            "a075872.png  c00047.png   c117341.png  c242732.png  e009171.png  e128622.png\r\n",
            "a07589.png   c00051.png   c117463.png  c24276.png   e009172.png  e12865.png\r\n",
            "a075913.png  c000572.png  c117480.png  d000061.png  e009492.png  e128722.png\r\n",
            "a076150.png  c000670.png  c117521.png  d00006.png   e009493.png  e128723.png\r\n",
            "a07621.png   c00067.png   c117523.png  d00007.png   e009691.png  e12879.png\r\n",
            "a07632.png   c000972.png  c117693.png  d00012.png   e009701.png  e128842.png\r\n",
            "a076421.png  c00101.png   c117961.png  d000303.png  e009930.png  e129371.png\r\n",
            "a076440.png  c001131.png  c118092.png  d000350.png  e009961.png  e129841.png\r\n",
            "a076470.png  c00185.png   c118210.png  d000500.png  e010103.png  e13016.png\r\n",
            "a076471.png  c00188.png   c118250.png  d000580.png  e010450.png  e130172.png\r\n",
            "a07659.png   c00190.png   c118612.png  d00088.png   e01047.png\t e130231.png\r\n",
            "a07661.png   c002091.png  c11861.png   d00098.png   e01051.png\t e13023.png\r\n",
            "a076850.png  c002093.png  c118921.png  d000991.png  e01054.png\t e130381.png\r\n",
            "a07737.png   c00239.png   c119091.png  d000993.png  e010580.png  e130382.png\r\n",
            "a07761.png   c002572.png  c11909.png   d00099.png   e010581.png  e131001.png\r\n",
            "a077891.png  c002771.png  c119103.png  d001381.png  e010623.png  e13102.png\r\n",
            "a077971.png  c002772.png  c11910.png   d001850.png  e010980.png  e131033.png\r\n",
            "a07797.png   c002773.png  c119161.png  d001871.png  e011413.png  e131540.png\r\n",
            "a07800.png   c00292.png   c11928.png   d001873.png  e01163.png\t e131542.png\r\n",
            "a07817.png   c003040.png  c119390.png  d00187.png   e01171.png\t e131821.png\r\n",
            "a07822.png   c003043.png  c119473.png  d002012.png  e01180.png\t e131822.png\r\n",
            "a078261.png  c003133.png  c119761.png  d00202.png   e011861.png  e13182.png\r\n",
            "a078341.png  c003162.png  c11976.png   d002333.png  e011882.png  e131842.png\r\n",
            "a078343.png  c003531.png  c119940.png  d00233.png   e01207.png\t e131863.png\r\n",
            "a07858.png   c003640.png  c120083.png  d002350.png  e012101.png  e132391.png\r\n",
            "a07863.png   c004351.png  c12012.png   d002662.png  e012130.png  e132393.png\r\n",
            "a07869.png   c00435.png   c120251.png  d003030.png  e012312.png  e132401.png\r\n",
            "a07903.png   c00500.png   c120291.png  d00335.png   e01234.png\t e132411.png\r\n",
            "a079091.png  c005050.png  c120323.png  d003411.png  e012450.png  e13278.png\r\n",
            "a079252.png  c005090.png  c12050.png   d003511.png  e012592.png  e133631.png\r\n",
            "a07925.png   c005150.png  c120643.png  d00351.png   e012763.png  e133880.png\r\n",
            "a079331.png  c005271.png  c120761.png  d003612.png  e013251.png  e133930.png\r\n",
            "a079360.png  c005361.png  c120762.png  d003613.png  e01325.png\t e133933.png\r\n",
            "a079461.png  c005550.png  c12076.png   d00361.png   e013270.png  e13393.png\r\n",
            "a079512.png  c005553.png  c12083.png   d004653.png  e013330.png  e134041.png\r\n",
            "a07962.png   c005731.png  c120943.png  d004661.png  e014040.png  e134150.png\r\n",
            "a079680.png  c005733.png  c120970.png  d00466.png   e014090.png  e134152.png\r\n",
            "a079840.png  c006291.png  c120990.png  d004882.png  e014222.png  e134483.png\r\n",
            "a080240.png  c006412.png  c121340.png  d005032.png  e01432.png\t e13453.png\r\n",
            "a080603.png  c006661.png  c121441.png  d005172.png  e014441.png  e13473.png\r\n",
            "a080610.png  c00700.png   c121613.png  d005452.png  e014851.png  e134920.png\r\n",
            "a080613.png  c007323.png  c121692.png  d005453.png  e014852.png  e135251.png\r\n",
            "a080650.png  c007432.png  c12169.png   d006030.png  e014953.png  e135290.png\r\n",
            "a081473.png  c00763.png   c121893.png  d006031.png  e01502.png\t e135291.png\r\n",
            "a08202.png   c008200.png  c12189.png   d006393.png  e015181.png  e135293.png\r\n",
            "a08205.png   c008220.png  c122290.png  d007443.png  e015182.png  e135553.png\r\n",
            "a082060.png  c00825.png   c122292.png  d00757.png   e015402.png  e13599.png\r\n",
            "a082073.png  c008560.png  c12229.png   d00777.png   e015491.png  e136083.png\r\n",
            "a08229.png   c008640.png  c122360.png  d00808.png   e015530.png  e136371.png\r\n",
            "a082651.png  c008642.png  c122361.png  d008240.png  e01553.png\t e136472.png\r\n",
            "a08266.png   c008741.png  c122363.png  d008242.png  e01585.png\t e13692.png\r\n",
            "a082822.png  c008743.png  c12279.png   d008252.png  e016091.png  e136930.png\r\n",
            "a082823.png  c008801.png  c12282.png   d008310.png  e016120.png  e136932.png\r\n",
            "a082862.png  c009172.png  c123123.png  d00831.png   e016123.png  e136962.png\r\n",
            "a082891.png  c009251.png  c12350.png   d008340.png  e01614.png\t e137010.png\r\n",
            "a082892.png  c009491.png  c12357.png   d008343.png  e016280.png  e137012.png\r\n",
            "a08289.png   c009833.png  c123922.png  d008473.png  e01630.png\t e137250.png\r\n",
            "a083361.png  c009991.png  c124143.png  d00847.png   e016471.png  e13740.png\r\n",
            "a083631.png  c009992.png  c124250.png  d008613.png  e016472.png  e137631.png\r\n",
            "a083910.png  c01012.png   c124531.png  d008620.png  e016543.png  e13769.png\r\n",
            "a083912.png  c010222.png  c124651.png  d008621.png  e01697.png\t e137730.png\r\n",
            "a084441.png  c010240.png  c124653.png  d008700.png  e017280.png  e13773.png\r\n",
            "a08450.png   c010242.png  c124663.png  d00870.png   e017281.png  e137910.png\r\n",
            "a084510.png  c01025.png   c12492.png   d00871.png   e017282.png  e137913.png\r\n",
            "a084512.png  c010562.png  c125500.png  d008903.png  e017341.png  e137942.png\r\n",
            "a084513.png  c010621.png  c12550.png   d009031.png  e017420.png  e137971.png\r\n",
            "a08451.png   c01079.png   c12555.png   d009033.png  e017990.png  e137973.png\r\n",
            "a084521.png  c01085.png   c125581.png  d009073.png  e018160.png  e137993.png\r\n",
            "a084522.png  c011511.png  c125613.png  d009171.png  e01816.png\t e13834.png\r\n",
            "a084543.png  c011540.png  c125760.png  d009172.png  e01831.png\t e13835.png\r\n",
            "a08470.png   c011541.png  c125762.png  d009441.png  e018440.png  e138463.png\r\n",
            "a085023.png  c011543.png  c125882.png  d009500.png  e01844.png\t e138973.png\r\n",
            "a08508.png   c01154.png   c126011.png  d009571.png  e018472.png  e13929.png\r\n",
            "a085172.png  c01158.png   c126170.png  d009572.png  e01847.png\t e139300.png\r\n",
            "a085682.png  c011591.png  c12617.png   d009680.png  e01857.png\t e139591.png\r\n",
            "a085921.png  c01159.png   c126283.png  d00968.png   e01884.png\t e139593.png\r\n",
            "a086141.png  c011910.png  c126362.png  d009982.png  e018871.png  e139633.png\r\n",
            "a08630.png   c011912.png  c126363.png  d010163.png  e018883.png  e139641.png\r\n",
            "a086472.png  c011920.png  c12638.png   d010260.png  e01899.png\t e139910.png\r\n",
            "a086513.png  c01205.png   c126552.png  d010263.png  e019402.png  e139911.png\r\n",
            "a086842.png  c012082.png  c126612.png  d01032.png   e019611.png  e13996.png\r\n",
            "a086850.png  c01266.png   c126652.png  d010493.png  e01962.png\t e140211.png\r\n",
            "a086852.png  c012733.png  c126702.png  d010580.png  e019710.png  e140613.png\r\n",
            "a087010.png  c013450.png  c12670.png   d010583.png  e01972.png\t e140690.png\r\n",
            "a087013.png  c01345.png   c126742.png  d010761.png  e01978.png\t e140691.png\r\n",
            "a087160.png  c013492.png  c12675.png   d01076.png   e020043.png  e14080.png\r\n",
            "a087370.png  c013493.png  c127241.png  d010822.png  e02004.png\t e141162.png\r\n",
            "a087373.png  c014252.png  c127371.png  d010823.png  e02028.png\t e141342.png\r\n",
            "a08763.png   c01433.png   c12737.png   d011050.png  e020541.png  e14144.png\r\n",
            "a08780.png   c014412.png  c128501.png  d011362.png  e020920.png  e141820.png\r\n",
            "a088193.png  c01442.png   c128780.png  d01147.png   e021040.png  e14199.png\r\n",
            "a088212.png  c014492.png  c128781.png  d011583.png  e021821.png  e14204.png\r\n",
            "a088610.png  c01449.png   c128821.png  d01158.png   e021822.png  e142320.png\r\n",
            "a088613.png  c014661.png  c128932.png  d011631.png  e02182.png\t e14244.png\r\n",
            "a089472.png  c01509.png   c129062.png  d01163.png   e02212.png\t e142660.png\r\n",
            "a089630.png  c015430.png  c12906.png   d01214.png   e02214.png\t e142692.png\r\n",
            "a08964.png   c015450.png  c12919.png   d012152.png  e02221.png\t e143112.png\r\n",
            "a089740.png  c015453.png  c129240.png  d012153.png  e022443.png  e14320.png\r\n",
            "a089743.png  c01545.png   c129242.png  d012303.png  e022472.png  e143223.png\r\n",
            "a089813.png  c015541.png  c12945.png   d012310.png  e022560.png  e14322.png\r\n",
            "a089830.png  c015572.png  c130181.png  d012313.png  e02289.png\t e143391.png\r\n",
            "a08983.png   c01566.png   c130313.png  d01252.png   e023200.png  e143450.png\r\n",
            "a089862.png  c015821.png  c13047.png   d012580.png  e023202.png  e143743.png\r\n",
            "a08986.png   c015822.png  c130713.png  d012661.png  e023350.png  e143820.png\r\n",
            "a08987.png   c015971.png  c131001.png  d012800.png  e023351.png  e144053.png\r\n",
            "a09014.png   c015973.png  c131021.png  d012831.png  e023353.png  e14437.png\r\n",
            "a090212.png  c016123.png  c131022.png  d012990.png  e02338.png\t e144382.png\r\n",
            "a09024.png   c016420.png  c131241.png  d013092.png  e023790.png  e144821.png\r\n",
            "a09032.png   c016810.png  c13124.png   d01309.png   e02379.png\t e14482.png\r\n",
            "a090371.png  c017130.png  c131291.png  d013150.png  e024111.png  e14489.png\r\n",
            "a090372.png  c017171.png  c131633.png  d013460.png  e02458.png\t e145232.png\r\n",
            "a090602.png  c017332.png  c131842.png  d01362.png   e024602.png  e14556.png\r\n",
            "a09060.png   c017452.png  c13184.png   d01363.png   e024673.png  e14573.png\r\n",
            "a09100.png   c017453.png  c132283.png  d014103.png  e024770.png  e14616.png\r\n",
            "a091030.png  c017560.png  c132840.png  d01455.png   e024893.png  e146183.png\r\n",
            "a091032.png  c017741.png  c132843.png  d014663.png  e02561.png\t e146222.png\r\n",
            "a091052.png  c017781.png  c133183.png  d014683.png  e025811.png  e146223.png\r\n",
            "a091053.png  c017782.png  c133193.png  d015013.png  e025900.png  e14633.png\r\n",
            "a09105.png   c017790.png  c13319.png   d015051.png  e02593.png\t e14658.png\r\n",
            "a091102.png  c01784.png   c133531.png  d015182.png  e026100.png  e146661.png\r\n",
            "a091192.png  c01807.png   c133533.png  d015230.png  e026101.png  e14674.png\r\n",
            "a09142.png   c018152.png  c133903.png  d015232.png  e02614.png\t e146762.png\r\n",
            "a091773.png  c018170.png  c134070.png  d015411.png  e026191.png  e14689.png\r\n",
            "a092103.png  c018171.png  c134121.png  d015570.png  e026311.png  e147011.png\r\n",
            "a09240.png   c01817.png   c134160.png  d015572.png  e026560.png  e147190.png\r\n",
            "a092580.png  c018240.png  c134163.png  d01558.png   e026561.png  e147191.png\r\n",
            "a092582.png  c018243.png  c13421.png   d01611.png   e026621.png  e147462.png\r\n",
            "a09273.png   c019280.png  c134481.png  d01666.png   e026622.png  e147840.png\r\n",
            "a092843.png  c019283.png  c13453.png   d01669.png   e026711.png  e147841.png\r\n",
            "a092852.png  c019683.png  c134763.png  d016713.png  e02704.png\t e147910.png\r\n",
            "a09307.png   c019720.png  c134771.png  d016861.png  e027062.png  e147911.png\r\n",
            "a093781.png  c019723.png  c134772.png  d016873.png  e02709.png\t e147941.png\r\n",
            "a093782.png  c020031.png  c134791.png  d017111.png  e027363.png  e148020.png\r\n",
            "a093783.png  c020350.png  c134851.png  d017193.png  e02736.png\t e14802.png\r\n",
            "a094181.png  c02040.png   c134852.png  d01735.png   e027840.png  e14833.png\r\n",
            "a09427.png   c020513.png  c13553.png   d017382.png  e02788.png\t e148642.png\r\n",
            "a094520.png  c020522.png  c136971.png  d017483.png  e028531.png  e148660.png\r\n",
            "a094920.png  c02054.png   c13697.png   d017650.png  e028553.png  e14873.png\r\n",
            "a094921.png  c02088.png   c137033.png  d017712.png  e02859.png\t e148771.png\r\n",
            "a095052.png  c02112.png   c13703.png   d017802.png  e028791.png  e148773.png\r\n",
            "a095053.png  c021522.png  c137052.png  d01780.png   e02879.png\t e148933.png\r\n",
            "a095062.png  c021640.png  c137392.png  d017960.png  e02944.png\t e14893.png\r\n",
            "a095151.png  c02164.png   c137830.png  d018023.png  e029702.png  e14949.png\r\n",
            "a09515.png   c02205.png   c137932.png  d018070.png  e029840.png  e14960.png\r\n",
            "a09522.png   c022073.png  c137933.png  d01820.png   e030153.png  e149720.png\r\n",
            "a095441.png  c022081.png  c13793.png   d018442.png  e03027.png\t e150193.png\r\n",
            "a09544.png   c022083.png  c13798.png   d01846.png   e030382.png  e150312.png\r\n",
            "a095492.png  c022200.png  c138162.png  d01849.png   e030383.png  e15039.png\r\n",
            "a09606.png   c022350.png  c138442.png  d018871.png  e030700.png  e150452.png\r\n",
            "a096363.png  c022352.png  c138501.png  d01890.png   e030701.png  e150453.png\r\n",
            "a096390.png  c022611.png  c13850.png   d01945.png   e030703.png  e15073.png\r\n",
            "a096483.png  c022640.png  c139131.png  d019511.png  e031091.png  e15076.png\r\n",
            "a09656.png   c022642.png  c139183.png  d019602.png  e031261.png  e150823.png\r\n",
            "a096582.png  c02274.png   c13926.png   d020093.png  e031262.png  e150942.png\r\n",
            "a096662.png  c022760.png  c139431.png  d020102.png  e031323.png  e150971.png\r\n",
            "a096663.png  c022763.png  c139781.png  d02029.png   e031362.png  e15097.png\r\n",
            "a096892.png  c022802.png  c140283.png  d020483.png  e031393.png  e151111.png\r\n",
            "a096921.png  c02280.png   c140663.png  d020543.png  e031403.png  e151123.png\r\n",
            "a09696.png   c023211.png  c14072.png   d02054.png   e031552.png  e15118.png\r\n",
            "a09711.png   c02348.png   c140801.png  d020681.png  e031761.png  e151513.png\r\n",
            "a097142.png  c02355.png   c140803.png  d020683.png  e031852.png  e151853.png\r\n",
            "a097143.png  c024182.png  c14080.png   d020751.png  e032191.png  e15188.png\r\n",
            "a097212.png  c024252.png  c141923.png  d021003.png  e032193.png  e15193.png\r\n",
            "a09724.png   c02435.png   c141951.png  d021311.png  e032553.png  e15224.png\r\n",
            "a097332.png  c024381.png  c142021.png  d021470.png  e03272.png\t e152581.png\r\n",
            "a097400.png  c02452.png   c142112.png  d021511.png  e033032.png  e15258.png\r\n",
            "a097403.png  c024531.png  c142143.png  d02151.png   e03333.png\t e152793.png\r\n",
            "a097493.png  c024751.png  c142761.png  d021580.png  e033540.png  e152900.png\r\n",
            "a097732.png  c024790.png  c14281.png   d02169.png   e03354.png\t e153102.png\r\n",
            "a098022.png  c024792.png  c143230.png  d021880.png  e034370.png  e153360.png\r\n",
            "a09847.png   c02479.png   c14323.png   d021883.png  e034371.png  e153372.png\r\n",
            "a098751.png  c02491.png   c143330.png  d021911.png  e034603.png  e154011.png\r\n",
            "a09911.png   c025151.png  c143393.png  d021913.png  e03460.png\t e154012.png\r\n",
            "a099420.png  c025283.png  c143510.png  d02191.png   e034661.png  e15401.png\r\n",
            "a09949.png   c025441.png  c14356.png   d022172.png  e03466.png\t e154290.png\r\n",
            "a100012.png  c02549.png   c143780.png  d022763.png  e035080.png  e154632.png\r\n",
            "a100181.png  c025560.png  c143782.png  d022791.png  e035271.png  e15463.png\r\n",
            "a100412.png  c025580.png  c14409.png   d022862.png  e035272.png  e15512.png\r\n",
            "a10067.png   c025790.png  c144143.png  d02290.png   e035503.png  e155652.png\r\n",
            "a100772.png  c025792.png  c14414.png   d023182.png  e03551.png\t e155852.png\r\n",
            "a100773.png  c02584.png   c144511.png  d02322.png   e035633.png  e155921.png\r\n",
            "a100980.png  c026021.png  c14451.png   d023302.png  e03563.png\t e155961.png\r\n",
            "a100983.png  c02624.png   c144671.png  d02333.png   e035732.png  e156403.png\r\n",
            "a10113.png   c026280.png  c144853.png  d023842.png  e036592.png  e156450.png\r\n",
            "a101211.png  c026283.png  c144863.png  d023940.png  e03695.png\t e156510.png\r\n",
            "a101903.png  c026300.png  c14519.png   d023942.png  e037123.png  e15652.png\r\n",
            "a102281.png  c026302.png  c145252.png  d023972.png  e037131.png  e156630.png\r\n",
            "a102372.png  c026430.png  c145421.png  d024121.png  e03743.png\t e156632.png\r\n",
            "a102762.png  c026473.png  c14556.png   d024190.png  e037573.png  e15663.png\r\n",
            "a102792.png  c02654.png   c145622.png  d02434.png   e03757.png\t e15686.png\r\n",
            "a10282.png   c026670.png  c14596.png   d02446.png   e037660.png  e157290.png\r\n",
            "a102950.png  c026792.png  c14608.png   d02462.png   e038052.png  e15729.png\r\n",
            "a102951.png  c02679.png   c146141.png  d02476.png   e038480.png  e157322.png\r\n",
            "a10295.png   c027361.png  c146142.png  d025070.png  e038810.png  e157690.png\r\n",
            "a103003.png  c027363.png  c146313.png  d025080.png  e038812.png  e15769.png\r\n",
            "a103010.png  c02736.png   c146352.png  d025122.png  e03888.png\t e157743.png\r\n",
            "a103013.png  c027670.png  c146832.png  d02512.png   e039103.png  e158170.png\r\n",
            "a10322.png   c02767.png   c146833.png  d025310.png  e039141.png  e15830.png\r\n",
            "a10364.png   c027731.png  c146893.png  d025312.png  e039212.png  e15831.png\r\n",
            "a10367.png   c02776.png   c14723.png   d025523.png  e039280.png  e15851.png\r\n",
            "a10371.png   c027801.png  c147343.png  d025872.png  e039282.png  e158712.png\r\n",
            "a10381.png   c028232.png  c147350.png  d025873.png  e039301.png  e158831.png\r\n",
            "a103911.png  c02823.png   c14749.png   d025992.png  e03930.png\t e159251.png\r\n",
            "a103991.png  c02829.png   c147502.png  d026020.png  e039340.png  e159252.png\r\n",
            "a103992.png  c02839.png   c147581.png  d026022.png  e039472.png  e15925.png\r\n",
            "a103993.png  c02844.png   c147593.png  d026050.png  e03947.png\t e159303.png\r\n",
            "a10411.png   c02866.png   c147610.png  d026222.png  e03990.png\t e159363.png\r\n",
            "a10413.png   c028770.png  c147851.png  d026393.png  e039991.png  e15953.png\r\n",
            "a10429.png   c029120.png  c148083.png  d026590.png  e04025.png\t e159773.png\r\n",
            "a104402.png  c029172.png  c148170.png  d026591.png  e040273.png  e15995.png\r\n",
            "a10449.png   c029201.png  c148501.png  d02659.png   e040391.png  e160021.png\r\n",
            "a104611.png  c029203.png  c14850.png   d02698.png   e040583.png  e160162.png\r\n",
            "a10474.png   c02920.png   c148562.png  d027541.png  e04085.png\t e160163.png\r\n",
            "a105060.png  c029571.png  c14875.png   d02763.png   e04094.png\t e160312.png\r\n",
            "a105143.png  c029573.png  c149262.png  d02797.png   e04137.png\t e16031.png\r\n",
            "a105712.png  c02963.png   c149342.png  d028702.png  e041402.png  e160390.png\r\n",
            "a105832.png  c029693.png  c149700.png  d028703.png  e041782.png  e160900.png\r\n",
            "a10583.png   c02969.png   c149790.png  d029002.png  e04180.png\t e160901.png\r\n",
            "a106000.png  c029891.png  c150102.png  d029382.png  e04193.png\t e16114.png\r\n",
            "a106020.png  c030250.png  c150293.png  d030750.png  e042001.png  e16120.png\r\n",
            "a106053.png  c031080.png  c15046.png   d030871.png  e042160.png  e16145.png\r\n",
            "a106362.png  c03108.png   c150821.png  d031160.png  e042300.png  e161841.png\r\n",
            "a106683.png  c031131.png  c150882.png  d031561.png  e042391.png  e161843.png\r\n",
            "a10668.png   c031371.png  c151463.png  d031691.png  e042640.png  e163070.png\r\n",
            "a106792.png  c031531.png  c151511.png  d031712.png  e04264.png\t e163080.png\r\n",
            "a10717.png   c031610.png  c151512.png  d031713.png  e042673.png  e163201.png\r\n",
            "a107473.png  c031663.png  c151610.png  d031783.png  e04274.png\t e16320.png\r\n",
            "a107513.png  c03167.png   c151961.png  d031853.png  e042760.png  e163320.png\r\n",
            "a107663.png  c032180.png  c152101.png  d032022.png  e042790.png  e16345.png\r\n",
            "a10766.png   c032503.png  c152543.png  d032220.png  e042793.png  e163730.png\r\n",
            "a10833.png   c03256.png   c15259.png   d032572.png  e04372.png\t e16380.png\r\n",
            "a108843.png  c032620.png  c152642.png  d032621.png  e043752.png  e163973.png\r\n",
            "a109001.png  c03262.png   c152881.png  d032641.png  e044032.png  e16397.png\r\n",
            "a109003.png  c032781.png  c152990.png  d032820.png  e04406.png\t e16437.png\r\n",
            "a109143.png  c03283.png   c15313.png   d032900.png  e04409.png\t e164831.png\r\n",
            "a109393.png  c033253.png  c15315.png   d033222.png  e044250.png  e164851.png\r\n",
            "a109461.png  c033371.png  c15319.png   d033280.png  e044251.png  e16501.png\r\n",
            "a109721.png  c033373.png  c153512.png  d033282.png  e044253.png  e165382.png\r\n",
            "a109920.png  c033512.png  c153900.png  d033391.png  e04434.png\t e16538.png\r\n",
            "a10992.png   c033560.png  c153932.png  d033471.png  e044672.png  e165500.png\r\n",
            "a110613.png  c033743.png  c154111.png  d03379.png   e04492.png\t e165501.png\r\n",
            "a110830.png  c033811.png  c15411.png   d033861.png  e045061.png  e16550.png\r\n",
            "a110893.png  c033822.png  c154391.png  d033942.png  e04506.png\t e16559.png\r\n",
            "a111121.png  c033950.png  c154392.png  d034213.png  e045303.png  e16571.png\r\n",
            "a111123.png  c03414.png   c155233.png  d034671.png  e045380.png  e166063.png\r\n",
            "a11121.png   c034211.png  c155593.png  d034672.png  e04558.png\t e166273.png\r\n",
            "a11131.png   c034212.png  c155941.png  d03467.png   e045630.png  e166351.png\r\n",
            "a112583.png  c034230.png  c155943.png  d03481.png   e045631.png  e166413.png\r\n",
            "a11258.png   c034233.png  c156151.png  d034922.png  e045810.png  e166850.png\r\n",
            "a112673.png  c03451.png   c15630.png   d035193.png  e045813.png  e166851.png\r\n",
            "a112760.png  c034760.png  c156520.png  d035401.png  e046393.png  e167043.png\r\n",
            "a112762.png  c034853.png  c156713.png  d035431.png  e04642.png\t e167063.png\r\n",
            "a112763.png  c035100.png  c156782.png  d035442.png  e046513.png  e167343.png\r\n",
            "a11276.png   c035222.png  c15710.png   d035610.png  e04664.png\t e167511.png\r\n",
            "a113243.png  c035302.png  c157571.png  d036022.png  e046720.png  e167591.png\r\n",
            "a113960.png  c03530.png   c157711.png  d036023.png  e04672.png\r\n"
          ],
          "name": "stdout"
        }
      ]
    },
    {
      "metadata": {
        "id": "Klv50V1Dsq3Q",
        "colab_type": "text"
      },
      "cell_type": "markdown",
      "source": [
        "### fast ai"
      ]
    },
    {
      "metadata": {
        "id": "SFVxrju420WL",
        "colab_type": "code",
        "colab": {
          "autoexec": {
            "startup": false,
            "wait_interval": 0
          }
        }
      },
      "cell_type": "code",
      "source": [
        "# Put these at the top of every notebook, to get automatic reloading and inline plotting\n",
        "%reload_ext autoreload\n",
        "%autoreload 2\n",
        "%matplotlib inline"
      ],
      "execution_count": 0,
      "outputs": []
    },
    {
      "metadata": {
        "id": "P6mxzPH13qoK",
        "colab_type": "code",
        "colab": {
          "autoexec": {
            "startup": false,
            "wait_interval": 0
          }
        }
      },
      "cell_type": "code",
      "source": [
        "# This file contains all the main external libs we'll use\n",
        "from fastai.imports import *"
      ],
      "execution_count": 0,
      "outputs": []
    },
    {
      "metadata": {
        "id": "SKrMgVn83swi",
        "colab_type": "code",
        "colab": {
          "autoexec": {
            "startup": false,
            "wait_interval": 0
          }
        }
      },
      "cell_type": "code",
      "source": [
        "from fastai.transforms import *\n",
        "from fastai.conv_learner import *\n",
        "from fastai.model import *\n",
        "from fastai.dataset import *\n",
        "from fastai.sgdr import *\n",
        "from fastai.plots import *"
      ],
      "execution_count": 0,
      "outputs": []
    },
    {
      "metadata": {
        "id": "nDPulGG45DlZ",
        "colab_type": "code",
        "colab": {
          "autoexec": {
            "startup": false,
            "wait_interval": 0
          }
        }
      },
      "cell_type": "code",
      "source": [
        "PATH = \"data/\"\n",
        "sz = 224\n",
        "bs = 64"
      ],
      "execution_count": 0,
      "outputs": []
    },
    {
      "metadata": {
        "id": "fnHwqs_wumdV",
        "colab_type": "text"
      },
      "cell_type": "markdown",
      "source": [
        "### Train"
      ]
    },
    {
      "metadata": {
        "id": "8vYBdv3N4juf",
        "colab_type": "code",
        "colab": {
          "autoexec": {
            "startup": false,
            "wait_interval": 0
          }
        }
      },
      "cell_type": "code",
      "source": [
        "arch = resnet34\n",
        "data = ImageClassifierData.from_paths(PATH, tfms=tfms_from_model(arch, sz), bs=bs)\n",
        "learn = ConvLearner.pretrained(arch, data, precompute=False)\n"
      ],
      "execution_count": 0,
      "outputs": []
    },
    {
      "metadata": {
        "id": "wkWZCl1KuevL",
        "colab_type": "code",
        "colab": {
          "autoexec": {
            "startup": false,
            "wait_interval": 0
          }
        }
      },
      "cell_type": "code",
      "source": [
        "learn.unfreeze()"
      ],
      "execution_count": 0,
      "outputs": []
    },
    {
      "metadata": {
        "id": "ErCUsk20pKej",
        "colab_type": "code",
        "colab": {
          "autoexec": {
            "startup": false,
            "wait_interval": 0
          }
        }
      },
      "cell_type": "code",
      "source": [
        "lr = 0.0095"
      ],
      "execution_count": 0,
      "outputs": []
    },
    {
      "metadata": {
        "id": "9jGChjiLpQlA",
        "colab_type": "code",
        "colab": {
          "autoexec": {
            "startup": false,
            "wait_interval": 0
          }
        }
      },
      "cell_type": "code",
      "source": [
        "lrs = [lr/9, lr/3, lr]"
      ],
      "execution_count": 0,
      "outputs": []
    },
    {
      "metadata": {
        "id": "BCMX9DaNuqFH",
        "colab_type": "code",
        "colab": {
          "autoexec": {
            "startup": false,
            "wait_interval": 0
          }
        }
      },
      "cell_type": "code",
      "source": [
        "epochs = 2"
      ],
      "execution_count": 0,
      "outputs": []
    },
    {
      "metadata": {
        "id": "DKZmB0VsXr7o",
        "colab_type": "code",
        "colab": {
          "autoexec": {
            "startup": false,
            "wait_interval": 0
          }
        }
      },
      "cell_type": "code",
      "source": [
        "learn.ps = 0.4"
      ],
      "execution_count": 0,
      "outputs": []
    },
    {
      "metadata": {
        "id": "EMxuDxLUy7fS",
        "colab_type": "code",
        "colab": {
          "autoexec": {
            "startup": false,
            "wait_interval": 0
          },
          "base_uri": "https://localhost:8080/",
          "height": 988
        },
        "outputId": "b5f06693-a915-430a-ed9c-17339442555a",
        "executionInfo": {
          "status": "error",
          "timestamp": 1530383707357,
          "user_tz": -360,
          "elapsed": 18641409,
          "user": {
            "displayName": "Elric Edward",
            "photoUrl": "https://lh3.googleusercontent.com/a/default-user=s128",
            "userId": "109771997992591656024"
          }
        }
      },
      "cell_type": "code",
      "source": [
        "for i in range(epochs):\n",
        "  value = learn.fit(lrs, 1)\n",
        "  learn.save(\"resnet34_rafid_model_aug7_sz224_\"+str(i))\n",
        "  \n",
        "  "
      ],
      "execution_count": 0,
      "outputs": [
        {
          "output_type": "display_data",
          "data": {
            "application/vnd.jupyter.widget-view+json": {
              "model_id": "c09d464d71f944bb81e09228a06aabe5",
              "version_minor": 0,
              "version_major": 2
            },
            "text/plain": [
              "HBox(children=(IntProgress(value=0, description='Epoch', max=1), HTML(value='')))"
            ]
          },
          "metadata": {
            "tags": []
          }
        },
        {
          "output_type": "stream",
          "text": [
            " 74%|███████▍  | 6316/8537 [5:10:35<1:49:13,  2.95s/it, loss=0.0716]"
          ],
          "name": "stdout"
        },
        {
          "output_type": "error",
          "ename": "KeyboardInterrupt",
          "evalue": "ignored",
          "traceback": [
            "\u001b[0;31m---------------------------------------------------------------------------\u001b[0m",
            "\u001b[0;31mKeyboardInterrupt\u001b[0m                         Traceback (most recent call last)",
            "\u001b[0;32m<ipython-input-57-d9e4406f7c03>\u001b[0m in \u001b[0;36m<module>\u001b[0;34m()\u001b[0m\n\u001b[1;32m      1\u001b[0m \u001b[0;32mfor\u001b[0m \u001b[0mi\u001b[0m \u001b[0;32min\u001b[0m \u001b[0mrange\u001b[0m\u001b[0;34m(\u001b[0m\u001b[0mepochs\u001b[0m\u001b[0;34m)\u001b[0m\u001b[0;34m:\u001b[0m\u001b[0;34m\u001b[0m\u001b[0m\n\u001b[0;32m----> 2\u001b[0;31m   \u001b[0mvalue\u001b[0m \u001b[0;34m=\u001b[0m \u001b[0mlearn\u001b[0m\u001b[0;34m.\u001b[0m\u001b[0mfit\u001b[0m\u001b[0;34m(\u001b[0m\u001b[0mlrs\u001b[0m\u001b[0;34m,\u001b[0m \u001b[0;36m1\u001b[0m\u001b[0;34m)\u001b[0m\u001b[0;34m\u001b[0m\u001b[0m\n\u001b[0m\u001b[1;32m      3\u001b[0m   \u001b[0mlearn\u001b[0m\u001b[0;34m.\u001b[0m\u001b[0msave\u001b[0m\u001b[0;34m(\u001b[0m\u001b[0;34m\"wrn_rafid_model_aug7_sz224_\"\u001b[0m\u001b[0;34m+\u001b[0m\u001b[0mstr\u001b[0m\u001b[0;34m(\u001b[0m\u001b[0mi\u001b[0m\u001b[0;34m)\u001b[0m\u001b[0;34m)\u001b[0m\u001b[0;34m\u001b[0m\u001b[0m\n\u001b[1;32m      4\u001b[0m   \u001b[0mfile_from\u001b[0m \u001b[0;34m=\u001b[0m \u001b[0;34m'data/models/wrn_rafid_model_aug7_sz224_'\u001b[0m\u001b[0;34m+\u001b[0m\u001b[0mstr\u001b[0m\u001b[0;34m(\u001b[0m\u001b[0mi\u001b[0m\u001b[0;34m)\u001b[0m\u001b[0;34m+\u001b[0m\u001b[0;34m'.h5'\u001b[0m    \u001b[0;31m# path in your pc\u001b[0m\u001b[0;34m\u001b[0m\u001b[0m\n\u001b[1;32m      5\u001b[0m   \u001b[0mfile_to\u001b[0m \u001b[0;34m=\u001b[0m \u001b[0;34m'/wrn_rafid_model_aug7_sz224_'\u001b[0m\u001b[0;34m+\u001b[0m\u001b[0mstr\u001b[0m\u001b[0;34m(\u001b[0m\u001b[0mi\u001b[0m\u001b[0;34m)\u001b[0m\u001b[0;34m+\u001b[0m\u001b[0;34m'.h5'\u001b[0m     \u001b[0;31m# path in your dropbox\u001b[0m\u001b[0;34m\u001b[0m\u001b[0m\n",
            "\u001b[0;32m/usr/local/lib/python3.6/dist-packages/fastai/learner.py\u001b[0m in \u001b[0;36mfit\u001b[0;34m(self, lrs, n_cycle, wds, **kwargs)\u001b[0m\n\u001b[1;32m    285\u001b[0m         \u001b[0mself\u001b[0m\u001b[0;34m.\u001b[0m\u001b[0msched\u001b[0m \u001b[0;34m=\u001b[0m \u001b[0;32mNone\u001b[0m\u001b[0;34m\u001b[0m\u001b[0m\n\u001b[1;32m    286\u001b[0m         \u001b[0mlayer_opt\u001b[0m \u001b[0;34m=\u001b[0m \u001b[0mself\u001b[0m\u001b[0;34m.\u001b[0m\u001b[0mget_layer_opt\u001b[0m\u001b[0;34m(\u001b[0m\u001b[0mlrs\u001b[0m\u001b[0;34m,\u001b[0m \u001b[0mwds\u001b[0m\u001b[0;34m)\u001b[0m\u001b[0;34m\u001b[0m\u001b[0m\n\u001b[0;32m--> 287\u001b[0;31m         \u001b[0;32mreturn\u001b[0m \u001b[0mself\u001b[0m\u001b[0;34m.\u001b[0m\u001b[0mfit_gen\u001b[0m\u001b[0;34m(\u001b[0m\u001b[0mself\u001b[0m\u001b[0;34m.\u001b[0m\u001b[0mmodel\u001b[0m\u001b[0;34m,\u001b[0m \u001b[0mself\u001b[0m\u001b[0;34m.\u001b[0m\u001b[0mdata\u001b[0m\u001b[0;34m,\u001b[0m \u001b[0mlayer_opt\u001b[0m\u001b[0;34m,\u001b[0m \u001b[0mn_cycle\u001b[0m\u001b[0;34m,\u001b[0m \u001b[0;34m**\u001b[0m\u001b[0mkwargs\u001b[0m\u001b[0;34m)\u001b[0m\u001b[0;34m\u001b[0m\u001b[0m\n\u001b[0m\u001b[1;32m    288\u001b[0m \u001b[0;34m\u001b[0m\u001b[0m\n\u001b[1;32m    289\u001b[0m     \u001b[0;32mdef\u001b[0m \u001b[0mwarm_up\u001b[0m\u001b[0;34m(\u001b[0m\u001b[0mself\u001b[0m\u001b[0;34m,\u001b[0m \u001b[0mlr\u001b[0m\u001b[0;34m,\u001b[0m \u001b[0mwds\u001b[0m\u001b[0;34m=\u001b[0m\u001b[0;32mNone\u001b[0m\u001b[0;34m)\u001b[0m\u001b[0;34m:\u001b[0m\u001b[0;34m\u001b[0m\u001b[0m\n",
            "\u001b[0;32m/usr/local/lib/python3.6/dist-packages/fastai/learner.py\u001b[0m in \u001b[0;36mfit_gen\u001b[0;34m(self, model, data, layer_opt, n_cycle, cycle_len, cycle_mult, cycle_save_name, best_save_name, use_clr, use_clr_beta, metrics, callbacks, use_wd_sched, norm_wds, wds_sched_mult, use_swa, swa_start, swa_eval_freq, **kwargs)\u001b[0m\n\u001b[1;32m    232\u001b[0m             \u001b[0mmetrics\u001b[0m\u001b[0;34m=\u001b[0m\u001b[0mmetrics\u001b[0m\u001b[0;34m,\u001b[0m \u001b[0mcallbacks\u001b[0m\u001b[0;34m=\u001b[0m\u001b[0mcallbacks\u001b[0m\u001b[0;34m,\u001b[0m \u001b[0mreg_fn\u001b[0m\u001b[0;34m=\u001b[0m\u001b[0mself\u001b[0m\u001b[0;34m.\u001b[0m\u001b[0mreg_fn\u001b[0m\u001b[0;34m,\u001b[0m \u001b[0mclip\u001b[0m\u001b[0;34m=\u001b[0m\u001b[0mself\u001b[0m\u001b[0;34m.\u001b[0m\u001b[0mclip\u001b[0m\u001b[0;34m,\u001b[0m \u001b[0mfp16\u001b[0m\u001b[0;34m=\u001b[0m\u001b[0mself\u001b[0m\u001b[0;34m.\u001b[0m\u001b[0mfp16\u001b[0m\u001b[0;34m,\u001b[0m\u001b[0;34m\u001b[0m\u001b[0m\n\u001b[1;32m    233\u001b[0m             \u001b[0mswa_model\u001b[0m\u001b[0;34m=\u001b[0m\u001b[0mself\u001b[0m\u001b[0;34m.\u001b[0m\u001b[0mswa_model\u001b[0m \u001b[0;32mif\u001b[0m \u001b[0muse_swa\u001b[0m \u001b[0;32melse\u001b[0m \u001b[0;32mNone\u001b[0m\u001b[0;34m,\u001b[0m \u001b[0mswa_start\u001b[0m\u001b[0;34m=\u001b[0m\u001b[0mswa_start\u001b[0m\u001b[0;34m,\u001b[0m\u001b[0;34m\u001b[0m\u001b[0m\n\u001b[0;32m--> 234\u001b[0;31m             swa_eval_freq=swa_eval_freq, **kwargs)\n\u001b[0m\u001b[1;32m    235\u001b[0m \u001b[0;34m\u001b[0m\u001b[0m\n\u001b[1;32m    236\u001b[0m     \u001b[0;32mdef\u001b[0m \u001b[0mget_layer_groups\u001b[0m\u001b[0;34m(\u001b[0m\u001b[0mself\u001b[0m\u001b[0;34m)\u001b[0m\u001b[0;34m:\u001b[0m \u001b[0;32mreturn\u001b[0m \u001b[0mself\u001b[0m\u001b[0;34m.\u001b[0m\u001b[0mmodels\u001b[0m\u001b[0;34m.\u001b[0m\u001b[0mget_layer_groups\u001b[0m\u001b[0;34m(\u001b[0m\u001b[0;34m)\u001b[0m\u001b[0;34m\u001b[0m\u001b[0m\n",
            "\u001b[0;32m/usr/local/lib/python3.6/dist-packages/fastai/model.py\u001b[0m in \u001b[0;36mfit\u001b[0;34m(model, data, n_epochs, opt, crit, metrics, callbacks, stepper, swa_model, swa_start, swa_eval_freq, **kwargs)\u001b[0m\n\u001b[1;32m    127\u001b[0m             \u001b[0mbatch_num\u001b[0m \u001b[0;34m+=\u001b[0m \u001b[0;36m1\u001b[0m\u001b[0;34m\u001b[0m\u001b[0m\n\u001b[1;32m    128\u001b[0m             \u001b[0;32mfor\u001b[0m \u001b[0mcb\u001b[0m \u001b[0;32min\u001b[0m \u001b[0mcallbacks\u001b[0m\u001b[0;34m:\u001b[0m \u001b[0mcb\u001b[0m\u001b[0;34m.\u001b[0m\u001b[0mon_batch_begin\u001b[0m\u001b[0;34m(\u001b[0m\u001b[0;34m)\u001b[0m\u001b[0;34m\u001b[0m\u001b[0m\n\u001b[0;32m--> 129\u001b[0;31m             \u001b[0mloss\u001b[0m \u001b[0;34m=\u001b[0m \u001b[0mmodel_stepper\u001b[0m\u001b[0;34m.\u001b[0m\u001b[0mstep\u001b[0m\u001b[0;34m(\u001b[0m\u001b[0mV\u001b[0m\u001b[0;34m(\u001b[0m\u001b[0mx\u001b[0m\u001b[0;34m)\u001b[0m\u001b[0;34m,\u001b[0m\u001b[0mV\u001b[0m\u001b[0;34m(\u001b[0m\u001b[0my\u001b[0m\u001b[0;34m)\u001b[0m\u001b[0;34m,\u001b[0m \u001b[0mepoch\u001b[0m\u001b[0;34m)\u001b[0m\u001b[0;34m\u001b[0m\u001b[0m\n\u001b[0m\u001b[1;32m    130\u001b[0m             \u001b[0mavg_loss\u001b[0m \u001b[0;34m=\u001b[0m \u001b[0mavg_loss\u001b[0m \u001b[0;34m*\u001b[0m \u001b[0mavg_mom\u001b[0m \u001b[0;34m+\u001b[0m \u001b[0mloss\u001b[0m \u001b[0;34m*\u001b[0m \u001b[0;34m(\u001b[0m\u001b[0;36m1\u001b[0m\u001b[0;34m-\u001b[0m\u001b[0mavg_mom\u001b[0m\u001b[0;34m)\u001b[0m\u001b[0;34m\u001b[0m\u001b[0m\n\u001b[1;32m    131\u001b[0m             \u001b[0mdebias_loss\u001b[0m \u001b[0;34m=\u001b[0m \u001b[0mavg_loss\u001b[0m \u001b[0;34m/\u001b[0m \u001b[0;34m(\u001b[0m\u001b[0;36m1\u001b[0m \u001b[0;34m-\u001b[0m \u001b[0mavg_mom\u001b[0m\u001b[0;34m**\u001b[0m\u001b[0mbatch_num\u001b[0m\u001b[0;34m)\u001b[0m\u001b[0;34m\u001b[0m\u001b[0m\n",
            "\u001b[0;32m/usr/local/lib/python3.6/dist-packages/fastai/model.py\u001b[0m in \u001b[0;36mstep\u001b[0;34m(self, xs, y, epoch)\u001b[0m\n\u001b[1;32m     53\u001b[0m         \u001b[0;32mif\u001b[0m \u001b[0mself\u001b[0m\u001b[0;34m.\u001b[0m\u001b[0mloss_scale\u001b[0m \u001b[0;34m!=\u001b[0m \u001b[0;36m1\u001b[0m\u001b[0;34m:\u001b[0m \u001b[0;32massert\u001b[0m\u001b[0;34m(\u001b[0m\u001b[0mself\u001b[0m\u001b[0;34m.\u001b[0m\u001b[0mfp16\u001b[0m\u001b[0;34m)\u001b[0m\u001b[0;34m;\u001b[0m \u001b[0mloss\u001b[0m \u001b[0;34m=\u001b[0m \u001b[0mloss\u001b[0m\u001b[0;34m*\u001b[0m\u001b[0mself\u001b[0m\u001b[0;34m.\u001b[0m\u001b[0mloss_scale\u001b[0m\u001b[0;34m\u001b[0m\u001b[0m\n\u001b[1;32m     54\u001b[0m         \u001b[0;32mif\u001b[0m \u001b[0mself\u001b[0m\u001b[0;34m.\u001b[0m\u001b[0mreg_fn\u001b[0m\u001b[0;34m:\u001b[0m \u001b[0mloss\u001b[0m \u001b[0;34m=\u001b[0m \u001b[0mself\u001b[0m\u001b[0;34m.\u001b[0m\u001b[0mreg_fn\u001b[0m\u001b[0;34m(\u001b[0m\u001b[0moutput\u001b[0m\u001b[0;34m,\u001b[0m \u001b[0mxtra\u001b[0m\u001b[0;34m,\u001b[0m \u001b[0mraw_loss\u001b[0m\u001b[0;34m)\u001b[0m\u001b[0;34m\u001b[0m\u001b[0m\n\u001b[0;32m---> 55\u001b[0;31m         \u001b[0mloss\u001b[0m\u001b[0;34m.\u001b[0m\u001b[0mbackward\u001b[0m\u001b[0;34m(\u001b[0m\u001b[0;34m)\u001b[0m\u001b[0;34m\u001b[0m\u001b[0m\n\u001b[0m\u001b[1;32m     56\u001b[0m         \u001b[0;32mif\u001b[0m \u001b[0mself\u001b[0m\u001b[0;34m.\u001b[0m\u001b[0mfp16\u001b[0m\u001b[0;34m:\u001b[0m \u001b[0mupdate_fp32_grads\u001b[0m\u001b[0;34m(\u001b[0m\u001b[0mself\u001b[0m\u001b[0;34m.\u001b[0m\u001b[0mfp32_params\u001b[0m\u001b[0;34m,\u001b[0m \u001b[0mself\u001b[0m\u001b[0;34m.\u001b[0m\u001b[0mm\u001b[0m\u001b[0;34m)\u001b[0m\u001b[0;34m\u001b[0m\u001b[0m\n\u001b[1;32m     57\u001b[0m         \u001b[0;32mif\u001b[0m \u001b[0mself\u001b[0m\u001b[0;34m.\u001b[0m\u001b[0mloss_scale\u001b[0m \u001b[0;34m!=\u001b[0m \u001b[0;36m1\u001b[0m\u001b[0;34m:\u001b[0m\u001b[0;34m\u001b[0m\u001b[0m\n",
            "\u001b[0;32m/usr/local/lib/python3.6/dist-packages/torch/autograd/variable.py\u001b[0m in \u001b[0;36mbackward\u001b[0;34m(self, gradient, retain_graph, create_graph, retain_variables)\u001b[0m\n\u001b[1;32m    165\u001b[0m                 \u001b[0mVariable\u001b[0m\u001b[0;34m.\u001b[0m\u001b[0;34m\u001b[0m\u001b[0m\n\u001b[1;32m    166\u001b[0m         \"\"\"\n\u001b[0;32m--> 167\u001b[0;31m         \u001b[0mtorch\u001b[0m\u001b[0;34m.\u001b[0m\u001b[0mautograd\u001b[0m\u001b[0;34m.\u001b[0m\u001b[0mbackward\u001b[0m\u001b[0;34m(\u001b[0m\u001b[0mself\u001b[0m\u001b[0;34m,\u001b[0m \u001b[0mgradient\u001b[0m\u001b[0;34m,\u001b[0m \u001b[0mretain_graph\u001b[0m\u001b[0;34m,\u001b[0m \u001b[0mcreate_graph\u001b[0m\u001b[0;34m,\u001b[0m \u001b[0mretain_variables\u001b[0m\u001b[0;34m)\u001b[0m\u001b[0;34m\u001b[0m\u001b[0m\n\u001b[0m\u001b[1;32m    168\u001b[0m \u001b[0;34m\u001b[0m\u001b[0m\n\u001b[1;32m    169\u001b[0m     \u001b[0;32mdef\u001b[0m \u001b[0mregister_hook\u001b[0m\u001b[0;34m(\u001b[0m\u001b[0mself\u001b[0m\u001b[0;34m,\u001b[0m \u001b[0mhook\u001b[0m\u001b[0;34m)\u001b[0m\u001b[0;34m:\u001b[0m\u001b[0;34m\u001b[0m\u001b[0m\n",
            "\u001b[0;32m/usr/local/lib/python3.6/dist-packages/torch/autograd/__init__.py\u001b[0m in \u001b[0;36mbackward\u001b[0;34m(variables, grad_variables, retain_graph, create_graph, retain_variables)\u001b[0m\n\u001b[1;32m     97\u001b[0m \u001b[0;34m\u001b[0m\u001b[0m\n\u001b[1;32m     98\u001b[0m     Variable._execution_engine.run_backward(\n\u001b[0;32m---> 99\u001b[0;31m         variables, grad_variables, retain_graph)\n\u001b[0m\u001b[1;32m    100\u001b[0m \u001b[0;34m\u001b[0m\u001b[0m\n\u001b[1;32m    101\u001b[0m \u001b[0;34m\u001b[0m\u001b[0m\n",
            "\u001b[0;31mKeyboardInterrupt\u001b[0m: "
          ]
        }
      ]
    },
    {
      "metadata": {
        "id": "Pz9UGkmqfj6r",
        "colab_type": "text"
      },
      "cell_type": "markdown",
      "source": [
        "### Prediction"
      ]
    },
    {
      "metadata": {
        "id": "OWc7OOCCf6Vn",
        "colab_type": "code",
        "colab": {
          "autoexec": {
            "startup": false,
            "wait_interval": 0
          }
        }
      },
      "cell_type": "code",
      "source": [
        "data = ImageClassifierData.from_paths(PATH, tfms=tfms_from_model(arch, sz), test_name='test', bs=bs)"
      ],
      "execution_count": 0,
      "outputs": []
    },
    {
      "metadata": {
        "id": "UGVfXOHalY_V",
        "colab_type": "code",
        "colab": {
          "autoexec": {
            "startup": false,
            "wait_interval": 0
          }
        }
      },
      "cell_type": "code",
      "source": [
        "learn.data_ = data"
      ],
      "execution_count": 0,
      "outputs": []
    },
    {
      "metadata": {
        "id": "MPgco551gj-g",
        "colab_type": "code",
        "colab": {
          "autoexec": {
            "startup": false,
            "wait_interval": 0
          },
          "base_uri": "https://localhost:8080/",
          "height": 34
        },
        "outputId": "c594b185-72e8-4127-f80a-ff0cb9b8eed6",
        "executionInfo": {
          "status": "ok",
          "timestamp": 1528471234895,
          "user_tz": -360,
          "elapsed": 1859,
          "user": {
            "displayName": "Masum Hasan",
            "photoUrl": "//lh3.googleusercontent.com/-Paf88sL0bM4/AAAAAAAAAAI/AAAAAAAADeU/w9G4fcvOAno/s50-c-k-no/photo.jpg",
            "userId": "107189813580237018080"
          }
        }
      },
      "cell_type": "code",
      "source": [
        "data.classes"
      ],
      "execution_count": 0,
      "outputs": [
        {
          "output_type": "execute_result",
          "data": {
            "text/plain": [
              "['0', '1', '2', '3', '4', '5', '6', '7', '8', '9']"
            ]
          },
          "metadata": {
            "tags": []
          },
          "execution_count": 60
        }
      ]
    },
    {
      "metadata": {
        "id": "Pus7mpAXfmZR",
        "colab_type": "code",
        "colab": {
          "autoexec": {
            "startup": false,
            "wait_interval": 0
          },
          "base_uri": "https://localhost:8080/",
          "height": 17
        },
        "outputId": "30e8cae5-2ba3-4f2d-a43f-f85360511a64",
        "executionInfo": {
          "status": "ok",
          "timestamp": 1528216952956,
          "user_tz": -360,
          "elapsed": 698410,
          "user": {
            "displayName": "Mohammad Rafid Ul Islam",
            "photoUrl": "//lh3.googleusercontent.com/-YyV3XM_GhI0/AAAAAAAAAAI/AAAAAAAAAA4/OyXSUbGTtg0/s50-c-k-no/photo.jpg",
            "userId": "107169696247467916975"
          }
        }
      },
      "cell_type": "code",
      "source": [
        "log_preds_test = learn.TTA(is_test=True)"
      ],
      "execution_count": 0,
      "outputs": [
        {
          "output_type": "stream",
          "text": [
            ""
          ],
          "name": "stdout"
        }
      ]
    },
    {
      "metadata": {
        "id": "fVu8OxETk6v2",
        "colab_type": "code",
        "colab": {
          "autoexec": {
            "startup": false,
            "wait_interval": 0
          }
        }
      },
      "cell_type": "code",
      "source": [
        "test_preds, _ = log_preds_test"
      ],
      "execution_count": 0,
      "outputs": []
    },
    {
      "metadata": {
        "id": "O3Ld5khZfmRh",
        "colab_type": "code",
        "colab": {
          "autoexec": {
            "startup": false,
            "wait_interval": 0
          }
        }
      },
      "cell_type": "code",
      "source": [
        "preds = np.mean(test_preds, axis=0)"
      ],
      "execution_count": 0,
      "outputs": []
    },
    {
      "metadata": {
        "id": "DEefmCrRllN1",
        "colab_type": "code",
        "colab": {
          "autoexec": {
            "startup": false,
            "wait_interval": 0
          }
        }
      },
      "cell_type": "code",
      "source": [
        "classes = np.array(data.classes)"
      ],
      "execution_count": 0,
      "outputs": []
    },
    {
      "metadata": {
        "id": "ZEw-hSHZlk8Q",
        "colab_type": "code",
        "colab": {
          "autoexec": {
            "startup": false,
            "wait_interval": 0
          }
        }
      },
      "cell_type": "code",
      "source": [
        "pred_label = []\n",
        "for i in range(len(preds)):\n",
        "    label = np.argmax(preds[i])\n",
        "    pred_label.append(label)"
      ],
      "execution_count": 0,
      "outputs": []
    },
    {
      "metadata": {
        "id": "7UEus88Xlkyj",
        "colab_type": "code",
        "colab": {
          "autoexec": {
            "startup": false,
            "wait_interval": 0
          }
        }
      },
      "cell_type": "code",
      "source": [
        "pred_key = os.listdir('data/test/')\n",
        "#pred_key.sort()"
      ],
      "execution_count": 0,
      "outputs": []
    },
    {
      "metadata": {
        "id": "nYEQ-M39pBuA",
        "colab_type": "code",
        "colab": {
          "autoexec": {
            "startup": false,
            "wait_interval": 0
          }
        }
      },
      "cell_type": "code",
      "source": [
        "pred_df = pd.DataFrame({'key': pred_key, 'label': pred_label})"
      ],
      "execution_count": 0,
      "outputs": []
    },
    {
      "metadata": {
        "id": "weFdIKYupDwz",
        "colab_type": "code",
        "colab": {
          "autoexec": {
            "startup": false,
            "wait_interval": 0
          },
          "base_uri": "https://localhost:8080/",
          "height": 195
        },
        "outputId": "49d4cd88-f6e5-4494-8f25-1712a23e5354",
        "executionInfo": {
          "status": "ok",
          "timestamp": 1528217049530,
          "user_tz": -360,
          "elapsed": 1411,
          "user": {
            "displayName": "Mohammad Rafid Ul Islam",
            "photoUrl": "//lh3.googleusercontent.com/-YyV3XM_GhI0/AAAAAAAAAAI/AAAAAAAAAA4/OyXSUbGTtg0/s50-c-k-no/photo.jpg",
            "userId": "107169696247467916975"
          }
        }
      },
      "cell_type": "code",
      "source": [
        "pred_df.head()"
      ],
      "execution_count": 0,
      "outputs": [
        {
          "output_type": "execute_result",
          "data": {
            "text/html": [
              "<div>\n",
              "<style scoped>\n",
              "    .dataframe tbody tr th:only-of-type {\n",
              "        vertical-align: middle;\n",
              "    }\n",
              "\n",
              "    .dataframe tbody tr th {\n",
              "        vertical-align: top;\n",
              "    }\n",
              "\n",
              "    .dataframe thead th {\n",
              "        text-align: right;\n",
              "    }\n",
              "</style>\n",
              "<table border=\"1\" class=\"dataframe\">\n",
              "  <thead>\n",
              "    <tr style=\"text-align: right;\">\n",
              "      <th></th>\n",
              "      <th>key</th>\n",
              "      <th>label</th>\n",
              "    </tr>\n",
              "  </thead>\n",
              "  <tbody>\n",
              "    <tr>\n",
              "      <th>0</th>\n",
              "      <td>augc00403.png</td>\n",
              "      <td>0</td>\n",
              "    </tr>\n",
              "    <tr>\n",
              "      <th>1</th>\n",
              "      <td>a03037.png</td>\n",
              "      <td>5</td>\n",
              "    </tr>\n",
              "    <tr>\n",
              "      <th>2</th>\n",
              "      <td>e00411.png</td>\n",
              "      <td>5</td>\n",
              "    </tr>\n",
              "    <tr>\n",
              "      <th>3</th>\n",
              "      <td>a00178.png</td>\n",
              "      <td>0</td>\n",
              "    </tr>\n",
              "    <tr>\n",
              "      <th>4</th>\n",
              "      <td>augc01360.png</td>\n",
              "      <td>0</td>\n",
              "    </tr>\n",
              "  </tbody>\n",
              "</table>\n",
              "</div>"
            ],
            "text/plain": [
              "             key  label\n",
              "0  augc00403.png      0\n",
              "1     a03037.png      5\n",
              "2     e00411.png      5\n",
              "3     a00178.png      0\n",
              "4  augc01360.png      0"
            ]
          },
          "metadata": {
            "tags": []
          },
          "execution_count": 66
        }
      ]
    },
    {
      "metadata": {
        "id": "OZGu6O_XpFaq",
        "colab_type": "code",
        "colab": {
          "autoexec": {
            "startup": false,
            "wait_interval": 0
          }
        }
      },
      "cell_type": "code",
      "source": [
        "pred_df.to_csv('submission-9.8-f-resized.csv', index=False)"
      ],
      "execution_count": 0,
      "outputs": []
    }
  ]
}