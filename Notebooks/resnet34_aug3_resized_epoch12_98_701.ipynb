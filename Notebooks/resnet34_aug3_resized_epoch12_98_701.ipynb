{
 "cells": [
  {
   "cell_type": "code",
   "execution_count": 1,
   "metadata": {
    "colab": {
     "autoexec": {
      "startup": false,
      "wait_interval": 0
     },
     "base_uri": "https://localhost:8080/",
     "height": 2414
    },
    "colab_type": "code",
    "executionInfo": {
     "elapsed": 113414,
     "status": "ok",
     "timestamp": 1528609850109,
     "user": {
      "displayName": "Md. Tareq Mahmood",
      "photoUrl": "https://lh3.googleusercontent.com/a/default-user=s128",
      "userId": "106821255469937573488"
     },
     "user_tz": -360
    },
    "id": "CkO_rDL5372k",
    "outputId": "f3f8bf77-ed7e-47da-eb91-04b70f9af0d8"
   },
   "outputs": [
    {
     "name": "stdout",
     "output_type": "stream",
     "text": [
      "Collecting fastai\n",
      "\u001b[?25l  Downloading https://files.pythonhosted.org/packages/50/6d/9d0d6e17a78b0598d5e8c49a0d03ffc7ff265ae62eca3e2345fab14edb9b/fastai-0.7.0-py3-none-any.whl (112kB)\n",
      "\u001b[K    100% |████████████████████████████████| 122kB 8.6MB/s \n",
      "\u001b[?25hRequirement already satisfied: Pygments in /usr/local/lib/python3.6/dist-packages (from fastai) (2.1.3)\n",
      "Collecting graphviz (from fastai)\n",
      "  Downloading https://files.pythonhosted.org/packages/84/44/21a7fdd50841aaaef224b943f7d10df87e476e181bb926ccf859bcb53d48/graphviz-0.8.3-py2.py3-none-any.whl\n",
      "Requirement already satisfied: pandas in /usr/local/lib/python3.6/dist-packages (from fastai) (0.22.0)\n",
      "Requirement already satisfied: seaborn in /usr/local/lib/python3.6/dist-packages (from fastai) (0.7.1)\n",
      "Requirement already satisfied: Jinja2 in /usr/local/lib/python3.6/dist-packages (from fastai) (2.10)\n",
      "Requirement already satisfied: certifi in /usr/local/lib/python3.6/dist-packages (from fastai) (2018.4.16)\n",
      "Requirement already satisfied: scipy in /usr/local/lib/python3.6/dist-packages (from fastai) (0.19.1)\n",
      "Requirement already satisfied: jsonschema in /usr/local/lib/python3.6/dist-packages (from fastai) (2.6.0)\n",
      "Collecting torchtext (from fastai)\n",
      "\u001b[?25l  Downloading https://files.pythonhosted.org/packages/78/90/474d5944d43001a6e72b9aaed5c3e4f77516fbef2317002da2096fd8b5ea/torchtext-0.2.3.tar.gz (42kB)\n",
      "\u001b[K    100% |████████████████████████████████| 51kB 12.4MB/s \n",
      "\u001b[?25hCollecting jupyter (from fastai)\n",
      "  Downloading https://files.pythonhosted.org/packages/83/df/0f5dd132200728a86190397e1ea87cd76244e42d39ec5e88efd25b2abd7e/jupyter-1.0.0-py2.py3-none-any.whl\n",
      "Requirement already satisfied: ptyprocess in /usr/local/lib/python3.6/dist-packages (from fastai) (0.5.2)\n",
      "Requirement already satisfied: ipython in /usr/local/lib/python3.6/dist-packages (from fastai) (5.5.0)\n",
      "Requirement already satisfied: html5lib in /usr/local/lib/python3.6/dist-packages (from fastai) (0.9999999)\n",
      "Collecting sklearn-pandas (from fastai)\n",
      "  Downloading https://files.pythonhosted.org/packages/c5/9e/42d7bcddb09a3ff52d0c60c810ba5d0fded28abbe320c85bbf7368192956/sklearn_pandas-1.6.0-py2.py3-none-any.whl\n",
      "Requirement already satisfied: python-dateutil in /usr/local/lib/python3.6/dist-packages (from fastai) (2.5.3)\n",
      "Collecting plotnine (from fastai)\n",
      "\u001b[?25l  Downloading https://files.pythonhosted.org/packages/3a/68/cf39dfde4e9fd886703621e3393cd8103cb48d5ecc95b8f048ec148e53a6/plotnine-0.3.0-py2.py3-none-any.whl (3.4MB)\n",
      "\u001b[K    100% |████████████████████████████████| 3.4MB 9.0MB/s \n",
      "\u001b[?25hRequirement already satisfied: cycler in /usr/local/lib/python3.6/dist-packages (from fastai) (0.10.0)\n",
      "Requirement already satisfied: bleach in /usr/local/lib/python3.6/dist-packages (from fastai) (1.5.0)\n",
      "Requirement already satisfied: pyzmq in /usr/local/lib/python3.6/dist-packages (from fastai) (16.0.4)\n",
      "Collecting tqdm (from fastai)\n",
      "\u001b[?25l  Downloading https://files.pythonhosted.org/packages/93/24/6ab1df969db228aed36a648a8959d1027099ce45fad67532b9673d533318/tqdm-4.23.4-py2.py3-none-any.whl (42kB)\n",
      "\u001b[K    100% |████████████████████████████████| 51kB 20.7MB/s \n",
      "\u001b[?25hRequirement already satisfied: MarkupSafe in /usr/local/lib/python3.6/dist-packages (from fastai) (1.0)\n",
      "Collecting feather-format (from fastai)\n",
      "  Downloading https://files.pythonhosted.org/packages/08/55/940b97cc6f19a19f5dab9efef2f68a0ce43a7632f858b272391f0b851a7e/feather-format-0.4.0.tar.gz\n",
      "Requirement already satisfied: PyYAML in /usr/local/lib/python3.6/dist-packages (from fastai) (3.12)\n",
      "Collecting pandas-summary (from fastai)\n",
      "  Downloading https://files.pythonhosted.org/packages/3d/a7/0364272be0c6561c45d67edec8a7bf0532d56b830438168f9078f7720f63/pandas-summary-0.0.41.tar.gz\n",
      "Requirement already satisfied: testpath in /usr/local/lib/python3.6/dist-packages (from fastai) (0.3.1)\n",
      "Collecting isoweek (from fastai)\n",
      "  Downloading https://files.pythonhosted.org/packages/c2/d4/fe7e2637975c476734fcbf53776e650a29680194eb0dd21dbdc020ca92de/isoweek-1.3.3-py2.py3-none-any.whl\n",
      "Requirement already satisfied: numpy in /usr/local/lib/python3.6/dist-packages (from fastai) (1.14.3)\n",
      "Requirement already satisfied: entrypoints in /usr/local/lib/python3.6/dist-packages (from fastai) (0.2.3)\n",
      "Requirement already satisfied: opencv-python in /usr/local/lib/python3.6/dist-packages (from fastai) (3.4.1.15)\n",
      "Requirement already satisfied: pytz in /usr/local/lib/python3.6/dist-packages (from fastai) (2018.4)\n",
      "Requirement already satisfied: webencodings in /usr/local/lib/python3.6/dist-packages (from fastai) (0.5.1)\n",
      "Requirement already satisfied: decorator in /usr/local/lib/python3.6/dist-packages (from fastai) (4.3.0)\n",
      "Collecting ipywidgets (from fastai)\n",
      "\u001b[?25l  Downloading https://files.pythonhosted.org/packages/7d/24/fabc09ad81c6071159a4d12d5bfbddcbea69bd9e3b16c3250ef300c0285f/ipywidgets-7.2.1-py2.py3-none-any.whl (106kB)\n",
      "\u001b[K    100% |████████████████████████████████| 112kB 21.2MB/s \n",
      "\u001b[?25hRequirement already satisfied: pyparsing in /usr/local/lib/python3.6/dist-packages (from fastai) (2.2.0)\n",
      "Collecting torch<0.4 (from fastai)\n",
      "\u001b[?25l  Downloading https://files.pythonhosted.org/packages/5b/a5/e8b50b55b1abac9f1e3346c4242f1e42a82d368a8442cbd50c532922f6c4/torch-0.3.1-cp36-cp36m-manylinux1_x86_64.whl (496.4MB)\n",
      "\u001b[K    1% |▋                               | 9.6MB 38.0MB/s eta 0:00:13\u001b[K    100% |████████████████████████████████| 496.4MB 29kB/s \n",
      "\u001b[?25hCollecting widgetsnbextension (from fastai)\n",
      "\u001b[?25l  Downloading https://files.pythonhosted.org/packages/ff/fa/64acc09fc845a6b2dc0724d6f3f81e829b778ed5e9a7559567b4f19a3f4b/widgetsnbextension-3.2.1-py2.py3-none-any.whl (2.2MB)\n",
      "\u001b[K    100% |████████████████████████████████| 2.2MB 15.8MB/s \n",
      "\u001b[?25hCollecting bcolz (from fastai)\n",
      "\u001b[?25l  Downloading https://files.pythonhosted.org/packages/5c/4e/23942de9d5c0fb16f10335fa83e52b431bcb8c0d4a8419c9ac206268c279/bcolz-1.2.1.tar.gz (1.5MB)\n",
      "\u001b[K    100% |████████████████████████████████| 1.5MB 15.7MB/s \n",
      "\u001b[?25hRequirement already satisfied: pickleshare in /usr/local/lib/python3.6/dist-packages (from fastai) (0.7.4)\n",
      "Requirement already satisfied: traitlets in /usr/local/lib/python3.6/dist-packages (from fastai) (4.3.2)\n",
      "Requirement already satisfied: wcwidth in /usr/local/lib/python3.6/dist-packages (from fastai) (0.1.7)\n",
      "Requirement already satisfied: ipykernel in /usr/local/lib/python3.6/dist-packages (from fastai) (4.6.1)\n",
      "Requirement already satisfied: matplotlib in /usr/local/lib/python3.6/dist-packages (from fastai) (2.1.2)\n",
      "Requirement already satisfied: tornado in /usr/local/lib/python3.6/dist-packages (from fastai) (4.5.3)\n",
      "Requirement already satisfied: simplegeneric in /usr/local/lib/python3.6/dist-packages (from fastai) (0.8.1)\n",
      "Requirement already satisfied: ipython-genutils in /usr/local/lib/python3.6/dist-packages (from fastai) (0.2.0)\n",
      "Requirement already satisfied: Pillow in /usr/local/lib/python3.6/dist-packages (from fastai) (4.0.0)\n",
      "Collecting jedi (from fastai)\n",
      "\u001b[?25l  Downloading https://files.pythonhosted.org/packages/e7/42/074192a165622e645ed4aeade63e76e56b3496a044569b3c6cae3a918352/jedi-0.12.0-py2.py3-none-any.whl (172kB)\n",
      "\u001b[K    100% |████████████████████████████████| 174kB 23.6MB/s \n",
      "\u001b[?25hCollecting torchvision (from fastai)\n",
      "\u001b[?25l  Downloading https://files.pythonhosted.org/packages/ca/0d/f00b2885711e08bd71242ebe7b96561e6f6d01fdb4b9dcf4d37e2e13c5e1/torchvision-0.2.1-py2.py3-none-any.whl (54kB)\n",
      "\u001b[K    100% |████████████████████████████████| 61kB 22.3MB/s \n",
      "\u001b[?25hRequirement already satisfied: requests in /usr/local/lib/python3.6/dist-packages (from torchtext->fastai) (2.18.4)\n",
      "Collecting jupyter-console (from jupyter->fastai)\n",
      "  Downloading https://files.pythonhosted.org/packages/77/82/6469cd7fccf7958cbe5dce2e623f1e3c5e27f1bb1ad36d90519bc2d5d370/jupyter_console-5.2.0-py2.py3-none-any.whl\n",
      "Requirement already satisfied: notebook in /usr/local/lib/python3.6/dist-packages (from jupyter->fastai) (5.2.2)\n",
      "Requirement already satisfied: nbconvert in /usr/local/lib/python3.6/dist-packages (from jupyter->fastai) (5.3.1)\n",
      "Collecting qtconsole (from jupyter->fastai)\n",
      "\u001b[?25l  Downloading https://files.pythonhosted.org/packages/90/ff/047e0dca2627b162866920e7aa93f04523c0ae81e5c67060eec85701992d/qtconsole-4.3.1-py2.py3-none-any.whl (108kB)\n",
      "\u001b[K    100% |████████████████████████████████| 112kB 22.0MB/s \n",
      "\u001b[?25hRequirement already satisfied: pexpect; sys_platform != \"win32\" in /usr/local/lib/python3.6/dist-packages (from ipython->fastai) (4.5.0)\n",
      "Requirement already satisfied: prompt-toolkit<2.0.0,>=1.0.4 in /usr/local/lib/python3.6/dist-packages (from ipython->fastai) (1.0.15)\n",
      "Requirement already satisfied: setuptools>=18.5 in /usr/local/lib/python3.6/dist-packages (from ipython->fastai) (39.2.0)\n",
      "Requirement already satisfied: six in /usr/local/lib/python3.6/dist-packages (from html5lib->fastai) (1.11.0)\n",
      "Requirement already satisfied: scikit-learn>=0.15.0 in /usr/local/lib/python3.6/dist-packages (from sklearn-pandas->fastai) (0.19.1)\n",
      "Requirement already satisfied: statsmodels>=0.8.0 in /usr/local/lib/python3.6/dist-packages (from plotnine->fastai) (0.8.0)\n",
      "Collecting mizani>=0.4.1 (from plotnine->fastai)\n",
      "\u001b[?25l  Downloading https://files.pythonhosted.org/packages/52/01/8a3b4c6e45749674a1e5241174b4b63cd6435125e124bec275f3e02c96ac/mizani-0.4.6-py2.py3-none-any.whl (65kB)\n",
      "\u001b[K    100% |████████████████████████████████| 71kB 21.0MB/s \n",
      "\u001b[?25hRequirement already satisfied: patsy>=0.4.1 in /usr/local/lib/python3.6/dist-packages (from plotnine->fastai) (0.5.0)\n",
      "Collecting pyarrow>=0.4.0 (from feather-format->fastai)\n",
      "\u001b[?25l  Downloading https://files.pythonhosted.org/packages/fe/27/576e6c979bfa5f63070f809c930aa85d6198b91d17a64866234597ba861f/pyarrow-0.9.0-cp36-cp36m-manylinux1_x86_64.whl (13.7MB)\n"
     ]
    },
    {
     "name": "stdout",
     "output_type": "stream",
     "text": [
      "\u001b[K    89% |████████████████████████████▋   | 12.2MB 37.8MB/s eta 0:00:01\u001b[K    100% |████████████████████████████████| 13.7MB 4.0MB/s \n",
      "\u001b[?25hRequirement already satisfied: nbformat>=4.2.0 in /usr/local/lib/python3.6/dist-packages (from ipywidgets->fastai) (4.4.0)\n",
      "Requirement already satisfied: jupyter-client in /usr/local/lib/python3.6/dist-packages (from ipykernel->fastai) (5.2.3)\n",
      "Requirement already satisfied: olefile in /usr/local/lib/python3.6/dist-packages (from Pillow->fastai) (0.45.1)\n",
      "Collecting parso>=0.2.0 (from jedi->fastai)\n",
      "\u001b[?25l  Downloading https://files.pythonhosted.org/packages/cd/3e/5908f9577dbd1e5df53e64349bfd11e46b726c1e4d8cd676bbe8aa4de316/parso-0.2.1-py2.py3-none-any.whl (91kB)\n",
      "\u001b[K    100% |████████████████████████████████| 92kB 23.8MB/s \n",
      "\u001b[?25hRequirement already satisfied: chardet<3.1.0,>=3.0.2 in /usr/local/lib/python3.6/dist-packages (from requests->torchtext->fastai) (3.0.4)\n",
      "Requirement already satisfied: idna<2.7,>=2.5 in /usr/local/lib/python3.6/dist-packages (from requests->torchtext->fastai) (2.6)\n",
      "Requirement already satisfied: urllib3<1.23,>=1.21.1 in /usr/local/lib/python3.6/dist-packages (from requests->torchtext->fastai) (1.22)\n",
      "Requirement already satisfied: terminado>=0.3.3; sys_platform != \"win32\" in /usr/local/lib/python3.6/dist-packages (from notebook->jupyter->fastai) (0.8.1)\n",
      "Requirement already satisfied: jupyter-core in /usr/local/lib/python3.6/dist-packages (from notebook->jupyter->fastai) (4.4.0)\n",
      "Requirement already satisfied: pandocfilters>=1.4.1 in /usr/local/lib/python3.6/dist-packages (from nbconvert->jupyter->fastai) (1.4.2)\n",
      "Requirement already satisfied: mistune>=0.7.4 in /usr/local/lib/python3.6/dist-packages (from nbconvert->jupyter->fastai) (0.8.3)\n",
      "Collecting palettable (from mizani>=0.4.1->plotnine->fastai)\n",
      "\u001b[?25l  Downloading https://files.pythonhosted.org/packages/56/8a/84537c0354f0d1f03bf644b71bf8e0a50db9c1294181905721a5f3efbf66/palettable-3.1.1-py2.py3-none-any.whl (77kB)\n",
      "\u001b[K    100% |████████████████████████████████| 81kB 23.2MB/s \n",
      "\u001b[?25hBuilding wheels for collected packages: torchtext, feather-format, pandas-summary, bcolz\n",
      "  Running setup.py bdist_wheel for torchtext ... \u001b[?25ldone\n",
      "\u001b[?25h  Stored in directory: /content/.cache/pip/wheels/42/a6/f4/b267328bde6bb680094a0c173e8e5627ccc99543abded97204\n",
      "  Running setup.py bdist_wheel for feather-format ... \u001b[?25ldone\n",
      "\u001b[?25h  Stored in directory: /content/.cache/pip/wheels/85/7d/12/2dfa5c0195f921ac935f5e8f27deada74972edc0ae9988a9c1\n",
      "  Running setup.py bdist_wheel for pandas-summary ... \u001b[?25ldone\n",
      "\u001b[?25h  Stored in directory: /content/.cache/pip/wheels/86/a9/6b/36b727a9ec687dac08bd3d0501cddd7b1a223943513eb04a03\n",
      "  Running setup.py bdist_wheel for bcolz ... \u001b[?25ldone\n",
      "\u001b[?25h  Stored in directory: /content/.cache/pip/wheels/9f/78/26/fb8c0acb91a100dc8914bf236c4eaa4b207cb876893c40b745\n",
      "Successfully built torchtext feather-format pandas-summary bcolz\n",
      "\u001b[31mplotnine 0.3.0 has requirement scipy>=1.0.0, but you'll have scipy 0.19.1 which is incompatible.\u001b[0m\n",
      "\u001b[31mtorchvision 0.2.1 has requirement pillow>=4.1.1, but you'll have pillow 4.0.0 which is incompatible.\u001b[0m\n",
      "Installing collected packages: graphviz, tqdm, torchtext, jupyter-console, qtconsole, widgetsnbextension, ipywidgets, jupyter, sklearn-pandas, palettable, mizani, plotnine, pyarrow, feather-format, pandas-summary, isoweek, torch, bcolz, parso, jedi, torchvision, fastai\n",
      "Successfully installed bcolz-1.2.1 fastai-0.7.0 feather-format-0.4.0 graphviz-0.8.3 ipywidgets-7.2.1 isoweek-1.3.3 jedi-0.12.0 jupyter-1.0.0 jupyter-console-5.2.0 mizani-0.4.6 palettable-3.1.1 pandas-summary-0.0.41 parso-0.2.1 plotnine-0.3.0 pyarrow-0.9.0 qtconsole-4.3.1 sklearn-pandas-1.6.0 torch-0.3.1 torchtext-0.2.3 torchvision-0.2.1 tqdm-4.23.4 widgetsnbextension-3.2.1\n"
     ]
    }
   ],
   "source": [
    "!pip install fastai"
   ]
  },
  {
   "cell_type": "code",
   "execution_count": 0,
   "metadata": {
    "colab": {
     "autoexec": {
      "startup": false,
      "wait_interval": 0
     }
    },
    "colab_type": "code",
    "collapsed": true,
    "id": "No77Y9w64bjO"
   },
   "outputs": [],
   "source": [
    "import os"
   ]
  },
  {
   "cell_type": "markdown",
   "metadata": {
    "colab_type": "text",
    "id": "alIIjpXF9WRH"
   },
   "source": [
    "## Train Test"
   ]
  },
  {
   "cell_type": "code",
   "execution_count": 3,
   "metadata": {
    "colab": {
     "autoexec": {
      "startup": false,
      "wait_interval": 0
     },
     "base_uri": "https://localhost:8080/",
     "height": 339
    },
    "colab_type": "code",
    "executionInfo": {
     "elapsed": 42666,
     "status": "ok",
     "timestamp": 1528609986151,
     "user": {
      "displayName": "Md. Tareq Mahmood",
      "photoUrl": "https://lh3.googleusercontent.com/a/default-user=s128",
      "userId": "106821255469937573488"
     },
     "user_tz": -360
    },
    "id": "u37H1LOQ9Zd4",
    "outputId": "72393a85-4229-4a93-bede-4484abb472d6"
   },
   "outputs": [
    {
     "name": "stdout",
     "output_type": "stream",
     "text": [
      "--2018-06-10 05:52:27--  https://www.dropbox.com/s/w7l6fgvqisx5k19/train.zip\n",
      "Resolving www.dropbox.com (www.dropbox.com)... 162.125.65.1, 2620:100:6021:1::a27d:4101\n",
      "Connecting to www.dropbox.com (www.dropbox.com)|162.125.65.1|:443... connected.\n",
      "HTTP request sent, awaiting response... 302 Found\n",
      "Location: https://ucaf978f7c8c6f7d7e630fab923a.dl.dropboxusercontent.com/cd/0/get/AIcTn94jPNMD3IvCEqekgweoqC6o_X8MW_xlCu-tshjwaq3QgUd2HSJ1IdiGJWHvDOgYWajdFbv-emIRoi2vsAhJuJVm0NQnybkMhbBu6DpNSTgw6E9lpu5wfpFeCTEWlNqFmdTq0LRCdx3jc9uAyrbaYldBFhwm9a7w_1HZ5ZcmTwuXZCeayULolnV2d-6iozs/file [following]\n",
      "--2018-06-10 05:52:27--  https://ucaf978f7c8c6f7d7e630fab923a.dl.dropboxusercontent.com/cd/0/get/AIcTn94jPNMD3IvCEqekgweoqC6o_X8MW_xlCu-tshjwaq3QgUd2HSJ1IdiGJWHvDOgYWajdFbv-emIRoi2vsAhJuJVm0NQnybkMhbBu6DpNSTgw6E9lpu5wfpFeCTEWlNqFmdTq0LRCdx3jc9uAyrbaYldBFhwm9a7w_1HZ5ZcmTwuXZCeayULolnV2d-6iozs/file\n",
      "Resolving ucaf978f7c8c6f7d7e630fab923a.dl.dropboxusercontent.com (ucaf978f7c8c6f7d7e630fab923a.dl.dropboxusercontent.com)... 162.125.65.6, 2620:100:6021:6::a27d:4106\n",
      "Connecting to ucaf978f7c8c6f7d7e630fab923a.dl.dropboxusercontent.com (ucaf978f7c8c6f7d7e630fab923a.dl.dropboxusercontent.com)|162.125.65.6|:443... connected.\n",
      "HTTP request sent, awaiting response... 200 OK\n",
      "Length: 1368550067 (1.3G) [application/zip]\n",
      "Saving to: ‘train.zip’\n",
      "\n",
      "train.zip            67%[============>       ] 879.80M  32.3MB/s    eta 13s    train.zip           100%[===================>]   1.27G  37.0MB/s    in 39s     \n",
      "\n",
      "2018-06-10 05:53:08 (33.2 MB/s) - ‘train.zip’ saved [1368550067/1368550067]\n",
      "\n"
     ]
    }
   ],
   "source": [
    "!wget https://www.dropbox.com/s/w7l6fgvqisx5k19/train.zip"
   ]
  },
  {
   "cell_type": "code",
   "execution_count": 0,
   "metadata": {
    "colab": {
     "autoexec": {
      "startup": false,
      "wait_interval": 0
     }
    },
    "colab_type": "code",
    "collapsed": true,
    "id": "e8tKR7Fr1Y6L"
   },
   "outputs": [],
   "source": [
    "!mkdir data"
   ]
  },
  {
   "cell_type": "code",
   "execution_count": 0,
   "metadata": {
    "colab": {
     "autoexec": {
      "startup": false,
      "wait_interval": 0
     }
    },
    "colab_type": "code",
    "collapsed": true,
    "id": "fJlDr-K31aaH"
   },
   "outputs": [],
   "source": [
    "!unzip -q train.zip -d data/"
   ]
  },
  {
   "cell_type": "code",
   "execution_count": 6,
   "metadata": {
    "colab": {
     "autoexec": {
      "startup": false,
      "wait_interval": 0
     },
     "base_uri": "https://localhost:8080/",
     "height": 36
    },
    "colab_type": "code",
    "executionInfo": {
     "elapsed": 1715,
     "status": "ok",
     "timestamp": 1528610161912,
     "user": {
      "displayName": "Md. Tareq Mahmood",
      "photoUrl": "https://lh3.googleusercontent.com/a/default-user=s128",
      "userId": "106821255469937573488"
     },
     "user_tz": -360
    },
    "id": "OztkdZnJ1bh1",
    "outputId": "ed74191b-bfec-4f5d-90bd-4e1e49f50ca3"
   },
   "outputs": [
    {
     "name": "stdout",
     "output_type": "stream",
     "text": [
      "0  1  2  3  4  5  6  7\t8  9\r\n"
     ]
    }
   ],
   "source": [
    "!ls data/train"
   ]
  },
  {
   "cell_type": "code",
   "execution_count": 7,
   "metadata": {
    "colab": {
     "autoexec": {
      "startup": false,
      "wait_interval": 0
     },
     "base_uri": "https://localhost:8080/",
     "height": 339
    },
    "colab_type": "code",
    "executionInfo": {
     "elapsed": 20837,
     "status": "ok",
     "timestamp": 1528610182958,
     "user": {
      "displayName": "Md. Tareq Mahmood",
      "photoUrl": "https://lh3.googleusercontent.com/a/default-user=s128",
      "userId": "106821255469937573488"
     },
     "user_tz": -360
    },
    "id": "Bx8TUFOC9t1h",
    "outputId": "b7b3d15a-d54f-40fb-fd76-9be8a2c14c10"
   },
   "outputs": [
    {
     "name": "stdout",
     "output_type": "stream",
     "text": [
      "--2018-06-10 05:56:05--  https://www.dropbox.com/s/vkhjpzg70z4fp9j/test.zip\n",
      "Resolving www.dropbox.com (www.dropbox.com)... 162.125.65.1, 2620:100:6021:1::a27d:4101\n",
      "Connecting to www.dropbox.com (www.dropbox.com)|162.125.65.1|:443... connected.\n",
      "HTTP request sent, awaiting response... 302 Found\n",
      "Location: https://uc920b46712684220def20ec5f3a.dl.dropboxusercontent.com/cd/0/get/AIdcZEYZtpsoeOm7ChUhPMSURUhnjBzPetZfURlTZyUgeB8y6dmzX5LDq3mR7LaHpuEhMqVWeQAPa7Akd6rNIeNKI3v9GXCioSIw0Vepu2ad3RsEwNz_2FOEJPddbyu_zxVSAaa-m_PppmYNqtzNzWy8_QZK444COnnjhGhorNak71JkHHy4ROS_GoO0xSmRvvg/file [following]\n",
      "--2018-06-10 05:56:06--  https://uc920b46712684220def20ec5f3a.dl.dropboxusercontent.com/cd/0/get/AIdcZEYZtpsoeOm7ChUhPMSURUhnjBzPetZfURlTZyUgeB8y6dmzX5LDq3mR7LaHpuEhMqVWeQAPa7Akd6rNIeNKI3v9GXCioSIw0Vepu2ad3RsEwNz_2FOEJPddbyu_zxVSAaa-m_PppmYNqtzNzWy8_QZK444COnnjhGhorNak71JkHHy4ROS_GoO0xSmRvvg/file\n",
      "Resolving uc920b46712684220def20ec5f3a.dl.dropboxusercontent.com (uc920b46712684220def20ec5f3a.dl.dropboxusercontent.com)... 162.125.65.6, 2620:100:6021:6::a27d:4106\n",
      "Connecting to uc920b46712684220def20ec5f3a.dl.dropboxusercontent.com (uc920b46712684220def20ec5f3a.dl.dropboxusercontent.com)|162.125.65.6|:443... connected.\n",
      "HTTP request sent, awaiting response... 200 OK\n",
      "Length: 338094471 (322M) [application/zip]\n",
      "Saving to: ‘test.zip’\n",
      "\n",
      "test.zip             65%[============>       ] 212.69M  23.6MB/s    eta 9s     test.zip            100%[===================>] 322.43M  35.5MB/s    in 17s     \n",
      "\n",
      "2018-06-10 05:56:24 (18.9 MB/s) - ‘test.zip’ saved [338094471/338094471]\n",
      "\n"
     ]
    }
   ],
   "source": [
    "!wget https://www.dropbox.com/s/vkhjpzg70z4fp9j/test.zip"
   ]
  },
  {
   "cell_type": "code",
   "execution_count": 0,
   "metadata": {
    "colab": {
     "autoexec": {
      "startup": false,
      "wait_interval": 0
     }
    },
    "colab_type": "code",
    "collapsed": true,
    "id": "XKDyCre69oD4"
   },
   "outputs": [],
   "source": [
    "!unzip -q test.zip -d data/"
   ]
  },
  {
   "cell_type": "code",
   "execution_count": 9,
   "metadata": {
    "colab": {
     "autoexec": {
      "startup": false,
      "wait_interval": 0
     },
     "base_uri": "https://localhost:8080/",
     "height": 36
    },
    "colab_type": "code",
    "executionInfo": {
     "elapsed": 2544,
     "status": "ok",
     "timestamp": 1528610192047,
     "user": {
      "displayName": "Md. Tareq Mahmood",
      "photoUrl": "https://lh3.googleusercontent.com/a/default-user=s128",
      "userId": "106821255469937573488"
     },
     "user_tz": -360
    },
    "id": "rQg_Ael21H9f",
    "outputId": "0633ed12-798d-48d5-a76a-2727c79335af"
   },
   "outputs": [
    {
     "name": "stdout",
     "output_type": "stream",
     "text": [
      "test  train\r\n"
     ]
    }
   ],
   "source": [
    "!ls data"
   ]
  },
  {
   "cell_type": "markdown",
   "metadata": {},
   "source": [
    "## Resize Test Data"
   ]
  },
  {
   "cell_type": "code",
   "execution_count": null,
   "metadata": {
    "collapsed": true
   },
   "outputs": [],
   "source": [
    "import cv2\n",
    "import numpy as np\n",
    "\n",
    "# it makes an image into a square\n",
    "def resizeToSquere(img):\n",
    "    height, width = img.shape\n",
    "    COLOR = [255,255,255] # TOP, BOTTOM, LEFT, RIGHT\n",
    "    squere = img.copy()\n",
    "    #constant= cv2.copyMakeBorder(img,10,10,10,10,cv2.BORDER_CONSTANT,value=COLOR)\n",
    "    if height>width:\n",
    "        diff = height - width\n",
    "        first = int(diff/2)\n",
    "        second = diff - first\n",
    "        squere= cv2.copyMakeBorder(img,0,0,first,second,cv2.BORDER_CONSTANT,value=COLOR)\n",
    "    elif height<width:\n",
    "        diff = width - height\n",
    "        first = int(diff/2)\n",
    "        second = diff - first\n",
    "        squere= cv2.copyMakeBorder(img,first,second,0,0,cv2.BORDER_CONSTANT,value=COLOR)\n",
    "    median = np.median(img)\n",
    "    squere[squere==255] = median\n",
    "    return squere"
   ]
  },
  {
   "cell_type": "code",
   "execution_count": null,
   "metadata": {
    "collapsed": true
   },
   "outputs": [],
   "source": [
    "def wid_to_height_ratio(img):\n",
    "    h, w = img.shape\n",
    "    return w/h"
   ]
  },
  {
   "cell_type": "code",
   "execution_count": null,
   "metadata": {
    "collapsed": true
   },
   "outputs": [],
   "source": [
    "import os\n",
    "image_name_list = os.listdir('data/test')\n",
    "error_names = []\n",
    "for file in image_name_list:\n",
    "    img = cv2.imread('data/test/'+file, 0)\n",
    "    if wid_to_height_ratio(img) < 0.7:\n",
    "        print(file)\n",
    "        error_names.append(file)\n",
    "        sq = resizeToSquere(img)\n",
    "        cv2.imwrite('data/test/'+file, sq)"
   ]
  },
  {
   "cell_type": "markdown",
   "metadata": {
    "colab_type": "text",
    "id": "b9GhhjGo1lkZ"
   },
   "source": [
    "## Augment"
   ]
  },
  {
   "cell_type": "code",
   "execution_count": 10,
   "metadata": {
    "colab": {
     "autoexec": {
      "startup": false,
      "wait_interval": 0
     },
     "base_uri": "https://localhost:8080/",
     "height": 74
    },
    "colab_type": "code",
    "executionInfo": {
     "elapsed": 3094,
     "status": "ok",
     "timestamp": 1528610256268,
     "user": {
      "displayName": "Md. Tareq Mahmood",
      "photoUrl": "https://lh3.googleusercontent.com/a/default-user=s128",
      "userId": "106821255469937573488"
     },
     "user_tz": -360
    },
    "id": "VONk1Pgd1l98",
    "outputId": "2a97338c-9019-40ed-e435-f2c8b094e1b2"
   },
   "outputs": [
    {
     "name": "stdout",
     "output_type": "stream",
     "text": [
      "  % Total    % Received % Xferd  Average Speed   Time    Time     Time  Current\r\n",
      "                                 Dload  Upload   Total   Spent    Left  Speed\n",
      "100  4465  100  4465    0     0   4465      0  0:00:01 --:--:--  0:00:01 12437\n"
     ]
    }
   ],
   "source": [
    "!curl -O https://gist.githubusercontent.com/mahmoodtareq/b83e4b305492063e36a1dcc9d1de0b79/raw/245430d848074930dfd97f49427afe366210163e/gen_aug_v5.py"
   ]
  },
  {
   "cell_type": "code",
   "execution_count": 0,
   "metadata": {
    "colab": {
     "autoexec": {
      "startup": false,
      "wait_interval": 0
     }
    },
    "colab_type": "code",
    "collapsed": true,
    "id": "8N_YuLg01uct"
   },
   "outputs": [],
   "source": [
    "!mv gen_aug_v5.py data"
   ]
  },
  {
   "cell_type": "code",
   "execution_count": 12,
   "metadata": {
    "colab": {
     "autoexec": {
      "startup": false,
      "wait_interval": 0
     },
     "base_uri": "https://localhost:8080/",
     "height": 36
    },
    "colab_type": "code",
    "executionInfo": {
     "elapsed": 2005,
     "status": "ok",
     "timestamp": 1528610264846,
     "user": {
      "displayName": "Md. Tareq Mahmood",
      "photoUrl": "https://lh3.googleusercontent.com/a/default-user=s128",
      "userId": "106821255469937573488"
     },
     "user_tz": -360
    },
    "id": "qp9VaFBl1xBb",
    "outputId": "fa32d984-5acc-4aff-b1b1-7c9dce50d1d9"
   },
   "outputs": [
    {
     "name": "stdout",
     "output_type": "stream",
     "text": [
      "gen_aug_v5.py  test  train\r\n"
     ]
    }
   ],
   "source": [
    "!ls data"
   ]
  },
  {
   "cell_type": "code",
   "execution_count": 0,
   "metadata": {
    "colab": {
     "autoexec": {
      "startup": false,
      "wait_interval": 0
     }
    },
    "colab_type": "code",
    "collapsed": true,
    "id": "Q7NsaQZ01xwz"
   },
   "outputs": [],
   "source": [
    "os.chdir('data')"
   ]
  },
  {
   "cell_type": "code",
   "execution_count": 14,
   "metadata": {
    "colab": {
     "autoexec": {
      "startup": false,
      "wait_interval": 0
     },
     "base_uri": "https://localhost:8080/",
     "height": 206
    },
    "colab_type": "code",
    "executionInfo": {
     "elapsed": 606829,
     "status": "ok",
     "timestamp": 1528610878541,
     "user": {
      "displayName": "Md. Tareq Mahmood",
      "photoUrl": "https://lh3.googleusercontent.com/a/default-user=s128",
      "userId": "106821255469937573488"
     },
     "user_tz": -360
    },
    "id": "Bn0lvu4V1xsQ",
    "outputId": "2de779ea-e1b8-4f8a-bcd7-eaba4ed69919"
   },
   "outputs": [
    {
     "name": "stdout",
     "output_type": "stream",
     "text": [
      "Dir 5 Done\n",
      "Dir 8 Done\n",
      "Dir 6 Done\n",
      "Dir 3 Done\n",
      "Dir 4 Done\n",
      "Dir 0 Done\n",
      "Dir 2 Done\n",
      "Dir 9 Done\n",
      "Dir 7 Done\n",
      "Dir 1 Done\n"
     ]
    }
   ],
   "source": [
    "!python gen_aug_v5.py --nb_augments=3"
   ]
  },
  {
   "cell_type": "code",
   "execution_count": 0,
   "metadata": {
    "colab": {
     "autoexec": {
      "startup": false,
      "wait_interval": 0
     }
    },
    "colab_type": "code",
    "collapsed": true,
    "id": "UlkYxWPf1xnI"
   },
   "outputs": [],
   "source": [
    "# we will go back to parent directory after creating 'valid'"
   ]
  },
  {
   "cell_type": "markdown",
   "metadata": {
    "colab_type": "text",
    "id": "UeIMp0xl13xT"
   },
   "source": [
    "## Valid "
   ]
  },
  {
   "cell_type": "code",
   "execution_count": 0,
   "metadata": {
    "colab": {
     "autoexec": {
      "startup": false,
      "wait_interval": 0
     }
    },
    "colab_type": "code",
    "collapsed": true,
    "id": "_I0ZWNQz1xiW"
   },
   "outputs": [],
   "source": [
    "!mkdir valid"
   ]
  },
  {
   "cell_type": "code",
   "execution_count": 0,
   "metadata": {
    "colab": {
     "autoexec": {
      "startup": false,
      "wait_interval": 0
     }
    },
    "colab_type": "code",
    "collapsed": true,
    "id": "PTq-wkN816aD"
   },
   "outputs": [],
   "source": [
    "os.chdir('valid')"
   ]
  },
  {
   "cell_type": "code",
   "execution_count": 0,
   "metadata": {
    "colab": {
     "autoexec": {
      "startup": false,
      "wait_interval": 0
     }
    },
    "colab_type": "code",
    "collapsed": true,
    "id": "I01FHJ1e16TR"
   },
   "outputs": [],
   "source": [
    "!mkdir 0 1 2 3 4 5 6 7 8 9"
   ]
  },
  {
   "cell_type": "code",
   "execution_count": 0,
   "metadata": {
    "colab": {
     "autoexec": {
      "startup": false,
      "wait_interval": 0
     }
    },
    "colab_type": "code",
    "collapsed": true,
    "id": "i9AqDyzs16O4"
   },
   "outputs": [],
   "source": [
    "os.chdir('..')"
   ]
  },
  {
   "cell_type": "code",
   "execution_count": 20,
   "metadata": {
    "colab": {
     "autoexec": {
      "startup": false,
      "wait_interval": 0
     },
     "base_uri": "https://localhost:8080/",
     "height": 36
    },
    "colab_type": "code",
    "executionInfo": {
     "elapsed": 1979,
     "status": "ok",
     "timestamp": 1528610947646,
     "user": {
      "displayName": "Md. Tareq Mahmood",
      "photoUrl": "https://lh3.googleusercontent.com/a/default-user=s128",
      "userId": "106821255469937573488"
     },
     "user_tz": -360
    },
    "id": "oY8PAQzD19ik",
    "outputId": "3c5ab6f2-f49b-45ab-f421-d58b42482293"
   },
   "outputs": [
    {
     "name": "stdout",
     "output_type": "stream",
     "text": [
      "0  1  2  3  4  5  6  7\t8  9\r\n"
     ]
    }
   ],
   "source": [
    "!ls valid"
   ]
  },
  {
   "cell_type": "code",
   "execution_count": 0,
   "metadata": {
    "colab": {
     "autoexec": {
      "startup": false,
      "wait_interval": 0
     }
    },
    "colab_type": "code",
    "collapsed": true,
    "id": "yameg2RD19dG"
   },
   "outputs": [],
   "source": [
    "import numpy as np\n",
    "import shutil"
   ]
  },
  {
   "cell_type": "code",
   "execution_count": 0,
   "metadata": {
    "colab": {
     "autoexec": {
      "startup": false,
      "wait_interval": 0
     }
    },
    "colab_type": "code",
    "collapsed": true,
    "id": "kGondRAf19XQ"
   },
   "outputs": [],
   "source": [
    "np.random.seed(1)"
   ]
  },
  {
   "cell_type": "code",
   "execution_count": 0,
   "metadata": {
    "colab": {
     "autoexec": {
      "startup": false,
      "wait_interval": 0
     }
    },
    "colab_type": "code",
    "collapsed": true,
    "id": "EouQqpG82L1M"
   },
   "outputs": [],
   "source": [
    "valid_size = 20000\n",
    "num_classes = 10"
   ]
  },
  {
   "cell_type": "code",
   "execution_count": 0,
   "metadata": {
    "colab": {
     "autoexec": {
      "startup": false,
      "wait_interval": 0
     }
    },
    "colab_type": "code",
    "collapsed": true,
    "id": "_9daVO33fsau"
   },
   "outputs": [],
   "source": [
    "files = {}\n",
    "dirs = [0, 1, 2, 3, 4, 5, 6, 7, 8, 9]\n",
    "lengths = {}\n",
    "for c in dirs:\n",
    "    files[c] = os.listdir('train/' + str(c))\n",
    "    lengths[c] = len(files[c])"
   ]
  },
  {
   "cell_type": "code",
   "execution_count": 25,
   "metadata": {
    "colab": {
     "autoexec": {
      "startup": false,
      "wait_interval": 0
     },
     "base_uri": "https://localhost:8080/",
     "height": 36
    },
    "colab_type": "code",
    "executionInfo": {
     "elapsed": 6954,
     "status": "ok",
     "timestamp": 1528610959569,
     "user": {
      "displayName": "Md. Tareq Mahmood",
      "photoUrl": "https://lh3.googleusercontent.com/a/default-user=s128",
      "userId": "106821255469937573488"
     },
     "user_tz": -360
    },
    "id": "YmDkvCK62M64",
    "outputId": "d2beeed6-fb0d-4ab2-8566-6c81de38d107"
   },
   "outputs": [
    {
     "name": "stdout",
     "output_type": "stream",
     "text": [
      "Processed 20000/20000"
     ]
    }
   ],
   "source": [
    "for i in range(valid_size):\n",
    "    c = np.random.randint(0, num_classes)\n",
    "    fileidx = np.random.randint(0, lengths[c])\n",
    "    file = files[c][fileidx]\n",
    "    del files[c][fileidx]\n",
    "    lengths[c] -= 1\n",
    "    src = 'train/' + str(c) + '/' + file\n",
    "    dst = 'valid/' + str(c) + '/' + file\n",
    "    shutil.move(src, dst)\n",
    "    print('\\rProcessed {}/{}'.format(i + 1, valid_size), end='')"
   ]
  },
  {
   "cell_type": "markdown",
   "metadata": {
    "colab_type": "text",
    "id": "K1DfpvOsxisM"
   },
   "source": [
    "## Going Back "
   ]
  },
  {
   "cell_type": "code",
   "execution_count": 0,
   "metadata": {
    "colab": {
     "autoexec": {
      "startup": false,
      "wait_interval": 0
     }
    },
    "colab_type": "code",
    "collapsed": true,
    "id": "45W2vOQ_2O36"
   },
   "outputs": [],
   "source": [
    "os.chdir('..')"
   ]
  },
  {
   "cell_type": "code",
   "execution_count": 27,
   "metadata": {
    "colab": {
     "autoexec": {
      "startup": false,
      "wait_interval": 0
     },
     "base_uri": "https://localhost:8080/",
     "height": 36
    },
    "colab_type": "code",
    "executionInfo": {
     "elapsed": 2714,
     "status": "ok",
     "timestamp": 1528610969111,
     "user": {
      "displayName": "Md. Tareq Mahmood",
      "photoUrl": "https://lh3.googleusercontent.com/a/default-user=s128",
      "userId": "106821255469937573488"
     },
     "user_tz": -360
    },
    "id": "ifp0pfg72P7j",
    "outputId": "52e93671-e389-469d-ca09-6f9baf9f469c"
   },
   "outputs": [
    {
     "name": "stdout",
     "output_type": "stream",
     "text": [
      "gen_aug_v5.py  test  train  valid\r\n"
     ]
    }
   ],
   "source": [
    "!ls data"
   ]
  },
  {
   "cell_type": "markdown",
   "metadata": {},
   "source": [
    "## File Structure"
   ]
  },
  {
   "cell_type": "markdown",
   "metadata": {},
   "source": [
    "```\n",
    "+--root\n",
    "    |--script.ipynb\n",
    "    +--data\n",
    "        +--train\n",
    "            +--0\n",
    "            +--1\n",
    "            .\n",
    "            .\n",
    "            +--9\n",
    "        +--valid\n",
    "            +--0\n",
    "            +--1\n",
    "            .\n",
    "            .\n",
    "            +--9\n",
    "        +--test\n",
    "        +--models\n",
    "```"
   ]
  },
  {
   "cell_type": "markdown",
   "metadata": {
    "colab_type": "text",
    "id": "JP6KZZke5oAg"
   },
   "source": [
    "## Fastai"
   ]
  },
  {
   "cell_type": "code",
   "execution_count": 0,
   "metadata": {
    "colab": {
     "autoexec": {
      "startup": false,
      "wait_interval": 0
     }
    },
    "colab_type": "code",
    "collapsed": true,
    "id": "JfFZshup5Pe_"
   },
   "outputs": [],
   "source": [
    "# Put these at the top of every notebook, to get automatic reloading and inline plotting\n",
    "%reload_ext autoreload\n",
    "%autoreload 2\n",
    "%matplotlib inline"
   ]
  },
  {
   "cell_type": "code",
   "execution_count": 0,
   "metadata": {
    "colab": {
     "autoexec": {
      "startup": false,
      "wait_interval": 0
     }
    },
    "colab_type": "code",
    "collapsed": true,
    "id": "h1-1pYSv5VTK"
   },
   "outputs": [],
   "source": [
    "# This file contains all the main external libs we'll use\n",
    "from fastai.imports import *"
   ]
  },
  {
   "cell_type": "code",
   "execution_count": 0,
   "metadata": {
    "colab": {
     "autoexec": {
      "startup": false,
      "wait_interval": 0
     }
    },
    "colab_type": "code",
    "collapsed": true,
    "id": "t0OND6lL5XBU"
   },
   "outputs": [],
   "source": [
    "from fastai.transforms import *\n",
    "from fastai.conv_learner import *\n",
    "from fastai.model import *\n",
    "from fastai.dataset import *\n",
    "from fastai.sgdr import *\n",
    "from fastai.plots import *"
   ]
  },
  {
   "cell_type": "code",
   "execution_count": 0,
   "metadata": {
    "colab": {
     "autoexec": {
      "startup": false,
      "wait_interval": 0
     }
    },
    "colab_type": "code",
    "collapsed": true,
    "id": "tMQ8VXMT5YK6"
   },
   "outputs": [],
   "source": [
    "PATH = \"data/\"\n",
    "sz = 224\n",
    "bs = 64"
   ]
  },
  {
   "cell_type": "code",
   "execution_count": 0,
   "metadata": {
    "colab": {
     "autoexec": {
      "startup": false,
      "wait_interval": 0
     }
    },
    "colab_type": "code",
    "collapsed": true,
    "id": "mVMmQTaK5Zpx"
   },
   "outputs": [],
   "source": [
    "arch = resnet34"
   ]
  },
  {
   "cell_type": "code",
   "execution_count": 0,
   "metadata": {
    "colab": {
     "autoexec": {
      "startup": false,
      "wait_interval": 0
     }
    },
    "colab_type": "code",
    "collapsed": true,
    "id": "hnqX7eV36wjA"
   },
   "outputs": [],
   "source": [
    "data = ImageClassifierData.from_paths(PATH, tfms=tfms_from_model(arch, sz), test_name='test')"
   ]
  },
  {
   "cell_type": "code",
   "execution_count": 34,
   "metadata": {
    "colab": {
     "autoexec": {
      "startup": false,
      "wait_interval": 0
     },
     "base_uri": "https://localhost:8080/",
     "height": 55
    },
    "colab_type": "code",
    "executionInfo": {
     "elapsed": 6543,
     "status": "ok",
     "timestamp": 1528610993872,
     "user": {
      "displayName": "Md. Tareq Mahmood",
      "photoUrl": "https://lh3.googleusercontent.com/a/default-user=s128",
      "userId": "106821255469937573488"
     },
     "user_tz": -360
    },
    "id": "JYUBdK8s6gKl",
    "outputId": "9e640198-686a-4a5a-d209-ab5b667f97dd"
   },
   "outputs": [
    {
     "name": "stderr",
     "output_type": "stream",
     "text": [
      "Downloading: \"https://download.pytorch.org/models/resnet34-333f7ec4.pth\" to /content/.torch/models/resnet34-333f7ec4.pth\n",
      "100%|██████████| 87306240/87306240 [00:00<00:00, 99271843.02it/s]\n"
     ]
    }
   ],
   "source": [
    "learn = ConvLearner.pretrained(arch, data, precompute=False)"
   ]
  },
  {
   "cell_type": "code",
   "execution_count": 0,
   "metadata": {
    "colab": {
     "autoexec": {
      "startup": false,
      "wait_interval": 0
     }
    },
    "colab_type": "code",
    "collapsed": true,
    "id": "3R54EQ4i-M3m"
   },
   "outputs": [],
   "source": [
    "learn.unfreeze()"
   ]
  },
  {
   "cell_type": "code",
   "execution_count": 0,
   "metadata": {
    "colab": {
     "autoexec": {
      "startup": false,
      "wait_interval": 0
     }
    },
    "colab_type": "code",
    "collapsed": true,
    "id": "foD039_45J1o"
   },
   "outputs": [],
   "source": [
    "lr = 0.001"
   ]
  },
  {
   "cell_type": "code",
   "execution_count": 0,
   "metadata": {
    "colab": {
     "autoexec": {
      "startup": false,
      "wait_interval": 0
     }
    },
    "colab_type": "code",
    "collapsed": true,
    "id": "vzLMgVxUwysV"
   },
   "outputs": [],
   "source": [
    "epochs = 12"
   ]
  },
  {
   "cell_type": "code",
   "execution_count": 0,
   "metadata": {
    "colab": {
     "autoexec": {
      "startup": false,
      "wait_interval": 0
     },
     "base_uri": "https://localhost:8080/",
     "height": 55
    },
    "colab_type": "code",
    "id": "QvLmuZQ45R_-",
    "outputId": "ce476af0-bda0-4836-8a3e-df653d1dc85e",
    "scrolled": true
   },
   "outputs": [
    {
     "data": {
      "application/vnd.jupyter.widget-view+json": {
       "model_id": "6b6950d500334eceb04888ee84c48d06",
       "version_major": 2,
       "version_minor": 0
      },
      "text/plain": [
       "HBox(children=(IntProgress(value=0, description='Epoch', max=1), HTML(value='')))"
      ]
     },
     "metadata": {
      "tags": []
     },
     "output_type": "display_data"
    },
    {
     "name": "stdout",
     "output_type": "stream",
     "text": [
      "  3%|▎         | 120/4191 [01:49<1:02:10,  1.09it/s, loss=0.0519]"
     ]
    }
   ],
   "source": [
    "history = learn.fit(lr, epochs)"
   ]
  },
  {
   "cell_type": "code",
   "execution_count": 1,
   "metadata": {
    "colab": {
     "autoexec": {
      "startup": false,
      "wait_interval": 0
     },
     "base_uri": "https://localhost:8080/",
     "height": 34
    },
    "colab_type": "code",
    "executionInfo": {
     "elapsed": 831,
     "status": "ok",
     "timestamp": 1528640327921,
     "user": {
      "displayName": "tareq mahmood",
      "photoUrl": "//lh4.googleusercontent.com/-bSmWk1f_Yfs/AAAAAAAAAAI/AAAAAAAAASE/HR-oj-wwbQg/s50-c-k-no/photo.jpg",
      "userId": "108079019697329199714"
     },
     "user_tz": -360
    },
    "id": "swqp9T45E5Uj",
    "outputId": "c709084f-42b1-4346-d4e0-218a0854c9ce"
   },
   "outputs": [
    {
     "name": "stdout",
     "output_type": "stream",
     "text": [
      "history\n"
     ]
    }
   ],
   "source": [
    "print(history)"
   ]
  },
  {
   "cell_type": "code",
   "execution_count": 0,
   "metadata": {
    "colab": {
     "autoexec": {
      "startup": false,
      "wait_interval": 0
     }
    },
    "colab_type": "code",
    "collapsed": true,
    "id": "3Sw5rhLtAAwO"
   },
   "outputs": [],
   "source": [
    "#learn.save('resnet34_augment_v5')"
   ]
  },
  {
   "cell_type": "code",
   "execution_count": 1,
   "metadata": {
    "colab": {
     "autoexec": {
      "startup": false,
      "wait_interval": 0
     },
     "base_uri": "https://localhost:8080/",
     "height": 36
    },
    "colab_type": "code",
    "executionInfo": {
     "elapsed": 7043,
     "status": "ok",
     "timestamp": 1528555268957,
     "user": {
      "displayName": "Md. Tareq Mahmood",
      "photoUrl": "https://lh3.googleusercontent.com/a/default-user=s128",
      "userId": "106821255469937573488"
     },
     "user_tz": -360
    },
    "id": "AUpUWFqZAHmI",
    "outputId": "dabbef5e-98ca-4d66-b315-4454c195b051"
   },
   "outputs": [],
   "source": [
    "#!curl --upload-file data/models/resnet34_augment_v5.h5 https://transfer.sh/resnet34_augment_v5.h5"
   ]
  },
  {
   "cell_type": "code",
   "execution_count": 2,
   "metadata": {
    "colab": {
     "autoexec": {
      "startup": false,
      "wait_interval": 0
     },
     "base_uri": "https://localhost:8080/",
     "height": 51
    },
    "colab_type": "code",
    "executionInfo": {
     "elapsed": 1967,
     "status": "ok",
     "timestamp": 1528640340919,
     "user": {
      "displayName": "tareq mahmood",
      "photoUrl": "//lh4.googleusercontent.com/-bSmWk1f_Yfs/AAAAAAAAAAI/AAAAAAAAASE/HR-oj-wwbQg/s50-c-k-no/photo.jpg",
      "userId": "108079019697329199714"
     },
     "user_tz": -360
    },
    "id": "GKZdsr5nAUBW",
    "outputId": "0b55c403-839e-4fd8-d440-39a8620e9584"
   },
   "outputs": [
    {
     "name": "stdout",
     "output_type": "stream",
     "text": [
      "data\t submission-7.2-resnet34_aug_v5.csv  train_fake.zip\r\n",
      "datalab  test.zip\t\t\t     valid_fake.zip\r\n"
     ]
    }
   ],
   "source": []
  },
  {
   "cell_type": "markdown",
   "metadata": {
    "colab_type": "text",
    "id": "ichnXU-H-d1o"
   },
   "source": [
    "## Test"
   ]
  },
  {
   "cell_type": "code",
   "execution_count": 58,
   "metadata": {
    "colab": {
     "autoexec": {
      "startup": false,
      "wait_interval": 0
     },
     "base_uri": "https://localhost:8080/",
     "height": 36
    },
    "colab_type": "code",
    "executionInfo": {
     "elapsed": 863,
     "status": "ok",
     "timestamp": 1528539495783,
     "user": {
      "displayName": "Md. Tareq Mahmood",
      "photoUrl": "https://lh3.googleusercontent.com/a/default-user=s128",
      "userId": "106821255469937573488"
     },
     "user_tz": -360
    },
    "id": "aSL94FcK8hUF",
    "outputId": "5f891eae-730b-4253-d662-9e4cc89a6ef8"
   },
   "outputs": [
    {
     "data": {
      "text/plain": [
       "['0', '1', '2', '3', '4', '5', '6', '7', '8', '9']"
      ]
     },
     "execution_count": 58,
     "metadata": {
      "tags": []
     },
     "output_type": "execute_result"
    }
   ],
   "source": [
    "data.classes"
   ]
  },
  {
   "cell_type": "code",
   "execution_count": 84,
   "metadata": {
    "colab": {
     "autoexec": {
      "startup": false,
      "wait_interval": 0
     },
     "base_uri": "https://localhost:8080/",
     "height": 17
    },
    "colab_type": "code",
    "executionInfo": {
     "elapsed": 402685,
     "status": "ok",
     "timestamp": 1528555675451,
     "user": {
      "displayName": "Md. Tareq Mahmood",
      "photoUrl": "https://lh3.googleusercontent.com/a/default-user=s128",
      "userId": "106821255469937573488"
     },
     "user_tz": -360
    },
    "id": "XAoLoDlO-jTQ",
    "outputId": "85513c7d-2aad-40a1-8ae1-8730d56380a3"
   },
   "outputs": [
    {
     "name": "stdout",
     "output_type": "stream",
     "text": []
    }
   ],
   "source": [
    "test_preds, _ = learn.TTA(is_test=True)"
   ]
  },
  {
   "cell_type": "code",
   "execution_count": 0,
   "metadata": {
    "colab": {
     "autoexec": {
      "startup": false,
      "wait_interval": 0
     }
    },
    "colab_type": "code",
    "collapsed": true,
    "id": "Wyq9oiSD-rAm"
   },
   "outputs": [],
   "source": [
    "preds = np.mean(test_preds, axis=0)"
   ]
  },
  {
   "cell_type": "code",
   "execution_count": 86,
   "metadata": {
    "colab": {
     "autoexec": {
      "startup": false,
      "wait_interval": 0
     },
     "base_uri": "https://localhost:8080/",
     "height": 36
    },
    "colab_type": "code",
    "executionInfo": {
     "elapsed": 790,
     "status": "ok",
     "timestamp": 1528555704441,
     "user": {
      "displayName": "Md. Tareq Mahmood",
      "photoUrl": "https://lh3.googleusercontent.com/a/default-user=s128",
      "userId": "106821255469937573488"
     },
     "user_tz": -360
    },
    "id": "AqWME3Vl-tLE",
    "outputId": "150fc577-653f-4425-99fb-4431b42a259c"
   },
   "outputs": [
    {
     "data": {
      "text/plain": [
       "(17626, 10)"
      ]
     },
     "execution_count": 86,
     "metadata": {
      "tags": []
     },
     "output_type": "execute_result"
    }
   ],
   "source": [
    "preds.shape"
   ]
  },
  {
   "cell_type": "code",
   "execution_count": 0,
   "metadata": {
    "colab": {
     "autoexec": {
      "startup": false,
      "wait_interval": 0
     }
    },
    "colab_type": "code",
    "collapsed": true,
    "id": "Tr2WLYWT-vET"
   },
   "outputs": [],
   "source": [
    "pred_label = []\n",
    "for i in range(len(preds)):\n",
    "    label = np.argmax(preds[i])\n",
    "    pred_label.append(label)"
   ]
  },
  {
   "cell_type": "code",
   "execution_count": 0,
   "metadata": {
    "colab": {
     "autoexec": {
      "startup": false,
      "wait_interval": 0
     }
    },
    "colab_type": "code",
    "collapsed": true,
    "id": "xMWwmhXz-xOC"
   },
   "outputs": [],
   "source": [
    "pred_key = os.listdir('data/test/')"
   ]
  },
  {
   "cell_type": "code",
   "execution_count": 0,
   "metadata": {
    "colab": {
     "autoexec": {
      "startup": false,
      "wait_interval": 0
     }
    },
    "colab_type": "code",
    "collapsed": true,
    "id": "0BhD94CP-z7O"
   },
   "outputs": [],
   "source": [
    "pred_df = pd.DataFrame({'key': pred_key, 'label': pred_label})"
   ]
  },
  {
   "cell_type": "code",
   "execution_count": 90,
   "metadata": {
    "colab": {
     "autoexec": {
      "startup": false,
      "wait_interval": 0
     },
     "base_uri": "https://localhost:8080/",
     "height": 363
    },
    "colab_type": "code",
    "executionInfo": {
     "elapsed": 1071,
     "status": "ok",
     "timestamp": 1528555711051,
     "user": {
      "displayName": "Md. Tareq Mahmood",
      "photoUrl": "https://lh3.googleusercontent.com/a/default-user=s128",
      "userId": "106821255469937573488"
     },
     "user_tz": -360
    },
    "id": "hlyty0p2-1j9",
    "outputId": "041a70e3-bcce-4258-8c70-ec1170942ba7"
   },
   "outputs": [
    {
     "data": {
      "text/html": [
       "<div>\n",
       "<style scoped>\n",
       "    .dataframe tbody tr th:only-of-type {\n",
       "        vertical-align: middle;\n",
       "    }\n",
       "\n",
       "    .dataframe tbody tr th {\n",
       "        vertical-align: top;\n",
       "    }\n",
       "\n",
       "    .dataframe thead th {\n",
       "        text-align: right;\n",
       "    }\n",
       "</style>\n",
       "<table border=\"1\" class=\"dataframe\">\n",
       "  <thead>\n",
       "    <tr style=\"text-align: right;\">\n",
       "      <th></th>\n",
       "      <th>key</th>\n",
       "      <th>label</th>\n",
       "    </tr>\n",
       "  </thead>\n",
       "  <tbody>\n",
       "    <tr>\n",
       "      <th>0</th>\n",
       "      <td>e00491.png</td>\n",
       "      <td>0</td>\n",
       "    </tr>\n",
       "    <tr>\n",
       "      <th>1</th>\n",
       "      <td>e01297.png</td>\n",
       "      <td>3</td>\n",
       "    </tr>\n",
       "    <tr>\n",
       "      <th>2</th>\n",
       "      <td>a00493.png</td>\n",
       "      <td>5</td>\n",
       "    </tr>\n",
       "    <tr>\n",
       "      <th>3</th>\n",
       "      <td>augc01822.png</td>\n",
       "      <td>1</td>\n",
       "    </tr>\n",
       "    <tr>\n",
       "      <th>4</th>\n",
       "      <td>e02806.png</td>\n",
       "      <td>1</td>\n",
       "    </tr>\n",
       "    <tr>\n",
       "      <th>5</th>\n",
       "      <td>c03199.png</td>\n",
       "      <td>8</td>\n",
       "    </tr>\n",
       "    <tr>\n",
       "      <th>6</th>\n",
       "      <td>b00040.png</td>\n",
       "      <td>8</td>\n",
       "    </tr>\n",
       "    <tr>\n",
       "      <th>7</th>\n",
       "      <td>c00770.png</td>\n",
       "      <td>1</td>\n",
       "    </tr>\n",
       "    <tr>\n",
       "      <th>8</th>\n",
       "      <td>c02556.png</td>\n",
       "      <td>4</td>\n",
       "    </tr>\n",
       "    <tr>\n",
       "      <th>9</th>\n",
       "      <td>auga01934.png</td>\n",
       "      <td>5</td>\n",
       "    </tr>\n",
       "  </tbody>\n",
       "</table>\n",
       "</div>"
      ],
      "text/plain": [
       "             key  label\n",
       "0     e00491.png      0\n",
       "1     e01297.png      3\n",
       "2     a00493.png      5\n",
       "3  augc01822.png      1\n",
       "4     e02806.png      1\n",
       "5     c03199.png      8\n",
       "6     b00040.png      8\n",
       "7     c00770.png      1\n",
       "8     c02556.png      4\n",
       "9  auga01934.png      5"
      ]
     },
     "execution_count": 90,
     "metadata": {
      "tags": []
     },
     "output_type": "execute_result"
    }
   ],
   "source": [
    "pred_df.head(10)"
   ]
  },
  {
   "cell_type": "code",
   "execution_count": 0,
   "metadata": {
    "colab": {
     "autoexec": {
      "startup": false,
      "wait_interval": 0
     }
    },
    "colab_type": "code",
    "collapsed": true,
    "id": "j3_yb47IYls5"
   },
   "outputs": [],
   "source": [
    "pred_df.to_csv('submission-10.5-resnet34_augment_v5_98_686.csv', index=False)"
   ]
  },
  {
   "cell_type": "code",
   "execution_count": 0,
   "metadata": {
    "colab": {
     "autoexec": {
      "startup": false,
      "wait_interval": 0
     }
    },
    "colab_type": "code",
    "collapsed": true,
    "id": "DcuV2Si-ojwe"
   },
   "outputs": [],
   "source": [
    "from google import colab"
   ]
  },
  {
   "cell_type": "code",
   "execution_count": 0,
   "metadata": {
    "colab": {
     "autoexec": {
      "startup": false,
      "wait_interval": 0
     }
    },
    "colab_type": "code",
    "collapsed": true,
    "id": "B78cdAhpong8"
   },
   "outputs": [],
   "source": [
    "colab.files.download('submission-10.5-resnet34_augment_v5_98_686.csv')"
   ]
  },
  {
   "cell_type": "code",
   "execution_count": 2,
   "metadata": {
    "colab": {
     "autoexec": {
      "startup": false,
      "wait_interval": 0
     },
     "base_uri": "https://localhost:8080/",
     "height": 36
    },
    "colab_type": "code",
    "executionInfo": {
     "elapsed": 3716,
     "status": "ok",
     "timestamp": 1528555733366,
     "user": {
      "displayName": "Md. Tareq Mahmood",
      "photoUrl": "https://lh3.googleusercontent.com/a/default-user=s128",
      "userId": "106821255469937573488"
     },
     "user_tz": -360
    },
    "id": "xwZGyl3RZBCX",
    "outputId": "25a0682d-0dfc-4462-aa34-8d65762df1ad"
   },
   "outputs": [],
   "source": [
    "#!curl --upload-file submission-7.1-resnet34_aug_v5.csv https://transfer.sh/submission-7.1-resnet34_aug_v5.csv"
   ]
  },
  {
   "cell_type": "code",
   "execution_count": null,
   "metadata": {
    "collapsed": true
   },
   "outputs": [],
   "source": []
  }
 ],
 "metadata": {
  "accelerator": "GPU",
  "colab": {
   "collapsed_sections": [],
   "default_view": {},
   "name": "numtadb train.ipynb",
   "provenance": [
    {
     "file_id": "1Zi4EGOChQJgtTSeBcNhO2ynrkUn7AAB4",
     "timestamp": 1528376747124
    }
   ],
   "version": "0.3.2",
   "views": {}
  },
  "kernelspec": {
   "display_name": "Python 3",
   "language": "python",
   "name": "python3"
  },
  "language_info": {
   "codemirror_mode": {
    "name": "ipython",
    "version": 3
   },
   "file_extension": ".py",
   "mimetype": "text/x-python",
   "name": "python",
   "nbconvert_exporter": "python",
   "pygments_lexer": "ipython3",
   "version": "3.6.1"
  }
 },
 "nbformat": 4,
 "nbformat_minor": 1
}
