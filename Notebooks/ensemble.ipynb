{
 "cells": [
  {
   "cell_type": "code",
   "execution_count": 60,
   "metadata": {},
   "outputs": [],
   "source": [
    "import matplotlib.pyplot as plt\n",
    "import glob\n",
    "import os\n",
    "import numpy as np\n",
    "import cv2\n",
    "import pandas as pd\n",
    "from tqdm import tqdm"
   ]
  },
  {
   "cell_type": "code",
   "execution_count": 98,
   "metadata": {},
   "outputs": [],
   "source": [
    "sub_files = {}\n",
    "sub_files['submission-resnet34-aug5-98-7-2-resized.csv'] = 0.16680934\n",
    "sub_files['submission-10.2-resnet34_rafid_model2_aug6_2.csv'] = 0.16658859\n",
    "sub_files['submission-10.4-resnet50_augment_7_2_2.csv'] = 0.16658354\n",
    "sub_files['submission-10.5-resnet34_augment_v5_98_686.csv'] = 0.16629538\n",
    "sub_files['submission-9.8-f-resized.csv'] = 0.1669829\n",
    "sub_files['submission-resnet34-aug6-ep2-resized.csv'] = 0.16674025"
   ]
  },
  {
   "cell_type": "code",
   "execution_count": 99,
   "metadata": {},
   "outputs": [
    {
     "name": "stdout",
     "output_type": "stream",
     "text": [
      "loading submission-resnet34-aug5-98-7-2-resized.csv\n",
      "loading submission-10.2-resnet34_rafid_model2_aug6_2.csv\n",
      "loading submission-10.4-resnet50_augment_7_2_2.csv\n",
      "loading submission-10.5-resnet34_augment_v5_98_686.csv\n",
      "loading submission-9.8-f-resized.csv\n",
      "loading submission-resnet34-aug6-ep2-resized.csv\n"
     ]
    }
   ],
   "source": [
    "sub_df = {}\n",
    "for key in sub_files:\n",
    "    print('loading', key)\n",
    "    df = pd.read_csv(key)\n",
    "    df.sort_values('key', inplace=True)\n",
    "    sub_df[key] = df.reset_index(drop=True)"
   ]
  },
  {
   "cell_type": "code",
   "execution_count": 100,
   "metadata": {},
   "outputs": [],
   "source": [
    "n_files = len(sub_files)"
   ]
  },
  {
   "cell_type": "code",
   "execution_count": 101,
   "metadata": {},
   "outputs": [],
   "source": [
    "submit_df = pd.read_csv('sampleSubmission.csv')\n",
    "submit_df.sort_values('key', inplace=True)\n",
    "submit_df = df.reset_index(drop=True)"
   ]
  },
  {
   "cell_type": "code",
   "execution_count": 102,
   "metadata": {
    "scrolled": true
   },
   "outputs": [
    {
     "name": "stderr",
     "output_type": "stream",
     "text": [
      "100%|███████████████████████████████████████████████████████| 17626/17626 [00:11<00:00, 1587.02it/s]\n"
     ]
    }
   ],
   "source": [
    "for i in tqdm(range(len(submit_df)), ncols=100):\n",
    "    key = submit_df.iloc[i, 0]\n",
    "    label_vote = np.zeros((10, 1))\n",
    "    for file, weight in sub_files.items():\n",
    "        df = sub_df[file]\n",
    "        label = df.iloc[i, 1]\n",
    "        label_vote[label] += weight\n",
    "    voted_label = np.argmax(label_vote)\n",
    "    submit_df.iloc[i, 1] = voted_label"
   ]
  },
  {
   "cell_type": "code",
   "execution_count": 103,
   "metadata": {},
   "outputs": [
    {
     "data": {
      "text/html": [
       "<div>\n",
       "<style scoped>\n",
       "    .dataframe tbody tr th:only-of-type {\n",
       "        vertical-align: middle;\n",
       "    }\n",
       "\n",
       "    .dataframe tbody tr th {\n",
       "        vertical-align: top;\n",
       "    }\n",
       "\n",
       "    .dataframe thead th {\n",
       "        text-align: right;\n",
       "    }\n",
       "</style>\n",
       "<table border=\"1\" class=\"dataframe\">\n",
       "  <thead>\n",
       "    <tr style=\"text-align: right;\">\n",
       "      <th></th>\n",
       "      <th>key</th>\n",
       "      <th>label</th>\n",
       "    </tr>\n",
       "  </thead>\n",
       "  <tbody>\n",
       "    <tr>\n",
       "      <th>0</th>\n",
       "      <td>a00000.png</td>\n",
       "      <td>4</td>\n",
       "    </tr>\n",
       "    <tr>\n",
       "      <th>1</th>\n",
       "      <td>a00001.png</td>\n",
       "      <td>9</td>\n",
       "    </tr>\n",
       "    <tr>\n",
       "      <th>2</th>\n",
       "      <td>a00002.png</td>\n",
       "      <td>3</td>\n",
       "    </tr>\n",
       "    <tr>\n",
       "      <th>3</th>\n",
       "      <td>a00003.png</td>\n",
       "      <td>0</td>\n",
       "    </tr>\n",
       "    <tr>\n",
       "      <th>4</th>\n",
       "      <td>a00004.png</td>\n",
       "      <td>4</td>\n",
       "    </tr>\n",
       "  </tbody>\n",
       "</table>\n",
       "</div>"
      ],
      "text/plain": [
       "          key  label\n",
       "0  a00000.png      4\n",
       "1  a00001.png      9\n",
       "2  a00002.png      3\n",
       "3  a00003.png      0\n",
       "4  a00004.png      4"
      ]
     },
     "execution_count": 103,
     "metadata": {},
     "output_type": "execute_result"
    }
   ],
   "source": [
    "submit_df.head()"
   ]
  },
  {
   "cell_type": "code",
   "execution_count": 104,
   "metadata": {},
   "outputs": [],
   "source": [
    "submit_df.to_csv('submission-ensembled-18_6.csv', index=False)"
   ]
  },
  {
   "cell_type": "code",
   "execution_count": null,
   "metadata": {
    "collapsed": true
   },
   "outputs": [],
   "source": []
  }
 ],
 "metadata": {
  "kernelspec": {
   "display_name": "Python 3",
   "language": "python",
   "name": "python3"
  },
  "language_info": {
   "codemirror_mode": {
    "name": "ipython",
    "version": 3
   },
   "file_extension": ".py",
   "mimetype": "text/x-python",
   "name": "python",
   "nbconvert_exporter": "python",
   "pygments_lexer": "ipython3",
   "version": "3.6.4"
  }
 },
 "nbformat": 4,
 "nbformat_minor": 2
}
