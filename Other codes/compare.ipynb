{
  "nbformat": 4,
  "nbformat_minor": 0,
  "metadata": {
    "colab": {
      "name": "compare.ipynb",
      "version": "0.3.2",
      "views": {},
      "default_view": {},
      "provenance": []
    },
    "kernelspec": {
      "display_name": "Python 3",
      "language": "python",
      "name": "python3"
    },
    "accelerator": "GPU"
  },
  "cells": [
    {
      "metadata": {
        "id": "scoey-g8_fQD",
        "colab_type": "code",
        "colab": {
          "autoexec": {
            "startup": false,
            "wait_interval": 0
          },
          "base_uri": "https://localhost:8080/",
          "height": 37
        },
        "outputId": "49aea296-29b9-4705-ee1d-5cdb0be367ed",
        "executionInfo": {
          "status": "ok",
          "timestamp": 1530407929338,
          "user_tz": -360,
          "elapsed": 1859,
          "user": {
            "displayName": "Masum Hasan",
            "photoUrl": "//lh3.googleusercontent.com/-Paf88sL0bM4/AAAAAAAAAAI/AAAAAAAADeU/w9G4fcvOAno/s50-c-k-no/photo.jpg",
            "userId": "107189813580237018080"
          }
        }
      },
      "cell_type": "code",
      "source": [
        "mkdir data"
      ],
      "execution_count": 2,
      "outputs": []
    },
    {
      "metadata": {
        "id": "a1eFzQIzeQ9S",
        "colab_type": "code",
        "colab": {
          "autoexec": {
            "startup": false,
            "wait_interval": 0
          },
          "base_uri": "https://localhost:8080/",
          "height": 474
        },
        "outputId": "71df01b3-93bd-44f0-860c-da5d9856227a",
        "executionInfo": {
          "status": "ok",
          "timestamp": 1530407952406,
          "user_tz": -360,
          "elapsed": 21724,
          "user": {
            "displayName": "Masum Hasan",
            "photoUrl": "//lh3.googleusercontent.com/-Paf88sL0bM4/AAAAAAAAAAI/AAAAAAAADeU/w9G4fcvOAno/s50-c-k-no/photo.jpg",
            "userId": "107189813580237018080"
          }
        }
      },
      "cell_type": "code",
      "source": [
        "!wget https://www.dropbox.com/s/t2ea8g3cjoqdt4r/test.zip && unzip -q test.zip -d data/"
      ],
      "execution_count": 3,
      "outputs": [
        {
          "output_type": "stream",
          "text": [
            "--2018-07-01 01:18:53--  https://www.dropbox.com/s/t2ea8g3cjoqdt4r/test.zip\n",
            "Resolving www.dropbox.com (www.dropbox.com)... 162.125.9.1, 2620:100:6031:1::a27d:5101\n",
            "Connecting to www.dropbox.com (www.dropbox.com)|162.125.9.1|:443... connected.\n",
            "HTTP request sent, awaiting response... 302 Found\n",
            "Location: /s/raw/t2ea8g3cjoqdt4r/test.zip [following]\n",
            "--2018-07-01 01:18:53--  https://www.dropbox.com/s/raw/t2ea8g3cjoqdt4r/test.zip\n",
            "Reusing existing connection to www.dropbox.com:443.\n",
            "HTTP request sent, awaiting response... 302 Found\n",
            "Location: https://uceb3ff9e1c9240ba3bdc925aae9.dl.dropboxusercontent.com/cd/0/inline/AKPaMOTBr-1f26mCcgpGaZN5d-NSaxw3SV7PxP37GD86fFiEU1SaY8doiC4MBFrPvkV-VHnFcl0mNraSyY1Dxxjiec9Go0iIr_BjvMWZGoGqIy8sTLcslmo7MZQj3ialmpbeeKtL4yoI_EE3GkvIZxIkp2_HJY0-iZqhN8pXuzTKU-I-hgUYh28H5LRjZUiQCd8/file [following]\n",
            "--2018-07-01 01:18:53--  https://uceb3ff9e1c9240ba3bdc925aae9.dl.dropboxusercontent.com/cd/0/inline/AKPaMOTBr-1f26mCcgpGaZN5d-NSaxw3SV7PxP37GD86fFiEU1SaY8doiC4MBFrPvkV-VHnFcl0mNraSyY1Dxxjiec9Go0iIr_BjvMWZGoGqIy8sTLcslmo7MZQj3ialmpbeeKtL4yoI_EE3GkvIZxIkp2_HJY0-iZqhN8pXuzTKU-I-hgUYh28H5LRjZUiQCd8/file\n",
            "Resolving uceb3ff9e1c9240ba3bdc925aae9.dl.dropboxusercontent.com (uceb3ff9e1c9240ba3bdc925aae9.dl.dropboxusercontent.com)... 162.125.66.6, 2620:100:601f:6::a27d:906\n",
            "Connecting to uceb3ff9e1c9240ba3bdc925aae9.dl.dropboxusercontent.com (uceb3ff9e1c9240ba3bdc925aae9.dl.dropboxusercontent.com)|162.125.66.6|:443... connected.\n",
            "HTTP request sent, awaiting response... 302 FOUND\n",
            "Location: /cd/0/inline2/AKOo_oBJAHF3D_RVNhyEGDtdfg3gcR7pL_I7XiUWdJ3gWjLELxrOcftfvxPPpt1EiP07RgAGIMgDewY_NUb2pQiFM3xqsvX19Kx6LjDwBQGA3UtcUp8xej3qzbs9bQFe7JeUM-T2zbXZW8Rbw7xD-0HkhSW8FIKWU51wUMST9SAUSSHyrvSoo0yOgaBergftmjHDmDlsL_tG-CfqS1O_bcUVdHL_CCBMo3Mrs8f_HtGJQ6XpaHilQqzN6lrBsI4dz7DxdYZC-TTHxDiPklLaInVQBwtDMBl7rQqjxTuwppKy9W0CFol-UHwhDyD50yF3pFgPitGJ8KWpTcS5HU87VAd4ahxjv4I4tu0nqdL3ooo4zHNwiEZiMI3Dc5PAu2BFDpPFbGzZoq_ssNZzPNC8sMaVuGDfqPl6wc12JoHE2VWyRdvchj9uPfGRGBBnUthl494/file [following]\n",
            "--2018-07-01 01:18:54--  https://uceb3ff9e1c9240ba3bdc925aae9.dl.dropboxusercontent.com/cd/0/inline2/AKOo_oBJAHF3D_RVNhyEGDtdfg3gcR7pL_I7XiUWdJ3gWjLELxrOcftfvxPPpt1EiP07RgAGIMgDewY_NUb2pQiFM3xqsvX19Kx6LjDwBQGA3UtcUp8xej3qzbs9bQFe7JeUM-T2zbXZW8Rbw7xD-0HkhSW8FIKWU51wUMST9SAUSSHyrvSoo0yOgaBergftmjHDmDlsL_tG-CfqS1O_bcUVdHL_CCBMo3Mrs8f_HtGJQ6XpaHilQqzN6lrBsI4dz7DxdYZC-TTHxDiPklLaInVQBwtDMBl7rQqjxTuwppKy9W0CFol-UHwhDyD50yF3pFgPitGJ8KWpTcS5HU87VAd4ahxjv4I4tu0nqdL3ooo4zHNwiEZiMI3Dc5PAu2BFDpPFbGzZoq_ssNZzPNC8sMaVuGDfqPl6wc12JoHE2VWyRdvchj9uPfGRGBBnUthl494/file\n",
            "Reusing existing connection to uceb3ff9e1c9240ba3bdc925aae9.dl.dropboxusercontent.com:443.\n",
            "HTTP request sent, awaiting response... 200 OK\n",
            "Length: 338612331 (323M) [application/zip]\n",
            "Saving to: ‘test.zip’\n",
            "\n",
            "test.zip             37%[======>             ] 120.37M  21.3MB/s    eta 11s    "
          ],
          "name": "stdout"
        },
        {
          "output_type": "stream",
          "text": [
            "test.zip            100%[===================>] 322.93M  29.6MB/s    in 14s     \n",
            "\n",
            "2018-07-01 01:19:09 (23.8 MB/s) - ‘test.zip’ saved [338612331/338612331]\n",
            "\n"
          ],
          "name": "stdout"
        }
      ]
    },
    {
      "metadata": {
        "id": "kdLGamW3e2Yq",
        "colab_type": "code",
        "colab": {
          "autoexec": {
            "startup": false,
            "wait_interval": 0
          },
          "base_uri": "https://localhost:8080/",
          "height": 35
        },
        "outputId": "15244f09-5a76-4ff0-b567-7c5a346ee883",
        "executionInfo": {
          "status": "ok",
          "timestamp": 1530407954339,
          "user_tz": -360,
          "elapsed": 1845,
          "user": {
            "displayName": "Masum Hasan",
            "photoUrl": "//lh3.googleusercontent.com/-Paf88sL0bM4/AAAAAAAAAAI/AAAAAAAADeU/w9G4fcvOAno/s50-c-k-no/photo.jpg",
            "userId": "107189813580237018080"
          }
        }
      },
      "cell_type": "code",
      "source": [
        "ls data"
      ],
      "execution_count": 4,
      "outputs": [
        {
          "output_type": "stream",
          "text": [
            "\u001b[0m\u001b[01;34mtest\u001b[0m/\r\n"
          ],
          "name": "stdout"
        }
      ]
    },
    {
      "metadata": {
        "id": "f2KsAo0meCCp",
        "colab_type": "code",
        "colab": {
          "autoexec": {
            "startup": false,
            "wait_interval": 0
          },
          "base_uri": "https://localhost:8080/",
          "height": 37
        },
        "outputId": "9e9539ad-8cd4-4d40-bbf4-28bd75f1c0d3",
        "executionInfo": {
          "status": "ok",
          "timestamp": 1530407955286,
          "user_tz": -360,
          "elapsed": 771,
          "user": {
            "displayName": "Masum Hasan",
            "photoUrl": "//lh3.googleusercontent.com/-Paf88sL0bM4/AAAAAAAAAAI/AAAAAAAADeU/w9G4fcvOAno/s50-c-k-no/photo.jpg",
            "userId": "107189813580237018080"
          }
        }
      },
      "cell_type": "code",
      "source": [
        "import matplotlib.pyplot as plt\n",
        "import glob"
      ],
      "execution_count": 5,
      "outputs": []
    },
    {
      "metadata": {
        "id": "GO0zen0LeCCw",
        "colab_type": "code",
        "colab": {
          "autoexec": {
            "startup": false,
            "wait_interval": 0
          },
          "base_uri": "https://localhost:8080/",
          "height": 37
        },
        "outputId": "84146bea-ad21-4eb0-dd8c-6ddbffd59a44",
        "executionInfo": {
          "status": "ok",
          "timestamp": 1530407961761,
          "user_tz": -360,
          "elapsed": 6005,
          "user": {
            "displayName": "Masum Hasan",
            "photoUrl": "//lh3.googleusercontent.com/-Paf88sL0bM4/AAAAAAAAAAI/AAAAAAAADeU/w9G4fcvOAno/s50-c-k-no/photo.jpg",
            "userId": "107189813580237018080"
          }
        }
      },
      "cell_type": "code",
      "source": [
        "import os"
      ],
      "execution_count": 6,
      "outputs": []
    },
    {
      "metadata": {
        "id": "0WfA_GdyeCCz",
        "colab_type": "code",
        "colab": {
          "autoexec": {
            "startup": false,
            "wait_interval": 0
          },
          "base_uri": "https://localhost:8080/",
          "height": 37
        },
        "outputId": "9af20b44-b56d-4457-b135-50cda2f969c9",
        "executionInfo": {
          "status": "ok",
          "timestamp": 1530407962871,
          "user_tz": -360,
          "elapsed": 710,
          "user": {
            "displayName": "Masum Hasan",
            "photoUrl": "//lh3.googleusercontent.com/-Paf88sL0bM4/AAAAAAAAAAI/AAAAAAAADeU/w9G4fcvOAno/s50-c-k-no/photo.jpg",
            "userId": "107189813580237018080"
          }
        }
      },
      "cell_type": "code",
      "source": [
        "import numpy as np"
      ],
      "execution_count": 7,
      "outputs": []
    },
    {
      "metadata": {
        "id": "ZNXcf_LieCC2",
        "colab_type": "code",
        "colab": {
          "autoexec": {
            "startup": false,
            "wait_interval": 0
          },
          "base_uri": "https://localhost:8080/",
          "height": 37
        },
        "outputId": "bc25025d-90fd-4663-d45f-0b0baa0f7b30",
        "executionInfo": {
          "status": "ok",
          "timestamp": 1530407964321,
          "user_tz": -360,
          "elapsed": 1124,
          "user": {
            "displayName": "Masum Hasan",
            "photoUrl": "//lh3.googleusercontent.com/-Paf88sL0bM4/AAAAAAAAAAI/AAAAAAAADeU/w9G4fcvOAno/s50-c-k-no/photo.jpg",
            "userId": "107189813580237018080"
          }
        }
      },
      "cell_type": "code",
      "source": [
        "import cv2"
      ],
      "execution_count": 8,
      "outputs": []
    },
    {
      "metadata": {
        "id": "ztMa3czLeCC6",
        "colab_type": "code",
        "colab": {
          "autoexec": {
            "startup": false,
            "wait_interval": 0
          },
          "base_uri": "https://localhost:8080/",
          "height": 37
        },
        "outputId": "bc43988f-4bd3-4c8c-ab4d-54729e05cd28",
        "executionInfo": {
          "status": "ok",
          "timestamp": 1530407965445,
          "user_tz": -360,
          "elapsed": 818,
          "user": {
            "displayName": "Masum Hasan",
            "photoUrl": "//lh3.googleusercontent.com/-Paf88sL0bM4/AAAAAAAAAAI/AAAAAAAADeU/w9G4fcvOAno/s50-c-k-no/photo.jpg",
            "userId": "107189813580237018080"
          }
        }
      },
      "cell_type": "code",
      "source": [
        "import pandas as pd"
      ],
      "execution_count": 9,
      "outputs": []
    },
    {
      "metadata": {
        "id": "E6tVBbYZeCC9",
        "colab_type": "code",
        "colab": {
          "autoexec": {
            "startup": false,
            "wait_interval": 0
          },
          "base_uri": "https://localhost:8080/",
          "height": 108
        },
        "outputId": "92fc01b5-1dc9-422e-ba6d-d2f55861ebee",
        "executionInfo": {
          "status": "ok",
          "timestamp": 1530407996985,
          "user_tz": -360,
          "elapsed": 31105,
          "user": {
            "displayName": "Masum Hasan",
            "photoUrl": "//lh3.googleusercontent.com/-Paf88sL0bM4/AAAAAAAAAAI/AAAAAAAADeU/w9G4fcvOAno/s50-c-k-no/photo.jpg",
            "userId": "107189813580237018080"
          }
        }
      },
      "cell_type": "code",
      "source": [
        "from google.colab import files\n",
        "f = files.upload()"
      ],
      "execution_count": 10,
      "outputs": [
        {
          "output_type": "display_data",
          "data": {
            "text/html": [
              "\n",
              "     <input type=\"file\" id=\"files-ebf2ccc8-d6de-4948-a903-050c3b1f46e4\" name=\"files[]\" multiple disabled />\n",
              "     <output id=\"result-ebf2ccc8-d6de-4948-a903-050c3b1f46e4\">\n",
              "      Upload widget is only available when the cell has been executed in the\n",
              "      current browser session. Please rerun this cell to enable.\n",
              "      </output>\n",
              "      <script src=\"/nbextensions/google.colab/files.js\"></script> "
            ],
            "text/plain": [
              "<IPython.core.display.HTML object>"
            ]
          },
          "metadata": {
            "tags": []
          }
        },
        {
          "output_type": "stream",
          "text": [
            "Saving submission-ensembled-12_6.csv to submission-ensembled-12_6.csv\n",
            "Saving submission-ensembled-11_6.csv to submission-ensembled-11_6.csv\n"
          ],
          "name": "stdout"
        }
      ]
    },
    {
      "metadata": {
        "id": "WgAXbXtaeCDA",
        "colab_type": "code",
        "colab": {
          "autoexec": {
            "startup": false,
            "wait_interval": 0
          },
          "base_uri": "https://localhost:8080/",
          "height": 37
        },
        "outputId": "291cfd56-6125-4b03-8071-5897e69d755a",
        "executionInfo": {
          "status": "ok",
          "timestamp": 1530408000747,
          "user_tz": -360,
          "elapsed": 766,
          "user": {
            "displayName": "Masum Hasan",
            "photoUrl": "//lh3.googleusercontent.com/-Paf88sL0bM4/AAAAAAAAAAI/AAAAAAAADeU/w9G4fcvOAno/s50-c-k-no/photo.jpg",
            "userId": "107189813580237018080"
          }
        }
      },
      "cell_type": "code",
      "source": [
        "sub_file1 = 'submission-ensembled-12_6.csv'\n",
        "sub_file2 = 'submission-ensembled-11_6.csv'"
      ],
      "execution_count": 11,
      "outputs": []
    },
    {
      "metadata": {
        "id": "LkurfLKieCDD",
        "colab_type": "code",
        "colab": {
          "autoexec": {
            "startup": false,
            "wait_interval": 0
          },
          "base_uri": "https://localhost:8080/",
          "height": 37
        },
        "outputId": "691bce93-32d8-4ef5-a6d6-f368426f59f4",
        "executionInfo": {
          "status": "ok",
          "timestamp": 1530408003352,
          "user_tz": -360,
          "elapsed": 1052,
          "user": {
            "displayName": "Masum Hasan",
            "photoUrl": "//lh3.googleusercontent.com/-Paf88sL0bM4/AAAAAAAAAAI/AAAAAAAADeU/w9G4fcvOAno/s50-c-k-no/photo.jpg",
            "userId": "107189813580237018080"
          }
        }
      },
      "cell_type": "code",
      "source": [
        "pred1 = pd.read_csv(sub_file1)\n",
        "pred2 = pd.read_csv(sub_file2)"
      ],
      "execution_count": 12,
      "outputs": []
    },
    {
      "metadata": {
        "id": "OV-54HEAeCDH",
        "colab_type": "code",
        "colab": {
          "autoexec": {
            "startup": false,
            "wait_interval": 0
          },
          "base_uri": "https://localhost:8080/",
          "height": 37
        },
        "outputId": "d08c257d-d6d3-4728-8a46-8c12617bc422",
        "executionInfo": {
          "status": "ok",
          "timestamp": 1530408004662,
          "user_tz": -360,
          "elapsed": 758,
          "user": {
            "displayName": "Masum Hasan",
            "photoUrl": "//lh3.googleusercontent.com/-Paf88sL0bM4/AAAAAAAAAAI/AAAAAAAADeU/w9G4fcvOAno/s50-c-k-no/photo.jpg",
            "userId": "107189813580237018080"
          }
        }
      },
      "cell_type": "code",
      "source": [
        "pred = [pred1, pred2]"
      ],
      "execution_count": 13,
      "outputs": []
    },
    {
      "metadata": {
        "id": "Mk1DAIk_eCDS",
        "colab_type": "code",
        "colab": {
          "autoexec": {
            "startup": false,
            "wait_interval": 0
          },
          "base_uri": "https://localhost:8080/",
          "height": 37
        },
        "outputId": "41087bf9-985a-4b3e-a55a-c0244309844b",
        "executionInfo": {
          "status": "ok",
          "timestamp": 1530408006181,
          "user_tz": -360,
          "elapsed": 788,
          "user": {
            "displayName": "Masum Hasan",
            "photoUrl": "//lh3.googleusercontent.com/-Paf88sL0bM4/AAAAAAAAAAI/AAAAAAAADeU/w9G4fcvOAno/s50-c-k-no/photo.jpg",
            "userId": "107189813580237018080"
          }
        }
      },
      "cell_type": "code",
      "source": [
        "test_folder = 'data/test/'"
      ],
      "execution_count": 14,
      "outputs": []
    },
    {
      "metadata": {
        "id": "Ln8lJ5bweCDW",
        "colab_type": "code",
        "colab": {
          "autoexec": {
            "startup": false,
            "wait_interval": 0
          },
          "base_uri": "https://localhost:8080/",
          "height": 37
        },
        "outputId": "4141ee96-62c0-4e5e-d250-d20df4b8ca29",
        "executionInfo": {
          "status": "ok",
          "timestamp": 1530408007823,
          "user_tz": -360,
          "elapsed": 1183,
          "user": {
            "displayName": "Masum Hasan",
            "photoUrl": "//lh3.googleusercontent.com/-Paf88sL0bM4/AAAAAAAAAAI/AAAAAAAADeU/w9G4fcvOAno/s50-c-k-no/photo.jpg",
            "userId": "107189813580237018080"
          }
        }
      },
      "cell_type": "code",
      "source": [
        "files = os.listdir(test_folder)"
      ],
      "execution_count": 15,
      "outputs": []
    },
    {
      "metadata": {
        "id": "qQFOtNK0eCDb",
        "colab_type": "code",
        "colab": {
          "autoexec": {
            "startup": false,
            "wait_interval": 0
          },
          "base_uri": "https://localhost:8080/",
          "height": 37
        },
        "outputId": "439553a2-cf7e-4fdd-ef58-21af90c0b991",
        "executionInfo": {
          "status": "ok",
          "timestamp": 1530408010679,
          "user_tz": -360,
          "elapsed": 981,
          "user": {
            "displayName": "Masum Hasan",
            "photoUrl": "//lh3.googleusercontent.com/-Paf88sL0bM4/AAAAAAAAAAI/AAAAAAAADeU/w9G4fcvOAno/s50-c-k-no/photo.jpg",
            "userId": "107189813580237018080"
          }
        }
      },
      "cell_type": "code",
      "source": [
        "n = len(files)"
      ],
      "execution_count": 16,
      "outputs": []
    },
    {
      "metadata": {
        "id": "kFkk5BA9eCDh",
        "colab_type": "code",
        "colab": {
          "autoexec": {
            "startup": false,
            "wait_interval": 0
          },
          "base_uri": "https://localhost:8080/",
          "height": 37
        },
        "outputId": "93a4373b-c564-4f11-997c-4d623ff5a62e",
        "executionInfo": {
          "status": "ok",
          "timestamp": 1530408011934,
          "user_tz": -360,
          "elapsed": 742,
          "user": {
            "displayName": "Masum Hasan",
            "photoUrl": "//lh3.googleusercontent.com/-Paf88sL0bM4/AAAAAAAAAAI/AAAAAAAADeU/w9G4fcvOAno/s50-c-k-no/photo.jpg",
            "userId": "107189813580237018080"
          }
        }
      },
      "cell_type": "code",
      "source": [
        "i = 0"
      ],
      "execution_count": 17,
      "outputs": []
    },
    {
      "metadata": {
        "id": "gs0sstxheCDx",
        "colab_type": "code",
        "colab": {
          "autoexec": {
            "startup": false,
            "wait_interval": 0
          },
          "base_uri": "https://localhost:8080/",
          "height": 35
        },
        "outputId": "5b8d3bf8-d312-4ed0-c7da-a972631f2d9c",
        "executionInfo": {
          "status": "ok",
          "timestamp": 1530408101074,
          "user_tz": -360,
          "elapsed": 88858,
          "user": {
            "displayName": "Masum Hasan",
            "photoUrl": "//lh3.googleusercontent.com/-Paf88sL0bM4/AAAAAAAAAAI/AAAAAAAADeU/w9G4fcvOAno/s50-c-k-no/photo.jpg",
            "userId": "107189813580237018080"
          }
        }
      },
      "cell_type": "code",
      "source": [
        "count = 0\n",
        "while i < n:\n",
        "    print('\\rProcessed {}/{}'.format(i + 1, n), end='')\n",
        "    labels = []\n",
        "    for c in range(len(pred)):\n",
        "        label = pred[c].loc[pred[c].key == files[i]].iloc[0]['label']\n",
        "        labels.append(label)\n",
        "    if labels[0] == labels[1]:\n",
        "        i = i + 1\n",
        "        continue\n",
        "    print()\n",
        "    print(labels)\n",
        "    filepath = test_folder + files[i]\n",
        "    img = cv2.imread(filepath)\n",
        "    img = cv2.resize(img, (100, 100))\n",
        "    img = cv2.cvtColor(img, cv2.COLOR_BGR2RGB)\n",
        "    plt.imshow(img)\n",
        "    plt.show()\n",
        "    i = i + 1\n",
        "    count += 1"
      ],
      "execution_count": 18,
      "outputs": [
        {
          "output_type": "stream",
          "text": [
            "Processed 17626/17626"
          ],
          "name": "stdout"
        }
      ]
    },
    {
      "metadata": {
        "id": "8M6LzMWxeCD5",
        "colab_type": "code",
        "colab": {
          "autoexec": {
            "startup": false,
            "wait_interval": 0
          },
          "base_uri": "https://localhost:8080/",
          "height": 35
        },
        "outputId": "0b6fe6bf-3cf8-4be7-8fba-f00267fe1e6b",
        "executionInfo": {
          "status": "ok",
          "timestamp": 1530408101999,
          "user_tz": -360,
          "elapsed": 860,
          "user": {
            "displayName": "Masum Hasan",
            "photoUrl": "//lh3.googleusercontent.com/-Paf88sL0bM4/AAAAAAAAAAI/AAAAAAAADeU/w9G4fcvOAno/s50-c-k-no/photo.jpg",
            "userId": "107189813580237018080"
          }
        }
      },
      "cell_type": "code",
      "source": [
        "print(count)"
      ],
      "execution_count": 19,
      "outputs": [
        {
          "output_type": "stream",
          "text": [
            "0\n"
          ],
          "name": "stdout"
        }
      ]
    },
    {
      "metadata": {
        "id": "dKfEihYyeCD_",
        "colab_type": "code",
        "colab": {
          "autoexec": {
            "startup": false,
            "wait_interval": 0
          }
        }
      },
      "cell_type": "code",
      "source": [
        ""
      ],
      "execution_count": 0,
      "outputs": []
    },
    {
      "metadata": {
        "id": "1P8_irSMeCED",
        "colab_type": "code",
        "colab": {
          "autoexec": {
            "startup": false,
            "wait_interval": 0
          }
        }
      },
      "cell_type": "code",
      "source": [
        ""
      ],
      "execution_count": 0,
      "outputs": []
    },
    {
      "metadata": {
        "id": "fGod1_MZeCEI",
        "colab_type": "code",
        "colab": {
          "autoexec": {
            "startup": false,
            "wait_interval": 0
          }
        }
      },
      "cell_type": "code",
      "source": [
        ""
      ],
      "execution_count": 0,
      "outputs": []
    },
    {
      "metadata": {
        "id": "-5AhuPPmeCEM",
        "colab_type": "code",
        "colab": {
          "autoexec": {
            "startup": false,
            "wait_interval": 0
          }
        }
      },
      "cell_type": "code",
      "source": [
        ""
      ],
      "execution_count": 0,
      "outputs": []
    },
    {
      "metadata": {
        "id": "koC6VOEqeCEP",
        "colab_type": "code",
        "colab": {
          "autoexec": {
            "startup": false,
            "wait_interval": 0
          }
        }
      },
      "cell_type": "code",
      "source": [
        ""
      ],
      "execution_count": 0,
      "outputs": []
    },
    {
      "metadata": {
        "id": "nEVJl2NKeCER",
        "colab_type": "code",
        "colab": {
          "autoexec": {
            "startup": false,
            "wait_interval": 0
          }
        }
      },
      "cell_type": "code",
      "source": [
        ""
      ],
      "execution_count": 0,
      "outputs": []
    },
    {
      "metadata": {
        "id": "ebloHxV-eCEU",
        "colab_type": "code",
        "colab": {
          "autoexec": {
            "startup": false,
            "wait_interval": 0
          }
        }
      },
      "cell_type": "code",
      "source": [
        ""
      ],
      "execution_count": 0,
      "outputs": []
    },
    {
      "metadata": {
        "id": "Q3e0yDxteCEX",
        "colab_type": "code",
        "colab": {
          "autoexec": {
            "startup": false,
            "wait_interval": 0
          }
        },
        "outputId": "5b892aac-c01e-4103-eeeb-4eea9cc8f57a"
      },
      "cell_type": "code",
      "source": [
        "fig, ax = plt.subplots(nrows=2, ncols=2)\n",
        "for row in ax:\n",
        "    c = 0\n",
        "    i = cnt\n",
        "    cnt = (cnt + 1) % n\n",
        "    labels = []\n",
        "    for col in row:\n",
        "        label = pred[c].loc[pred[c].key == files[i]].iloc[0]['label']\n",
        "        labels.append(label)\n",
        "        filepath = test_folder + files[i]\n",
        "        img = cv2.imread(filepath, 0)\n",
        "        img = cv2.resize(img, (100, 100))\n",
        "        col.set_title('Label: ' + str(label))\n",
        "        col.imshow(img, cmap='gray')\n",
        "        c += 1\n",
        "fig.subplots_adjust(hspace=0.5)\n",
        "plt.show()"
      ],
      "execution_count": 0,
      "outputs": [
        {
          "output_type": "display_data",
          "data": {
            "image/png": "[encoded data removed]",
            "text/plain": [
              "<matplotlib.figure.Figure at 0x266ac9d2860>"
            ]
          },
          "metadata": {
            "tags": []
          }
        }
      ]
    },
    {
      "metadata": {
        "id": "cdmoWjLveCEa",
        "colab_type": "code",
        "colab": {
          "autoexec": {
            "startup": false,
            "wait_interval": 0
          }
        },
        "outputId": "b0b3b0ca-93a2-4d57-d44c-dc9e50883631"
      },
      "cell_type": "code",
      "source": [
        "cnt"
      ],
      "execution_count": 0,
      "outputs": [
        {
          "output_type": "execute_result",
          "data": {
            "text/plain": [
              "60"
            ]
          },
          "metadata": {
            "tags": []
          },
          "execution_count": 196
        }
      ]
    },
    {
      "metadata": {
        "id": "Nw2yv0zXeCEf",
        "colab_type": "code",
        "colab": {
          "autoexec": {
            "startup": false,
            "wait_interval": 0
          }
        }
      },
      "cell_type": "code",
      "source": [
        "both_wrong = 3"
      ],
      "execution_count": 0,
      "outputs": []
    },
    {
      "metadata": {
        "id": "cLxDZ7CpeCEk",
        "colab_type": "code",
        "colab": {
          "autoexec": {
            "startup": false,
            "wait_interval": 0
          }
        }
      },
      "cell_type": "code",
      "source": [
        "only_resnet30_correct = 6"
      ],
      "execution_count": 0,
      "outputs": []
    },
    {
      "metadata": {
        "id": "S_B6of_CeCEp",
        "colab_type": "code",
        "colab": {
          "autoexec": {
            "startup": false,
            "wait_interval": 0
          }
        }
      },
      "cell_type": "code",
      "source": [
        "only_resnet50_correct = 7"
      ],
      "execution_count": 0,
      "outputs": []
    },
    {
      "metadata": {
        "id": "LvI5TABLeCEv",
        "colab_type": "code",
        "colab": {
          "autoexec": {
            "startup": false,
            "wait_interval": 0
          }
        }
      },
      "cell_type": "code",
      "source": [
        ""
      ],
      "execution_count": 0,
      "outputs": []
    }
  ]
}