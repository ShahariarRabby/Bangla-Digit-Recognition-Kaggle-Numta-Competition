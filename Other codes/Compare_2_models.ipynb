{
  "nbformat": 4,
  "nbformat_minor": 0,
  "metadata": {
    "colab": {
      "name": "Compare 2 models.ipynb",
      "version": "0.3.2",
      "views": {},
      "default_view": {},
      "provenance": [],
      "collapsed_sections": []
    },
    "kernelspec": {
      "name": "python3",
      "display_name": "Python 3"
    }
  },
  "cells": [
    {
      "metadata": {
        "id": "_6Da6o4CuOq4",
        "colab_type": "code",
        "colab": {
          "autoexec": {
            "startup": false,
            "wait_interval": 0
          }
        }
      },
      "cell_type": "code",
      "source": [
        "!mkdir data\n",
        "!wget https://www.dropbox.com/s/t2ea8g3cjoqdt4r/test.zip && unzip -q test.zip -d data/"
      ],
      "execution_count": 0,
      "outputs": []
    },
    {
      "metadata": {
        "id": "v0QCtt51vM3u",
        "colab_type": "code",
        "colab": {
          "autoexec": {
            "startup": false,
            "wait_interval": 0
          },
          "base_uri": "https://localhost:8080/",
          "height": 106
        },
        "outputId": "a21a2f63-5a00-410f-b3d0-f41cd66be9ec",
        "executionInfo": {
          "status": "ok",
          "timestamp": 1530346453272,
          "user_tz": -360,
          "elapsed": 27670,
          "user": {
            "displayName": "Masum Hasan",
            "photoUrl": "//lh3.googleusercontent.com/-Paf88sL0bM4/AAAAAAAAAAI/AAAAAAAADeU/w9G4fcvOAno/s50-c-k-no/photo.jpg",
            "userId": "107189813580237018080"
          }
        }
      },
      "cell_type": "code",
      "source": [
        "from google.colab import files\n",
        "f = files.upload()"
      ],
      "execution_count": 4,
      "outputs": [
        {
          "output_type": "display_data",
          "data": {
            "text/html": [
              "\n",
              "     <input type=\"file\" id=\"files-aa2c8209-76a6-4431-a630-3b172ddbe77a\" name=\"files[]\" multiple disabled />\n",
              "     <output id=\"result-aa2c8209-76a6-4431-a630-3b172ddbe77a\">\n",
              "      Upload widget is only available when the cell has been executed in the\n",
              "      current browser session. Please rerun this cell to enable.\n",
              "      </output>\n",
              "      <script src=\"/nbextensions/google.colab/files.js\"></script> "
            ],
            "text/plain": [
              "<IPython.core.display.HTML object>"
            ]
          },
          "metadata": {
            "tags": []
          }
        },
        {
          "output_type": "stream",
          "text": [
            "Saving submission-10.2-resnet34_rafid_model2_aug6_2.csv to submission-10.2-resnet34_rafid_model2_aug6_2.csv\n",
            "Saving submission-ensembled-8.csv to submission-ensembled-8.csv\n"
          ],
          "name": "stdout"
        }
      ]
    },
    {
      "metadata": {
        "id": "4_W6pHmuuUPW",
        "colab_type": "code",
        "colab": {
          "autoexec": {
            "startup": false,
            "wait_interval": 0
          },
          "base_uri": "https://localhost:8080/",
          "height": 3740
        },
        "outputId": "593b442e-e7c3-4294-d369-f3956f58ac65",
        "executionInfo": {
          "status": "ok",
          "timestamp": 1530347856970,
          "user_tz": -360,
          "elapsed": 78089,
          "user": {
            "displayName": "Masum Hasan",
            "photoUrl": "//lh3.googleusercontent.com/-Paf88sL0bM4/AAAAAAAAAAI/AAAAAAAADeU/w9G4fcvOAno/s50-c-k-no/photo.jpg",
            "userId": "107189813580237018080"
          }
        }
      },
      "cell_type": "code",
      "source": [
        "import pandas as pd\n",
        "import numpy as np\n",
        "import matplotlib.pyplot as plt\n",
        "\n",
        "file_1 = \"submission-10.2-resnet34_rafid_model2_aug6_2.csv\"\n",
        "file_2 = \"submission-ensembled-8.csv\"\n",
        "df_1 = pd.read_csv(file_1)\n",
        "df_2 = pd.read_csv(file_2)\n",
        "image_list = df_1['key'].unique()\n",
        "\n",
        "for img in image_list:\n",
        "  #print(int(df_1.loc[df_1['key'] == img]['label']))\n",
        "  if int(df_1.loc[df_1['key'] == img]['label']) != int(df_2.loc[df_2['key'] == img]['label']):\n",
        "    print(\"file 1\",df_1.loc[df_1['key']==img], end='')\n",
        "    print(\"file 2\",df_2.loc[df_2['key']==img])\n",
        "    \n",
        "    #plt.imshow(\"data/test/\"+df_new_1['key'], cmap='gray')\n",
        "  "
      ],
      "execution_count": 17,
      "outputs": [
        {
          "output_type": "stream",
          "text": [
            "file 1                key  label\n",
            "271  augc01941.png      9file 2                 key  label\n",
            "7598  augc01941.png      5\n",
            "file 1                key  label\n",
            "293  auga00076.png      1file 2                 key  label\n",
            "3565  auga00076.png      7\n",
            "file 1                key  label\n",
            "484  auga01903.png      4file 2                 key  label\n",
            "5392  auga01903.png      5\n",
            "file 1                 key  label\n",
            "1670  auga00919.png      7file 2                 key  label\n",
            "4408  auga00919.png      5\n",
            "file 1                 key  label\n",
            "1736  auga00459.png      6file 2                 key  label\n",
            "3948  auga00459.png      3\n",
            "file 1              key  label\n",
            "1773  a02133.png      4file 2              key  label\n",
            "2133  a02133.png      5\n",
            "file 1              key  label\n",
            "1895  e00979.png      3file 2               key  label\n",
            "15140  e00979.png      8\n",
            "file 1                 key  label\n",
            "1947  augc01507.png      1file 2                 key  label\n",
            "7164  augc01507.png      9\n",
            "file 1                 key  label\n",
            "2301  augc02012.png      9file 2                 key  label\n",
            "7669  augc02012.png      7\n",
            "file 1              key  label\n",
            "2343  d01247.png      1file 2               key  label\n",
            "13460  d01247.png      4\n",
            "file 1              key  label\n",
            "2491  f00218.png      9file 2               key  label\n",
            "17349  f00218.png      8\n",
            "file 1                 key  label\n",
            "2593  augc00595.png      1file 2                 key  label\n",
            "6252  augc00595.png      9\n",
            "file 1              key  label\n",
            "3187  e01305.png      1file 2               key  label\n",
            "15466  e01305.png      2\n",
            "file 1                 key  label\n",
            "3233  auga01781.png      5file 2                 key  label\n",
            "5270  auga01781.png      4\n",
            "file 1              key  label\n",
            "3451  f00105.JPG      5file 2               key  label\n",
            "17236  f00105.JPG      1\n",
            "file 1                 key  label\n",
            "3709  augc01211.png      6file 2                 key  label\n",
            "6868  augc01211.png      5\n",
            "file 1                 key  label\n",
            "3875  augc00895.png      1file 2                 key  label\n",
            "6552  augc00895.png      3\n",
            "file 1              key  label\n",
            "3996  c02677.png      9file 2               key  label\n",
            "10509  c02677.png      8\n",
            "file 1              key  label\n",
            "4516  f00178.png      9file 2               key  label\n",
            "17309  f00178.png      8\n",
            "file 1                 key  label\n",
            "5343  augc00100.png      6file 2                 key  label\n",
            "5757  augc00100.png      5\n",
            "file 1                 key  label\n",
            "5396  auga00770.png      3file 2                 key  label\n",
            "4259  auga00770.png      0\n",
            "file 1                 key  label\n",
            "5446  auga00001.png      1file 2                 key  label\n",
            "3490  auga00001.png      9\n",
            "file 1                 key  label\n",
            "5647  augc00591.png      9file 2                 key  label\n",
            "6248  augc00591.png      1\n",
            "file 1              key  label\n",
            "5757  e01308.png      3file 2               key  label\n",
            "15469  e01308.png      6\n",
            "file 1              key  label\n",
            "5785  f00066.JPG      7file 2               key  label\n",
            "17197  f00066.JPG      9\n",
            "file 1              key  label\n",
            "6050  f00280.JPG      5file 2               key  label\n",
            "17411  f00280.JPG      1\n",
            "file 1              key  label\n",
            "6175  e01384.png      2file 2               key  label\n",
            "15545  e01384.png      1\n",
            "file 1              key  label\n",
            "6413  f00208.png      1file 2               key  label\n",
            "17339  f00208.png      2\n",
            "file 1                 key  label\n",
            "6673  auga01444.png      6file 2                 key  label\n",
            "4933  auga01444.png      5\n",
            "file 1              key  label\n",
            "6799  e02695.png      9file 2               key  label\n",
            "16856  e02695.png      7\n",
            "file 1              key  label\n",
            "6938  f00198.png      9file 2               key  label\n",
            "17329  f00198.png      3\n",
            "file 1              key  label\n",
            "7682  d00208.png      2file 2               key  label\n",
            "12421  d00208.png      1\n",
            "file 1              key  label\n",
            "7781  a01679.png      2file 2              key  label\n",
            "1679  a01679.png      4\n",
            "file 1                 key  label\n",
            "7848  augc00618.png      1file 2                 key  label\n",
            "6275  augc00618.png      9\n",
            "file 1                 key  label\n",
            "7935  auga00929.png      6file 2                 key  label\n",
            "4418  auga00929.png      5\n",
            "file 1                 key  label\n",
            "7984  augc00130.png      7file 2                 key  label\n",
            "5787  augc00130.png      4\n",
            "file 1                 key  label\n",
            "8444  augc01883.png      0file 2                 key  label\n",
            "7540  augc01883.png      1\n",
            "file 1                 key  label\n",
            "8562  auga00769.png      4file 2                 key  label\n",
            "4258  auga00769.png      5\n",
            "file 1                 key  label\n",
            "8674  augc02099.png      2file 2                 key  label\n",
            "7756  augc02099.png      7\n",
            "file 1              key  label\n",
            "8719  e00229.png      1file 2               key  label\n",
            "14390  e00229.png      0\n",
            "file 1                 key  label\n",
            "8962  auga00833.png      6file 2                 key  label\n",
            "4322  auga00833.png      5\n",
            "file 1              key  label\n",
            "9213  e02563.png      1file 2               key  label\n",
            "16724  e02563.png      2\n",
            "file 1              key  label\n",
            "9376  f00047.png      9file 2               key  label\n",
            "17178  f00047.png      2\n",
            "file 1              key  label\n",
            "9436  f00189.png      9file 2               key  label\n",
            "17320  f00189.png      2\n"
          ],
          "name": "stdout"
        },
        {
          "output_type": "stream",
          "text": [
            "file 1              key  label\n",
            "9559  e00421.png      3file 2               key  label\n",
            "14582  e00421.png      0\n",
            "file 1              key  label\n",
            "9802  f00466.png      9file 2               key  label\n",
            "17597  f00466.png      8\n",
            "file 1                 key  label\n",
            "9836  auga00988.png      6file 2                 key  label\n",
            "4477  auga00988.png      5\n",
            "file 1                 key  label\n",
            "9999  augc00420.png      5file 2                 key  label\n",
            "6077  augc00420.png      0\n",
            "file 1               key  label\n",
            "10351  d00161.png      6file 2               key  label\n",
            "12374  d00161.png      5\n",
            "file 1                  key  label\n",
            "10857  augc01335.png      1file 2                 key  label\n",
            "6992  augc01335.png      6\n",
            "file 1                  key  label\n",
            "11219  augc00968.png      4file 2                 key  label\n",
            "6625  augc00968.png      1\n",
            "file 1               key  label\n",
            "11333  e00502.png      8file 2               key  label\n",
            "14663  e00502.png      3\n",
            "file 1                  key  label\n",
            "12055  auga01692.png      2file 2                 key  label\n",
            "5181  auga01692.png      7\n",
            "file 1                  key  label\n",
            "12166  auga00488.png      5file 2                 key  label\n",
            "3977  auga00488.png      4\n",
            "file 1               key  label\n",
            "12181  d00516.png      7file 2               key  label\n",
            "12729  d00516.png      3\n",
            "file 1               key  label\n",
            "12615  e01948.png      9file 2               key  label\n",
            "16109  e01948.png      7\n",
            "file 1               key  label\n",
            "12650  e00026.png      6file 2               key  label\n",
            "14187  e00026.png      5\n",
            "file 1               key  label\n",
            "12775  c01642.png      6file 2              key  label\n",
            "9474  c01642.png      5\n",
            "file 1                  key  label\n",
            "13195  augc01758.png      7file 2                 key  label\n",
            "7415  augc01758.png      4\n",
            "file 1               key  label\n",
            "13240  e01568.png      5file 2               key  label\n",
            "15729  e01568.png      0\n",
            "file 1               key  label\n",
            "13428  e02013.png      1file 2               key  label\n",
            "16174  e02013.png      0\n",
            "file 1               key  label\n",
            "13845  e00283.png      5file 2               key  label\n",
            "14444  e00283.png      0\n",
            "file 1               key  label\n",
            "13882  e01466.png      9file 2               key  label\n",
            "15627  e01466.png      7\n",
            "file 1                  key  label\n",
            "14259  auga00329.png      1file 2                 key  label\n",
            "3818  auga00329.png      9\n",
            "file 1               key  label\n",
            "14329  e00264.png      4file 2               key  label\n",
            "14425  e00264.png      8\n",
            "file 1                  key  label\n",
            "15208  auga00009.png      1file 2                 key  label\n",
            "3498  auga00009.png      7\n",
            "file 1                  key  label\n",
            "15698  auga01634.png      9file 2                 key  label\n",
            "5123  auga01634.png      7\n",
            "file 1                  key  label\n",
            "15963  augc00152.png      5file 2                 key  label\n",
            "5809  augc00152.png      7\n",
            "file 1               key  label\n",
            "16026  e00243.png      5file 2               key  label\n",
            "14404  e00243.png      1\n",
            "file 1               key  label\n",
            "16107  f00257.png      9file 2               key  label\n",
            "17388  f00257.png      8\n",
            "file 1                  key  label\n",
            "16972  auga01106.png      4file 2                 key  label\n",
            "4595  auga01106.png      7\n",
            "file 1                  key  label\n",
            "17243  augc00844.png      1file 2                 key  label\n",
            "6501  augc00844.png      9\n",
            "file 1                  key  label\n",
            "17518  augc01674.png      5file 2                 key  label\n",
            "7331  augc01674.png      4\n"
          ],
          "name": "stdout"
        }
      ]
    },
    {
      "metadata": {
        "id": "Jmb2Y9uyvzrx",
        "colab_type": "code",
        "colab": {
          "autoexec": {
            "startup": false,
            "wait_interval": 0
          }
        }
      },
      "cell_type": "code",
      "source": [
        ""
      ],
      "execution_count": 0,
      "outputs": []
    }
  ]
}