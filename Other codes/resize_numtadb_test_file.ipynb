{
  "nbformat": 4,
  "nbformat_minor": 0,
  "metadata": {
    "colab": {
      "name": "resize numtadb test file.ipynb",
      "version": "0.3.2",
      "views": {},
      "default_view": {},
      "provenance": [
        {
          "file_id": "1jFQHib9OIGH1LBv8InsILmlMCrVvFxA9",
          "timestamp": 1530116585916
        },
        {
          "file_id": "1iEjgDj05suaRTxzkEt00m_v11jmjOqNN",
          "timestamp": 1530111871274
        },
        {
          "file_id": "1PqUQGu_dsXgrGMu4mRseewarHjpjCLw1",
          "timestamp": 1529643329069
        }
      ],
      "collapsed_sections": []
    },
    "kernelspec": {
      "name": "python3",
      "display_name": "Python 3"
    },
    "accelerator": "GPU"
  },
  "cells": [
    {
      "metadata": {
        "id": "YDnT5JNa2rZX",
        "colab_type": "code",
        "colab": {
          "autoexec": {
            "startup": false,
            "wait_interval": 0
          },
          "base_uri": "https://localhost:8080/",
          "height": 2179
        },
        "outputId": "543855d9-4579-4011-b06e-aeb45a30ecbd",
        "executionInfo": {
          "status": "ok",
          "timestamp": 1530367693065,
          "user_tz": -360,
          "elapsed": 117208,
          "user": {
            "displayName": "Masum Hasan",
            "photoUrl": "//lh3.googleusercontent.com/-Paf88sL0bM4/AAAAAAAAAAI/AAAAAAAADeU/w9G4fcvOAno/s50-c-k-no/photo.jpg",
            "userId": "107189813580237018080"
          }
        }
      },
      "cell_type": "code",
      "source": [
        "!pip install fastai"
      ],
      "execution_count": 1,
      "outputs": [
        {
          "output_type": "stream",
          "text": [
            "Collecting fastai\n",
            "\u001b[?25l  Downloading https://files.pythonhosted.org/packages/50/6d/9d0d6e17a78b0598d5e8c49a0d03ffc7ff265ae62eca3e2345fab14edb9b/fastai-0.7.0-py3-none-any.whl (112kB)\n",
            "\u001b[K    100% |████████████████████████████████| 122kB 8.9MB/s \n",
            "\u001b[?25hCollecting ipywidgets (from fastai)\n",
            "\u001b[?25l  Downloading https://files.pythonhosted.org/packages/7d/24/fabc09ad81c6071159a4d12d5bfbddcbea69bd9e3b16c3250ef300c0285f/ipywidgets-7.2.1-py2.py3-none-any.whl (106kB)\n",
            "\u001b[K    100% |████████████████████████████████| 112kB 30.9MB/s \n",
            "\u001b[?25hCollecting torchvision (from fastai)\n",
            "\u001b[?25l  Downloading https://files.pythonhosted.org/packages/ca/0d/f00b2885711e08bd71242ebe7b96561e6f6d01fdb4b9dcf4d37e2e13c5e1/torchvision-0.2.1-py2.py3-none-any.whl (54kB)\n",
            "\u001b[K    100% |████████████████████████████████| 61kB 27.6MB/s \n",
            "\u001b[?25hCollecting isoweek (from fastai)\n",
            "  Downloading https://files.pythonhosted.org/packages/c2/d4/fe7e2637975c476734fcbf53776e650a29680194eb0dd21dbdc020ca92de/isoweek-1.3.3-py2.py3-none-any.whl\n",
            "Collecting torchtext (from fastai)\n",
            "\u001b[?25l  Downloading https://files.pythonhosted.org/packages/78/90/474d5944d43001a6e72b9aaed5c3e4f77516fbef2317002da2096fd8b5ea/torchtext-0.2.3.tar.gz (42kB)\n",
            "\u001b[K    100% |████████████████████████████████| 51kB 19.8MB/s \n",
            "\u001b[?25hRequirement already satisfied: html5lib in /usr/local/lib/python3.6/dist-packages (from fastai) (1.0.1)\n",
            "Requirement already satisfied: tornado in /usr/local/lib/python3.6/dist-packages (from fastai) (4.5.3)\n",
            "Requirement already satisfied: bleach in /usr/local/lib/python3.6/dist-packages (from fastai) (2.1.3)\n",
            "Requirement already satisfied: webencodings in /usr/local/lib/python3.6/dist-packages (from fastai) (0.5.1)\n",
            "Requirement already satisfied: pickleshare in /usr/local/lib/python3.6/dist-packages (from fastai) (0.7.4)\n",
            "Requirement already satisfied: testpath in /usr/local/lib/python3.6/dist-packages (from fastai) (0.3.1)\n",
            "Requirement already satisfied: cycler in /usr/local/lib/python3.6/dist-packages (from fastai) (0.10.0)\n",
            "Requirement already satisfied: pandas in /usr/local/lib/python3.6/dist-packages (from fastai) (0.22.0)\n",
            "Requirement already satisfied: wcwidth in /usr/local/lib/python3.6/dist-packages (from fastai) (0.1.7)\n",
            "Collecting graphviz (from fastai)\n",
            "  Downloading https://files.pythonhosted.org/packages/84/44/21a7fdd50841aaaef224b943f7d10df87e476e181bb926ccf859bcb53d48/graphviz-0.8.3-py2.py3-none-any.whl\n",
            "Requirement already satisfied: pytz in /usr/local/lib/python3.6/dist-packages (from fastai) (2018.4)\n",
            "Requirement already satisfied: ipykernel in /usr/local/lib/python3.6/dist-packages (from fastai) (4.6.1)\n",
            "Collecting tqdm (from fastai)\n",
            "\u001b[?25l  Downloading https://files.pythonhosted.org/packages/93/24/6ab1df969db228aed36a648a8959d1027099ce45fad67532b9673d533318/tqdm-4.23.4-py2.py3-none-any.whl (42kB)\n",
            "\u001b[K    100% |████████████████████████████████| 51kB 20.4MB/s \n",
            "\u001b[?25hRequirement already satisfied: matplotlib in /usr/local/lib/python3.6/dist-packages (from fastai) (2.1.2)\n",
            "Requirement already satisfied: traitlets in /usr/local/lib/python3.6/dist-packages (from fastai) (4.3.2)\n",
            "Collecting pandas-summary (from fastai)\n",
            "  Downloading https://files.pythonhosted.org/packages/3d/a7/0364272be0c6561c45d67edec8a7bf0532d56b830438168f9078f7720f63/pandas-summary-0.0.41.tar.gz\n",
            "Requirement already satisfied: pyparsing in /usr/local/lib/python3.6/dist-packages (from fastai) (2.2.0)\n",
            "Requirement already satisfied: opencv-python in /usr/local/lib/python3.6/dist-packages (from fastai) (3.4.1.15)\n",
            "Requirement already satisfied: ipython in /usr/local/lib/python3.6/dist-packages (from fastai) (5.5.0)\n",
            "Collecting sklearn-pandas (from fastai)\n",
            "  Downloading https://files.pythonhosted.org/packages/c5/9e/42d7bcddb09a3ff52d0c60c810ba5d0fded28abbe320c85bbf7368192956/sklearn_pandas-1.6.0-py2.py3-none-any.whl\n",
            "Requirement already satisfied: Pillow in /usr/local/lib/python3.6/dist-packages (from fastai) (4.0.0)\n",
            "Collecting bcolz (from fastai)\n",
            "\u001b[?25l  Downloading https://files.pythonhosted.org/packages/5c/4e/23942de9d5c0fb16f10335fa83e52b431bcb8c0d4a8419c9ac206268c279/bcolz-1.2.1.tar.gz (1.5MB)\n",
            "\u001b[K    100% |████████████████████████████████| 1.5MB 17.3MB/s \n",
            "\u001b[?25hRequirement already satisfied: certifi in /usr/local/lib/python3.6/dist-packages (from fastai) (2018.4.16)\n",
            "Requirement already satisfied: simplegeneric in /usr/local/lib/python3.6/dist-packages (from fastai) (0.8.1)\n",
            "Requirement already satisfied: entrypoints in /usr/local/lib/python3.6/dist-packages (from fastai) (0.2.3)\n",
            "Requirement already satisfied: python-dateutil in /usr/local/lib/python3.6/dist-packages (from fastai) (2.5.3)\n",
            "Requirement already satisfied: numpy in /usr/local/lib/python3.6/dist-packages (from fastai) (1.14.5)\n",
            "Requirement already satisfied: ptyprocess in /usr/local/lib/python3.6/dist-packages (from fastai) (0.6.0)\n",
            "Requirement already satisfied: PyYAML in /usr/local/lib/python3.6/dist-packages (from fastai) (3.12)\n",
            "Requirement already satisfied: pyzmq in /usr/local/lib/python3.6/dist-packages (from fastai) (16.0.4)\n",
            "Collecting feather-format (from fastai)\n",
            "  Downloading https://files.pythonhosted.org/packages/08/55/940b97cc6f19a19f5dab9efef2f68a0ce43a7632f858b272391f0b851a7e/feather-format-0.4.0.tar.gz\n",
            "Requirement already satisfied: scipy in /usr/local/lib/python3.6/dist-packages (from fastai) (0.19.1)\n",
            "Collecting jedi (from fastai)\n",
            "\u001b[?25l  Downloading https://files.pythonhosted.org/packages/3d/68/8bbf0ef969095a13ba0d4c77c1945bd86e9811960d052510551d29a2f23b/jedi-0.12.1-py2.py3-none-any.whl (174kB)\n",
            "\u001b[K    100% |████████████████████████████████| 184kB 25.8MB/s \n",
            "\u001b[?25hRequirement already satisfied: jsonschema in /usr/local/lib/python3.6/dist-packages (from fastai) (2.6.0)\n",
            "Requirement already satisfied: seaborn in /usr/local/lib/python3.6/dist-packages (from fastai) (0.7.1)\n",
            "Collecting jupyter (from fastai)\n",
            "  Downloading https://files.pythonhosted.org/packages/83/df/0f5dd132200728a86190397e1ea87cd76244e42d39ec5e88efd25b2abd7e/jupyter-1.0.0-py2.py3-none-any.whl\n",
            "Collecting torch<0.4 (from fastai)\n",
            "\u001b[?25l  Downloading https://files.pythonhosted.org/packages/5b/a5/e8b50b55b1abac9f1e3346c4242f1e42a82d368a8442cbd50c532922f6c4/torch-0.3.1-cp36-cp36m-manylinux1_x86_64.whl (496.4MB)\n",
            "\u001b[K    0% |                                | 81kB 33.0MB/s eta 0:00:16"
          ],
          "name": "stdout"
        },
        {
          "output_type": "stream",
          "text": [
            "\u001b[K    100% |████████████████████████████████| 496.4MB 30kB/s \n",
            "\u001b[?25hRequirement already satisfied: Pygments in /usr/local/lib/python3.6/dist-packages (from fastai) (2.1.3)\n",
            "Requirement already satisfied: MarkupSafe in /usr/local/lib/python3.6/dist-packages (from fastai) (1.0)\n",
            "Collecting widgetsnbextension (from fastai)\n",
            "\u001b[?25l  Downloading https://files.pythonhosted.org/packages/ff/fa/64acc09fc845a6b2dc0724d6f3f81e829b778ed5e9a7559567b4f19a3f4b/widgetsnbextension-3.2.1-py2.py3-none-any.whl (2.2MB)\n",
            "\u001b[K    100% |████████████████████████████████| 2.2MB 17.8MB/s \n",
            "\u001b[?25hCollecting plotnine (from fastai)\n",
            "\u001b[?25l  Downloading https://files.pythonhosted.org/packages/3a/68/cf39dfde4e9fd886703621e3393cd8103cb48d5ecc95b8f048ec148e53a6/plotnine-0.3.0-py2.py3-none-any.whl (3.4MB)\n",
            "\u001b[K    100% |████████████████████████████████| 3.4MB 10.9MB/s \n",
            "\u001b[?25hRequirement already satisfied: decorator in /usr/local/lib/python3.6/dist-packages (from fastai) (4.3.0)\n",
            "Requirement already satisfied: ipython-genutils in /usr/local/lib/python3.6/dist-packages (from fastai) (0.2.0)\n",
            "Requirement already satisfied: Jinja2 in /usr/local/lib/python3.6/dist-packages (from fastai) (2.10)\n",
            "Requirement already satisfied: nbformat>=4.2.0 in /usr/local/lib/python3.6/dist-packages (from ipywidgets->fastai) (4.4.0)\n",
            "Requirement already satisfied: six in /usr/local/lib/python3.6/dist-packages (from torchvision->fastai) (1.11.0)\n",
            "Requirement already satisfied: requests in /usr/local/lib/python3.6/dist-packages (from torchtext->fastai) (2.18.4)\n",
            "Requirement already satisfied: jupyter-client in /usr/local/lib/python3.6/dist-packages (from ipykernel->fastai) (5.2.3)\n",
            "Requirement already satisfied: pexpect; sys_platform != \"win32\" in /usr/local/lib/python3.6/dist-packages (from ipython->fastai) (4.6.0)\n",
            "Requirement already satisfied: setuptools>=18.5 in /usr/local/lib/python3.6/dist-packages (from ipython->fastai) (39.1.0)\n",
            "Requirement already satisfied: prompt-toolkit<2.0.0,>=1.0.4 in /usr/local/lib/python3.6/dist-packages (from ipython->fastai) (1.0.15)\n",
            "Requirement already satisfied: scikit-learn>=0.15.0 in /usr/local/lib/python3.6/dist-packages (from sklearn-pandas->fastai) (0.19.1)\n",
            "Requirement already satisfied: olefile in /usr/local/lib/python3.6/dist-packages (from Pillow->fastai) (0.45.1)\n",
            "Collecting pyarrow>=0.4.0 (from feather-format->fastai)\n",
            "\u001b[?25l  Downloading https://files.pythonhosted.org/packages/fe/27/576e6c979bfa5f63070f809c930aa85d6198b91d17a64866234597ba861f/pyarrow-0.9.0-cp36-cp36m-manylinux1_x86_64.whl (13.7MB)\n",
            "\u001b[K    100% |████████████████████████████████| 13.7MB 3.7MB/s \n",
            "\u001b[?25hCollecting parso>=0.3.0 (from jedi->fastai)\n",
            "\u001b[?25l  Downloading https://files.pythonhosted.org/packages/31/19/ae6ded1b16b596e594dffe1916b365c658ddf93396824ed069a60da22b79/parso-0.3.0-py2.py3-none-any.whl (88kB)\n",
            "\u001b[K    100% |████████████████████████████████| 92kB 24.2MB/s \n",
            "\u001b[?25hRequirement already satisfied: notebook in /usr/local/lib/python3.6/dist-packages (from jupyter->fastai) (5.2.2)\n",
            "Requirement already satisfied: nbconvert in /usr/local/lib/python3.6/dist-packages (from jupyter->fastai) (5.3.1)\n",
            "Collecting qtconsole (from jupyter->fastai)\n",
            "\u001b[?25l  Downloading https://files.pythonhosted.org/packages/90/ff/047e0dca2627b162866920e7aa93f04523c0ae81e5c67060eec85701992d/qtconsole-4.3.1-py2.py3-none-any.whl (108kB)\n",
            "\u001b[K    100% |████████████████████████████████| 112kB 8.7MB/s \n",
            "\u001b[?25hCollecting jupyter-console (from jupyter->fastai)\n",
            "  Downloading https://files.pythonhosted.org/packages/77/82/6469cd7fccf7958cbe5dce2e623f1e3c5e27f1bb1ad36d90519bc2d5d370/jupyter_console-5.2.0-py2.py3-none-any.whl\n",
            "Requirement already satisfied: statsmodels>=0.8.0 in /usr/local/lib/python3.6/dist-packages (from plotnine->fastai) (0.8.0)\n",
            "Collecting mizani>=0.4.1 (from plotnine->fastai)\n",
            "\u001b[?25l  Downloading https://files.pythonhosted.org/packages/52/01/8a3b4c6e45749674a1e5241174b4b63cd6435125e124bec275f3e02c96ac/mizani-0.4.6-py2.py3-none-any.whl (65kB)\n",
            "\u001b[K    100% |████████████████████████████████| 71kB 20.3MB/s \n",
            "\u001b[?25hRequirement already satisfied: patsy>=0.4.1 in /usr/local/lib/python3.6/dist-packages (from plotnine->fastai) (0.5.0)\n",
            "Requirement already satisfied: jupyter-core in /usr/local/lib/python3.6/dist-packages (from nbformat>=4.2.0->ipywidgets->fastai) (4.4.0)\n",
            "Requirement already satisfied: chardet<3.1.0,>=3.0.2 in /usr/local/lib/python3.6/dist-packages (from requests->torchtext->fastai) (3.0.4)\n",
            "Requirement already satisfied: urllib3<1.23,>=1.21.1 in /usr/local/lib/python3.6/dist-packages (from requests->torchtext->fastai) (1.22)\n",
            "Requirement already satisfied: idna<2.7,>=2.5 in /usr/local/lib/python3.6/dist-packages (from requests->torchtext->fastai) (2.6)\n",
            "Requirement already satisfied: terminado>=0.3.3; sys_platform != \"win32\" in /usr/local/lib/python3.6/dist-packages (from notebook->jupyter->fastai) (0.8.1)\n",
            "Requirement already satisfied: pandocfilters>=1.4.1 in /usr/local/lib/python3.6/dist-packages (from nbconvert->jupyter->fastai) (1.4.2)\n",
            "Requirement already satisfied: mistune>=0.7.4 in /usr/local/lib/python3.6/dist-packages (from nbconvert->jupyter->fastai) (0.8.3)\n",
            "Collecting palettable (from mizani>=0.4.1->plotnine->fastai)\n",
            "\u001b[?25l  Downloading https://files.pythonhosted.org/packages/56/8a/84537c0354f0d1f03bf644b71bf8e0a50db9c1294181905721a5f3efbf66/palettable-3.1.1-py2.py3-none-any.whl (77kB)\n",
            "\u001b[K    100% |████████████████████████████████| 81kB 16.3MB/s \n"
          ],
          "name": "stdout"
        },
        {
          "output_type": "stream",
          "text": [
            "\u001b[?25hBuilding wheels for collected packages: torchtext, pandas-summary, bcolz, feather-format\n",
            "  Running setup.py bdist_wheel for torchtext ... \u001b[?25l-\b \b\\\b \bdone\n",
            "\u001b[?25h  Stored in directory: /content/.cache/pip/wheels/42/a6/f4/b267328bde6bb680094a0c173e8e5627ccc99543abded97204\n",
            "  Running setup.py bdist_wheel for pandas-summary ... \u001b[?25l-\b \bdone\n",
            "\u001b[?25h  Stored in directory: /content/.cache/pip/wheels/86/a9/6b/36b727a9ec687dac08bd3d0501cddd7b1a223943513eb04a03\n",
            "  Running setup.py bdist_wheel for bcolz ... \u001b[?25l-\b \b\\\b \b|\b \b/\b \b-\b \b\\\b \b|\b \b/\b \b-\b \b\\\b \b|\b \b/\b \b-\b \b\\\b \b|\b \b/\b \b-\b \b\\\b \b|\b \b/\b \b-\b \b\\\b \b|\b \b/\b \b-\b \b\\\b \b|\b \b/\b \b-\b \b\\\b \b|\b \b/\b \b-\b \b\\\b \b|\b \b/\b \b-\b \b\\\b \b|\b \b/\b \b-\b \b\\\b \b|\b \b/\b \b-\b \b\\\b \b|\b \b/\b \b-\b \b\\\b \b|\b \b/\b \b-\b \b\\\b \b|\b \b/\b \b-\b \b\\\b \b|\b \b/\b \b-\b \bdone\n",
            "\u001b[?25h  Stored in directory: /content/.cache/pip/wheels/9f/78/26/fb8c0acb91a100dc8914bf236c4eaa4b207cb876893c40b745\n",
            "  Running setup.py bdist_wheel for feather-format ... \u001b[?25l-\b \bdone\n",
            "\u001b[?25h  Stored in directory: /content/.cache/pip/wheels/85/7d/12/2dfa5c0195f921ac935f5e8f27deada74972edc0ae9988a9c1\n",
            "Successfully built torchtext pandas-summary bcolz feather-format\n",
            "\u001b[31mtorchvision 0.2.1 has requirement pillow>=4.1.1, but you'll have pillow 4.0.0 which is incompatible.\u001b[0m\n",
            "\u001b[31mplotnine 0.3.0 has requirement scipy>=1.0.0, but you'll have scipy 0.19.1 which is incompatible.\u001b[0m\n",
            "Installing collected packages: widgetsnbextension, ipywidgets, torch, torchvision, isoweek, tqdm, torchtext, graphviz, pandas-summary, sklearn-pandas, bcolz, pyarrow, feather-format, parso, jedi, qtconsole, jupyter-console, jupyter, palettable, mizani, plotnine, fastai\n",
            "Successfully installed bcolz-1.2.1 fastai-0.7.0 feather-format-0.4.0 graphviz-0.8.3 ipywidgets-7.2.1 isoweek-1.3.3 jedi-0.12.1 jupyter-1.0.0 jupyter-console-5.2.0 mizani-0.4.6 palettable-3.1.1 pandas-summary-0.0.41 parso-0.3.0 plotnine-0.3.0 pyarrow-0.9.0 qtconsole-4.3.1 sklearn-pandas-1.6.0 torch-0.3.1 torchtext-0.2.3 torchvision-0.2.1 tqdm-4.23.4 widgetsnbextension-3.2.1\n"
          ],
          "name": "stdout"
        }
      ]
    },
    {
      "metadata": {
        "id": "B09L4mY9qyAB",
        "colab_type": "text"
      },
      "cell_type": "markdown",
      "source": [
        "### Data"
      ]
    },
    {
      "metadata": {
        "id": "_yzW22PP0dz6",
        "colab_type": "code",
        "colab": {
          "autoexec": {
            "startup": false,
            "wait_interval": 0
          },
          "base_uri": "https://localhost:8080/",
          "height": 34
        },
        "outputId": "669a89aa-f5e0-4729-ea86-4bc4ae67638d",
        "executionInfo": {
          "status": "ok",
          "timestamp": 1530345033279,
          "user_tz": -360,
          "elapsed": 1848,
          "user": {
            "displayName": "Masum Hasan",
            "photoUrl": "//lh3.googleusercontent.com/-Paf88sL0bM4/AAAAAAAAAAI/AAAAAAAADeU/w9G4fcvOAno/s50-c-k-no/photo.jpg",
            "userId": "107189813580237018080"
          }
        }
      },
      "cell_type": "code",
      "source": [
        "ls"
      ],
      "execution_count": 2,
      "outputs": [
        {
          "output_type": "stream",
          "text": [
            "\u001b[0m\u001b[01;34mdatalab\u001b[0m/\r\n"
          ],
          "name": "stdout"
        }
      ]
    },
    {
      "metadata": {
        "id": "AOGhv95vq0C_",
        "colab_type": "code",
        "colab": {
          "autoexec": {
            "startup": false,
            "wait_interval": 0
          },
          "base_uri": "https://localhost:8080/",
          "height": 37
        },
        "outputId": "54f9bfc5-c3f9-44bf-c3d0-dab8c068643c",
        "executionInfo": {
          "status": "ok",
          "timestamp": 1530367695426,
          "user_tz": -360,
          "elapsed": 2264,
          "user": {
            "displayName": "Masum Hasan",
            "photoUrl": "//lh3.googleusercontent.com/-Paf88sL0bM4/AAAAAAAAAAI/AAAAAAAADeU/w9G4fcvOAno/s50-c-k-no/photo.jpg",
            "userId": "107189813580237018080"
          }
        }
      },
      "cell_type": "code",
      "source": [
        "!mkdir data"
      ],
      "execution_count": 2,
      "outputs": []
    },
    {
      "metadata": {
        "id": "gwtmsO_N9X1Q",
        "colab_type": "code",
        "colab": {
          "autoexec": {
            "startup": false,
            "wait_interval": 0
          },
          "base_uri": "https://localhost:8080/",
          "height": 445
        },
        "outputId": "0969abae-6455-43f9-eb14-6834624a9451",
        "executionInfo": {
          "status": "ok",
          "timestamp": 1530367755987,
          "user_tz": -360,
          "elapsed": 60147,
          "user": {
            "displayName": "Masum Hasan",
            "photoUrl": "//lh3.googleusercontent.com/-Paf88sL0bM4/AAAAAAAAAAI/AAAAAAAADeU/w9G4fcvOAno/s50-c-k-no/photo.jpg",
            "userId": "107189813580237018080"
          }
        }
      },
      "cell_type": "code",
      "source": [
        "!wget https://www.dropbox.com/s/w7l6fgvqisx5k19/train.zip && unzip -q train.zip -d data/"
      ],
      "execution_count": 3,
      "outputs": [
        {
          "output_type": "stream",
          "text": [
            "--2018-06-30 14:08:18--  https://www.dropbox.com/s/w7l6fgvqisx5k19/train.zip\r\n",
            "Resolving www.dropbox.com (www.dropbox.com)... 162.125.65.1, 2620:100:6021:1::a27d:4101\n",
            "Connecting to www.dropbox.com (www.dropbox.com)|162.125.65.1|:443... connected.\n",
            "HTTP request sent, awaiting response... 302 Found\n",
            "Location: /s/raw/w7l6fgvqisx5k19/train.zip [following]\n",
            "--2018-06-30 14:08:18--  https://www.dropbox.com/s/raw/w7l6fgvqisx5k19/train.zip\n",
            "Reusing existing connection to www.dropbox.com:443.\n",
            "HTTP request sent, awaiting response... 302 Found\n",
            "Location: https://uc77f59f93a67ebb5e6f950a9d70.dl.dropboxusercontent.com/cd/0/inline/AKKWb7YODWaN_rVT33AxCANNKAaT0fBQFTEJ6buekyUCw9HLQ1gezGjC2c4sdIAQMEz0darFnvRId3XfFkYSXi_Xkqyx1IIDUflmVNEy8BpnRa7xnKN1L-T7xo5qkJ1cktXWDvDHhtzlsgbgfg67EhtzJ4C16yGojAkjl-imz_iOgTTTujmt-Pl6a403a-dziQI/file [following]\n",
            "--2018-06-30 14:08:18--  https://uc77f59f93a67ebb5e6f950a9d70.dl.dropboxusercontent.com/cd/0/inline/AKKWb7YODWaN_rVT33AxCANNKAaT0fBQFTEJ6buekyUCw9HLQ1gezGjC2c4sdIAQMEz0darFnvRId3XfFkYSXi_Xkqyx1IIDUflmVNEy8BpnRa7xnKN1L-T7xo5qkJ1cktXWDvDHhtzlsgbgfg67EhtzJ4C16yGojAkjl-imz_iOgTTTujmt-Pl6a403a-dziQI/file\n",
            "Resolving uc77f59f93a67ebb5e6f950a9d70.dl.dropboxusercontent.com (uc77f59f93a67ebb5e6f950a9d70.dl.dropboxusercontent.com)... 162.125.65.6, 2620:100:6021:6::a27d:4106\n",
            "Connecting to uc77f59f93a67ebb5e6f950a9d70.dl.dropboxusercontent.com (uc77f59f93a67ebb5e6f950a9d70.dl.dropboxusercontent.com)|162.125.65.6|:443... connected.\n",
            "HTTP request sent, awaiting response... 302 FOUND\n",
            "Location: /cd/0/inline2/AKIhBxepPXG5_x18uYqQtgoGfzktY4q3DZSUOnAv-wWy0z3CfCBjVT-evXKCq1MfoHYPqENYtILqQ09sLc9bhCcY4OmQ4AgcZaCslwQI3MyOFxSqOgFK46FMsFnhnztWrL5WBEpd-3CbadYYE6vP63rs8q5Hf9uyfJbuFFdyLTZl7bI4hq95wQn6TRMYpJ9pUlnh-Rc71sQZsChWqsoQB-RFT0SOEYCSFaWSpqm7Gt2vmoeNo0OI0le8piizt1-akOo4ttmHtusfhNgh_hD_XoRUVDevU3D0vEUmunh303V5rHTa7L-qicNBkzmfiF7CHyyvkaqnA2DpqY7ZXuVT4Eq82m-Ul35G9YhiWOeEciffvgXXeKQDO9AY5NCFg6QT4wyip3X51z-CrnYZs2qgzXa5dZr6OhmaU7XKkchdtc0XovE0tbQhak7PwNeLG2J8DWA/file [following]\n",
            "--2018-06-30 14:08:19--  https://uc77f59f93a67ebb5e6f950a9d70.dl.dropboxusercontent.com/cd/0/inline2/AKIhBxepPXG5_x18uYqQtgoGfzktY4q3DZSUOnAv-wWy0z3CfCBjVT-evXKCq1MfoHYPqENYtILqQ09sLc9bhCcY4OmQ4AgcZaCslwQI3MyOFxSqOgFK46FMsFnhnztWrL5WBEpd-3CbadYYE6vP63rs8q5Hf9uyfJbuFFdyLTZl7bI4hq95wQn6TRMYpJ9pUlnh-Rc71sQZsChWqsoQB-RFT0SOEYCSFaWSpqm7Gt2vmoeNo0OI0le8piizt1-akOo4ttmHtusfhNgh_hD_XoRUVDevU3D0vEUmunh303V5rHTa7L-qicNBkzmfiF7CHyyvkaqnA2DpqY7ZXuVT4Eq82m-Ul35G9YhiWOeEciffvgXXeKQDO9AY5NCFg6QT4wyip3X51z-CrnYZs2qgzXa5dZr6OhmaU7XKkchdtc0XovE0tbQhak7PwNeLG2J8DWA/file\n",
            "Reusing existing connection to uc77f59f93a67ebb5e6f950a9d70.dl.dropboxusercontent.com:443.\n",
            "HTTP request sent, awaiting response... 200 OK\n",
            "Length: 1368550067 (1.3G) [application/zip]\n",
            "Saving to: ‘train.zip’\n",
            "\n",
            "train.zip            12%[=>                  ] 161.35M  23.2MB/s    eta 48s    "
          ],
          "name": "stdout"
        },
        {
          "output_type": "stream",
          "text": [
            "train.zip           100%[===================>]   1.27G  38.0MB/s    in 40s     \n",
            "\n",
            "2018-06-30 14:09:00 (32.7 MB/s) - ‘train.zip’ saved [1368550067/1368550067]\n",
            "\n"
          ],
          "name": "stdout"
        }
      ]
    },
    {
      "metadata": {
        "id": "JMdS_mtDF8JY",
        "colab_type": "code",
        "colab": {
          "autoexec": {
            "startup": false,
            "wait_interval": 0
          },
          "base_uri": "https://localhost:8080/",
          "height": 34
        },
        "outputId": "9fc4513c-3f8c-4f5a-d5eb-d59226559ff0",
        "executionInfo": {
          "status": "ok",
          "timestamp": 1530367760343,
          "user_tz": -360,
          "elapsed": 4235,
          "user": {
            "displayName": "Masum Hasan",
            "photoUrl": "//lh3.googleusercontent.com/-Paf88sL0bM4/AAAAAAAAAAI/AAAAAAAADeU/w9G4fcvOAno/s50-c-k-no/photo.jpg",
            "userId": "107189813580237018080"
          }
        }
      },
      "cell_type": "code",
      "source": [
        "ls data"
      ],
      "execution_count": 4,
      "outputs": [
        {
          "output_type": "stream",
          "text": [
            "\u001b[0m\u001b[01;34mtrain\u001b[0m/\r\n"
          ],
          "name": "stdout"
        }
      ]
    },
    {
      "metadata": {
        "id": "7PxqoppA5ulm",
        "colab_type": "code",
        "colab": {
          "autoexec": {
            "startup": false,
            "wait_interval": 0
          },
          "base_uri": "https://localhost:8080/",
          "height": 445
        },
        "outputId": "92983083-c4b0-4cb2-fffc-c2311b20e27d",
        "executionInfo": {
          "status": "ok",
          "timestamp": 1530367785642,
          "user_tz": -360,
          "elapsed": 24942,
          "user": {
            "displayName": "Masum Hasan",
            "photoUrl": "//lh3.googleusercontent.com/-Paf88sL0bM4/AAAAAAAAAAI/AAAAAAAADeU/w9G4fcvOAno/s50-c-k-no/photo.jpg",
            "userId": "107189813580237018080"
          }
        }
      },
      "cell_type": "code",
      "source": [
        "# Unmodified test set\n",
        "!wget https://www.dropbox.com/s/t2ea8g3cjoqdt4r/test.zip && unzip -q test.zip -d data/\n",
        "#https://www.dropbox.com/s/ilzh40y2v1nj36m/test.zip"
      ],
      "execution_count": 5,
      "outputs": [
        {
          "output_type": "stream",
          "text": [
            "--2018-06-30 14:09:26--  https://www.dropbox.com/s/t2ea8g3cjoqdt4r/test.zip\r\n",
            "Resolving www.dropbox.com (www.dropbox.com)... 162.125.65.1, 2620:100:6021:1::a27d:4101\r\n",
            "Connecting to www.dropbox.com (www.dropbox.com)|162.125.65.1|:443... connected.\n",
            "HTTP request sent, awaiting response... 302 Found\n",
            "Location: /s/raw/t2ea8g3cjoqdt4r/test.zip [following]\n",
            "--2018-06-30 14:09:26--  https://www.dropbox.com/s/raw/t2ea8g3cjoqdt4r/test.zip\n",
            "Reusing existing connection to www.dropbox.com:443.\n",
            "HTTP request sent, awaiting response... 302 Found\n",
            "Location: https://uc164b8107f67553f430395349c8.dl.dropboxusercontent.com/cd/0/inline/AKJIsOdvLHda9OYiHyTROf0o-MD3umR1o8b6UgX4VNcgZ6wk8MxRTxjdmOVXNqKSVOyDmHUuvirVxoyBiYmWQLscFnPGbTmftNyd5L9LBI9UK1HEwU4sqAMAlxQhMJpBfMSG5ameQNjXy9EOilZos7OcQxvBOsBL8gJ_4kbcc6YIc5ycvNW7F7G0Tyw56S45F6w/file [following]\n",
            "--2018-06-30 14:09:26--  https://uc164b8107f67553f430395349c8.dl.dropboxusercontent.com/cd/0/inline/AKJIsOdvLHda9OYiHyTROf0o-MD3umR1o8b6UgX4VNcgZ6wk8MxRTxjdmOVXNqKSVOyDmHUuvirVxoyBiYmWQLscFnPGbTmftNyd5L9LBI9UK1HEwU4sqAMAlxQhMJpBfMSG5ameQNjXy9EOilZos7OcQxvBOsBL8gJ_4kbcc6YIc5ycvNW7F7G0Tyw56S45F6w/file\n",
            "Resolving uc164b8107f67553f430395349c8.dl.dropboxusercontent.com (uc164b8107f67553f430395349c8.dl.dropboxusercontent.com)... 162.125.65.6, 2620:100:6021:6::a27d:4106\n",
            "Connecting to uc164b8107f67553f430395349c8.dl.dropboxusercontent.com (uc164b8107f67553f430395349c8.dl.dropboxusercontent.com)|162.125.65.6|:443... connected.\n",
            "HTTP request sent, awaiting response... 302 FOUND\n",
            "Location: /cd/0/inline2/AKJZ3jnkZ07u0qE5nmcvHkb4ECmnXCAdhklQwt0F1_mjI46pCvmU9WppWAju4Rm9pydU_UZLSU0wCz7LBCLaWyBVRyztzG230pN_eyAjxx-e1nsFvKaHD7uqsSupxKjG0bQsc295FW1Mxn36YhSitzOVWt9uQMszQM3khVRSA49JefR4qIGwGy2VkGAprr0eF5XtHOd2QPpNPdmHoa2kUw_Qtw-Pghpg1oyZBmk-DK09W_Abr17k0xBtGqHWqHfNBP6DTm85nZFUt7GWLdD5oCQmt24veQeJTS4cOFj0rspEmPpO563-T_A-zXbXnPX0d84qlbBPj8XJAgtYGrE60PonV331rqyZQeMYVv5TgSPPs2c0PobDCHel3VP45A2cJxgdWW4qh6OA4F1JZqpJTwGDegGJZW0ny36tUD4m0BIUUlClwXriHI5X_o_w0NOcqvw/file [following]\n",
            "--2018-06-30 14:09:27--  https://uc164b8107f67553f430395349c8.dl.dropboxusercontent.com/cd/0/inline2/AKJZ3jnkZ07u0qE5nmcvHkb4ECmnXCAdhklQwt0F1_mjI46pCvmU9WppWAju4Rm9pydU_UZLSU0wCz7LBCLaWyBVRyztzG230pN_eyAjxx-e1nsFvKaHD7uqsSupxKjG0bQsc295FW1Mxn36YhSitzOVWt9uQMszQM3khVRSA49JefR4qIGwGy2VkGAprr0eF5XtHOd2QPpNPdmHoa2kUw_Qtw-Pghpg1oyZBmk-DK09W_Abr17k0xBtGqHWqHfNBP6DTm85nZFUt7GWLdD5oCQmt24veQeJTS4cOFj0rspEmPpO563-T_A-zXbXnPX0d84qlbBPj8XJAgtYGrE60PonV331rqyZQeMYVv5TgSPPs2c0PobDCHel3VP45A2cJxgdWW4qh6OA4F1JZqpJTwGDegGJZW0ny36tUD4m0BIUUlClwXriHI5X_o_w0NOcqvw/file\n",
            "Reusing existing connection to uc164b8107f67553f430395349c8.dl.dropboxusercontent.com:443.\n",
            "HTTP request sent, awaiting response... 200 OK\n",
            "Length: 338612331 (323M) [application/zip]\n",
            "Saving to: ‘test.zip’\n",
            "\n",
            "test.zip             68%[============>       ] 221.85M  39.1MB/s    eta 4s     "
          ],
          "name": "stdout"
        },
        {
          "output_type": "stream",
          "text": [
            "test.zip            100%[===================>] 322.93M  36.3MB/s    in 9.6s    \n",
            "\n",
            "2018-06-30 14:09:38 (33.7 MB/s) - ‘test.zip’ saved [338612331/338612331]\n",
            "\n"
          ],
          "name": "stdout"
        }
      ]
    },
    {
      "metadata": {
        "id": "r3HVooP41IN5",
        "colab_type": "text"
      },
      "cell_type": "markdown",
      "source": [
        "###image size analysis"
      ]
    },
    {
      "metadata": {
        "id": "HfO7Hwifrx2Z",
        "colab_type": "code",
        "colab": {
          "autoexec": {
            "startup": false,
            "wait_interval": 0
          },
          "base_uri": "https://localhost:8080/",
          "height": 37
        },
        "outputId": "a2b1353b-1689-4af6-a62a-489a231a9620",
        "executionInfo": {
          "status": "ok",
          "timestamp": 1530367787797,
          "user_tz": -360,
          "elapsed": 2081,
          "user": {
            "displayName": "Masum Hasan",
            "photoUrl": "//lh3.googleusercontent.com/-Paf88sL0bM4/AAAAAAAAAAI/AAAAAAAADeU/w9G4fcvOAno/s50-c-k-no/photo.jpg",
            "userId": "107189813580237018080"
          }
        }
      },
      "cell_type": "code",
      "source": [
        "mkdir data/shape_corrected"
      ],
      "execution_count": 6,
      "outputs": []
    },
    {
      "metadata": {
        "id": "3fVBR5B1HMzw",
        "colab_type": "code",
        "colab": {
          "autoexec": {
            "startup": false,
            "wait_interval": 0
          },
          "base_uri": "https://localhost:8080/",
          "height": 37
        },
        "outputId": "380b15f6-1dd9-45c5-f22f-6f17be507581",
        "executionInfo": {
          "status": "ok",
          "timestamp": 1530367790379,
          "user_tz": -360,
          "elapsed": 2186,
          "user": {
            "displayName": "Masum Hasan",
            "photoUrl": "//lh3.googleusercontent.com/-Paf88sL0bM4/AAAAAAAAAAI/AAAAAAAADeU/w9G4fcvOAno/s50-c-k-no/photo.jpg",
            "userId": "107189813580237018080"
          }
        }
      },
      "cell_type": "code",
      "source": [
        "import cv2\n",
        "import numpy as np\n",
        "\n",
        "# it makes an image into a square\n",
        "def resizeToSquere(img):\n",
        "    height, width = img.shape\n",
        "    COLOR = [255,255,255] # TOP, BOTTOM, LEFT, RIGHT\n",
        "    squere = img.copy()\n",
        "    #constant= cv2.copyMakeBorder(img,10,10,10,10,cv2.BORDER_CONSTANT,value=COLOR)\n",
        "    if height>width:\n",
        "        diff = height - width\n",
        "        first = int(diff/2)\n",
        "        second = diff - first\n",
        "        squere= cv2.copyMakeBorder(img,0,0,first,second,cv2.BORDER_CONSTANT,value=COLOR)\n",
        "    elif height<width:\n",
        "        diff = width - height\n",
        "        first = int(diff/2)\n",
        "        second = diff - first\n",
        "        squere= cv2.copyMakeBorder(img,first,second,0,0,cv2.BORDER_CONSTANT,value=COLOR)\n",
        "    median = np.median(img)\n",
        "    squere[squere==255] = median\n",
        "    return squere"
      ],
      "execution_count": 7,
      "outputs": []
    },
    {
      "metadata": {
        "id": "v6yHB-wizCOS",
        "colab_type": "code",
        "colab": {
          "autoexec": {
            "startup": false,
            "wait_interval": 0
          },
          "base_uri": "https://localhost:8080/",
          "height": 37
        },
        "outputId": "0d81ed82-a380-4d12-d9d4-06a4def40064",
        "executionInfo": {
          "status": "ok",
          "timestamp": 1530367791613,
          "user_tz": -360,
          "elapsed": 881,
          "user": {
            "displayName": "Masum Hasan",
            "photoUrl": "//lh3.googleusercontent.com/-Paf88sL0bM4/AAAAAAAAAAI/AAAAAAAADeU/w9G4fcvOAno/s50-c-k-no/photo.jpg",
            "userId": "107189813580237018080"
          }
        }
      },
      "cell_type": "code",
      "source": [
        "def wid_to_height_ratio(img):\n",
        "  h, w = img.shape\n",
        "  return w/h"
      ],
      "execution_count": 8,
      "outputs": []
    },
    {
      "metadata": {
        "id": "J9FgqylmyGhr",
        "colab_type": "code",
        "colab": {
          "autoexec": {
            "startup": false,
            "wait_interval": 0
          },
          "base_uri": "https://localhost:8080/",
          "height": 1326
        },
        "outputId": "30b55cff-758a-419e-9a5a-91a4503f436b",
        "executionInfo": {
          "status": "ok",
          "timestamp": 1530367815465,
          "user_tz": -360,
          "elapsed": 23562,
          "user": {
            "displayName": "Masum Hasan",
            "photoUrl": "//lh3.googleusercontent.com/-Paf88sL0bM4/AAAAAAAAAAI/AAAAAAAADeU/w9G4fcvOAno/s50-c-k-no/photo.jpg",
            "userId": "107189813580237018080"
          }
        }
      },
      "cell_type": "code",
      "source": [
        "import os\n",
        "#os.mkdir('data/shape_corrected')\n",
        "image_name_list = os.listdir('data/test')\n",
        "error_names = []\n",
        "for file in image_name_list:\n",
        "  img = cv2.imread('data/test/'+file, 0)\n",
        "  if wid_to_height_ratio(img) < 0.7:\n",
        "    #print(file)\n",
        "    #cv2.imshow(file, img)\n",
        "    #plt.imshow(img, cmap='gray')\n",
        "    error_names.append(file)\n",
        "    sq = resizeToSquere(img)\n",
        "    cv2.imwrite('data/shape_corrected/'+file, sq)\n",
        "    \n",
        "error_names.sort()\n",
        "for name in error_names:\n",
        "  print(name)"
      ],
      "execution_count": 9,
      "outputs": [
        {
          "output_type": "stream",
          "text": [
            "e00243.png\n",
            "f00000.JPG\n",
            "f00013.JPG\n",
            "f00015.JPG\n",
            "f00021.JPG\n",
            "f00023.JPG\n",
            "f00024.JPG\n",
            "f00027.JPG\n",
            "f00030.JPG\n",
            "f00041.JPG\n",
            "f00050.JPG\n",
            "f00054.JPG\n",
            "f00066.JPG\n",
            "f00067.JPG\n",
            "f00070.JPG\n",
            "f00086.JPG\n",
            "f00094.JPG\n",
            "f00096.JPG\n",
            "f00105.JPG\n",
            "f00106.JPG\n",
            "f00107.JPG\n",
            "f00108.JPG\n",
            "f00111.JPG\n",
            "f00119.JPG\n",
            "f00120.JPG\n",
            "f00127.JPG\n",
            "f00136.JPG\n",
            "f00152.JPG\n",
            "f00153.JPG\n",
            "f00159.JPG\n",
            "f00160.JPG\n",
            "f00181.JPG\n",
            "f00183.JPG\n",
            "f00187.JPG\n",
            "f00195.JPG\n",
            "f00196.JPG\n",
            "f00211.JPG\n",
            "f00222.JPG\n",
            "f00226.JPG\n",
            "f00232.JPG\n",
            "f00233.JPG\n",
            "f00236.JPG\n",
            "f00239.JPG\n",
            "f00251.JPG\n",
            "f00254.JPG\n",
            "f00259.JPG\n",
            "f00266.JPG\n",
            "f00274.JPG\n",
            "f00275.JPG\n",
            "f00280.JPG\n",
            "f00289.JPG\n",
            "f00296.JPG\n",
            "f00298.JPG\n",
            "f00302.JPG\n",
            "f00306.JPG\n",
            "f00313.JPG\n",
            "f00315.png\n",
            "f00333.JPG\n",
            "f00337.JPG\n",
            "f00344.JPG\n",
            "f00348.JPG\n",
            "f00359.JPG\n",
            "f00364.JPG\n",
            "f00377.JPG\n",
            "f00385.JPG\n",
            "f00407.JPG\n",
            "f00408.JPG\n",
            "f00413.JPG\n",
            "f00414.JPG\n",
            "f00419.JPG\n",
            "f00421.JPG\n",
            "f00429.JPG\n",
            "f00443.JPG\n",
            "f00444.JPG\n",
            "f00455.JPG\n",
            "f00470.JPG\n",
            "f00486.JPG\n"
          ],
          "name": "stdout"
        }
      ]
    },
    {
      "metadata": {
        "id": "teUPyZD16Q0m",
        "colab_type": "code",
        "colab": {
          "autoexec": {
            "startup": false,
            "wait_interval": 0
          },
          "base_uri": "https://localhost:8080/",
          "height": 238
        },
        "outputId": "23cf6987-7bfb-4b56-919b-58fe5670483b",
        "executionInfo": {
          "status": "ok",
          "timestamp": 1530367819120,
          "user_tz": -360,
          "elapsed": 3512,
          "user": {
            "displayName": "Masum Hasan",
            "photoUrl": "//lh3.googleusercontent.com/-Paf88sL0bM4/AAAAAAAAAAI/AAAAAAAADeU/w9G4fcvOAno/s50-c-k-no/photo.jpg",
            "userId": "107189813580237018080"
          }
        }
      },
      "cell_type": "code",
      "source": [
        "ls data/shape_corrected/"
      ],
      "execution_count": 10,
      "outputs": [
        {
          "output_type": "stream",
          "text": [
            "e00243.png  f00067.JPG  f00136.JPG  f00232.JPG  f00298.JPG  f00407.JPG\r\n",
            "f00000.JPG  f00070.JPG  f00152.JPG  f00233.JPG  f00302.JPG  f00408.JPG\r\n",
            "f00013.JPG  f00086.JPG  f00153.JPG  f00236.JPG  f00306.JPG  f00413.JPG\r\n",
            "f00015.JPG  f00094.JPG  f00159.JPG  f00239.JPG  f00313.JPG  f00414.JPG\r\n",
            "f00021.JPG  f00096.JPG  f00160.JPG  f00251.JPG  f00315.png  f00419.JPG\r\n",
            "f00023.JPG  f00105.JPG  f00181.JPG  f00254.JPG  f00333.JPG  f00421.JPG\r\n",
            "f00024.JPG  f00106.JPG  f00183.JPG  f00259.JPG  f00337.JPG  f00429.JPG\r\n",
            "f00027.JPG  f00107.JPG  f00187.JPG  f00266.JPG  f00344.JPG  f00443.JPG\r\n",
            "f00030.JPG  f00108.JPG  f00195.JPG  f00274.JPG  f00348.JPG  f00444.JPG\r\n",
            "f00041.JPG  f00111.JPG  f00196.JPG  f00275.JPG  f00359.JPG  f00455.JPG\r\n",
            "f00050.JPG  f00119.JPG  f00211.JPG  f00280.JPG  f00364.JPG  f00470.JPG\r\n",
            "f00054.JPG  f00120.JPG  f00222.JPG  f00289.JPG  f00377.JPG  f00486.JPG\r\n",
            "f00066.JPG  f00127.JPG  f00226.JPG  f00296.JPG  f00385.JPG\r\n"
          ],
          "name": "stdout"
        }
      ]
    },
    {
      "metadata": {
        "id": "znQhfJyh6Eaw",
        "colab_type": "code",
        "colab": {
          "autoexec": {
            "startup": false,
            "wait_interval": 0
          },
          "base_uri": "https://localhost:8080/",
          "height": 34
        },
        "outputId": "66b29eec-09c7-4409-ccf2-84aa10396d62",
        "executionInfo": {
          "status": "ok",
          "timestamp": 1530367820496,
          "user_tz": -360,
          "elapsed": 792,
          "user": {
            "displayName": "Masum Hasan",
            "photoUrl": "//lh3.googleusercontent.com/-Paf88sL0bM4/AAAAAAAAAAI/AAAAAAAADeU/w9G4fcvOAno/s50-c-k-no/photo.jpg",
            "userId": "107189813580237018080"
          }
        }
      },
      "cell_type": "code",
      "source": [
        "wid_to_height_ratio(cv2.imread('data/shape_corrected/f00000.JPG', 0))"
      ],
      "execution_count": 11,
      "outputs": [
        {
          "output_type": "execute_result",
          "data": {
            "text/plain": [
              "1.0"
            ]
          },
          "metadata": {
            "tags": []
          },
          "execution_count": 11
        }
      ]
    },
    {
      "metadata": {
        "id": "roDkQLzi6gBq",
        "colab_type": "code",
        "colab": {
          "autoexec": {
            "startup": false,
            "wait_interval": 0
          },
          "base_uri": "https://localhost:8080/",
          "height": 37
        },
        "outputId": "11486899-1ede-43ec-fcf7-b3db255ff0d9",
        "executionInfo": {
          "status": "ok",
          "timestamp": 1530367823008,
          "user_tz": -360,
          "elapsed": 2131,
          "user": {
            "displayName": "Masum Hasan",
            "photoUrl": "//lh3.googleusercontent.com/-Paf88sL0bM4/AAAAAAAAAAI/AAAAAAAADeU/w9G4fcvOAno/s50-c-k-no/photo.jpg",
            "userId": "107189813580237018080"
          }
        }
      },
      "cell_type": "code",
      "source": [
        "!mv data/shape_corrected/* data/test/"
      ],
      "execution_count": 12,
      "outputs": []
    },
    {
      "metadata": {
        "id": "FlHNg4yQ7_aE",
        "colab_type": "code",
        "colab": {
          "autoexec": {
            "startup": false,
            "wait_interval": 0
          },
          "base_uri": "https://localhost:8080/",
          "height": 286
        },
        "outputId": "dcdd7574-6934-4ef3-b739-b20dd2c49c1d",
        "executionInfo": {
          "status": "ok",
          "timestamp": 1530368017552,
          "user_tz": -360,
          "elapsed": 7104,
          "user": {
            "displayName": "Masum Hasan",
            "photoUrl": "//lh3.googleusercontent.com/-Paf88sL0bM4/AAAAAAAAAAI/AAAAAAAADeU/w9G4fcvOAno/s50-c-k-no/photo.jpg",
            "userId": "107189813580237018080"
          }
        }
      },
      "cell_type": "code",
      "source": [
        "img = cv2.imread('data/test/f00015.JPG', 0)\n",
        "plt.imshow(img, cmap='gray')"
      ],
      "execution_count": 26,
      "outputs": [
        {
          "output_type": "execute_result",
          "data": {
            "text/plain": [
              "<matplotlib.image.AxesImage at 0x7f9581ebb710>"
            ]
          },
          "metadata": {
            "tags": []
          },
          "execution_count": 26
        },
        {
          "output_type": "display_data",
          "data": {
            "image/png": "[encoded data removed]",
            "text/plain": [
              "<matplotlib.figure.Figure at 0x7f958478ac50>"
            ]
          },
          "metadata": {
            "tags": []
          }
        }
      ]
    },
    {
      "metadata": {
        "id": "8LRMM4nK1Ns_",
        "colab_type": "text"
      },
      "cell_type": "markdown",
      "source": [
        "###validation"
      ]
    },
    {
      "metadata": {
        "id": "QmnKvUiCBtWX",
        "colab_type": "code",
        "colab": {
          "autoexec": {
            "startup": false,
            "wait_interval": 0
          },
          "base_uri": "https://localhost:8080/",
          "height": 37
        },
        "outputId": "8b10a040-1ef7-48f3-9377-2574cea31c90",
        "executionInfo": {
          "status": "ok",
          "timestamp": 1530367824132,
          "user_tz": -360,
          "elapsed": 856,
          "user": {
            "displayName": "Masum Hasan",
            "photoUrl": "//lh3.googleusercontent.com/-Paf88sL0bM4/AAAAAAAAAAI/AAAAAAAADeU/w9G4fcvOAno/s50-c-k-no/photo.jpg",
            "userId": "107189813580237018080"
          }
        }
      },
      "cell_type": "code",
      "source": [
        "%%bash\n",
        "mkdir data/valid\n",
        "cd data/valid\n",
        "mkdir 0 1 2 3 4 5 6 7 8 9\n",
        "cd .."
      ],
      "execution_count": 13,
      "outputs": []
    },
    {
      "metadata": {
        "id": "uggX11mICQqW",
        "colab_type": "code",
        "colab": {
          "autoexec": {
            "startup": false,
            "wait_interval": 0
          },
          "base_uri": "https://localhost:8080/",
          "height": 37
        },
        "outputId": "f2bcfaa7-38fc-4041-bdb8-13f5524242ee",
        "executionInfo": {
          "status": "ok",
          "timestamp": 1530367827861,
          "user_tz": -360,
          "elapsed": 3284,
          "user": {
            "displayName": "Masum Hasan",
            "photoUrl": "//lh3.googleusercontent.com/-Paf88sL0bM4/AAAAAAAAAAI/AAAAAAAADeU/w9G4fcvOAno/s50-c-k-no/photo.jpg",
            "userId": "107189813580237018080"
          }
        }
      },
      "cell_type": "code",
      "source": [
        "import numpy as np\n",
        "import shutil\n",
        "import os"
      ],
      "execution_count": 14,
      "outputs": []
    },
    {
      "metadata": {
        "id": "GFCqmg_rCZ_Y",
        "colab_type": "code",
        "colab": {
          "autoexec": {
            "startup": false,
            "wait_interval": 0
          },
          "base_uri": "https://localhost:8080/",
          "height": 37
        },
        "outputId": "03d74094-96c5-4256-ec69-b3aec87b982e",
        "executionInfo": {
          "status": "ok",
          "timestamp": 1530367829604,
          "user_tz": -360,
          "elapsed": 1430,
          "user": {
            "displayName": "Masum Hasan",
            "photoUrl": "//lh3.googleusercontent.com/-Paf88sL0bM4/AAAAAAAAAAI/AAAAAAAADeU/w9G4fcvOAno/s50-c-k-no/photo.jpg",
            "userId": "107189813580237018080"
          }
        }
      },
      "cell_type": "code",
      "source": [
        "os.chdir(\"data\")"
      ],
      "execution_count": 15,
      "outputs": []
    },
    {
      "metadata": {
        "id": "e4o4iXlHCZw7",
        "colab_type": "code",
        "colab": {
          "autoexec": {
            "startup": false,
            "wait_interval": 0
          },
          "base_uri": "https://localhost:8080/",
          "height": 37
        },
        "outputId": "06841581-a0de-46c9-83f1-1a6b2eb136f0",
        "executionInfo": {
          "status": "ok",
          "timestamp": 1530367956908,
          "user_tz": -360,
          "elapsed": 126902,
          "user": {
            "displayName": "Masum Hasan",
            "photoUrl": "//lh3.googleusercontent.com/-Paf88sL0bM4/AAAAAAAAAAI/AAAAAAAADeU/w9G4fcvOAno/s50-c-k-no/photo.jpg",
            "userId": "107189813580237018080"
          }
        }
      },
      "cell_type": "code",
      "source": [
        "np.random.seed(1)\n",
        "valid_size = 45051\n",
        "num_classes = 10\n",
        "for i in range(valid_size):\n",
        "    c = np.random.randint(0, num_classes)\n",
        "    file = np.random.choice(os.listdir('train/' + str(c)))\n",
        "    src = 'train/' + str(c) + '/' + file\n",
        "    dst = 'valid/' + str(c) + '/' + file\n",
        "    shutil.move(src, dst)\n",
        "os.chdir('..')"
      ],
      "execution_count": 16,
      "outputs": []
    },
    {
      "metadata": {
        "id": "K7QtW-CDGD8Q",
        "colab_type": "code",
        "colab": {
          "autoexec": {
            "startup": false,
            "wait_interval": 0
          },
          "base_uri": "https://localhost:8080/",
          "height": 102
        },
        "outputId": "bfc9d56a-a46a-45bd-8db3-83e283c4b2c9",
        "executionInfo": {
          "status": "ok",
          "timestamp": 1530367959473,
          "user_tz": -360,
          "elapsed": 2000,
          "user": {
            "displayName": "Masum Hasan",
            "photoUrl": "//lh3.googleusercontent.com/-Paf88sL0bM4/AAAAAAAAAAI/AAAAAAAADeU/w9G4fcvOAno/s50-c-k-no/photo.jpg",
            "userId": "107189813580237018080"
          }
        }
      },
      "cell_type": "code",
      "source": [
        "%%bash\n",
        "pwd\n",
        "ls"
      ],
      "execution_count": 17,
      "outputs": [
        {
          "output_type": "stream",
          "text": [
            "/content\n",
            "data\n",
            "datalab\n",
            "test.zip\n",
            "train.zip\n"
          ],
          "name": "stdout"
        }
      ]
    },
    {
      "metadata": {
        "id": "Klv50V1Dsq3Q",
        "colab_type": "text"
      },
      "cell_type": "markdown",
      "source": [
        "### fast ai"
      ]
    },
    {
      "metadata": {
        "id": "SFVxrju420WL",
        "colab_type": "code",
        "colab": {
          "autoexec": {
            "startup": false,
            "wait_interval": 0
          },
          "base_uri": "https://localhost:8080/",
          "height": 37
        },
        "outputId": "aa68fe18-df39-46c1-fa50-e5ef8e6b01ae",
        "executionInfo": {
          "status": "ok",
          "timestamp": 1530370570917,
          "user_tz": -360,
          "elapsed": 1094,
          "user": {
            "displayName": "Masum Hasan",
            "photoUrl": "//lh3.googleusercontent.com/-Paf88sL0bM4/AAAAAAAAAAI/AAAAAAAADeU/w9G4fcvOAno/s50-c-k-no/photo.jpg",
            "userId": "107189813580237018080"
          }
        }
      },
      "cell_type": "code",
      "source": [
        "# Put these at the top of every notebook, to get automatic reloading and inline plotting\n",
        "%reload_ext autoreload\n",
        "%autoreload 2\n",
        "%matplotlib inline"
      ],
      "execution_count": 32,
      "outputs": []
    },
    {
      "metadata": {
        "id": "P6mxzPH13qoK",
        "colab_type": "code",
        "colab": {
          "autoexec": {
            "startup": false,
            "wait_interval": 0
          },
          "base_uri": "https://localhost:8080/",
          "height": 37
        },
        "outputId": "b0c76f12-4eab-4244-bb0f-a28a23db1707",
        "executionInfo": {
          "status": "ok",
          "timestamp": 1530370572709,
          "user_tz": -360,
          "elapsed": 1066,
          "user": {
            "displayName": "Masum Hasan",
            "photoUrl": "//lh3.googleusercontent.com/-Paf88sL0bM4/AAAAAAAAAAI/AAAAAAAADeU/w9G4fcvOAno/s50-c-k-no/photo.jpg",
            "userId": "107189813580237018080"
          }
        }
      },
      "cell_type": "code",
      "source": [
        "# This file contains all the main external libs we'll use\n",
        "from fastai.imports import *"
      ],
      "execution_count": 33,
      "outputs": []
    },
    {
      "metadata": {
        "id": "SKrMgVn83swi",
        "colab_type": "code",
        "colab": {
          "autoexec": {
            "startup": false,
            "wait_interval": 0
          },
          "base_uri": "https://localhost:8080/",
          "height": 37
        },
        "outputId": "3247069d-d301-4b5d-bf36-7f90bb1f3752",
        "executionInfo": {
          "status": "ok",
          "timestamp": 1530370574727,
          "user_tz": -360,
          "elapsed": 1530,
          "user": {
            "displayName": "Masum Hasan",
            "photoUrl": "//lh3.googleusercontent.com/-Paf88sL0bM4/AAAAAAAAAAI/AAAAAAAADeU/w9G4fcvOAno/s50-c-k-no/photo.jpg",
            "userId": "107189813580237018080"
          }
        }
      },
      "cell_type": "code",
      "source": [
        "from fastai.transforms import *\n",
        "from fastai.conv_learner import *\n",
        "from fastai.model import *\n",
        "from fastai.dataset import *\n",
        "from fastai.sgdr import *\n",
        "from fastai.plots import *"
      ],
      "execution_count": 34,
      "outputs": []
    },
    {
      "metadata": {
        "id": "9Vt-DPZ-3vTr",
        "colab_type": "code",
        "colab": {
          "autoexec": {
            "startup": false,
            "wait_interval": 0
          },
          "base_uri": "https://localhost:8080/",
          "height": 37
        },
        "outputId": "171bf06f-6a96-452d-e71e-9efe7995daa3",
        "executionInfo": {
          "status": "ok",
          "timestamp": 1530373255259,
          "user_tz": -360,
          "elapsed": 4333,
          "user": {
            "displayName": "Masum Hasan",
            "photoUrl": "//lh3.googleusercontent.com/-Paf88sL0bM4/AAAAAAAAAAI/AAAAAAAADeU/w9G4fcvOAno/s50-c-k-no/photo.jpg",
            "userId": "107189813580237018080"
          }
        }
      },
      "cell_type": "code",
      "source": [
        "PATH = \"data/\"\n",
        "sz = 224\n",
        "bs = 64"
      ],
      "execution_count": 46,
      "outputs": []
    },
    {
      "metadata": {
        "id": "WMo-YXuC4Y94",
        "colab_type": "code",
        "colab": {
          "autoexec": {
            "startup": false,
            "wait_interval": 0
          },
          "base_uri": "https://localhost:8080/",
          "height": 34
        },
        "outputId": "871ced49-961d-4dfd-e376-c5fef9091905",
        "executionInfo": {
          "status": "ok",
          "timestamp": 1530370577860,
          "user_tz": -360,
          "elapsed": 1152,
          "user": {
            "displayName": "Masum Hasan",
            "photoUrl": "//lh3.googleusercontent.com/-Paf88sL0bM4/AAAAAAAAAAI/AAAAAAAADeU/w9G4fcvOAno/s50-c-k-no/photo.jpg",
            "userId": "107189813580237018080"
          }
        }
      },
      "cell_type": "code",
      "source": [
        "len(os.listdir(f'{PATH}test'))"
      ],
      "execution_count": 36,
      "outputs": [
        {
          "output_type": "execute_result",
          "data": {
            "text/plain": [
              "17626"
            ]
          },
          "metadata": {
            "tags": []
          },
          "execution_count": 36
        }
      ]
    },
    {
      "metadata": {
        "id": "fnHwqs_wumdV",
        "colab_type": "text"
      },
      "cell_type": "markdown",
      "source": [
        "### Train"
      ]
    },
    {
      "metadata": {
        "id": "QvUGltuMaTNG",
        "colab_type": "code",
        "colab": {
          "autoexec": {
            "startup": false,
            "wait_interval": 0
          },
          "base_uri": "https://localhost:8080/",
          "height": 34
        },
        "outputId": "7f3b0bf6-ace4-41e8-9c1d-899368b6db76",
        "executionInfo": {
          "status": "ok",
          "timestamp": 1530367978575,
          "user_tz": -360,
          "elapsed": 4165,
          "user": {
            "displayName": "Masum Hasan",
            "photoUrl": "//lh3.googleusercontent.com/-Paf88sL0bM4/AAAAAAAAAAI/AAAAAAAADeU/w9G4fcvOAno/s50-c-k-no/photo.jpg",
            "userId": "107189813580237018080"
          }
        }
      },
      "cell_type": "code",
      "source": [
        "ls"
      ],
      "execution_count": 22,
      "outputs": [
        {
          "output_type": "stream",
          "text": [
            "\u001b[0m\u001b[01;34mdata\u001b[0m/  \u001b[01;34mdatalab\u001b[0m/  test.zip  train.zip\r\n"
          ],
          "name": "stdout"
        }
      ]
    },
    {
      "metadata": {
        "id": "frMieMDR1Ysf",
        "colab_type": "code",
        "colab": {
          "autoexec": {
            "startup": false,
            "wait_interval": 0
          },
          "base_uri": "https://localhost:8080/",
          "height": 17
        },
        "outputId": "26ad339b-80d8-44fc-deb7-68e41de43b8b",
        "executionInfo": {
          "status": "ok",
          "timestamp": 1530374388836,
          "user_tz": -360,
          "elapsed": 3507,
          "user": {
            "displayName": "Masum Hasan",
            "photoUrl": "//lh3.googleusercontent.com/-Paf88sL0bM4/AAAAAAAAAAI/AAAAAAAADeU/w9G4fcvOAno/s50-c-k-no/photo.jpg",
            "userId": "107189813580237018080"
          }
        }
      },
      "cell_type": "code",
      "source": [
        "arch = resnet50\n",
        "data = ImageClassifierData.from_paths(PATH, tfms=tfms_from_model(arch, sz), bs=bs)\n",
        "learn = ConvLearner.pretrained(arch, data, precompute=False, ps=0.4)"
      ],
      "execution_count": 68,
      "outputs": []
    },
    {
      "metadata": {
        "id": "dv640V2f7R15",
        "colab_type": "code",
        "colab": {
          "autoexec": {
            "startup": false,
            "wait_interval": 0
          },
          "base_uri": "https://localhost:8080/",
          "height": 34
        },
        "outputId": "aa67e21e-879f-4db3-8579-df127e74c3fa",
        "executionInfo": {
          "status": "ok",
          "timestamp": 1530368002222,
          "user_tz": -360,
          "elapsed": 4524,
          "user": {
            "displayName": "Masum Hasan",
            "photoUrl": "//lh3.googleusercontent.com/-Paf88sL0bM4/AAAAAAAAAAI/AAAAAAAADeU/w9G4fcvOAno/s50-c-k-no/photo.jpg",
            "userId": "107189813580237018080"
          }
        }
      },
      "cell_type": "code",
      "source": [
        "mkdir data/models"
      ],
      "execution_count": 24,
      "outputs": [
        {
          "output_type": "stream",
          "text": [
            "mkdir: cannot create directory ‘data/models’: File exists\r\n"
          ],
          "name": "stdout"
        }
      ]
    },
    {
      "metadata": {
        "id": "n29ZzvZ2ycpo",
        "colab_type": "code",
        "colab": {
          "autoexec": {
            "startup": false,
            "wait_interval": 0
          },
          "base_uri": "https://localhost:8080/",
          "height": 377
        },
        "outputId": "5f695a1f-39ee-40fc-c876-4583c2cec886",
        "executionInfo": {
          "status": "ok",
          "timestamp": 1530373134015,
          "user_tz": -360,
          "elapsed": 7853,
          "user": {
            "displayName": "Masum Hasan",
            "photoUrl": "//lh3.googleusercontent.com/-Paf88sL0bM4/AAAAAAAAAAI/AAAAAAAADeU/w9G4fcvOAno/s50-c-k-no/photo.jpg",
            "userId": "107189813580237018080"
          }
        }
      },
      "cell_type": "code",
      "source": [
        "!wget https://www.dropbox.com/s/paav5unpws3erq8/resnet50_augment_7_2_2.h5"
      ],
      "execution_count": 40,
      "outputs": [
        {
          "output_type": "stream",
          "text": [
            "--2018-06-30 15:38:49--  https://www.dropbox.com/s/paav5unpws3erq8/resnet50_augment_7_2_2.h5\r\n",
            "Resolving www.dropbox.com (www.dropbox.com)... 162.125.65.1, 2620:100:6021:1::a27d:4101\r\n",
            "Connecting to www.dropbox.com (www.dropbox.com)|162.125.65.1|:443... connected.\n",
            "HTTP request sent, awaiting response... 302 Found\n",
            "Location: /s/raw/paav5unpws3erq8/resnet50_augment_7_2_2.h5 [following]\n",
            "--2018-06-30 15:38:50--  https://www.dropbox.com/s/raw/paav5unpws3erq8/resnet50_augment_7_2_2.h5\n",
            "Reusing existing connection to www.dropbox.com:443.\n",
            "HTTP request sent, awaiting response... 302 Found\n",
            "Location: https://uc298757e2e53bd5299b8595277f.dl.dropboxusercontent.com/cd/0/inline/AKK4TcOKyjb7RiTNt7fSfgyc3VVEAE-WJDldunzNoBoo9Re96ioCWRhCfyahH6lBzly6l7MLVi_I4QbDZjh52g3hs3uKvJex7ATeGRLumwi1xmWh2RbqgyTkop--bbuiTeC4-pB-d_jjKJiyHRxUJHhEpcQm6sfBCedTf3kcTDSPh0o7KFKTizaXRBDb4RXBYgM/file [following]\n",
            "--2018-06-30 15:38:50--  https://uc298757e2e53bd5299b8595277f.dl.dropboxusercontent.com/cd/0/inline/AKK4TcOKyjb7RiTNt7fSfgyc3VVEAE-WJDldunzNoBoo9Re96ioCWRhCfyahH6lBzly6l7MLVi_I4QbDZjh52g3hs3uKvJex7ATeGRLumwi1xmWh2RbqgyTkop--bbuiTeC4-pB-d_jjKJiyHRxUJHhEpcQm6sfBCedTf3kcTDSPh0o7KFKTizaXRBDb4RXBYgM/file\n",
            "Resolving uc298757e2e53bd5299b8595277f.dl.dropboxusercontent.com (uc298757e2e53bd5299b8595277f.dl.dropboxusercontent.com)... 162.125.65.6, 2620:100:6021:6::a27d:4106\n",
            "Connecting to uc298757e2e53bd5299b8595277f.dl.dropboxusercontent.com (uc298757e2e53bd5299b8595277f.dl.dropboxusercontent.com)|162.125.65.6|:443... connected.\n",
            "HTTP request sent, awaiting response... 200 OK\n",
            "Length: 102770135 (98M) [text/plain]\n",
            "Saving to: ‘resnet50_augment_7_2_2.h5’\n",
            "\n",
            "resnet50_augment_7_ 100%[===================>]  98.01M  38.5MB/s    in 2.5s    \n",
            "\n",
            "2018-06-30 15:38:53 (38.5 MB/s) - ‘resnet50_augment_7_2_2.h5’ saved [102770135/102770135]\n",
            "\n"
          ],
          "name": "stdout"
        }
      ]
    },
    {
      "metadata": {
        "id": "frsSQjqkH1hx",
        "colab_type": "code",
        "colab": {
          "autoexec": {
            "startup": false,
            "wait_interval": 0
          },
          "base_uri": "https://localhost:8080/",
          "height": 37
        },
        "outputId": "0bcae967-f510-4de4-c5bd-c6e42c373868",
        "executionInfo": {
          "status": "ok",
          "timestamp": 1530373159574,
          "user_tz": -360,
          "elapsed": 2770,
          "user": {
            "displayName": "Masum Hasan",
            "photoUrl": "//lh3.googleusercontent.com/-Paf88sL0bM4/AAAAAAAAAAI/AAAAAAAADeU/w9G4fcvOAno/s50-c-k-no/photo.jpg",
            "userId": "107189813580237018080"
          }
        }
      },
      "cell_type": "code",
      "source": [
        "!mv resnet50_augment_7_2_2.h5 data/models/"
      ],
      "execution_count": 41,
      "outputs": []
    },
    {
      "metadata": {
        "id": "IgLF7RoyIBfZ",
        "colab_type": "code",
        "colab": {
          "autoexec": {
            "startup": false,
            "wait_interval": 0
          },
          "base_uri": "https://localhost:8080/",
          "height": 37
        },
        "outputId": "112929e8-17db-476f-c788-2b5bd9ff9ada",
        "executionInfo": {
          "status": "ok",
          "timestamp": 1530374398825,
          "user_tz": -360,
          "elapsed": 1861,
          "user": {
            "displayName": "Masum Hasan",
            "photoUrl": "//lh3.googleusercontent.com/-Paf88sL0bM4/AAAAAAAAAAI/AAAAAAAADeU/w9G4fcvOAno/s50-c-k-no/photo.jpg",
            "userId": "107189813580237018080"
          }
        }
      },
      "cell_type": "code",
      "source": [
        "learn.load('resnet50_augment_7_2_2')"
      ],
      "execution_count": 69,
      "outputs": []
    },
    {
      "metadata": {
        "id": "AZ5gCX_hgOr7",
        "colab_type": "code",
        "colab": {
          "autoexec": {
            "startup": false,
            "wait_interval": 0
          },
          "base_uri": "https://localhost:8080/",
          "height": 37
        },
        "outputId": "dacc27b9-6ef9-4a5d-ee49-6bc59ece85b7",
        "executionInfo": {
          "status": "ok",
          "timestamp": 1530374402274,
          "user_tz": -360,
          "elapsed": 2349,
          "user": {
            "displayName": "Masum Hasan",
            "photoUrl": "//lh3.googleusercontent.com/-Paf88sL0bM4/AAAAAAAAAAI/AAAAAAAADeU/w9G4fcvOAno/s50-c-k-no/photo.jpg",
            "userId": "107189813580237018080"
          }
        }
      },
      "cell_type": "code",
      "source": [
        "learn.unfreeze()"
      ],
      "execution_count": 70,
      "outputs": []
    },
    {
      "metadata": {
        "id": "meL6CCFnRA97",
        "colab_type": "code",
        "colab": {
          "autoexec": {
            "startup": false,
            "wait_interval": 0
          },
          "base_uri": "https://localhost:8080/",
          "height": 37
        },
        "outputId": "97180974-135f-4c12-a53a-1814ce313ba2",
        "executionInfo": {
          "status": "ok",
          "timestamp": 1530374405855,
          "user_tz": -360,
          "elapsed": 3235,
          "user": {
            "displayName": "Masum Hasan",
            "photoUrl": "//lh3.googleusercontent.com/-Paf88sL0bM4/AAAAAAAAAAI/AAAAAAAADeU/w9G4fcvOAno/s50-c-k-no/photo.jpg",
            "userId": "107189813580237018080"
          }
        }
      },
      "cell_type": "code",
      "source": [
        "learn.bn_freeze(True) # after resnet50"
      ],
      "execution_count": 71,
      "outputs": []
    },
    {
      "metadata": {
        "id": "vyTaFzrMumDk",
        "colab_type": "code",
        "colab": {
          "autoexec": {
            "startup": false,
            "wait_interval": 0
          },
          "base_uri": "https://localhost:8080/",
          "height": 34
        },
        "outputId": "fa626a13-7f20-4afe-a0d0-2feb367aa7d9",
        "executionInfo": {
          "status": "ok",
          "timestamp": 1530374408879,
          "user_tz": -360,
          "elapsed": 2184,
          "user": {
            "displayName": "Masum Hasan",
            "photoUrl": "//lh3.googleusercontent.com/-Paf88sL0bM4/AAAAAAAAAAI/AAAAAAAADeU/w9G4fcvOAno/s50-c-k-no/photo.jpg",
            "userId": "107189813580237018080"
          }
        }
      },
      "cell_type": "code",
      "source": [
        "os.listdir(f'{PATH}models')"
      ],
      "execution_count": 72,
      "outputs": [
        {
          "output_type": "execute_result",
          "data": {
            "text/plain": [
              "['resnet50_augment_7_3.h5', 'resnet50_augment_7_2_2.h5']"
            ]
          },
          "metadata": {
            "tags": []
          },
          "execution_count": 72
        }
      ]
    },
    {
      "metadata": {
        "id": "Pz9UGkmqfj6r",
        "colab_type": "text"
      },
      "cell_type": "markdown",
      "source": [
        "### Prediction"
      ]
    },
    {
      "metadata": {
        "id": "OWc7OOCCf6Vn",
        "colab_type": "code",
        "colab": {
          "autoexec": {
            "startup": false,
            "wait_interval": 0
          },
          "base_uri": "https://localhost:8080/",
          "height": 37
        },
        "outputId": "6cc75b05-4e63-4e03-9b04-c26eee2d95d6",
        "executionInfo": {
          "status": "ok",
          "timestamp": 1530374437006,
          "user_tz": -360,
          "elapsed": 2131,
          "user": {
            "displayName": "Masum Hasan",
            "photoUrl": "//lh3.googleusercontent.com/-Paf88sL0bM4/AAAAAAAAAAI/AAAAAAAADeU/w9G4fcvOAno/s50-c-k-no/photo.jpg",
            "userId": "107189813580237018080"
          }
        }
      },
      "cell_type": "code",
      "source": [
        "data = ImageClassifierData.from_paths(PATH, tfms=tfms_from_model(arch, sz), test_name='test', bs=bs)"
      ],
      "execution_count": 73,
      "outputs": []
    },
    {
      "metadata": {
        "id": "UGVfXOHalY_V",
        "colab_type": "code",
        "colab": {
          "autoexec": {
            "startup": false,
            "wait_interval": 0
          },
          "base_uri": "https://localhost:8080/",
          "height": 37
        },
        "outputId": "5989aa5e-1064-46bd-c2df-e91827058c0c",
        "executionInfo": {
          "status": "ok",
          "timestamp": 1530374438217,
          "user_tz": -360,
          "elapsed": 903,
          "user": {
            "displayName": "Masum Hasan",
            "photoUrl": "//lh3.googleusercontent.com/-Paf88sL0bM4/AAAAAAAAAAI/AAAAAAAADeU/w9G4fcvOAno/s50-c-k-no/photo.jpg",
            "userId": "107189813580237018080"
          }
        }
      },
      "cell_type": "code",
      "source": [
        "learn.data_ = data"
      ],
      "execution_count": 74,
      "outputs": []
    },
    {
      "metadata": {
        "id": "MPgco551gj-g",
        "colab_type": "code",
        "colab": {
          "autoexec": {
            "startup": false,
            "wait_interval": 0
          },
          "base_uri": "https://localhost:8080/",
          "height": 34
        },
        "outputId": "ae01e57f-03b3-44b0-e1ee-8796f5859de8",
        "executionInfo": {
          "status": "ok",
          "timestamp": 1530373314095,
          "user_tz": -360,
          "elapsed": 1609,
          "user": {
            "displayName": "Masum Hasan",
            "photoUrl": "//lh3.googleusercontent.com/-Paf88sL0bM4/AAAAAAAAAAI/AAAAAAAADeU/w9G4fcvOAno/s50-c-k-no/photo.jpg",
            "userId": "107189813580237018080"
          }
        }
      },
      "cell_type": "code",
      "source": [
        "data.classes"
      ],
      "execution_count": 54,
      "outputs": [
        {
          "output_type": "execute_result",
          "data": {
            "text/plain": [
              "['0', '1', '2', '3', '4', '5', '6', '7', '8', '9']"
            ]
          },
          "metadata": {
            "tags": []
          },
          "execution_count": 54
        }
      ]
    },
    {
      "metadata": {
        "id": "Pus7mpAXfmZR",
        "colab_type": "code",
        "colab": {
          "autoexec": {
            "startup": false,
            "wait_interval": 0
          },
          "base_uri": "https://localhost:8080/",
          "height": 17
        },
        "outputId": "15d3d13b-af48-4ec8-c900-951f648baf4b",
        "executionInfo": {
          "status": "ok",
          "timestamp": 1530375093915,
          "user_tz": -360,
          "elapsed": 651155,
          "user": {
            "displayName": "Masum Hasan",
            "photoUrl": "//lh3.googleusercontent.com/-Paf88sL0bM4/AAAAAAAAAAI/AAAAAAAADeU/w9G4fcvOAno/s50-c-k-no/photo.jpg",
            "userId": "107189813580237018080"
          }
        }
      },
      "cell_type": "code",
      "source": [
        "log_preds_test = learn.TTA(is_test=True)\n",
        "#log_preds_test = learn.predict(is_test=True)"
      ],
      "execution_count": 75,
      "outputs": [
        {
          "output_type": "stream",
          "text": [
            ""
          ],
          "name": "stdout"
        }
      ]
    },
    {
      "metadata": {
        "id": "fVu8OxETk6v2",
        "colab_type": "code",
        "colab": {
          "autoexec": {
            "startup": false,
            "wait_interval": 0
          },
          "base_uri": "https://localhost:8080/",
          "height": 37
        },
        "outputId": "79d889ce-89f7-4cf2-82e9-d9935ee96b86",
        "executionInfo": {
          "status": "ok",
          "timestamp": 1530375095205,
          "user_tz": -360,
          "elapsed": 1229,
          "user": {
            "displayName": "Masum Hasan",
            "photoUrl": "//lh3.googleusercontent.com/-Paf88sL0bM4/AAAAAAAAAAI/AAAAAAAADeU/w9G4fcvOAno/s50-c-k-no/photo.jpg",
            "userId": "107189813580237018080"
          }
        }
      },
      "cell_type": "code",
      "source": [
        "test_preds, _ = log_preds_test"
      ],
      "execution_count": 76,
      "outputs": []
    },
    {
      "metadata": {
        "id": "O3Ld5khZfmRh",
        "colab_type": "code",
        "colab": {
          "autoexec": {
            "startup": false,
            "wait_interval": 0
          },
          "base_uri": "https://localhost:8080/",
          "height": 37
        },
        "outputId": "a2d6c645-acd4-4724-d3b4-f1c8e5fd8ce8",
        "executionInfo": {
          "status": "ok",
          "timestamp": 1530375097802,
          "user_tz": -360,
          "elapsed": 2133,
          "user": {
            "displayName": "Masum Hasan",
            "photoUrl": "//lh3.googleusercontent.com/-Paf88sL0bM4/AAAAAAAAAAI/AAAAAAAADeU/w9G4fcvOAno/s50-c-k-no/photo.jpg",
            "userId": "107189813580237018080"
          }
        }
      },
      "cell_type": "code",
      "source": [
        "preds = np.mean(test_preds, axis=0)"
      ],
      "execution_count": 77,
      "outputs": []
    },
    {
      "metadata": {
        "id": "DEefmCrRllN1",
        "colab_type": "code",
        "colab": {
          "autoexec": {
            "startup": false,
            "wait_interval": 0
          },
          "base_uri": "https://localhost:8080/",
          "height": 37
        },
        "outputId": "d591e8a5-d7ab-4d40-a099-b0faec7cb50c",
        "executionInfo": {
          "status": "ok",
          "timestamp": 1530375100781,
          "user_tz": -360,
          "elapsed": 2030,
          "user": {
            "displayName": "Masum Hasan",
            "photoUrl": "//lh3.googleusercontent.com/-Paf88sL0bM4/AAAAAAAAAAI/AAAAAAAADeU/w9G4fcvOAno/s50-c-k-no/photo.jpg",
            "userId": "107189813580237018080"
          }
        }
      },
      "cell_type": "code",
      "source": [
        "classes = np.array(data.classes)"
      ],
      "execution_count": 78,
      "outputs": []
    },
    {
      "metadata": {
        "id": "y_IhNBlLllE7",
        "colab_type": "code",
        "colab": {
          "autoexec": {
            "startup": false,
            "wait_interval": 0
          },
          "base_uri": "https://localhost:8080/",
          "height": 34
        },
        "outputId": "b15cf239-e9ac-4620-c9f0-316450f00d2d",
        "executionInfo": {
          "status": "ok",
          "timestamp": 1530375103860,
          "user_tz": -360,
          "elapsed": 2178,
          "user": {
            "displayName": "Masum Hasan",
            "photoUrl": "//lh3.googleusercontent.com/-Paf88sL0bM4/AAAAAAAAAAI/AAAAAAAADeU/w9G4fcvOAno/s50-c-k-no/photo.jpg",
            "userId": "107189813580237018080"
          }
        }
      },
      "cell_type": "code",
      "source": [
        "preds.shape"
      ],
      "execution_count": 79,
      "outputs": [
        {
          "output_type": "execute_result",
          "data": {
            "text/plain": [
              "(17626, 10)"
            ]
          },
          "metadata": {
            "tags": []
          },
          "execution_count": 79
        }
      ]
    },
    {
      "metadata": {
        "id": "ZEw-hSHZlk8Q",
        "colab_type": "code",
        "colab": {
          "autoexec": {
            "startup": false,
            "wait_interval": 0
          },
          "base_uri": "https://localhost:8080/",
          "height": 37
        },
        "outputId": "1754d7c6-bce1-49c8-e962-a0e18640402f",
        "executionInfo": {
          "status": "ok",
          "timestamp": 1530375106816,
          "user_tz": -360,
          "elapsed": 2117,
          "user": {
            "displayName": "Masum Hasan",
            "photoUrl": "//lh3.googleusercontent.com/-Paf88sL0bM4/AAAAAAAAAAI/AAAAAAAADeU/w9G4fcvOAno/s50-c-k-no/photo.jpg",
            "userId": "107189813580237018080"
          }
        }
      },
      "cell_type": "code",
      "source": [
        "pred_label = []\n",
        "for i in range(len(preds)):\n",
        "    label = np.argmax(preds[i])\n",
        "    pred_label.append(label)"
      ],
      "execution_count": 80,
      "outputs": []
    },
    {
      "metadata": {
        "id": "7UEus88Xlkyj",
        "colab_type": "code",
        "colab": {
          "autoexec": {
            "startup": false,
            "wait_interval": 0
          },
          "base_uri": "https://localhost:8080/",
          "height": 37
        },
        "outputId": "220a20ca-5d54-453a-f43d-d405ef61e426",
        "executionInfo": {
          "status": "ok",
          "timestamp": 1530375109806,
          "user_tz": -360,
          "elapsed": 2114,
          "user": {
            "displayName": "Masum Hasan",
            "photoUrl": "//lh3.googleusercontent.com/-Paf88sL0bM4/AAAAAAAAAAI/AAAAAAAADeU/w9G4fcvOAno/s50-c-k-no/photo.jpg",
            "userId": "107189813580237018080"
          }
        }
      },
      "cell_type": "code",
      "source": [
        "pred_key = os.listdir('data/test/')\n",
        "#pred_key.sort()"
      ],
      "execution_count": 81,
      "outputs": []
    },
    {
      "metadata": {
        "id": "nYEQ-M39pBuA",
        "colab_type": "code",
        "colab": {
          "autoexec": {
            "startup": false,
            "wait_interval": 0
          },
          "base_uri": "https://localhost:8080/",
          "height": 37
        },
        "outputId": "b7b91afa-a9b9-48de-d432-1bb3490f86f8",
        "executionInfo": {
          "status": "ok",
          "timestamp": 1530375112865,
          "user_tz": -360,
          "elapsed": 2152,
          "user": {
            "displayName": "Masum Hasan",
            "photoUrl": "//lh3.googleusercontent.com/-Paf88sL0bM4/AAAAAAAAAAI/AAAAAAAADeU/w9G4fcvOAno/s50-c-k-no/photo.jpg",
            "userId": "107189813580237018080"
          }
        }
      },
      "cell_type": "code",
      "source": [
        "pred_df = pd.DataFrame({'key': pred_key, 'label': pred_label})"
      ],
      "execution_count": 82,
      "outputs": []
    },
    {
      "metadata": {
        "id": "weFdIKYupDwz",
        "colab_type": "code",
        "colab": {
          "autoexec": {
            "startup": false,
            "wait_interval": 0
          },
          "base_uri": "https://localhost:8080/",
          "height": 224
        },
        "outputId": "dfd32e52-b853-4173-9674-4c4b87fdb330",
        "executionInfo": {
          "status": "ok",
          "timestamp": 1530375116648,
          "user_tz": -360,
          "elapsed": 2981,
          "user": {
            "displayName": "Masum Hasan",
            "photoUrl": "//lh3.googleusercontent.com/-Paf88sL0bM4/AAAAAAAAAAI/AAAAAAAADeU/w9G4fcvOAno/s50-c-k-no/photo.jpg",
            "userId": "107189813580237018080"
          }
        }
      },
      "cell_type": "code",
      "source": [
        "pred_df.head()"
      ],
      "execution_count": 83,
      "outputs": [
        {
          "output_type": "execute_result",
          "data": {
            "text/html": [
              "<div>\n",
              "<style scoped>\n",
              "    .dataframe tbody tr th:only-of-type {\n",
              "        vertical-align: middle;\n",
              "    }\n",
              "\n",
              "    .dataframe tbody tr th {\n",
              "        vertical-align: top;\n",
              "    }\n",
              "\n",
              "    .dataframe thead th {\n",
              "        text-align: right;\n",
              "    }\n",
              "</style>\n",
              "<table border=\"1\" class=\"dataframe\">\n",
              "  <thead>\n",
              "    <tr style=\"text-align: right;\">\n",
              "      <th></th>\n",
              "      <th>key</th>\n",
              "      <th>label</th>\n",
              "    </tr>\n",
              "  </thead>\n",
              "  <tbody>\n",
              "    <tr>\n",
              "      <th>0</th>\n",
              "      <td>c02172.png</td>\n",
              "      <td>7</td>\n",
              "    </tr>\n",
              "    <tr>\n",
              "      <th>1</th>\n",
              "      <td>augc01981.png</td>\n",
              "      <td>1</td>\n",
              "    </tr>\n",
              "    <tr>\n",
              "      <th>2</th>\n",
              "      <td>c00411.png</td>\n",
              "      <td>6</td>\n",
              "    </tr>\n",
              "    <tr>\n",
              "      <th>3</th>\n",
              "      <td>c02724.png</td>\n",
              "      <td>3</td>\n",
              "    </tr>\n",
              "    <tr>\n",
              "      <th>4</th>\n",
              "      <td>augc00662.png</td>\n",
              "      <td>3</td>\n",
              "    </tr>\n",
              "  </tbody>\n",
              "</table>\n",
              "</div>"
            ],
            "text/plain": [
              "             key  label\n",
              "0     c02172.png      7\n",
              "1  augc01981.png      1\n",
              "2     c00411.png      6\n",
              "3     c02724.png      3\n",
              "4  augc00662.png      3"
            ]
          },
          "metadata": {
            "tags": []
          },
          "execution_count": 83
        }
      ]
    },
    {
      "metadata": {
        "id": "OZGu6O_XpFaq",
        "colab_type": "code",
        "colab": {
          "autoexec": {
            "startup": false,
            "wait_interval": 0
          },
          "base_uri": "https://localhost:8080/",
          "height": 37
        },
        "outputId": "fe7fe329-b077-4fbb-ded2-553f8970d664",
        "executionInfo": {
          "status": "ok",
          "timestamp": 1530375119950,
          "user_tz": -360,
          "elapsed": 2177,
          "user": {
            "displayName": "Masum Hasan",
            "photoUrl": "//lh3.googleusercontent.com/-Paf88sL0bM4/AAAAAAAAAAI/AAAAAAAADeU/w9G4fcvOAno/s50-c-k-no/photo.jpg",
            "userId": "107189813580237018080"
          }
        }
      },
      "cell_type": "code",
      "source": [
        "pred_df.to_csv('submission-10.4-resnet50_augment_7_2_2.csv', index=False)"
      ],
      "execution_count": 84,
      "outputs": []
    },
    {
      "metadata": {
        "id": "bEnF8flbRXzw",
        "colab_type": "code",
        "colab": {
          "autoexec": {
            "startup": false,
            "wait_interval": 0
          },
          "base_uri": "https://localhost:8080/",
          "height": 37
        },
        "outputId": "7177a380-4e59-4a29-8a49-0c27f7c0382d",
        "executionInfo": {
          "status": "ok",
          "timestamp": 1530375121803,
          "user_tz": -360,
          "elapsed": 1127,
          "user": {
            "displayName": "Masum Hasan",
            "photoUrl": "//lh3.googleusercontent.com/-Paf88sL0bM4/AAAAAAAAAAI/AAAAAAAADeU/w9G4fcvOAno/s50-c-k-no/photo.jpg",
            "userId": "107189813580237018080"
          }
        }
      },
      "cell_type": "code",
      "source": [
        "from google.colab import files"
      ],
      "execution_count": 85,
      "outputs": []
    },
    {
      "metadata": {
        "id": "NeVBQqAwpFVX",
        "colab_type": "code",
        "colab": {
          "autoexec": {
            "startup": false,
            "wait_interval": 0
          },
          "base_uri": "https://localhost:8080/",
          "height": 37
        },
        "outputId": "c22f2ec8-ab1c-4a22-e598-563868ac8692",
        "executionInfo": {
          "status": "ok",
          "timestamp": 1530375131835,
          "user_tz": -360,
          "elapsed": 9121,
          "user": {
            "displayName": "Masum Hasan",
            "photoUrl": "//lh3.googleusercontent.com/-Paf88sL0bM4/AAAAAAAAAAI/AAAAAAAADeU/w9G4fcvOAno/s50-c-k-no/photo.jpg",
            "userId": "107189813580237018080"
          }
        }
      },
      "cell_type": "code",
      "source": [
        "files.download('submission-10.4-resnet50_augment_7_2_2.csv')"
      ],
      "execution_count": 86,
      "outputs": []
    },
    {
      "metadata": {
        "id": "_JVhNTv2GIRX",
        "colab_type": "code",
        "colab": {
          "autoexec": {
            "startup": false,
            "wait_interval": 0
          }
        }
      },
      "cell_type": "code",
      "source": [
        " "
      ],
      "execution_count": 0,
      "outputs": []
    }
  ]
}