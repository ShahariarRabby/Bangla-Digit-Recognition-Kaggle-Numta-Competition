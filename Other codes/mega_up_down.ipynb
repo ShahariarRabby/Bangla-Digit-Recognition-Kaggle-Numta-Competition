{
  "nbformat": 4,
  "nbformat_minor": 0,
  "metadata": {
    "colab": {
      "name": "mega_up_down.ipynb",
      "version": "0.3.2",
      "views": {},
      "default_view": {},
      "provenance": [],
      "collapsed_sections": []
    },
    "kernelspec": {
      "name": "python3",
      "display_name": "Python 3"
    }
  },
  "cells": [
    {
      "metadata": {
        "id": "ElflUOpSW51I",
        "colab_type": "code",
        "colab": {
          "autoexec": {
            "startup": false,
            "wait_interval": 0
          },
          "base_uri": "https://localhost:8080/",
          "height": 353
        },
        "outputId": "aa7c28e4-c3a6-47cc-bbd3-388a7ce61721",
        "executionInfo": {
          "status": "ok",
          "timestamp": 1529853741743,
          "user_tz": -360,
          "elapsed": 22730,
          "user": {
            "displayName": "Rafid ul islam",
            "photoUrl": "//lh3.googleusercontent.com/-SYwqmwbdI3c/AAAAAAAAAAI/AAAAAAAAABg/M_h0kF8cKRU/s50-c-k-no/photo.jpg",
            "userId": "108054376868707542445"
          }
        }
      },
      "cell_type": "code",
      "source": [
        "%%bash\n",
        "git clone https://github.com/jeroenmeulenaar/python3-mega.git\n"
      ],
      "execution_count": 0,
      "outputs": [
        {
          "output_type": "stream",
          "text": [
            "Requirement already satisfied: requests>=1.1.0 in /usr/local/lib/python3.6/dist-packages (from -r requirements.txt (line 1)) (2.18.4)\n",
            "Collecting URLObject>=2.1.1 (from -r requirements.txt (line 2))\n",
            "  Downloading https://files.pythonhosted.org/packages/e2/b8/1d0a916f4b34c4618846e6da0e4eeaa8fcb4a2f39e006434fe38acb74b34/URLObject-2.4.3.tar.gz\n",
            "Collecting pycrypto>=2.6 (from -r requirements.txt (line 3))\n",
            "  Downloading https://files.pythonhosted.org/packages/60/db/645aa9af249f059cc3a368b118de33889219e0362141e75d4eaf6f80f163/pycrypto-2.6.1.tar.gz (446kB)\n",
            "Requirement already satisfied: idna<2.7,>=2.5 in /usr/local/lib/python3.6/dist-packages (from requests>=1.1.0->-r requirements.txt (line 1)) (2.6)\n",
            "Requirement already satisfied: urllib3<1.23,>=1.21.1 in /usr/local/lib/python3.6/dist-packages (from requests>=1.1.0->-r requirements.txt (line 1)) (1.22)\n",
            "Requirement already satisfied: chardet<3.1.0,>=3.0.2 in /usr/local/lib/python3.6/dist-packages (from requests>=1.1.0->-r requirements.txt (line 1)) (3.0.4)\n",
            "Requirement already satisfied: certifi>=2017.4.17 in /usr/local/lib/python3.6/dist-packages (from requests>=1.1.0->-r requirements.txt (line 1)) (2018.4.16)\n",
            "Building wheels for collected packages: URLObject, pycrypto\n",
            "  Running setup.py bdist_wheel for URLObject: started\n",
            "  Running setup.py bdist_wheel for URLObject: finished with status 'done'\n",
            "  Stored in directory: /content/.cache/pip/wheels/fd/7e/18/ccb55ecc2834f945b769c1ff1df12ca5a14400ccfc58e3c515\n",
            "  Running setup.py bdist_wheel for pycrypto: started\n",
            "  Running setup.py bdist_wheel for pycrypto: finished with status 'done'\n",
            "  Stored in directory: /content/.cache/pip/wheels/27/02/5e/77a69d0c16bb63c6ed32f5386f33a2809c94bd5414a2f6c196\n",
            "Successfully built URLObject pycrypto\n",
            "Installing collected packages: URLObject, pycrypto\n",
            "Successfully installed URLObject-2.4.3 pycrypto-2.6.1\n"
          ],
          "name": "stdout"
        },
        {
          "output_type": "stream",
          "text": [
            "Cloning into 'python3-mega'...\n"
          ],
          "name": "stderr"
        }
      ]
    },
    {
      "metadata": {
        "id": "uxmEHTonXC3u",
        "colab_type": "code",
        "colab": {
          "autoexec": {
            "startup": false,
            "wait_interval": 0
          }
        }
      },
      "cell_type": "code",
      "source": [
        "import os\n",
        "os.chdir('python3-mega')"
      ],
      "execution_count": 0,
      "outputs": []
    },
    {
      "metadata": {
        "id": "Lzb_JPqmY9mz",
        "colab_type": "code",
        "colab": {
          "autoexec": {
            "startup": false,
            "wait_interval": 0
          },
          "base_uri": "https://localhost:8080/",
          "height": 134
        },
        "outputId": "36d0e943-bf0c-4a43-bebc-d812e984e031",
        "executionInfo": {
          "status": "ok",
          "timestamp": 1529853804174,
          "user_tz": -360,
          "elapsed": 1807,
          "user": {
            "displayName": "Rafid ul islam",
            "photoUrl": "//lh3.googleusercontent.com/-SYwqmwbdI3c/AAAAAAAAAAI/AAAAAAAAABg/M_h0kF8cKRU/s50-c-k-no/photo.jpg",
            "userId": "108054376868707542445"
          }
        }
      },
      "cell_type": "code",
      "source": [
        "%%bash\n",
        "pip install -r requirements.txt"
      ],
      "execution_count": 0,
      "outputs": [
        {
          "output_type": "stream",
          "text": [
            "Requirement already satisfied: requests>=1.1.0 in /usr/local/lib/python3.6/dist-packages (from -r requirements.txt (line 1)) (2.18.4)\n",
            "Requirement already satisfied: URLObject>=2.1.1 in /usr/local/lib/python3.6/dist-packages (from -r requirements.txt (line 2)) (2.4.3)\n",
            "Requirement already satisfied: pycrypto>=2.6 in /usr/local/lib/python3.6/dist-packages (from -r requirements.txt (line 3)) (2.6.1)\n",
            "Requirement already satisfied: urllib3<1.23,>=1.21.1 in /usr/local/lib/python3.6/dist-packages (from requests>=1.1.0->-r requirements.txt (line 1)) (1.22)\n",
            "Requirement already satisfied: idna<2.7,>=2.5 in /usr/local/lib/python3.6/dist-packages (from requests>=1.1.0->-r requirements.txt (line 1)) (2.6)\n",
            "Requirement already satisfied: chardet<3.1.0,>=3.0.2 in /usr/local/lib/python3.6/dist-packages (from requests>=1.1.0->-r requirements.txt (line 1)) (3.0.4)\n",
            "Requirement already satisfied: certifi>=2017.4.17 in /usr/local/lib/python3.6/dist-packages (from requests>=1.1.0->-r requirements.txt (line 1)) (2018.4.16)\n"
          ],
          "name": "stdout"
        }
      ]
    },
    {
      "metadata": {
        "id": "zSsZMIuzZ1oy",
        "colab_type": "code",
        "colab": {
          "autoexec": {
            "startup": false,
            "wait_interval": 0
          }
        }
      },
      "cell_type": "code",
      "source": [
        "os.chdir('../')"
      ],
      "execution_count": 0,
      "outputs": []
    },
    {
      "metadata": {
        "id": "Oyen_ILmbKS3",
        "colab_type": "code",
        "colab": {
          "autoexec": {
            "startup": false,
            "wait_interval": 0
          }
        }
      },
      "cell_type": "code",
      "source": [
        "!cp haha.txt haha1.txt"
      ],
      "execution_count": 0,
      "outputs": []
    },
    {
      "metadata": {
        "id": "2c1DOL5FZHdJ",
        "colab_type": "code",
        "colab": {
          "autoexec": {
            "startup": false,
            "wait_interval": 0
          }
        }
      },
      "cell_type": "code",
      "source": [
        "from mega import Mega"
      ],
      "execution_count": 0,
      "outputs": []
    },
    {
      "metadata": {
        "id": "H-aLMgwNZNUq",
        "colab_type": "code",
        "colab": {
          "autoexec": {
            "startup": false,
            "wait_interval": 0
          }
        }
      },
      "cell_type": "code",
      "source": [
        "m = Mega.from_ephemeral()"
      ],
      "execution_count": 0,
      "outputs": []
    },
    {
      "metadata": {
        "id": "GePfUGY2ZQx9",
        "colab_type": "code",
        "colab": {
          "autoexec": {
            "startup": false,
            "wait_interval": 0
          }
        }
      },
      "cell_type": "code",
      "source": [
        "m.download_from_url('https://mega.nz/#!aWZzCKoA!GjGqghSwdDq3BzlWfk4DLTmWYLtF18NBThrmqJ5aXgw')"
      ],
      "execution_count": 0,
      "outputs": []
    },
    {
      "metadata": {
        "id": "Q60upDP2Z5NT",
        "colab_type": "code",
        "colab": {
          "autoexec": {
            "startup": false,
            "wait_interval": 0
          },
          "base_uri": "https://localhost:8080/",
          "height": 34
        },
        "outputId": "35420481-0ac5-4f9c-c357-b454c677073e",
        "executionInfo": {
          "status": "ok",
          "timestamp": 1529854463374,
          "user_tz": -360,
          "elapsed": 2424,
          "user": {
            "displayName": "Rafid ul islam",
            "photoUrl": "//lh3.googleusercontent.com/-SYwqmwbdI3c/AAAAAAAAAAI/AAAAAAAAABg/M_h0kF8cKRU/s50-c-k-no/photo.jpg",
            "userId": "108054376868707542445"
          }
        }
      },
      "cell_type": "code",
      "source": [
        "!ls"
      ],
      "execution_count": 0,
      "outputs": [
        {
          "output_type": "stream",
          "text": [
            "datalab  haha1.txt  haha.txt  python3-mega\r\n"
          ],
          "name": "stdout"
        }
      ]
    },
    {
      "metadata": {
        "id": "PFpbDmgsZ6JQ",
        "colab_type": "code",
        "colab": {
          "autoexec": {
            "startup": false,
            "wait_interval": 0
          }
        }
      },
      "cell_type": "code",
      "source": [
        ""
      ],
      "execution_count": 0,
      "outputs": []
    }
  ]
}