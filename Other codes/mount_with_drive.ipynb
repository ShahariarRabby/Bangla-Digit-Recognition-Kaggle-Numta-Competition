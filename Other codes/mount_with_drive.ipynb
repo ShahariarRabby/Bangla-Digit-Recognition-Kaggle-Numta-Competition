{
  "nbformat": 4,
  "nbformat_minor": 0,
  "metadata": {
    "colab": {
      "name": "mount_with_drive.ipynb",
      "version": "0.3.2",
      "views": {},
      "default_view": {},
      "provenance": []
    },
    "kernelspec": {
      "name": "python3",
      "display_name": "Python 3"
    },
    "accelerator": "GPU"
  },
  "cells": [
    {
      "metadata": {
        "id": "lINudYdfBsR-",
        "colab_type": "code",
        "colab": {
          "autoexec": {
            "startup": false,
            "wait_interval": 0
          }
        }
      },
      "cell_type": "code",
      "source": [
        "!apt-get install -y -qq software-properties-common python-software-properties module-init-tools\n",
        "!add-apt-repository -y ppa:alessandro-strada/ppa 2>&1 > /dev/null\n",
        "!apt-get update -qq 2>&1 > /dev/null\n",
        "!apt-get -y install -qq google-drive-ocamlfuse fuse\n",
        "from google.colab import auth\n",
        "auth.authenticate_user()\n",
        "from oauth2client.client import GoogleCredentials\n",
        "creds = GoogleCredentials.get_application_default()\n",
        "import getpass\n",
        "!google-drive-ocamlfuse -headless -id={creds.client_id} -secret={creds.client_secret} < /dev/null 2>&1 | grep URL\n",
        "vcode = getpass.getpass()\n",
        "!echo {vcode} | google-drive-ocamlfuse -headless -id={creds.client_id} -secret={creds.client_secret}"
      ],
      "execution_count": 0,
      "outputs": []
    },
    {
      "metadata": {
        "id": "N2bcWIEAUfzi",
        "colab_type": "code",
        "colab": {
          "autoexec": {
            "startup": false,
            "wait_interval": 0
          }
        }
      },
      "cell_type": "code",
      "source": [
        "!mkdir -p drive\n",
        "!google-drive-ocamlfuse drive"
      ],
      "execution_count": 0,
      "outputs": []
    },
    {
      "metadata": {
        "id": "waaFi--zPLc2",
        "colab_type": "code",
        "colab": {
          "autoexec": {
            "startup": false,
            "wait_interval": 0
          },
          "base_uri": "https://localhost:8080/",
          "height": 34
        },
        "outputId": "f211306c-5854-4ada-f53b-7018b21f4ab9",
        "executionInfo": {
          "status": "ok",
          "timestamp": 1522841209928,
          "user_tz": -360,
          "elapsed": 1983,
          "user": {
            "displayName": "Masum Hasan",
            "photoUrl": "//lh3.googleusercontent.com/-Paf88sL0bM4/AAAAAAAAAAI/AAAAAAAADeU/w9G4fcvOAno/s50-c-k-no/photo.jpg",
            "userId": "107189813580237018080"
          }
        }
      },
      "cell_type": "code",
      "source": [
        "!ls"
      ],
      "execution_count": 2,
      "outputs": [
        {
          "output_type": "stream",
          "text": [
            "datalab\r\n"
          ],
          "name": "stdout"
        }
      ]
    },
    {
      "metadata": {
        "id": "Rm_YGzPTPQW6",
        "colab_type": "code",
        "colab": {
          "autoexec": {
            "startup": false,
            "wait_interval": 0
          }
        }
      },
      "cell_type": "code",
      "source": [
        "!apt-get install tree"
      ],
      "execution_count": 0,
      "outputs": []
    },
    {
      "metadata": {
        "id": "7vB4oXZ7PUlQ",
        "colab_type": "code",
        "colab": {
          "autoexec": {
            "startup": false,
            "wait_interval": 0
          },
          "base_uri": "https://localhost:8080/",
          "height": 1092
        },
        "outputId": "c75bbbd5-da88-480d-e8c4-12d8cf0082cb",
        "executionInfo": {
          "status": "ok",
          "timestamp": 1522789624168,
          "user_tz": -360,
          "elapsed": 100712,
          "user": {
            "displayName": "Masum Hasan",
            "photoUrl": "//lh3.googleusercontent.com/-Paf88sL0bM4/AAAAAAAAAAI/AAAAAAAADeU/w9G4fcvOAno/s50-c-k-no/photo.jpg",
            "userId": "107189813580237018080"
          }
        }
      },
      "cell_type": "code",
      "source": [
        "!tree"
      ],
      "execution_count": 9,
      "outputs": [
        {
          "output_type": "stream",
          "text": [
            ".\r\n",
            "├── datalab\r\n",
            "│   └── adc.json\n",
            "└── drive\n",
            "    ├── Bizzy\n",
            "    │   ├── Bizzybd\n",
            "    │   │   ├── Bizzy Doc.odt\n",
            "    │   │   ├── codecanyon-16364167-slim-image-cropper-responsive-uploading-and-ratio-cropping-plugin.zip\n",
            "    │   │   ├── Configuring DNS.odt\n",
            "    │   │   ├── Docker\n",
            "    │   │   │   └── Docker.odt\n",
            "    │   │   ├── Draft AOA.odt\n",
            "    │   │   ├── Draft MOA.odt\n",
            "    │   │   ├── Quill Text editor.odt\n",
            "    │   │   ├── Searching Ajax.odt\n",
            "    │   │   ├── Server\n",
            "    │   │   │   ├── facebookauth_Bizzybd.png\n",
            "    │   │   │   ├── googleauth_bizzybd.png\n",
            "    │   │   │   └── Google Auth.odt\n",
            "    │   │   └── themeforest-19314923-white-space-personal-portfolio-resume-template.zip\n",
            "    │   └── BIZZY Inc..odt\n",
            "    ├── Colab Notebooks\n",
            "    │   ├── char_rnn_buet_data.ipynb\n",
            "    │   ├── char_rnn.ipynb\n",
            "    │   ├── colab_tutorial.ipynb\n",
            "    │   ├── Copy of svm.ipynb\n",
            "    │   ├── fastai.ipynb\n",
            "    │   ├── MNIST.ipynb\n",
            "    │   ├── NNDL_Coursera.ipynb\n",
            "    │   ├── Python for datascience.ipynb\n",
            "    │   ├── Pytorch.ipynb\n",
            "    │   ├── sample\n",
            "    │   │   └── test.ipynb\n",
            "    │   ├── smiley.ipynb\n",
            "    │   ├── Tensorflow.ipynb\n",
            "    │   └── TensorFlow with Siraj.ipynb\n",
            "    ├── Consulting proposal.pdf\n",
            "    ├── Deep 20 days.odt\n",
            "    ├── Detecting Gender Balance in Bangla Text.pdf\n",
            "    ├── Docs\n",
            "    │   ├── job\n",
            "    │   │   ├── Cracking the Coding Interview.pdf\n",
            "    │   │   ├── Data Structure Slide( Kashem Sir).zip\n",
            "    │   │   ├── head first design patterns - ora 2004.pdf\n",
            "    │   │   ├── Java - The Complete Reference, Ninth Edition By Herbert Schildt.pdf\n",
            "    │   │   ├── read_me.odt\n",
            "    │   │   └── ut-mvc-git.pdf\n",
            "    │   ├── Learning\n",
            "    │   ├── MasumDrive\n",
            "    │   └── New Books To Print\n",
            "    │       ├── [Brendan_J._Frey]_Graphical_Models.pdf\n",
            "    │       ├── Copy of EijkhoutIntroToHPC.pdf\n",
            "    │       ├── DEEP_LEARNING_WITH_KERAS.pdf\n",
            "    │       ├── Learning from Data.pdf\n",
            "    │       ├── McGrawHill - Machine Learning -Tom Mitchell.pdf\n",
            "    │       └── NN for NLP goldberg.pdf\n",
            "^C\n"
          ],
          "name": "stdout"
        }
      ]
    },
    {
      "metadata": {
        "id": "gE5L2PrYU0uo",
        "colab_type": "code",
        "colab": {
          "autoexec": {
            "startup": false,
            "wait_interval": 0
          }
        }
      },
      "cell_type": "code",
      "source": [
        "import os\n",
        "os.chdir(\"drive/Colab Notebooks/sample\")"
      ],
      "execution_count": 0,
      "outputs": []
    },
    {
      "metadata": {
        "id": "xhtLhye9aFL-",
        "colab_type": "code",
        "colab": {
          "autoexec": {
            "startup": false,
            "wait_interval": 0
          }
        }
      },
      "cell_type": "code",
      "source": [
        ""
      ],
      "execution_count": 0,
      "outputs": []
    }
  ]
}