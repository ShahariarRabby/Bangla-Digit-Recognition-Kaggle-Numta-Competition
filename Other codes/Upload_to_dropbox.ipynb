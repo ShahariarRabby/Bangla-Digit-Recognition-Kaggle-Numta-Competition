{
  "nbformat": 4,
  "nbformat_minor": 0,
  "metadata": {
    "colab": {
      "name": "Upload to dropbox.ipynb",
      "version": "0.3.2",
      "views": {},
      "default_view": {},
      "provenance": []
    },
    "kernelspec": {
      "name": "python3",
      "display_name": "Python 3"
    },
    "accelerator": "GPU"
  },
  "cells": [
    {
      "metadata": {
        "id": "Cc41pun-uhHy",
        "colab_type": "code",
        "colab": {
          "autoexec": {
            "startup": false,
            "wait_interval": 0
          },
          "base_uri": "https://localhost:8080/",
          "height": 35
        },
        "outputId": "4edb761d-16ae-4567-b728-95afaf828053",
        "executionInfo": {
          "status": "ok",
          "timestamp": 1530467678886,
          "user_tz": -360,
          "elapsed": 2125,
          "user": {
            "displayName": "Masum Hasan",
            "photoUrl": "//lh3.googleusercontent.com/-Paf88sL0bM4/AAAAAAAAAAI/AAAAAAAADeU/w9G4fcvOAno/s50-c-k-no/photo.jpg",
            "userId": "107189813580237018080"
          }
        }
      },
      "cell_type": "code",
      "source": [
        "ls data/models"
      ],
      "execution_count": 1,
      "outputs": [
        {
          "output_type": "stream",
          "text": [
            "resnet34_aug5_98_7_0.h5  resnet34_aug5_98_7_1.h5  resnet34_aug5_98_7_2.h5\r\n"
          ],
          "name": "stdout"
        }
      ]
    },
    {
      "metadata": {
        "id": "qGSNomlKvAgW",
        "colab_type": "code",
        "colab": {
          "autoexec": {
            "startup": false,
            "wait_interval": 0
          },
          "base_uri": "https://localhost:8080/",
          "height": 181
        },
        "outputId": "be093a1d-6933-45ea-a1e9-c8fc9d68fca7",
        "executionInfo": {
          "status": "ok",
          "timestamp": 1530467693849,
          "user_tz": -360,
          "elapsed": 4102,
          "user": {
            "displayName": "Masum Hasan",
            "photoUrl": "//lh3.googleusercontent.com/-Paf88sL0bM4/AAAAAAAAAAI/AAAAAAAADeU/w9G4fcvOAno/s50-c-k-no/photo.jpg",
            "userId": "107189813580237018080"
          }
        }
      },
      "cell_type": "code",
      "source": [
        "!pip install dropbox\n",
        "token = \"W4PdHKxqD88AAAAAAAAFelK_xg0-KH4nMRQZIAcN7hzufe3oXaVMoBsENfoIfYWL\"\n",
        "import dropbox"
      ],
      "execution_count": 2,
      "outputs": [
        {
          "output_type": "stream",
          "text": [
            "Requirement already satisfied: dropbox in /usr/local/lib/python3.6/dist-packages (8.9.0)\r\n",
            "Requirement already satisfied: requests>=2.16.2 in /usr/local/lib/python3.6/dist-packages (from dropbox) (2.18.4)\r\n",
            "Requirement already satisfied: six>=1.3.0 in /usr/local/lib/python3.6/dist-packages (from dropbox) (1.11.0)\n",
            "Requirement already satisfied: chardet<3.1.0,>=3.0.2 in /usr/local/lib/python3.6/dist-packages (from requests>=2.16.2->dropbox) (3.0.4)\n",
            "Requirement already satisfied: idna<2.7,>=2.5 in /usr/local/lib/python3.6/dist-packages (from requests>=2.16.2->dropbox) (2.6)\n",
            "Requirement already satisfied: certifi>=2017.4.17 in /usr/local/lib/python3.6/dist-packages (from requests>=2.16.2->dropbox) (2018.4.16)\n",
            "Requirement already satisfied: urllib3<1.23,>=1.21.1 in /usr/local/lib/python3.6/dist-packages (from requests>=2.16.2->dropbox) (1.22)\n",
            "\u001b[31mtorchvision 0.2.1 has requirement pillow>=4.1.1, but you'll have pillow 4.0.0 which is incompatible.\u001b[0m\n",
            "\u001b[31mplotnine 0.3.0 has requirement scipy>=1.0.0, but you'll have scipy 0.19.1 which is incompatible.\u001b[0m\n"
          ],
          "name": "stdout"
        }
      ]
    },
    {
      "metadata": {
        "id": "_izGRtR8vHVF",
        "colab_type": "code",
        "colab": {
          "autoexec": {
            "startup": false,
            "wait_interval": 0
          },
          "base_uri": "https://localhost:8080/",
          "height": 17
        },
        "outputId": "e7a53207-2bc6-45ea-d497-b842bccd81ee",
        "executionInfo": {
          "status": "ok",
          "timestamp": 1530467699706,
          "user_tz": -360,
          "elapsed": 1534,
          "user": {
            "displayName": "Masum Hasan",
            "photoUrl": "//lh3.googleusercontent.com/-Paf88sL0bM4/AAAAAAAAAAI/AAAAAAAADeU/w9G4fcvOAno/s50-c-k-no/photo.jpg",
            "userId": "107189813580237018080"
          }
        }
      },
      "cell_type": "code",
      "source": [
        "dbx = dropbox.Dropbox(token)"
      ],
      "execution_count": 3,
      "outputs": []
    },
    {
      "metadata": {
        "id": "keGkMxbyvNmU",
        "colab_type": "code",
        "colab": {
          "autoexec": {
            "startup": false,
            "wait_interval": 0
          },
          "base_uri": "https://localhost:8080/",
          "height": 55
        },
        "outputId": "3a382d6a-b597-40bb-a3ab-5d14fdbf489d",
        "executionInfo": {
          "status": "ok",
          "timestamp": 1530467728686,
          "user_tz": -360,
          "elapsed": 13947,
          "user": {
            "displayName": "Masum Hasan",
            "photoUrl": "//lh3.googleusercontent.com/-Paf88sL0bM4/AAAAAAAAAAI/AAAAAAAADeU/w9G4fcvOAno/s50-c-k-no/photo.jpg",
            "userId": "107189813580237018080"
          }
        }
      },
      "cell_type": "code",
      "source": [
        "file_from = 'data/models/resnet34_aug5_98_7_2.h5'\n",
        "file_to = '/resnet34_aug5_98_7_2.h5'\n",
        "\n",
        "data = None\n",
        "with open(file_from, 'rb') as file:\n",
        "    data= file.read()\n",
        "dbx.files_upload(data, file_to, mode=dropbox.files.WriteMode.overwrite)"
      ],
      "execution_count": 4,
      "outputs": [
        {
          "output_type": "execute_result",
          "data": {
            "text/plain": [
              "FileMetadata(name='resnet34_aug5_98_7_2.h5', id='id:iMvNkymhLdsAAAAAAAACKg', client_modified=datetime.datetime(2018, 7, 1, 17, 42, 5), server_modified=datetime.datetime(2018, 7, 1, 17, 42, 6), rev='cd32346ff19', size=87378199, path_lower='/resnet34_aug5_98_7_2.h5', path_display='/resnet34_aug5_98_7_2.h5', parent_shared_folder_id=None, media_info=None, symlink_info=None, sharing_info=None, property_groups=None, has_explicit_shared_members=None, content_hash='b78352a470b9610a5d55775b455ebd5e591fe5a8bdc1a1c6a1215319b250a52a')"
            ]
          },
          "metadata": {
            "tags": []
          },
          "execution_count": 4
        }
      ]
    }
  ]
}